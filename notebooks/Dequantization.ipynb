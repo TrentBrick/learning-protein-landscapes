{
 "cells": [
  {
   "cell_type": "code",
   "execution_count": 1,
   "metadata": {},
   "outputs": [
    {
     "name": "stderr",
     "output_type": "stream",
     "text": [
      "/Users/trentonbricken/anaconda3/lib/python3.7/site-packages/tensorflow/python/framework/dtypes.py:526: FutureWarning: Passing (type, 1) or '1type' as a synonym of type is deprecated; in a future version of numpy, it will be understood as (type, (1,)) / '(1,)type'.\n",
      "  _np_qint8 = np.dtype([(\"qint8\", np.int8, 1)])\n",
      "/Users/trentonbricken/anaconda3/lib/python3.7/site-packages/tensorflow/python/framework/dtypes.py:527: FutureWarning: Passing (type, 1) or '1type' as a synonym of type is deprecated; in a future version of numpy, it will be understood as (type, (1,)) / '(1,)type'.\n",
      "  _np_quint8 = np.dtype([(\"quint8\", np.uint8, 1)])\n",
      "/Users/trentonbricken/anaconda3/lib/python3.7/site-packages/tensorflow/python/framework/dtypes.py:528: FutureWarning: Passing (type, 1) or '1type' as a synonym of type is deprecated; in a future version of numpy, it will be understood as (type, (1,)) / '(1,)type'.\n",
      "  _np_qint16 = np.dtype([(\"qint16\", np.int16, 1)])\n",
      "/Users/trentonbricken/anaconda3/lib/python3.7/site-packages/tensorflow/python/framework/dtypes.py:529: FutureWarning: Passing (type, 1) or '1type' as a synonym of type is deprecated; in a future version of numpy, it will be understood as (type, (1,)) / '(1,)type'.\n",
      "  _np_quint16 = np.dtype([(\"quint16\", np.uint16, 1)])\n",
      "/Users/trentonbricken/anaconda3/lib/python3.7/site-packages/tensorflow/python/framework/dtypes.py:530: FutureWarning: Passing (type, 1) or '1type' as a synonym of type is deprecated; in a future version of numpy, it will be understood as (type, (1,)) / '(1,)type'.\n",
      "  _np_qint32 = np.dtype([(\"qint32\", np.int32, 1)])\n",
      "/Users/trentonbricken/anaconda3/lib/python3.7/site-packages/tensorflow/python/framework/dtypes.py:535: FutureWarning: Passing (type, 1) or '1type' as a synonym of type is deprecated; in a future version of numpy, it will be understood as (type, (1,)) / '(1,)type'.\n",
      "  np_resource = np.dtype([(\"resource\", np.ubyte, 1)])\n",
      "Using TensorFlow backend.\n"
     ]
    },
    {
     "name": "stdout",
     "output_type": "stream",
     "text": [
      "enc seqs before short (7848, 155)\n",
      "enc seqs after short (7848, 2)\n",
      "the size of oh (7848, 2, 20)\n",
      "calculating weights and identities\n",
      " shape of the one hots is (7848, 2, 20)\n",
      "before shortening (155, 20) (155, 155, 20, 20)\n",
      "after shortening (2, 20) (2, 2, 20, 20)\n",
      "Plotting a hist of all the natural sequences energies:\n",
      "changing only two amino acid positions: pos1= 0  pos2= 1\n",
      "(400, 2)\n",
      "(400,)\n"
     ]
    }
   ],
   "source": [
    "%matplotlib inline\n",
    "import sys\n",
    "sys.path.insert(1, '/Users/trentonbricken/protein-gen/software/deep_boltzmann')\n",
    "\n",
    "from PlottingFunctions import *\n",
    "\n",
    "import os\n",
    "os.chdir('../software/deep_boltzmann')\n",
    "\n",
    "from deep_boltzmann.networks.invertible import create_NICERNet, create_RealNVPNet, invnet\n",
    "from deep_boltzmann.sampling import GaussianPriorMCMC\n",
    "from deep_boltzmann.networks.plot import test_xz_projection\n",
    "from deep_boltzmann.util import count_transitions\n",
    "from deep_boltzmann.sampling.analysis import free_energy_bootstrap, mean_finite, std_finite\n",
    "\n",
    "import seaborn as sns\n",
    "import matplotlib.pylab as plt\n",
    "\n",
    "from evcouplings.couplings import CouplingsModel\n",
    "from EVCouplingsStuff.seq_sele import *\n",
    "\n",
    "from evc import *\n",
    "\n",
    "focus_seqs = read_fa('EVCouplingsStuff/DYR_ECOLI_1_b0.5.a2m_trimmed.fa')\n",
    "evc_model = CouplingsModel('EVCouplingsStuff/DYR.model')\n",
    "#scores = evc_model.hamiltonians(list(focus_seqs['seq']))\n",
    "\n",
    "enc_seqs=[]\n",
    "for seq in focus_seqs['seq']:\n",
    "    enc_seqs.append(encode_aa(seq, evc_model.alphabet_map)) \n",
    "\n",
    "enc_seqs = np.asarray(enc_seqs)\n",
    "#encode_aa(np.char.upper(ali.matrix[0, :]), a2n)\n",
    "\n",
    "oh = []\n",
    "N=20 # none of these focus have gaps, else should be 21.\n",
    "seq_len = 2 \n",
    "print('enc seqs before short', enc_seqs.shape)\n",
    "enc_seqs = enc_seqs[: , :seq_len]\n",
    "print('enc seqs after short', enc_seqs.shape)\n",
    "target_seq = enc_seqs[0]\n",
    "AA_num=N\n",
    "for seq in enc_seqs:\n",
    "    oh.append(onehot(seq,N))\n",
    "oh=np.asarray(oh)\n",
    "\n",
    "print('the size of oh', oh.shape)\n",
    "\n",
    "print('calculating weights and identities')\n",
    "N = oh.shape[0]\n",
    "L = oh.shape[1]\n",
    "AA = oh.shape[2]\n",
    "#w, neighbors = msa_weights(enc_seqs, theta=0.8, pseudocount=0)\n",
    "print(' shape of the one hots is', oh.shape)\n",
    "\n",
    "t_oh = oh[0]\n",
    "#t_oh_flat =t_oh.flatten().reshape(-1,1)\n",
    "t_seq_aa = enc_seqs[0,:]\n",
    "\n",
    "h = evc_model.h_i\n",
    "J = evc_model.J_ij\n",
    "\n",
    "print('before shortening', h.shape, J.shape)\n",
    "\n",
    "h = h[0:seq_len, :]\n",
    "J = J[0:seq_len, 0:seq_len, :,:]\n",
    "\n",
    "print('after shortening', h.shape, J.shape)\n",
    "\n",
    "plt.figure()\n",
    "print('Plotting a hist of all the natural sequences energies:')\n",
    "plt.hist(hamiltonians(enc_seqs, J, h), bins=100) # used to be oh\n",
    "plt.show()\n",
    "\n",
    "gen_model = EVCouplingsGenerator(L, AA, h, J)\n",
    "\n",
    "plt.figure()\n",
    "plot_potential(AA_num, target_seq, gen_model.energy, orientation='horizontal', pos1=0, pos2=1)\n",
    "plt.show()\n",
    "\n",
    "## Generating data in proportion to the boltzmann dist. \n",
    "\n",
    "evh_vals = []\n",
    "seq_ints = []\n",
    "for i in range(20):\n",
    "    for j in range(20):\n",
    "        seq = np.hstack([i,j])\n",
    "        seq = seq.reshape(1,-1)\n",
    "        ham = gen_model.energy(seq)[0]\n",
    "        #print(ham)\n",
    "        evh_vals.append(ham)\n",
    "        seq_ints.append(seq)\n",
    "vals = evh_vals\n",
    "probs = np.exp(vals) / np.sum(np.exp(vals))\n",
    "inds= np.argsort(probs)\n",
    "ps = np.sort(probs)\n",
    "ev_vals = np.asarray(evh_vals)[inds]\n",
    "seq_sort = np.asarray(seq_ints)[inds]\n",
    "cum =np.cumsum(ps)\n",
    "\n",
    "def find_nearest(array, value):\n",
    "    array = np.asarray(array)\n",
    "    idx = (np.abs(array - value)).argmin()\n",
    "    return idx\n",
    "rand_samples=10000\n",
    "rands = np.random.uniform(0,1,rand_samples)\n",
    "\n",
    "samp_seqs = []\n",
    "for r in rands:\n",
    "    nearest_prob_ind = find_nearest(cum, r)\n",
    "    nearest_score = ev_vals[nearest_prob_ind]\n",
    "    nearest_seq = seq_sort[nearest_prob_ind]\n",
    "    samp_seqs.append(nearest_seq)\n",
    "\n",
    "samp_seqs = np.asarray(samp_seqs).reshape(rand_samples, -1)\n",
    "\n",
    "\n"
   ]
  },
  {
   "cell_type": "code",
   "execution_count": 2,
   "metadata": {},
   "outputs": [
    {
     "data": {
      "image/png": "[encoded data removed]",
      "text/plain": [
       "<Figure size 432x288 with 1 Axes>"
      ]
     },
     "metadata": {
      "needs_background": "light"
     },
     "output_type": "display_data"
    }
   ],
   "source": [
    "\n",
    "scores = gen_model.energy(samp_seqs)\n",
    "plt.hist(scores, bins=250)\n",
    "plt.show()"
   ]
  },
  {
   "cell_type": "code",
   "execution_count": 3,
   "metadata": {},
   "outputs": [
    {
     "data": {
      "text/plain": [
       "array([11,  7])"
      ]
     },
     "execution_count": 3,
     "metadata": {},
     "output_type": "execute_result"
    }
   ],
   "source": [
    "samp_seqs[0,:]"
   ]
  },
  {
   "cell_type": "code",
   "execution_count": 4,
   "metadata": {},
   "outputs": [],
   "source": [
    "dequantize=True"
   ]
  },
  {
   "cell_type": "code",
   "execution_count": 7,
   "metadata": {},
   "outputs": [
    {
     "name": "stdout",
     "output_type": "stream",
     "text": [
      "before shortening (155, 20) (155, 155, 20, 20)\n"
     ]
    }
   ],
   "source": [
    "h = evc_model.h_i\n",
    "J = evc_model.J_ij\n",
    "\n",
    "print('before shortening', h.shape, J.shape)\n",
    "\n",
    "h = h[0:seq_len, :]\n",
    "J = J[0:seq_len, 0:seq_len, :,:]"
   ]
  },
  {
   "cell_type": "code",
   "execution_count": 60,
   "metadata": {},
   "outputs": [],
   "source": [
    "from scipy.special import softmax\n",
    "if dequantize:\n",
    "\n",
    "    def make_oh(model):\n",
    "        fa_chars = ''.join(model.alphabet)\n",
    "        oh_mat = dict(zip(fa_chars, np.eye(len(fa_chars))))\n",
    "        return oh_mat\n",
    "\n",
    "    one_hot_mat = make_oh(evc_model)\n",
    "    \n",
    "    def single_mut_profile(seqs, h, J):\n",
    "        # load model parameters\n",
    "        oh = []\n",
    "        for s in seqs:\n",
    "            x_temp = onehot(s, AA)\n",
    "            oh.append(x_temp)\n",
    "        oh = np.asarray(oh)\n",
    "        #h,J = model.h_i, model.J_ij.transpose(0, 2, 1, 3)\n",
    "        J = J.transpose(0,2,1,3)\n",
    "        # total energy contribution to each site i (hia + sum_j[Jia,jb])\n",
    "        PW_i = h + np.einsum('likj,nkj->nli', J, oh)/2\n",
    "        softm = softmax(PW_i, axis=-1)\n",
    "        \n",
    "        return softm\n",
    "    \n",
    "    res = single_mut_profile(samp_seqs, h, J)\n"
   ]
  },
  {
   "cell_type": "code",
   "execution_count": 63,
   "metadata": {},
   "outputs": [
    {
     "data": {
      "text/plain": [
       "(10000, 2, 20)"
      ]
     },
     "execution_count": 63,
     "metadata": {},
     "output_type": "execute_result"
    }
   ],
   "source": [
    "res.shape"
   ]
  },
  {
   "cell_type": "code",
   "execution_count": 64,
   "metadata": {},
   "outputs": [
    {
     "data": {
      "image/png": "[encoded data removed]",
      "text/plain": [
       "<Figure size 432x288 with 1 Axes>"
      ]
     },
     "metadata": {
      "needs_background": "light"
     },
     "output_type": "display_data"
    }
   ],
   "source": [
    "scores = gen_model.energy(res.reshape(res.shape[0], -1)) # makes each sequence much more likely. \n",
    "plt.hist(scores, bins=250)\n",
    "plt.show()"
   ]
  },
  {
   "cell_type": "code",
   "execution_count": 66,
   "metadata": {},
   "outputs": [
    {
     "name": "stdout",
     "output_type": "stream",
     "text": [
      "before shortening (155, 20) (155, 155, 20, 20)\n"
     ]
    }
   ],
   "source": [
    "h = evc_model.h_i\n",
    "J = evc_model.J_ij\n",
    "\n",
    "print('before shortening', h.shape, J.shape)\n",
    "\n",
    "h = h[0:seq_len, :]\n",
    "J = J[0:seq_len, 0:seq_len, :,:]"
   ]
  },
  {
   "cell_type": "code",
   "execution_count": 68,
   "metadata": {},
   "outputs": [],
   "source": [
    "def hamiltonians(seqs, J, h):\n",
    "    if len(seqs.shape) ==3:\n",
    "        seqs = seqs.reshape(seqs.shape[0], -1) # in case the onehots arent already flat. \n",
    "    J = np.moveaxis(J, 1,2)\n",
    "    J = J.reshape(seqs.shape[-1], seqs.shape[-1])\n",
    "    h = h.reshape(-1)\n",
    "    #print(J.shape, h.shape, seqs.shape)\n",
    "    H = ((seqs.T*(J@seqs.T))/2 ).T.sum(1) + seqs@h\n",
    "    return H # before it was an array of an array. \n",
    "\n",
    "\n",
    "hams = hamiltonians(res, J, h)"
   ]
  },
  {
   "cell_type": "code",
   "execution_count": 73,
   "metadata": {},
   "outputs": [
    {
     "data": {
      "text/plain": [
       "2.0"
      ]
     },
     "execution_count": 73,
     "metadata": {},
     "output_type": "execute_result"
    }
   ],
   "source": [
    "res[3].sum()"
   ]
  },
  {
   "cell_type": "code",
   "execution_count": 70,
   "metadata": {},
   "outputs": [
    {
     "data": {
      "text/plain": [
       "(10000,)"
      ]
     },
     "execution_count": 70,
     "metadata": {},
     "output_type": "execute_result"
    }
   ],
   "source": [
    "hams.shape"
   ]
  },
  {
   "cell_type": "code",
   "execution_count": 71,
   "metadata": {},
   "outputs": [
    {
     "data": {
      "image/png": "[encoded data removed]",
      "text/plain": [
       "<Figure size 432x288 with 1 Axes>"
      ]
     },
     "metadata": {
      "needs_background": "light"
     },
     "output_type": "display_data"
    }
   ],
   "source": [
    "\n",
    "plt.hist(hams, bins=250) # dequant and makes everything much more average. \n",
    "plt.show()"
   ]
  },
  {
   "cell_type": "code",
   "execution_count": 58,
   "metadata": {},
   "outputs": [
    {
     "data": {
      "text/plain": [
       "<matplotlib.image.AxesImage at 0x1a3b1448d0>"
      ]
     },
     "execution_count": 58,
     "metadata": {},
     "output_type": "execute_result"
    },
    {
     "data": {
      "image/png": "[encoded data removed]",
      "text/plain": [
       "<Figure size 432x288 with 1 Axes>"
      ]
     },
     "metadata": {
      "needs_background": "light"
     },
     "output_type": "display_data"
    }
   ],
   "source": [
    "plt.imshow(res[0,:,:])"
   ]
  },
  {
   "cell_type": "code",
   "execution_count": 33,
   "metadata": {},
   "outputs": [
    {
     "data": {
      "text/plain": [
       "array([-10,  -9,  -8,  -7,  -6,  -5,  -4,  -3,  -2,  -1,   0,   1,   2,\n",
       "         3,   4,   5,   6,   7,   8,   9])"
      ]
     },
     "execution_count": 33,
     "metadata": {},
     "output_type": "execute_result"
    }
   ],
   "source": [
    "np.arange(-10,10)"
   ]
  },
  {
   "cell_type": "code",
   "execution_count": 47,
   "metadata": {},
   "outputs": [
    {
     "data": {
      "image/png": "[encoded data removed]",
      "text/plain": [
       "<Figure size 432x288 with 1 Axes>"
      ]
     },
     "metadata": {
      "needs_background": "light"
     },
     "output_type": "display_data"
    }
   ],
   "source": [
    "ax = plt.figure().add_subplot(111)\n",
    "plt.imshow(np.arange(-10,10,1).reshape((1,-1)))\n",
    "plt.xticks(np.arange(-10,10,1), np.arange(-10,10,1))\n",
    "plt.show()"
   ]
  },
  {
   "cell_type": "code",
   "execution_count": 59,
   "metadata": {},
   "outputs": [
    {
     "data": {
      "text/plain": [
       "<matplotlib.image.AxesImage at 0x1a3af7cdd0>"
      ]
     },
     "execution_count": 59,
     "metadata": {},
     "output_type": "execute_result"
    },
    {
     "data": {
      "image/png": "[encoded data removed]",
      "text/plain": [
       "<Figure size 432x288 with 1 Axes>"
      ]
     },
     "metadata": {
      "needs_background": "light"
     },
     "output_type": "display_data"
    }
   ],
   "source": [
    "plt.imshow(np.log10(res[0,:,:])) # this is the softmax of both"
   ]
  },
  {
   "cell_type": "code",
   "execution_count": 25,
   "metadata": {},
   "outputs": [
    {
     "data": {
      "text/plain": [
       "<matplotlib.image.AxesImage at 0x1a3609c910>"
      ]
     },
     "execution_count": 25,
     "metadata": {},
     "output_type": "execute_result"
    },
    {
     "data": {
      "image/png": "[encoded data removed]",
      "text/plain": [
       "<Figure size 432x288 with 1 Axes>"
      ]
     },
     "metadata": {
      "needs_background": "light"
     },
     "output_type": "display_data"
    }
   ],
   "source": [
    "plt.imshow(np.log10(res[0].T)) # yellow is more positive"
   ]
  },
  {
   "cell_type": "code",
   "execution_count": 27,
   "metadata": {},
   "outputs": [
    {
     "data": {
      "text/plain": [
       "array([[-1.07848457, -2.0974692 , -2.44533328, -1.89674668, -3.01646169,\n",
       "        -1.24889192, -1.7506428 , -1.40250502, -1.19473097, -2.87121397,\n",
       "        -2.62005356, -0.96077578, -3.80511085, -1.90102997, -1.68297886,\n",
       "        -0.43696678, -0.80663132, -1.5052172 , -3.33245681, -1.8650184 ],\n",
       "       [-1.04274548, -2.28829022, -3.84582688, -3.52332031, -1.32560231,\n",
       "        -2.20715106, -2.0512878 , -0.62760549, -3.84582688, -0.37402374,\n",
       "        -0.94688076, -3.84582688, -3.84582688, -2.53545351, -3.84582688,\n",
       "        -1.87953319, -2.38474217, -1.42932652, -3.52431257, -1.92996253]])"
      ]
     },
     "execution_count": 27,
     "metadata": {},
     "output_type": "execute_result"
    }
   ],
   "source": [
    "np.log10(res[0].T)"
   ]
  },
  {
   "cell_type": "code",
   "execution_count": null,
   "metadata": {},
   "outputs": [],
   "source": []
  }
 ],
 "metadata": {
  "kernelspec": {
   "display_name": "Python 3",
   "language": "python",
   "name": "python3"
  },
  "language_info": {
   "codemirror_mode": {
    "name": "ipython",
    "version": 3
   },
   "file_extension": ".py",
   "mimetype": "text/x-python",
   "name": "python",
   "nbconvert_exporter": "python",
   "pygments_lexer": "ipython3",
   "version": "3.7.5"
  }
 },
 "nbformat": 4,
 "nbformat_minor": 4
}
