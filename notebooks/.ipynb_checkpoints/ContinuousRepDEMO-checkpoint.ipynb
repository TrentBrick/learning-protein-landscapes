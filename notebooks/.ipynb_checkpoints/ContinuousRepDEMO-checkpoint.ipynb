{
 "cells": [
  {
   "cell_type": "code",
   "execution_count": 36,
   "metadata": {},
   "outputs": [
    {
     "name": "stdout",
     "output_type": "stream",
     "text": [
      "seqs input torch.Size([5, 10, 20]) torch.Size([5, 20, 10])\n",
      "[[ 8.100e-01  1.300e+02  5.880e+00]\n",
      " [ 1.190e+00  9.100e+01  5.910e+00]\n",
      " [ 2.600e-01  1.070e+02  5.630e+00]\n",
      " [ 1.200e-01  4.200e+01  6.300e+00]\n",
      " [ 6.400e-01  7.500e+01  5.740e+00]\n",
      " [ 1.380e+00  5.700e+01  6.040e+00]\n",
      " [ 1.060e+00  5.700e+01  6.040e+00]\n",
      " [ 1.080e+00  4.300e+01  6.020e+00]\n",
      " [ 6.200e-01  1.500e+01  6.110e+00]\n",
      " [ 4.800e-01  1.000e+00  6.060e+00]\n",
      " [ 2.900e-01  4.700e+01  5.020e+00]\n",
      " [-1.800e-01  3.100e+01  5.680e+00]\n",
      " [-5.000e-02  4.500e+01  5.600e+00]\n",
      " [-8.500e-01  7.200e+01  5.650e+00]\n",
      " [-7.800e-01  5.800e+01  1.076e+01]\n",
      " [-9.000e-01  5.900e+01  2.980e+00]\n",
      " [-7.400e-01  7.300e+01  3.080e+00]\n",
      " [-4.000e-01  8.200e+01  7.640e+00]\n",
      " [-2.530e+00  1.010e+02  1.076e+01]\n",
      " [-1.500e+00  7.300e+01  9.470e+00]]\n"
     ]
    },
    {
     "ename": "AttributeError",
     "evalue": "'numpy.ndarray' object has no attribute 'apply'",
     "output_type": "error",
     "traceback": [
      "\u001b[0;31m---------------------------------------------------------------------------\u001b[0m",
      "\u001b[0;31mAttributeError\u001b[0m                            Traceback (most recent call last)",
      "\u001b[0;32m<ipython-input-36-0827714a0afe>\u001b[0m in \u001b[0;36m<module>\u001b[0;34m\u001b[0m\n\u001b[1;32m     94\u001b[0m \u001b[0;32mfor\u001b[0m \u001b[0mi\u001b[0m\u001b[0;34m,\u001b[0m \u001b[0mnoise\u001b[0m \u001b[0;32min\u001b[0m \u001b[0menumerate\u001b[0m\u001b[0;34m(\u001b[0m\u001b[0;34m[\u001b[0m\u001b[0;36m100\u001b[0m\u001b[0;34m,\u001b[0m \u001b[0;36m50\u001b[0m\u001b[0;34m,\u001b[0m \u001b[0;36m5\u001b[0m\u001b[0;34m,\u001b[0m \u001b[0;36m1\u001b[0m\u001b[0;34m,\u001b[0m \u001b[0;36m0.1\u001b[0m\u001b[0;34m,\u001b[0m \u001b[0;36m0.01\u001b[0m\u001b[0;34m,\u001b[0m \u001b[0;36m0.001\u001b[0m\u001b[0;34m]\u001b[0m\u001b[0;34m[\u001b[0m\u001b[0;34m:\u001b[0m\u001b[0;34m:\u001b[0m\u001b[0;34m-\u001b[0m\u001b[0;36m1\u001b[0m\u001b[0;34m]\u001b[0m\u001b[0;34m)\u001b[0m\u001b[0;34m:\u001b[0m\u001b[0;34m\u001b[0m\u001b[0;34m\u001b[0m\u001b[0m\n\u001b[1;32m     95\u001b[0m     encode, decode, c, sig = initialize_aa('../pytorch/EVCouplingsStuff/amino_acid_properties_full.csv',\n\u001b[0;32m---> 96\u001b[0;31m         seqlen=20, noise=noise, aa_order='WFYPMILVAGCSTQNDEHRK')\n\u001b[0m\u001b[1;32m     97\u001b[0m     \u001b[0me_s\u001b[0m \u001b[0;34m=\u001b[0m \u001b[0mencode\u001b[0m\u001b[0;34m(\u001b[0m\u001b[0ms\u001b[0m\u001b[0;34m)\u001b[0m\u001b[0;34m\u001b[0m\u001b[0;34m\u001b[0m\u001b[0m\n\u001b[1;32m     98\u001b[0m     \u001b[0mprint\u001b[0m\u001b[0;34m(\u001b[0m\u001b[0;34m'encoded shape'\u001b[0m\u001b[0;34m,\u001b[0m \u001b[0me_s\u001b[0m\u001b[0;34m.\u001b[0m\u001b[0mshape\u001b[0m\u001b[0;34m)\u001b[0m\u001b[0;34m\u001b[0m\u001b[0;34m\u001b[0m\u001b[0m\n",
      "\u001b[0;32m<ipython-input-36-0827714a0afe>\u001b[0m in \u001b[0;36minitialize_aa\u001b[0;34m(AA_FILE, seqlen, noise, aa_order)\u001b[0m\n\u001b[1;32m     73\u001b[0m     \u001b[0mfeats\u001b[0m \u001b[0;34m=\u001b[0m \u001b[0;34m[\u001b[0m\u001b[0;34m'Hydrophobicity'\u001b[0m\u001b[0;34m,\u001b[0m \u001b[0;34m'Mass'\u001b[0m\u001b[0;34m,\u001b[0m \u001b[0;34m'pI'\u001b[0m\u001b[0;34m]\u001b[0m\u001b[0;34m\u001b[0m\u001b[0;34m\u001b[0m\u001b[0m\n\u001b[1;32m     74\u001b[0m     \u001b[0mn\u001b[0m \u001b[0;34m=\u001b[0m \u001b[0mlen\u001b[0m\u001b[0;34m(\u001b[0m\u001b[0mfeats\u001b[0m\u001b[0;34m)\u001b[0m\u001b[0;34m\u001b[0m\u001b[0;34m\u001b[0m\u001b[0m\n\u001b[0;32m---> 75\u001b[0;31m     \u001b[0mencoder\u001b[0m \u001b[0;34m=\u001b[0m \u001b[0maa_to_seq_encoder\u001b[0m\u001b[0;34m(\u001b[0m\u001b[0maaprop\u001b[0m\u001b[0;34m,\u001b[0m \u001b[0mfeats\u001b[0m\u001b[0;34m,\u001b[0m \u001b[0maa_order\u001b[0m\u001b[0;34m)\u001b[0m\u001b[0;34m\u001b[0m\u001b[0;34m\u001b[0m\u001b[0m\n\u001b[0m\u001b[1;32m     76\u001b[0m     \u001b[0maa_feat_matrix\u001b[0m \u001b[0;34m=\u001b[0m \u001b[0mencoder\u001b[0m\u001b[0;34m(\u001b[0m\u001b[0mtorch\u001b[0m\u001b[0;34m.\u001b[0m\u001b[0meye\u001b[0m\u001b[0;34m(\u001b[0m\u001b[0;36m20\u001b[0m\u001b[0;34m)\u001b[0m\u001b[0;34m.\u001b[0m\u001b[0munsqueeze\u001b[0m\u001b[0;34m(\u001b[0m\u001b[0;36m0\u001b[0m\u001b[0;34m)\u001b[0m\u001b[0;34m)\u001b[0m\u001b[0;34m.\u001b[0m\u001b[0msqueeze\u001b[0m\u001b[0;34m(\u001b[0m\u001b[0;34m)\u001b[0m \u001b[0;31m# need to squeeze and unsqueeze for batching reasons.\u001b[0m\u001b[0;34m\u001b[0m\u001b[0;34m\u001b[0m\u001b[0m\n\u001b[1;32m     77\u001b[0m     \u001b[0mprint\u001b[0m\u001b[0;34m(\u001b[0m\u001b[0;34m'encoded matrix'\u001b[0m\u001b[0;34m)\u001b[0m\u001b[0;34m\u001b[0m\u001b[0;34m\u001b[0m\u001b[0m\n",
      "\u001b[0;32m<ipython-input-36-0827714a0afe>\u001b[0m in \u001b[0;36maa_to_seq_encoder\u001b[0;34m(aa_prop, features, aa_order)\u001b[0m\n\u001b[1;32m     44\u001b[0m \u001b[0;34m\u001b[0m\u001b[0m\n\u001b[1;32m     45\u001b[0m     \u001b[0mprint\u001b[0m\u001b[0;34m(\u001b[0m\u001b[0maa_features\u001b[0m\u001b[0;34m)\u001b[0m\u001b[0;34m\u001b[0m\u001b[0;34m\u001b[0m\u001b[0m\n\u001b[0;32m---> 46\u001b[0;31m     \u001b[0maa_features\u001b[0m \u001b[0;34m=\u001b[0m \u001b[0maa_features\u001b[0m\u001b[0;34m.\u001b[0m\u001b[0mapply\u001b[0m\u001b[0;34m(\u001b[0m\u001b[0mcenter_and_scale\u001b[0m\u001b[0;34m,\u001b[0m \u001b[0maxis\u001b[0m\u001b[0;34m=\u001b[0m\u001b[0;36m0\u001b[0m\u001b[0;34m)\u001b[0m\u001b[0;34m\u001b[0m\u001b[0;34m\u001b[0m\u001b[0m\n\u001b[0m\u001b[1;32m     47\u001b[0m     \u001b[0mprint\u001b[0m\u001b[0;34m(\u001b[0m\u001b[0maa_features\u001b[0m\u001b[0;34m)\u001b[0m\u001b[0;34m\u001b[0m\u001b[0;34m\u001b[0m\u001b[0m\n\u001b[1;32m     48\u001b[0m     \u001b[0mfeat_map\u001b[0m \u001b[0;34m=\u001b[0m \u001b[0mtorch\u001b[0m\u001b[0;34m.\u001b[0m\u001b[0mTensor\u001b[0m\u001b[0;34m(\u001b[0m\u001b[0maa_features\u001b[0m\u001b[0;34m)\u001b[0m\u001b[0;34m\u001b[0m\u001b[0;34m\u001b[0m\u001b[0m\n",
      "\u001b[0;31mAttributeError\u001b[0m: 'numpy.ndarray' object has no attribute 'apply'"
     ]
    },
    {
     "data": {
      "image/png": "[encoded data removed]",
      "text/plain": [
       "<Figure size 1080x504 with 8 Axes>"
      ]
     },
     "metadata": {
      "needs_background": "light"
     },
     "output_type": "display_data"
    }
   ],
   "source": [
    "import math\n",
    "import torch\n",
    "import numpy as np\n",
    "import pandas as pd\n",
    "import matplotlib.pyplot as plt\n",
    "%matplotlib inline\n",
    "_PI = torch.Tensor([math.pi])\n",
    "\n",
    "#############################################\n",
    "# 0. tools for creating gaussian mixtures\n",
    "def create_gauss(point, cov):\n",
    "    '''returns parameters according to specified Gaussian.\n",
    "    Dimension of the gaussian is the number of AA features used.'''\n",
    "    if len(cov.shape) == 1:\n",
    "        cov = torch.diag(cov) # no covariation\n",
    "    n = point.shape[-1] # this is the number of AA features being used, the dimension of the guassian\n",
    "    Z = ((_PI*2)**(-n/2))*(torch.det(cov)**(-0.5)) # everything before the exponent, normalizing constant\n",
    "    return point, torch.inverse(cov), Z\n",
    "\n",
    "def create_gmix(points, covs, props):\n",
    "    '''takes centers [g x n] & covs [g x n x n] & proportions [g],\n",
    "    yields centers [g x n] & sigmas [g x n x n] & normalizing terms [g]'''\n",
    "    g, n = points.shape\n",
    "    centers, sigs, Zs = torch.zeros((g,n)), torch.zeros((g, n, n)), torch.zeros(g)\n",
    "    for i in range(len(points)):\n",
    "        centers[i, :], sigs[i, :, :], Zs[i] = create_gauss(points[i,:], covs[i,:,:])\n",
    "    Zs = Zs*props # weighting the constants by the proportion.\n",
    "    return centers, sigs, Zs\n",
    "\n",
    "#############################################\n",
    "# 1. create normalized amino acid properties\n",
    "def center_and_scale(x):\n",
    "    '''adjusts and scales values to [-1,1]'''\n",
    "    #TODO: try and have a CDF for the different properties rather than a norm scaling. \n",
    "    x_n = x - x.min()\n",
    "    x_n = x_n / x_n.max()\n",
    "    x_n = x_n*2 - 1\n",
    "    return x_n\n",
    "\n",
    "# 2. create feature encoder and decoder\n",
    "def aa_to_seq_encoder(aa_prop, features, aa_order='ACDEFGHIKLNMPQRSTVWY'):\n",
    "    '''the decoder works by creating a dictionary that products w one-hots, given seq [L x a]'''\n",
    "    aa_features = aa_prop.set_index('aa').loc[list(aa_order), features].values\n",
    "    \n",
    "    print(aa_features)\n",
    "    for c in range(aa_features.shape[1]):\n",
    "        aa_features[:,c] = center_and_scale(aa_features[:,c])\n",
    "    print(aa_features)\n",
    "    \n",
    "    feat_map = torch.Tensor(aa_features)\n",
    "    print('feature map', feat_map.shape)\n",
    "    return lambda seqs: (feat_map.T@seqs.transpose(1,2)).permute(0,2,1)\n",
    "    #return lambda seq: torch.einsum('bla,ban->bln', seq, feat_map)\n",
    "\n",
    "def decode_feats_to_seq(x, Cs, sigs, Zs):\n",
    "    ''' x is a list of continous values we want to map to a log pdf over the AAs. \n",
    "    log(p_g) at list of points [L x n], given gaussian mixture\n",
    "    w/ centers [g x n] & covs [g x n x n] & proportions (normalizing constants) [1 x g]'''\n",
    "    print( 'decoderrrr', x.shape, Cs.shape)\n",
    "    d = (x.unsqueeze(2) - Cs.unsqueeze(0).unsqueeze(0))# broadcast [_ x _ x g x n] vs [b x L x _ x n]\n",
    "    print('d shape', d.shape, 'sigs ', sigs.shape)\n",
    "    #print(x[0,0,:], Cs, d[0,0,:,:])\n",
    "    \n",
    "    #dEd = d.T@sigs.unsqueeze(0)@d\n",
    "    dE = torch.einsum('blgn,gnm->blgm', d, sigs)\n",
    "    dEd = torch.einsum('blgn,blgn->blg', d, dE)\n",
    "    logP = torch.log(Zs) - 0.5*dEd\n",
    "    return logP - torch.logsumexp(logP, dim=2).unsqueeze(2) # normalizes the probabilities of each. \n",
    "\n",
    "#############################################   \n",
    "# Wrap it all together -- initialize this during model initialization- not inside 'forward'\n",
    "def initialize_aa(AA_FILE, seqlen, noise=0.1, aa_order='ACDEFGHIKLNMPQRSTVWY'):\n",
    "    '''creates encoder and decoder functions'''\n",
    "    aaprop = pd.read_csv(AA_FILE)\n",
    "    feats = ['Hydrophobicity', 'Mass', 'pI']\n",
    "    n = len(feats)\n",
    "    encoder = aa_to_seq_encoder(aaprop, feats, aa_order)\n",
    "    aa_feat_matrix = encoder(torch.eye(20).unsqueeze(0)).squeeze() # need to squeeze and unsqueeze for batching reasons. \n",
    "    print('encoded matrix')\n",
    "    centers, sigs, Zs = create_gmix(\n",
    "        aa_feat_matrix,\n",
    "        covs = torch.Tensor([noise*np.eye(n)]*20),\n",
    "        props=torch.ones(20)/20 )\n",
    "    #Cs = torch.stack([centers]*seqlen, dim=0) # [L x g x n] # why are we repeating the centers here??? \n",
    "    decoder = lambda x: decode_feats_to_seq(x, centers, sigs, Zs)\n",
    "    return encoder, decoder, centers, sigs\n",
    "#############################################\n",
    "# test it out!\n",
    "fig, ax = plt.subplots(2, 4)\n",
    "fig.set_size_inches(15, 7)\n",
    "ax = ax.flatten()\n",
    "# selecting the first 10 one hot sequences and making a repeat batch of 5 of them. \n",
    "s = torch.tensor( [np.eye(20)[:10,:]] *5).float() #torch.Tensor(np.eye(20)).unsqueeze(0)\n",
    "print('seqs input', s.shape, s.transpose(1,2).shape)\n",
    "ax[0].imshow(s[2], cmap='Blues')\n",
    "for i, noise in enumerate([100, 50, 5, 1, 0.1, 0.01, 0.001][::-1]):\n",
    "    encode, decode, c, sig = initialize_aa('../pytorch/EVCouplingsStuff/amino_acid_properties_full.csv',\n",
    "        seqlen=20, noise=noise, aa_order='WFYPMILVAGCSTQNDEHRK')\n",
    "    e_s = encode(s)\n",
    "    print('encoded shape', e_s.shape)\n",
    "    res = decode(e_s).exp()[2]\n",
    "    print(res.shape)\n",
    "    #print(res)\n",
    "    ax[i+1].imshow(res, cmap='Blues')\n",
    "    ax[i+1].set_title('gaussian feature noise = '+str(noise))\n",
    "fig.tight_layout()\n",
    "fig.subplots_adjust(top=0.88)\n",
    "fig.suptitle('amino acid decoding probabilities (when centered on each amino acid)', fontsize=20);"
   ]
  },
  {
   "cell_type": "code",
   "execution_count": 5,
   "metadata": {},
   "outputs": [
    {
     "data": {
      "text/plain": [
       "tensor([[ 8.1000e-01,  1.3000e+02,  5.8800e+00],\n",
       "        [ 1.1900e+00,  9.1000e+01,  5.9100e+00],\n",
       "        [ 2.6000e-01,  1.0700e+02,  5.6300e+00],\n",
       "        [ 1.2000e-01,  4.2000e+01,  6.3000e+00],\n",
       "        [ 6.4000e-01,  7.5000e+01,  5.7400e+00],\n",
       "        [ 1.3800e+00,  5.7000e+01,  6.0400e+00],\n",
       "        [ 1.0600e+00,  5.7000e+01,  6.0400e+00],\n",
       "        [ 1.0800e+00,  4.3000e+01,  6.0200e+00],\n",
       "        [ 6.2000e-01,  1.5000e+01,  6.1100e+00],\n",
       "        [ 4.8000e-01,  1.0000e+00,  6.0600e+00],\n",
       "        [ 2.9000e-01,  4.7000e+01,  5.0200e+00],\n",
       "        [-1.8000e-01,  3.1000e+01,  5.6800e+00],\n",
       "        [-5.0000e-02,  4.5000e+01,  5.6000e+00],\n",
       "        [-8.5000e-01,  7.2000e+01,  5.6500e+00],\n",
       "        [-7.8000e-01,  5.8000e+01,  1.0760e+01],\n",
       "        [-9.0000e-01,  5.9000e+01,  2.9800e+00],\n",
       "        [-7.4000e-01,  7.3000e+01,  3.0800e+00],\n",
       "        [-4.0000e-01,  8.2000e+01,  7.6400e+00],\n",
       "        [-2.5300e+00,  1.0100e+02,  1.0760e+01],\n",
       "        [-1.5000e+00,  7.3000e+01,  9.4700e+00]])"
      ]
     },
     "execution_count": 5,
     "metadata": {},
     "output_type": "execute_result"
    }
   ],
   "source": [
    "c"
   ]
  },
  {
   "cell_type": "code",
   "execution_count": 29,
   "metadata": {},
   "outputs": [
    {
     "data": {
      "text/plain": [
       "torch.Size([1, 1, 3])"
      ]
     },
     "execution_count": 29,
     "metadata": {},
     "output_type": "execute_result"
    }
   ],
   "source": [
    "lol = torch.from_numpy(np.array([0.0,40,5])).unsqueeze(0).unsqueeze(0).float()\n",
    "lol.shape"
   ]
  },
  {
   "cell_type": "code",
   "execution_count": 30,
   "metadata": {},
   "outputs": [
    {
     "name": "stdout",
     "output_type": "stream",
     "text": [
      "decoderrrr torch.Size([1, 1, 3]) torch.Size([20, 3])\n",
      "d shape torch.Size([1, 1, 20, 3]) sigs  torch.Size([20, 3, 3])\n"
     ]
    }
   ],
   "source": [
    "probs = np.exp(decode(lol).numpy())\n",
    "lol = lol.squeeze().numpy()"
   ]
  },
  {
   "cell_type": "code",
   "execution_count": 31,
   "metadata": {},
   "outputs": [
    {
     "data": {
      "text/plain": [
       "array([ 0., 40.,  5.], dtype=float32)"
      ]
     },
     "execution_count": 31,
     "metadata": {},
     "output_type": "execute_result"
    }
   ],
   "source": [
    "lol"
   ]
  },
  {
   "cell_type": "code",
   "execution_count": 32,
   "metadata": {},
   "outputs": [
    {
     "data": {
      "text/plain": [
       "<matplotlib.collections.PathCollection at 0x1232c8f50>"
      ]
     },
     "execution_count": 32,
     "metadata": {},
     "output_type": "execute_result"
    },
    {
     "data": {
      "image/png": "[encoded data removed]",
      "text/plain": [
       "<Figure size 432x288 with 1 Axes>"
      ]
     },
     "metadata": {
      "needs_background": "light"
     },
     "output_type": "display_data"
    }
   ],
   "source": [
    "plt.scatter( c[:,0], c[:,1], color='red' )\n",
    "plt.scatter(lol[0], lol[1])"
   ]
  },
  {
   "cell_type": "code",
   "execution_count": null,
   "metadata": {},
   "outputs": [],
   "source": []
  },
  {
   "cell_type": "code",
   "execution_count": null,
   "metadata": {},
   "outputs": [],
   "source": []
  },
  {
   "cell_type": "code",
   "execution_count": 106,
   "metadata": {},
   "outputs": [
    {
     "data": {
      "text/plain": [
       "torch.Size([20, 3])"
      ]
     },
     "execution_count": 106,
     "metadata": {},
     "output_type": "execute_result"
    }
   ],
   "source": [
    "lol = torch.tensor( [np.eye(20)] *5).float()\n",
    "feats = torch.randn((20,3))\n",
    "feats.shape"
   ]
  },
  {
   "cell_type": "code",
   "execution_count": 96,
   "metadata": {},
   "outputs": [
    {
     "data": {
      "text/plain": [
       "tensor([[-9.9771e-01, -1.9332e+00,  1.0130e+00],\n",
       "        [-5.9026e-01, -2.9833e-01,  8.8200e-01],\n",
       "        [ 2.0485e-01, -9.2464e-01,  8.3436e-02],\n",
       "        [-4.2730e-01,  1.1381e-03,  4.1514e-01],\n",
       "        [-8.5059e-01, -5.4162e-02, -7.2055e-01],\n",
       "        [-9.3871e-01, -5.6655e-01, -1.7825e-01],\n",
       "        [ 4.7686e-01,  2.5839e-04, -9.6617e-01],\n",
       "        [ 3.2777e-01,  1.5120e-01, -1.0330e+00],\n",
       "        [-3.5218e-01,  3.5620e-02,  9.6991e-01],\n",
       "        [-2.8325e-01, -7.0944e-01,  6.5591e-01],\n",
       "        [ 3.2434e-01,  3.0051e-01, -6.8936e-01],\n",
       "        [ 2.9958e-01,  1.6838e+00,  5.6566e-01],\n",
       "        [ 1.0706e+00,  6.1538e-02,  2.2722e+00],\n",
       "        [-6.2689e-01, -2.7771e-01,  1.0048e+00],\n",
       "        [-1.7366e-01,  2.0378e-01, -4.2482e-01],\n",
       "        [ 4.0196e-01,  1.7864e-01, -9.4169e-01],\n",
       "        [-1.3386e-01,  1.4831e-01, -9.1156e-01],\n",
       "        [-2.3924e-01,  9.4201e-01,  1.3058e+00],\n",
       "        [-2.4148e-01, -5.9411e-01, -1.3937e+00],\n",
       "        [-7.3004e-02, -1.8971e+00, -4.0073e-01]])"
      ]
     },
     "execution_count": 96,
     "metadata": {},
     "output_type": "execute_result"
    }
   ],
   "source": [
    "torch.einsum('la,an->ln', lol[0].squeeze(), feats)"
   ]
  },
  {
   "cell_type": "code",
   "execution_count": 97,
   "metadata": {},
   "outputs": [
    {
     "data": {
      "text/plain": [
       "tensor([[-9.9771e-01, -1.9332e+00,  1.0130e+00],\n",
       "        [-5.9026e-01, -2.9833e-01,  8.8200e-01],\n",
       "        [ 2.0485e-01, -9.2464e-01,  8.3436e-02],\n",
       "        [-4.2730e-01,  1.1381e-03,  4.1514e-01],\n",
       "        [-8.5059e-01, -5.4162e-02, -7.2055e-01],\n",
       "        [-9.3871e-01, -5.6655e-01, -1.7825e-01],\n",
       "        [ 4.7686e-01,  2.5839e-04, -9.6617e-01],\n",
       "        [ 3.2777e-01,  1.5120e-01, -1.0330e+00],\n",
       "        [-3.5218e-01,  3.5620e-02,  9.6991e-01],\n",
       "        [-2.8325e-01, -7.0944e-01,  6.5591e-01],\n",
       "        [ 3.2434e-01,  3.0051e-01, -6.8936e-01],\n",
       "        [ 2.9958e-01,  1.6838e+00,  5.6566e-01],\n",
       "        [ 1.0706e+00,  6.1538e-02,  2.2722e+00],\n",
       "        [-6.2689e-01, -2.7771e-01,  1.0048e+00],\n",
       "        [-1.7366e-01,  2.0378e-01, -4.2482e-01],\n",
       "        [ 4.0196e-01,  1.7864e-01, -9.4169e-01],\n",
       "        [-1.3386e-01,  1.4831e-01, -9.1156e-01],\n",
       "        [-2.3924e-01,  9.4201e-01,  1.3058e+00],\n",
       "        [-2.4148e-01, -5.9411e-01, -1.3937e+00],\n",
       "        [-7.3004e-02, -1.8971e+00, -4.0073e-01]])"
      ]
     },
     "execution_count": 97,
     "metadata": {},
     "output_type": "execute_result"
    }
   ],
   "source": [
    "(feats.T@lol[0].squeeze()).T.view(20,3)"
   ]
  },
  {
   "cell_type": "code",
   "execution_count": 98,
   "metadata": {},
   "outputs": [
    {
     "data": {
      "text/plain": [
       "tensor([[[-9.9771e-01, -1.9332e+00,  1.0130e+00],\n",
       "         [-5.9026e-01, -2.9833e-01,  8.8200e-01],\n",
       "         [ 2.0485e-01, -9.2464e-01,  8.3436e-02],\n",
       "         [-4.2730e-01,  1.1381e-03,  4.1514e-01],\n",
       "         [-8.5059e-01, -5.4162e-02, -7.2055e-01],\n",
       "         [-9.3871e-01, -5.6655e-01, -1.7825e-01],\n",
       "         [ 4.7686e-01,  2.5839e-04, -9.6617e-01],\n",
       "         [ 3.2777e-01,  1.5120e-01, -1.0330e+00],\n",
       "         [-3.5218e-01,  3.5620e-02,  9.6991e-01],\n",
       "         [-2.8325e-01, -7.0944e-01,  6.5591e-01],\n",
       "         [ 3.2434e-01,  3.0051e-01, -6.8936e-01],\n",
       "         [ 2.9958e-01,  1.6838e+00,  5.6566e-01],\n",
       "         [ 1.0706e+00,  6.1538e-02,  2.2722e+00],\n",
       "         [-6.2689e-01, -2.7771e-01,  1.0048e+00],\n",
       "         [-1.7366e-01,  2.0378e-01, -4.2482e-01],\n",
       "         [ 4.0196e-01,  1.7864e-01, -9.4169e-01],\n",
       "         [-1.3386e-01,  1.4831e-01, -9.1156e-01],\n",
       "         [-2.3924e-01,  9.4201e-01,  1.3058e+00],\n",
       "         [-2.4148e-01, -5.9411e-01, -1.3937e+00],\n",
       "         [-7.3004e-02, -1.8971e+00, -4.0073e-01]],\n",
       "\n",
       "        [[-9.9771e-01, -1.9332e+00,  1.0130e+00],\n",
       "         [-5.9026e-01, -2.9833e-01,  8.8200e-01],\n",
       "         [ 2.0485e-01, -9.2464e-01,  8.3436e-02],\n",
       "         [-4.2730e-01,  1.1381e-03,  4.1514e-01],\n",
       "         [-8.5059e-01, -5.4162e-02, -7.2055e-01],\n",
       "         [-9.3871e-01, -5.6655e-01, -1.7825e-01],\n",
       "         [ 4.7686e-01,  2.5839e-04, -9.6617e-01],\n",
       "         [ 3.2777e-01,  1.5120e-01, -1.0330e+00],\n",
       "         [-3.5218e-01,  3.5620e-02,  9.6991e-01],\n",
       "         [-2.8325e-01, -7.0944e-01,  6.5591e-01],\n",
       "         [ 3.2434e-01,  3.0051e-01, -6.8936e-01],\n",
       "         [ 2.9958e-01,  1.6838e+00,  5.6566e-01],\n",
       "         [ 1.0706e+00,  6.1538e-02,  2.2722e+00],\n",
       "         [-6.2689e-01, -2.7771e-01,  1.0048e+00],\n",
       "         [-1.7366e-01,  2.0378e-01, -4.2482e-01],\n",
       "         [ 4.0196e-01,  1.7864e-01, -9.4169e-01],\n",
       "         [-1.3386e-01,  1.4831e-01, -9.1156e-01],\n",
       "         [-2.3924e-01,  9.4201e-01,  1.3058e+00],\n",
       "         [-2.4148e-01, -5.9411e-01, -1.3937e+00],\n",
       "         [-7.3004e-02, -1.8971e+00, -4.0073e-01]],\n",
       "\n",
       "        [[-9.9771e-01, -1.9332e+00,  1.0130e+00],\n",
       "         [-5.9026e-01, -2.9833e-01,  8.8200e-01],\n",
       "         [ 2.0485e-01, -9.2464e-01,  8.3436e-02],\n",
       "         [-4.2730e-01,  1.1381e-03,  4.1514e-01],\n",
       "         [-8.5059e-01, -5.4162e-02, -7.2055e-01],\n",
       "         [-9.3871e-01, -5.6655e-01, -1.7825e-01],\n",
       "         [ 4.7686e-01,  2.5839e-04, -9.6617e-01],\n",
       "         [ 3.2777e-01,  1.5120e-01, -1.0330e+00],\n",
       "         [-3.5218e-01,  3.5620e-02,  9.6991e-01],\n",
       "         [-2.8325e-01, -7.0944e-01,  6.5591e-01],\n",
       "         [ 3.2434e-01,  3.0051e-01, -6.8936e-01],\n",
       "         [ 2.9958e-01,  1.6838e+00,  5.6566e-01],\n",
       "         [ 1.0706e+00,  6.1538e-02,  2.2722e+00],\n",
       "         [-6.2689e-01, -2.7771e-01,  1.0048e+00],\n",
       "         [-1.7366e-01,  2.0378e-01, -4.2482e-01],\n",
       "         [ 4.0196e-01,  1.7864e-01, -9.4169e-01],\n",
       "         [-1.3386e-01,  1.4831e-01, -9.1156e-01],\n",
       "         [-2.3924e-01,  9.4201e-01,  1.3058e+00],\n",
       "         [-2.4148e-01, -5.9411e-01, -1.3937e+00],\n",
       "         [-7.3004e-02, -1.8971e+00, -4.0073e-01]],\n",
       "\n",
       "        [[-9.9771e-01, -1.9332e+00,  1.0130e+00],\n",
       "         [-5.9026e-01, -2.9833e-01,  8.8200e-01],\n",
       "         [ 2.0485e-01, -9.2464e-01,  8.3436e-02],\n",
       "         [-4.2730e-01,  1.1381e-03,  4.1514e-01],\n",
       "         [-8.5059e-01, -5.4162e-02, -7.2055e-01],\n",
       "         [-9.3871e-01, -5.6655e-01, -1.7825e-01],\n",
       "         [ 4.7686e-01,  2.5839e-04, -9.6617e-01],\n",
       "         [ 3.2777e-01,  1.5120e-01, -1.0330e+00],\n",
       "         [-3.5218e-01,  3.5620e-02,  9.6991e-01],\n",
       "         [-2.8325e-01, -7.0944e-01,  6.5591e-01],\n",
       "         [ 3.2434e-01,  3.0051e-01, -6.8936e-01],\n",
       "         [ 2.9958e-01,  1.6838e+00,  5.6566e-01],\n",
       "         [ 1.0706e+00,  6.1538e-02,  2.2722e+00],\n",
       "         [-6.2689e-01, -2.7771e-01,  1.0048e+00],\n",
       "         [-1.7366e-01,  2.0378e-01, -4.2482e-01],\n",
       "         [ 4.0196e-01,  1.7864e-01, -9.4169e-01],\n",
       "         [-1.3386e-01,  1.4831e-01, -9.1156e-01],\n",
       "         [-2.3924e-01,  9.4201e-01,  1.3058e+00],\n",
       "         [-2.4148e-01, -5.9411e-01, -1.3937e+00],\n",
       "         [-7.3004e-02, -1.8971e+00, -4.0073e-01]],\n",
       "\n",
       "        [[-9.9771e-01, -1.9332e+00,  1.0130e+00],\n",
       "         [-5.9026e-01, -2.9833e-01,  8.8200e-01],\n",
       "         [ 2.0485e-01, -9.2464e-01,  8.3436e-02],\n",
       "         [-4.2730e-01,  1.1381e-03,  4.1514e-01],\n",
       "         [-8.5059e-01, -5.4162e-02, -7.2055e-01],\n",
       "         [-9.3871e-01, -5.6655e-01, -1.7825e-01],\n",
       "         [ 4.7686e-01,  2.5839e-04, -9.6617e-01],\n",
       "         [ 3.2777e-01,  1.5120e-01, -1.0330e+00],\n",
       "         [-3.5218e-01,  3.5620e-02,  9.6991e-01],\n",
       "         [-2.8325e-01, -7.0944e-01,  6.5591e-01],\n",
       "         [ 3.2434e-01,  3.0051e-01, -6.8936e-01],\n",
       "         [ 2.9958e-01,  1.6838e+00,  5.6566e-01],\n",
       "         [ 1.0706e+00,  6.1538e-02,  2.2722e+00],\n",
       "         [-6.2689e-01, -2.7771e-01,  1.0048e+00],\n",
       "         [-1.7366e-01,  2.0378e-01, -4.2482e-01],\n",
       "         [ 4.0196e-01,  1.7864e-01, -9.4169e-01],\n",
       "         [-1.3386e-01,  1.4831e-01, -9.1156e-01],\n",
       "         [-2.3924e-01,  9.4201e-01,  1.3058e+00],\n",
       "         [-2.4148e-01, -5.9411e-01, -1.3937e+00],\n",
       "         [-7.3004e-02, -1.8971e+00, -4.0073e-01]]])"
      ]
     },
     "execution_count": 98,
     "metadata": {},
     "output_type": "execute_result"
    }
   ],
   "source": [
    "(feats.T@lol).permute(0,2,1)"
   ]
  },
  {
   "cell_type": "code",
   "execution_count": null,
   "metadata": {},
   "outputs": [],
   "source": []
  }
 ],
 "metadata": {
  "kernelspec": {
   "display_name": "Python 3",
   "language": "python",
   "name": "python3"
  },
  "language_info": {
   "codemirror_mode": {
    "name": "ipython",
    "version": 3
   },
   "file_extension": ".py",
   "mimetype": "text/x-python",
   "name": "python",
   "nbconvert_exporter": "python",
   "pygments_lexer": "ipython3",
   "version": "3.7.5"
  }
 },
 "nbformat": 4,
 "nbformat_minor": 4
}
