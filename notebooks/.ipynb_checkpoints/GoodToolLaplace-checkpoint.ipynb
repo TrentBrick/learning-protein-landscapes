{
 "cells": [
  {
   "cell_type": "code",
   "execution_count": 1,
   "metadata": {},
   "outputs": [],
   "source": [
    "import matplotlib.pyplot as plt\n",
    "import numpy as np\n",
    "import pandas as pd\n",
    "import pickle\n",
    "import seaborn as sns\n",
    "\n",
    "import os\n",
    "import sys\n",
    "\n",
    "sys.path.append('../pytorch/')\n",
    "sys.path.append('../pytorch/EVCouplingsStuff/')"
   ]
  },
  {
   "cell_type": "code",
   "execution_count": 2,
   "metadata": {},
   "outputs": [],
   "source": [
    "def softmax(inp ,axis=1):\n",
    "    return np.exp(inp)/np.sum(np.exp(inp), axis=axis, keepdims=True)\n"
   ]
  },
  {
   "cell_type": "code",
   "execution_count": 52,
   "metadata": {},
   "outputs": [
    {
     "name": "stdout",
     "output_type": "stream",
     "text": [
      "5.38 µs ± 318 ns per loop (mean ± std. dev. of 7 runs, 100000 loops each)\n"
     ]
    }
   ],
   "source": [
    "\n",
    "lol= np.asarray([[[1,2,3,5,6,7]],[[4,2,3,3,4,6]]])\n",
    "#lol= np.asarray([[1,2,3],[4,2,3]])\n",
    "%timeit res = np.ones((60, 6)) * lol\n"
   ]
  },
  {
   "cell_type": "code",
   "execution_count": 48,
   "metadata": {},
   "outputs": [
    {
     "data": {
      "text/plain": [
       "(2, 1, 6)"
      ]
     },
     "execution_count": 48,
     "metadata": {},
     "output_type": "execute_result"
    }
   ],
   "source": [
    "lol.shape"
   ]
  },
  {
   "cell_type": "code",
   "execution_count": 47,
   "metadata": {},
   "outputs": [
    {
     "data": {
      "text/plain": [
       "(2, 4, 6)"
      ]
     },
     "execution_count": 47,
     "metadata": {},
     "output_type": "execute_result"
    }
   ],
   "source": [
    "res.shape"
   ]
  },
  {
   "cell_type": "code",
   "execution_count": 53,
   "metadata": {},
   "outputs": [
    {
     "name": "stdout",
     "output_type": "stream",
     "text": [
      "4.09 µs ± 149 ns per loop (mean ± std. dev. of 7 runs, 100000 loops each)\n"
     ]
    }
   ],
   "source": [
    "%timeit res = np.tile(lol, (1,60,1))"
   ]
  },
  {
   "cell_type": "code",
   "execution_count": 50,
   "metadata": {},
   "outputs": [
    {
     "data": {
      "text/plain": [
       "(2, 4, 6)"
      ]
     },
     "execution_count": 50,
     "metadata": {},
     "output_type": "execute_result"
    }
   ],
   "source": [
    "np.tile(lol, (1,4,1))"
   ]
  },
  {
   "cell_type": "code",
   "execution_count": 41,
   "metadata": {},
   "outputs": [
    {
     "name": "stdout",
     "output_type": "stream",
     "text": [
      "[[[1. 2. 3. 5. 6. 7.]\n",
      "  [1. 2. 3. 5. 6. 7.]\n",
      "  [1. 2. 3. 5. 6. 7.]\n",
      "  [1. 2. 3. 5. 6. 7.]]\n",
      "\n",
      " [[4. 2. 3. 3. 4. 6.]\n",
      "  [4. 2. 3. 3. 4. 6.]\n",
      "  [4. 2. 3. 3. 4. 6.]\n",
      "  [4. 2. 3. 3. 4. 6.]]] (2, 4, 6)\n"
     ]
    }
   ],
   "source": [
    "\n",
    "print(res, res.shape)"
   ]
  },
  {
   "cell_type": "code",
   "execution_count": 60,
   "metadata": {},
   "outputs": [
    {
     "data": {
      "text/plain": [
       "array([[[99., 99.,  3.,  5.,  6.,  7.],\n",
       "        [99., 99.,  3.,  5.,  6.,  7.],\n",
       "        [ 1.,  2.,  3.,  5.,  6.,  7.],\n",
       "        [ 1.,  2.,  3.,  5.,  6.,  7.]],\n",
       "\n",
       "       [[99., 99.,  3.,  3.,  4.,  6.],\n",
       "        [99., 99.,  3.,  3.,  4.,  6.],\n",
       "        [ 4.,  2.,  3.,  3.,  4.,  6.],\n",
       "        [ 4.,  2.,  3.,  3.,  4.,  6.]]])"
      ]
     },
     "execution_count": 60,
     "metadata": {},
     "output_type": "execute_result"
    }
   ],
   "source": [
    "res[:, starts[0]:ends[0], starts[0]:ends[0]] = np.ones((2,2))*99\n",
    "res"
   ]
  },
  {
   "cell_type": "code",
   "execution_count": 54,
   "metadata": {},
   "outputs": [],
   "source": [
    "starts = np.arange(0,6,2)\n",
    "ends = starts+2"
   ]
  },
  {
   "cell_type": "code",
   "execution_count": 55,
   "metadata": {},
   "outputs": [
    {
     "data": {
      "text/plain": [
       "array([0, 2, 4])"
      ]
     },
     "execution_count": 55,
     "metadata": {},
     "output_type": "execute_result"
    }
   ],
   "source": [
    "starts"
   ]
  },
  {
   "cell_type": "code",
   "execution_count": 56,
   "metadata": {},
   "outputs": [
    {
     "data": {
      "text/plain": [
       "array([2, 4, 6])"
      ]
     },
     "execution_count": 56,
     "metadata": {},
     "output_type": "execute_result"
    }
   ],
   "source": [
    "ends"
   ]
  },
  {
   "cell_type": "markdown",
   "metadata": {},
   "source": [
    "## Loading in the whole trajectory"
   ]
  },
  {
   "cell_type": "code",
   "execution_count": 3,
   "metadata": {},
   "outputs": [],
   "source": [
    "# this is 3K steps for 64 chains of 154 length. \n",
    "directory = '../pytorch/experiments/protein_lengthFull_50K_steps_datetime_2020-04-16_20_42_54.072825/'\n",
    "# this is length 6, 50K steps for 64 chains. \n",
    "#'../pytorch/experiments/protein_length6_datetime_2020-04-16_18_06_50.702275/'"
   ]
  },
  {
   "cell_type": "code",
   "execution_count": null,
   "metadata": {},
   "outputs": [],
   "source": [
    "\n",
    "sequences = pd.read_csv(directory+'hill_climb_trajectories_seqs.txt', \n",
    "                        sep=' ', header=None)\n",
    "energies = pd.read_csv(directory+'hill_climb_trajectories_energies.txt',\n",
    "                        sep=' ', header=None)\n",
    "\n",
    "\n"
   ]
  },
  {
   "cell_type": "code",
   "execution_count": null,
   "metadata": {},
   "outputs": [],
   "source": [
    "sequences.head()"
   ]
  },
  {
   "cell_type": "code",
   "execution_count": null,
   "metadata": {},
   "outputs": [],
   "source": [
    "sequences = sequences.loc[:,0:(sequences.shape[1] -1)].values.astype(np.uint)"
   ]
  },
  {
   "cell_type": "code",
   "execution_count": 1,
   "metadata": {},
   "outputs": [
    {
     "ename": "NameError",
     "evalue": "name 'sequences' is not defined",
     "output_type": "error",
     "traceback": [
      "\u001b[0;31m---------------------------------------------------------------------------\u001b[0m",
      "\u001b[0;31mNameError\u001b[0m                                 Traceback (most recent call last)",
      "\u001b[0;32m<ipython-input-1-b9bfd4f75eb2>\u001b[0m in \u001b[0;36m<module>\u001b[0;34m\u001b[0m\n\u001b[0;32m----> 1\u001b[0;31m \u001b[0msequences\u001b[0m\u001b[0;34m.\u001b[0m\u001b[0mshape\u001b[0m\u001b[0;34m\u001b[0m\u001b[0;34m\u001b[0m\u001b[0m\n\u001b[0m",
      "\u001b[0;31mNameError\u001b[0m: name 'sequences' is not defined"
     ]
    }
   ],
   "source": [
    "sequences.shape"
   ]
  },
  {
   "cell_type": "code",
   "execution_count": 23,
   "metadata": {},
   "outputs": [],
   "source": [
    "energies = energies[0].values"
   ]
  },
  {
   "cell_type": "code",
   "execution_count": 24,
   "metadata": {},
   "outputs": [
    {
     "data": {
      "text/plain": [
       "(191879,)"
      ]
     },
     "execution_count": 24,
     "metadata": {},
     "output_type": "execute_result"
    }
   ],
   "source": [
    "energies.shape"
   ]
  },
  {
   "cell_type": "code",
   "execution_count": 3,
   "metadata": {},
   "outputs": [
    {
     "name": "stdout",
     "output_type": "stream",
     "text": [
      "actual protein length (155, 20)\n",
      "number and dimensions of the oh sequences (7848, 3080)\n"
     ]
    }
   ],
   "source": [
    "from EVCouplingsGen import *\n",
    "from evcouplings.couplings import CouplingsModel\n",
    "from EVCouplingsStuff.seq_sele import *\n",
    "\n",
    "protein_length =154\n",
    "is_discrete = True\n",
    "\n",
    "device = torch.device(\"cuda\" if torch.cuda.is_available() else \"cpu\")\n",
    "\n",
    "# Loading in EVCouplings model \n",
    "focus_seqs = read_fa('../pytorch/EVCouplingsStuff/DYR_ECOLI_1_b0.5.a2m_trimmed.fa')\n",
    "evc_model = CouplingsModel('../pytorch/EVCouplingsStuff/DYR.model')\n",
    "\n",
    "# extracting the model parameters used to determine the evolutionary hamiltonian\n",
    "h = evc_model.h_i\n",
    "J = evc_model.J_ij\n",
    "print('actual protein length', h.shape)\n",
    "if protein_length > 0:\n",
    "    h = h[0:protein_length, :]\n",
    "    J = J[0:protein_length, 0:protein_length, :,:]\n",
    "\n",
    "# processing and plotting the natural sequences: \n",
    "# first by converting amino acids into integers and also onehots. \n",
    "enc_seqs=[]\n",
    "oh = []\n",
    "AA=h.shape[1] # number of amino acids\n",
    "for seq in focus_seqs['seq']:\n",
    "    enc_seq = np.asarray(encode_aa(seq, evc_model.alphabet_map))\n",
    "    if protein_length > 0: \n",
    "        enc_seq = enc_seq[:protein_length]\n",
    "    enc_seqs.append(enc_seq) \n",
    "    oh.append(onehot(enc_seq,AA)) # this could be made much more efficient with tensorflow operations. \n",
    "enc_seqs = np.asarray(enc_seqs)\n",
    "natural_oh=np.asarray(oh) # of shape: [batch x L x AA]\n",
    "N = natural_oh.shape[0] # batch size\n",
    "L = natural_oh.shape[1] # length of the protein\n",
    "natural_oh = natural_oh.reshape(-1, L*20)\n",
    "\n",
    "# loading in the environment class, used to score the evolutionary hamiltonians\n",
    "gen_model = EVCouplingsGenerator(L, AA, h, J, device, True, gaussian_cov_noise = 10.0)\n",
    "natural_energies = gen_model.energy(natural_oh)\n",
    "\n",
    "print('number and dimensions of the oh sequences', natural_oh.shape)\n"
   ]
  },
  {
   "cell_type": "code",
   "execution_count": 4,
   "metadata": {},
   "outputs": [
    {
     "data": {
      "text/plain": [
       "(7848, 3080)"
      ]
     },
     "execution_count": 4,
     "metadata": {},
     "output_type": "execute_result"
    }
   ],
   "source": [
    "natural_oh.shape"
   ]
  },
  {
   "cell_type": "code",
   "execution_count": 5,
   "metadata": {},
   "outputs": [
    {
     "data": {
      "text/plain": [
       "array([680.3814 , 606.57996, 599.9844 , ..., 587.30347, 593.89233,\n",
       "       596.8186 ], dtype=float32)"
      ]
     },
     "execution_count": 5,
     "metadata": {},
     "output_type": "execute_result"
    }
   ],
   "source": [
    "gen_model.hill_energy(natural_oh)"
   ]
  },
  {
   "cell_type": "code",
   "execution_count": 6,
   "metadata": {},
   "outputs": [
    {
     "data": {
      "text/plain": [
       "(7848, 5, 3080)"
      ]
     },
     "execution_count": 6,
     "metadata": {},
     "output_type": "execute_result"
    }
   ],
   "source": [
    "lol = np.tile(np.expand_dims(natural_oh,1), (1, 5, 1))\n",
    "lol.shape"
   ]
  },
  {
   "cell_type": "code",
   "execution_count": 7,
   "metadata": {},
   "outputs": [
    {
     "data": {
      "text/plain": [
       "154.0"
      ]
     },
     "execution_count": 7,
     "metadata": {},
     "output_type": "execute_result"
    }
   ],
   "source": [
    "natural_oh[0].sum()"
   ]
  },
  {
   "cell_type": "code",
   "execution_count": 8,
   "metadata": {},
   "outputs": [],
   "source": [
    "inp = lol"
   ]
  },
  {
   "cell_type": "code",
   "execution_count": 9,
   "metadata": {},
   "outputs": [
    {
     "data": {
      "text/plain": [
       "(7848, 5)"
      ]
     },
     "execution_count": 9,
     "metadata": {},
     "output_type": "execute_result"
    }
   ],
   "source": [
    "(inp@gen_model.h).shape"
   ]
  },
  {
   "cell_type": "code",
   "execution_count": 10,
   "metadata": {},
   "outputs": [
    {
     "data": {
      "text/plain": [
       "(3080, 3080)"
      ]
     },
     "execution_count": 10,
     "metadata": {},
     "output_type": "execute_result"
    }
   ],
   "source": [
    "gen_model.J.shape"
   ]
  },
  {
   "cell_type": "code",
   "execution_count": 11,
   "metadata": {},
   "outputs": [
    {
     "data": {
      "text/plain": [
       "(7848, 5, 3080)"
      ]
     },
     "execution_count": 11,
     "metadata": {},
     "output_type": "execute_result"
    }
   ],
   "source": [
    "inp.shape"
   ]
  },
  {
   "cell_type": "code",
   "execution_count": 12,
   "metadata": {},
   "outputs": [
    {
     "data": {
      "text/plain": [
       "array([[ 0.18948337],\n",
       "       [ 1.07605146],\n",
       "       [ 0.41633144],\n",
       "       ...,\n",
       "       [-0.24721879],\n",
       "       [ 0.2718129 ],\n",
       "       [ 0.89931681]])"
      ]
     },
     "execution_count": 12,
     "metadata": {},
     "output_type": "execute_result"
    }
   ],
   "source": [
    "# this is what the first 5 should all equal!\n",
    "gen_model.J@natural_oh[0:1,:].T"
   ]
  },
  {
   "cell_type": "code",
   "execution_count": 20,
   "metadata": {},
   "outputs": [
    {
     "data": {
      "text/plain": [
       "array([160.88358833])"
      ]
     },
     "execution_count": 20,
     "metadata": {},
     "output_type": "execute_result"
    }
   ],
   "source": [
    "((natural_oh[0:1,:].T*(gen_model.J@natural_oh[0:1,:].T))/2 ).T.sum(1)\n",
    "\n"
   ]
  },
  {
   "cell_type": "code",
   "execution_count": 23,
   "metadata": {},
   "outputs": [
    {
     "data": {
      "text/plain": [
       "(3080, 1)"
      ]
     },
     "execution_count": 23,
     "metadata": {},
     "output_type": "execute_result"
    }
   ],
   "source": [
    "(gen_model.J@natural_oh[0:1,:].T).shape"
   ]
  },
  {
   "cell_type": "code",
   "execution_count": 14,
   "metadata": {},
   "outputs": [
    {
     "data": {
      "text/plain": [
       "(1, 3080, 3080)"
      ]
     },
     "execution_count": 14,
     "metadata": {},
     "output_type": "execute_result"
    }
   ],
   "source": [
    "#np.expand_dims(gen_model.J,0).shape"
   ]
  },
  {
   "cell_type": "code",
   "execution_count": 21,
   "metadata": {},
   "outputs": [
    {
     "data": {
      "text/plain": [
       "(1, 3080)"
      ]
     },
     "execution_count": 21,
     "metadata": {},
     "output_type": "execute_result"
    }
   ],
   "source": [
    "np.einsum('ij,nj->ni',gen_model.J,natural_oh[0:1,:] ).shape"
   ]
  },
  {
   "cell_type": "code",
   "execution_count": 25,
   "metadata": {},
   "outputs": [
    {
     "data": {
      "text/plain": [
       "array([160.88358833])"
      ]
     },
     "execution_count": 25,
     "metadata": {},
     "output_type": "execute_result"
    }
   ],
   "source": [
    "((natural_oh[0:1,:] * np.einsum('ij,nj->ni',gen_model.J,natural_oh[0:1,:] ))/2).sum(1)"
   ]
  },
  {
   "cell_type": "code",
   "execution_count": 26,
   "metadata": {},
   "outputs": [
    {
     "data": {
      "text/plain": [
       "(2, 5, 3080)"
      ]
     },
     "execution_count": 26,
     "metadata": {},
     "output_type": "execute_result"
    }
   ],
   "source": [
    "(np.einsum('ij,bnj->bni',gen_model.J,inp[0:2,:,:])).shape"
   ]
  },
  {
   "cell_type": "code",
   "execution_count": 30,
   "metadata": {},
   "outputs": [
    {
     "data": {
      "text/plain": [
       "array([519.49784776])"
      ]
     },
     "execution_count": 30,
     "metadata": {},
     "output_type": "execute_result"
    }
   ],
   "source": [
    "natural_oh[0:1,:]@gen_model.h"
   ]
  },
  {
   "cell_type": "code",
   "execution_count": 31,
   "metadata": {},
   "outputs": [
    {
     "data": {
      "text/plain": [
       "array([[519.49784776, 519.49784776, 519.49784776, 519.49784776,\n",
       "        519.49784776],\n",
       "       [463.74212589, 463.74212589, 463.74212589, 463.74212589,\n",
       "        463.74212589]])"
      ]
     },
     "execution_count": 31,
     "metadata": {},
     "output_type": "execute_result"
    }
   ],
   "source": [
    "inp[0:2,:,:]@gen_model.h"
   ]
  },
  {
   "cell_type": "code",
   "execution_count": 32,
   "metadata": {},
   "outputs": [
    {
     "data": {
      "text/plain": [
       "array([[680.38143609, 680.38143609, 680.38143609, 680.38143609,\n",
       "        680.38143609],\n",
       "       [606.57991597, 606.57991597, 606.57991597, 606.57991597,\n",
       "        606.57991597]])"
      ]
     },
     "execution_count": 32,
     "metadata": {},
     "output_type": "execute_result"
    }
   ],
   "source": [
    "((inp[0:2,:,:] * np.einsum('ij,bnj->bni',gen_model.J,inp[0:2,:,:] ))/2).sum(-1)+inp[0:2,:,:]@gen_model.h"
   ]
  },
  {
   "cell_type": "code",
   "execution_count": 99,
   "metadata": {},
   "outputs": [
    {
     "ename": "ValueError",
     "evalue": "matmul: Input operand 1 has a mismatch in its core dimension 0, with gufunc signature (n?,k),(k,m?)->(n?,m?) (size 5 is different from 3080)",
     "output_type": "error",
     "traceback": [
      "\u001b[0;31m---------------------------------------------------------------------------\u001b[0m",
      "\u001b[0;31mValueError\u001b[0m                                Traceback (most recent call last)",
      "\u001b[0;32m<ipython-input-99-a5d71af50b48>\u001b[0m in \u001b[0;36m<module>\u001b[0;34m\u001b[0m\n\u001b[0;32m----> 1\u001b[0;31m \u001b[0mnp\u001b[0m\u001b[0;34m.\u001b[0m\u001b[0mmatmul\u001b[0m\u001b[0;34m(\u001b[0m\u001b[0mnp\u001b[0m\u001b[0;34m.\u001b[0m\u001b[0mexpand_dims\u001b[0m\u001b[0;34m(\u001b[0m\u001b[0mgen_model\u001b[0m\u001b[0;34m.\u001b[0m\u001b[0mJ\u001b[0m\u001b[0;34m,\u001b[0m\u001b[0;36m0\u001b[0m\u001b[0;34m)\u001b[0m\u001b[0;34m,\u001b[0m\u001b[0minp\u001b[0m\u001b[0;34m.\u001b[0m\u001b[0mT\u001b[0m\u001b[0;34m)\u001b[0m\u001b[0;34m\u001b[0m\u001b[0;34m\u001b[0m\u001b[0m\n\u001b[0m",
      "\u001b[0;31mValueError\u001b[0m: matmul: Input operand 1 has a mismatch in its core dimension 0, with gufunc signature (n?,k),(k,m?)->(n?,m?) (size 5 is different from 3080)"
     ]
    }
   ],
   "source": [
    "np.matmul(np.expand_dims(gen_model.J,0),inp.T)"
   ]
  },
  {
   "cell_type": "code",
   "execution_count": 78,
   "metadata": {},
   "outputs": [
    {
     "ename": "ValueError",
     "evalue": "matmul: Input operand 1 has a mismatch in its core dimension 0, with gufunc signature (n?,k),(k,m?)->(n?,m?) (size 5 is different from 3080)",
     "output_type": "error",
     "traceback": [
      "\u001b[0;31m---------------------------------------------------------------------------\u001b[0m",
      "\u001b[0;31mValueError\u001b[0m                                Traceback (most recent call last)",
      "\u001b[0;32m<ipython-input-78-5b3f3d51f767>\u001b[0m in \u001b[0;36m<module>\u001b[0;34m\u001b[0m\n\u001b[1;32m      1\u001b[0m \u001b[0minp\u001b[0m \u001b[0;34m=\u001b[0m \u001b[0mlol\u001b[0m\u001b[0;34m\u001b[0m\u001b[0;34m\u001b[0m\u001b[0m\n\u001b[0;32m----> 2\u001b[0;31m \u001b[0;34m(\u001b[0m\u001b[0;34m(\u001b[0m\u001b[0minp\u001b[0m\u001b[0;34m.\u001b[0m\u001b[0mT\u001b[0m\u001b[0;34m*\u001b[0m\u001b[0;34m(\u001b[0m\u001b[0mgen_model\u001b[0m\u001b[0;34m.\u001b[0m\u001b[0mJ\u001b[0m\u001b[0;34m@\u001b[0m\u001b[0minp\u001b[0m\u001b[0;34m.\u001b[0m\u001b[0mT\u001b[0m\u001b[0;34m)\u001b[0m\u001b[0;34m)\u001b[0m\u001b[0;34m/\u001b[0m\u001b[0;36m2\u001b[0m \u001b[0;34m)\u001b[0m\u001b[0;34m.\u001b[0m\u001b[0mT\u001b[0m\u001b[0;34m.\u001b[0m\u001b[0msum\u001b[0m\u001b[0;34m(\u001b[0m\u001b[0;36m1\u001b[0m\u001b[0;34m)\u001b[0m \u001b[0;34m+\u001b[0m \u001b[0minp\u001b[0m\u001b[0;34m@\u001b[0m\u001b[0mgen_model\u001b[0m\u001b[0;34m.\u001b[0m\u001b[0mh\u001b[0m\u001b[0;34m\u001b[0m\u001b[0;34m\u001b[0m\u001b[0m\n\u001b[0m",
      "\u001b[0;31mValueError\u001b[0m: matmul: Input operand 1 has a mismatch in its core dimension 0, with gufunc signature (n?,k),(k,m?)->(n?,m?) (size 5 is different from 3080)"
     ]
    }
   ],
   "source": [
    "\n",
    "((inp.T*(gen_model.J@inp.T))/2 ).T.sum(1) + inp@gen_model.h"
   ]
  },
  {
   "cell_type": "code",
   "execution_count": null,
   "metadata": {},
   "outputs": [],
   "source": []
  },
  {
   "cell_type": "code",
   "execution_count": 16,
   "metadata": {},
   "outputs": [
    {
     "data": {
      "text/plain": [
       "array([  2.03341833,  -4.66126658,  20.3829521 , -18.07174484,\n",
       "        28.38357312,  46.71917417,   4.78490748,  16.76713673,\n",
       "        33.8963544 ,  15.60116278, -12.09126419,  44.61695762,\n",
       "       -34.33316779,  19.95023431,  28.51002554,  56.44029039,\n",
       "         7.26670713, -27.34202865, -24.47724628,   7.94731347,\n",
       "         7.78078865, -33.07334002,  -0.74107149,   9.29881548,\n",
       "        15.88964579,  30.35495026,  38.59086637,  23.4641128 ,\n",
       "        29.88792271,  53.77486605,  -0.4773827 ,  29.60791093,\n",
       "        31.32053459,  -5.74735862,  29.4770936 ,   8.20381362,\n",
       "         3.69874128,  54.80784655,  25.52740768,  48.7417038 ,\n",
       "        14.70550451, -36.97113576,  22.49350231,  10.03296737,\n",
       "       -40.28391928, -16.93615529,  45.83928669,  25.3173    ,\n",
       "         4.35563982,  22.34190828,   8.78230568,  43.13049437,\n",
       "        -7.1387596 , -16.17890288, -15.25146878,   9.89716881,\n",
       "       -15.65982283,  10.16278797,  11.53678532,  30.69428394,\n",
       "        11.88605695,  19.7902457 ,   2.02213558,  17.74583191])"
      ]
     },
     "execution_count": 16,
     "metadata": {},
     "output_type": "execute_result"
    }
   ],
   "source": [
    "gen_model.energy(sequences[0:64])"
   ]
  },
  {
   "cell_type": "code",
   "execution_count": 17,
   "metadata": {},
   "outputs": [
    {
     "data": {
      "text/plain": [
       "array([ 12.69480392,   5.70319022,  31.25474448,  -7.68283642,\n",
       "        38.71913674,  57.45406639,  15.61287949,  27.29668753,\n",
       "        45.2460983 ,  26.21681705,  -1.94126113,  55.44089384,\n",
       "       -24.29610496,  30.75079667,  39.27131851,  67.4606929 ,\n",
       "        17.66163796, -17.09491982, -14.17164573,  18.82220677,\n",
       "        18.41952324, -22.47700431,   9.55725161,  19.73654324,\n",
       "        26.25570936,  40.62874214,  48.7071355 ,  34.26366404,\n",
       "        39.99427286,  64.01858172,  10.12224616,  40.45783757,\n",
       "        41.43969146,   4.12658669,  39.77692208,  18.08952614,\n",
       "        13.77302978,  65.4173485 ,  35.73311324,  59.61948665,\n",
       "        24.68892628, -26.83920575,  33.3602786 ,  19.85325014,\n",
       "       -30.03122197,  -6.61941798,  56.8465638 ,  35.62579833,\n",
       "        14.40270508,  32.57858596,  18.96046294,  53.3948719 ,\n",
       "         3.08450864,  -6.80354316,  -4.88671809,  20.16405377,\n",
       "        -5.71410495,  20.72207751,  21.81763324,  40.98430968,\n",
       "        22.03079775,  30.17081415,  12.53935106,  28.23408596])"
      ]
     },
     "execution_count": 17,
     "metadata": {},
     "output_type": "execute_result"
    }
   ],
   "source": [
    "gen_model.energy(sequences[64:128])"
   ]
  },
  {
   "cell_type": "code",
   "execution_count": 15,
   "metadata": {},
   "outputs": [
    {
     "data": {
      "text/html": [
       "<div>\n",
       "<style scoped>\n",
       "    .dataframe tbody tr th:only-of-type {\n",
       "        vertical-align: middle;\n",
       "    }\n",
       "\n",
       "    .dataframe tbody tr th {\n",
       "        vertical-align: top;\n",
       "    }\n",
       "\n",
       "    .dataframe thead th {\n",
       "        text-align: right;\n",
       "    }\n",
       "</style>\n",
       "<table border=\"1\" class=\"dataframe\">\n",
       "  <thead>\n",
       "    <tr style=\"text-align: right;\">\n",
       "      <th></th>\n",
       "      <th>0</th>\n",
       "    </tr>\n",
       "  </thead>\n",
       "  <tbody>\n",
       "    <tr>\n",
       "      <th>0</th>\n",
       "      <td>2.033418</td>\n",
       "    </tr>\n",
       "    <tr>\n",
       "      <th>1</th>\n",
       "      <td>-4.661267</td>\n",
       "    </tr>\n",
       "    <tr>\n",
       "      <th>2</th>\n",
       "      <td>20.382952</td>\n",
       "    </tr>\n",
       "    <tr>\n",
       "      <th>3</th>\n",
       "      <td>-18.071745</td>\n",
       "    </tr>\n",
       "    <tr>\n",
       "      <th>4</th>\n",
       "      <td>28.383573</td>\n",
       "    </tr>\n",
       "    <tr>\n",
       "      <th>5</th>\n",
       "      <td>46.719174</td>\n",
       "    </tr>\n",
       "    <tr>\n",
       "      <th>6</th>\n",
       "      <td>4.784907</td>\n",
       "    </tr>\n",
       "    <tr>\n",
       "      <th>7</th>\n",
       "      <td>16.767137</td>\n",
       "    </tr>\n",
       "    <tr>\n",
       "      <th>8</th>\n",
       "      <td>33.896354</td>\n",
       "    </tr>\n",
       "    <tr>\n",
       "      <th>9</th>\n",
       "      <td>15.601163</td>\n",
       "    </tr>\n",
       "  </tbody>\n",
       "</table>\n",
       "</div>"
      ],
      "text/plain": [
       "           0\n",
       "0   2.033418\n",
       "1  -4.661267\n",
       "2  20.382952\n",
       "3 -18.071745\n",
       "4  28.383573\n",
       "5  46.719174\n",
       "6   4.784907\n",
       "7  16.767137\n",
       "8  33.896354\n",
       "9  15.601163"
      ]
     },
     "execution_count": 15,
     "metadata": {},
     "output_type": "execute_result"
    }
   ],
   "source": [
    "energies[:10]"
   ]
  },
  {
   "cell_type": "markdown",
   "metadata": {},
   "source": [
    "## Analyzing parts of the trajectory using LaPlace"
   ]
  },
  {
   "cell_type": "code",
   "execution_count": 82,
   "metadata": {},
   "outputs": [],
   "source": []
  },
  {
   "cell_type": "code",
   "execution_count": 85,
   "metadata": {},
   "outputs": [],
   "source": [
    "local_maxes = pickle.load( open(directory+'local_maxes_and_energies.pickle', 'rb'))\n",
    "\n",
    "max_sequences = []\n",
    "max_energies = []\n",
    "for l in local_maxes: \n",
    "    max_sequences.append(l[0])\n",
    "    max_energies.append(l[1][0])\n",
    "max_sequences= np.asarray(max_sequences)"
   ]
  },
  {
   "cell_type": "code",
   "execution_count": 86,
   "metadata": {},
   "outputs": [],
   "source": [
    "# doesnt really matter how long each search took at least for now. \n",
    "nwalkers = 64\n",
    "keep_steps = 2990 # keeping the first 1000 steps for this analysis\n",
    "stop_iter = nwalkers* keep_steps\n",
    "\n",
    "    "
   ]
  },
  {
   "cell_type": "code",
   "execution_count": 107,
   "metadata": {},
   "outputs": [],
   "source": [
    "def countUnique(sub_seqs, sub_engs):\n",
    "    counter = dict()\n",
    "    energies_counter = dict()\n",
    "    for i in range(len(sub_seqs)):\n",
    "        seq = tuple(sub_seqs[i])\n",
    "        if seq in counter.keys(): \n",
    "            counter[seq] +=1\n",
    "        else:\n",
    "            counter[seq] = 1\n",
    "            energies_counter[seq] = sub_engs[i]\n",
    "\n",
    "    num_converged = []\n",
    "    energy_of_converged = []\n",
    "    species_counts = dict()\n",
    "    for k, v in counter.items():\n",
    "        num_converged.append(v)\n",
    "        energy_of_converged.append(energies_counter[k])\n",
    "        \n",
    "        if v in species_counts.keys():\n",
    "            species_counts[v] += 1\n",
    "        else: \n",
    "            species_counts[v] = 1\n",
    "        \n",
    "    return counter, num_converged, energy_of_converged, species_counts"
   ]
  },
  {
   "cell_type": "code",
   "execution_count": 115,
   "metadata": {},
   "outputs": [],
   "source": [
    "def classic_good_toulmin(species_counts, t):\n",
    "    summand = 0\n",
    "    for k, v in species_counts.items():\n",
    "        summand += (-t)**k * v\n",
    "    return - summand"
   ]
  },
  {
   "cell_type": "code",
   "execution_count": 122,
   "metadata": {},
   "outputs": [
    {
     "name": "stdout",
     "output_type": "stream",
     "text": [
      "num minima 10 num unique local minima 10 prob of success 0.9166666666666666 next local min is novel? True  | number of new species if  1  more samples is taken 1.0\n",
      "num minima 10 num unique local minima 10 prob of success 0.9166666666666666 next local min is novel? True  | number of new species if  10  more samples is taken 10.0\n",
      "num minima 10 num unique local minima 10 prob of success 0.9166666666666666 next local min is novel? True  | number of new species if  50  more samples is taken 50.0\n",
      "==================================================\n",
      "num minima 50 num unique local minima 50 prob of success 0.9807692307692307 next local min is novel? True  | number of new species if  1  more samples is taken 1.0\n",
      "num minima 50 num unique local minima 50 prob of success 0.9807692307692307 next local min is novel? True  | number of new species if  10  more samples is taken 10.0\n",
      "num minima 50 num unique local minima 50 prob of success 0.9807692307692307 next local min is novel? True  | number of new species if  50  more samples is taken 50.0\n",
      "==================================================\n",
      "num minima 60 num unique local minima 60 prob of success 0.9838709677419355 next local min is novel? True  | number of new species if  1  more samples is taken 1.0\n",
      "num minima 60 num unique local minima 60 prob of success 0.9838709677419355 next local min is novel? True  | number of new species if  10  more samples is taken 10.0\n",
      "num minima 60 num unique local minima 60 prob of success 0.9838709677419355 next local min is novel? True  | number of new species if  50  more samples is taken 50.0\n",
      "==================================================\n",
      "num minima 80 num unique local minima 64 prob of success 0.7926829268292683 next local min is novel? False  | number of new species if  1  more samples is taken 0.5975000000000001\n",
      "num minima 80 num unique local minima 64 prob of success 0.7926829268292683 next local min is novel? False  | number of new species if  10  more samples is taken 5.75\n",
      "num minima 80 num unique local minima 64 prob of success 0.7926829268292683 next local min is novel? False  | number of new species if  50  more samples is taken 23.75\n",
      "==================================================\n",
      "num minima 100 num unique local minima 64 prob of success 0.6372549019607843 next local min is novel? False  | number of new species if  1  more samples is taken 0.27640000000000003\n",
      "num minima 100 num unique local minima 64 prob of success 0.6372549019607843 next local min is novel? False  | number of new species if  10  more samples is taken 2.4400000000000004\n",
      "num minima 100 num unique local minima 64 prob of success 0.6372549019607843 next local min is novel? False  | number of new species if  50  more samples is taken 5.0\n",
      "==================================================\n",
      "num minima 500 num unique local minima 64 prob of success 0.1294820717131474 next local min is novel? False  | number of new species if  1  more samples is taken 1.522688e-18\n",
      "num minima 500 num unique local minima 64 prob of success 0.1294820717131474 next local min is novel? False  | number of new species if  10  more samples is taken 1.4028800000000003e-11\n",
      "num minima 500 num unique local minima 64 prob of success 0.1294820717131474 next local min is novel? False  | number of new species if  50  more samples is taken 6.800000000000001e-07\n",
      "==================================================\n"
     ]
    }
   ],
   "source": [
    "# say we take the first local minima found by each walker\n",
    "\n",
    "for num_minima_wanted in [10, 50, 60, 80, 100, 500]:\n",
    "    sub_seqs = max_sequences[:num_minima_wanted]\n",
    "    sub_engs = max_energies[:num_minima_wanted]\n",
    "    \n",
    "    counter, num_converged, energy_of_converged, species_counts = countUnique(sub_seqs, sub_engs)\n",
    "    prob_next_success = (len(num_converged) +1) / (num_minima_wanted+2)\n",
    "    next_is_success = np.invert(tuple(max_sequences[num_minima_wanted+1]) in counter.keys())\n",
    "    \n",
    "    for m in [1, 10, 50]:\n",
    "        t = m/num_minima_wanted\n",
    "        class_gt = classic_good_toulmin(species_counts, t )\n",
    "        print('num minima',num_minima_wanted, 'num unique local minima', \n",
    "              len(num_converged),  'prob of success', \n",
    "              prob_next_success, 'next local min is novel?', \n",
    "              next_is_success, ' | number of new species if ',m,' more samples is taken', class_gt )\n",
    "    print('='*50)"
   ]
  },
  {
   "cell_type": "code",
   "execution_count": 113,
   "metadata": {},
   "outputs": [
    {
     "data": {
      "text/plain": [
       "{8: 52, 7: 12}"
      ]
     },
     "execution_count": 113,
     "metadata": {},
     "output_type": "execute_result"
    }
   ],
   "source": [
    "species_counts"
   ]
  },
  {
   "cell_type": "code",
   "execution_count": 114,
   "metadata": {},
   "outputs": [],
   "source": [
    "\n",
    "        \n",
    "    \n",
    "    \n",
    "    \n",
    "   \n",
    "    \n"
   ]
  },
  {
   "cell_type": "code",
   "execution_count": null,
   "metadata": {},
   "outputs": [],
   "source": []
  },
  {
   "cell_type": "code",
   "execution_count": 90,
   "metadata": {},
   "outputs": [
    {
     "data": {
      "image/png": "[encoded data removed]",
      "text/plain": [
       "<Figure size 432x288 with 1 Axes>"
      ]
     },
     "metadata": {
      "needs_background": "light"
     },
     "output_type": "display_data"
    }
   ],
   "source": [
    "\n",
    "    \n",
    "plt.scatter(energy_of_converged, num_converged)\n",
    "plt.xlabel('Energy')\n",
    "plt.ylabel('Num Converged')\n",
    "plt.show()"
   ]
  },
  {
   "cell_type": "code",
   "execution_count": 94,
   "metadata": {},
   "outputs": [
    {
     "data": {
      "text/plain": [
       "0.6435643564356436"
      ]
     },
     "execution_count": 94,
     "metadata": {},
     "output_type": "execute_result"
    }
   ],
   "source": []
  },
  {
   "cell_type": "code",
   "execution_count": null,
   "metadata": {},
   "outputs": [],
   "source": [
    "'''\n",
    "doesnt work because the random restart may score higher than the new random sequence. \n",
    "starts = np.arange(0,stop_iter,64)\n",
    "ends = starts+nwalkers\n",
    "max_sequences = []\n",
    "max_energies = []\n",
    "\n",
    "for s, e in zip(starts, ends):\n",
    "    local_maxima_mask = energies[s+nwalkers:e+nwalkers] == energies[s:e]\n",
    "    if local_maxima_mask.sum()>0:\n",
    "        \n",
    "        temp_seqs = sequences[s:e][local_maxima_mask]\n",
    "        temp_energies = energies[s:e][local_maxima_mask]\n",
    "        \n",
    "        max_sequences += temp_seqs.tolist()\n",
    "        max_energies += temp_energies.tolist()'''\n",
    "    "
   ]
  }
 ],
 "metadata": {
  "kernelspec": {
   "display_name": "Python 3",
   "language": "python",
   "name": "python3"
  },
  "language_info": {
   "codemirror_mode": {
    "name": "ipython",
    "version": 3
   },
   "file_extension": ".py",
   "mimetype": "text/x-python",
   "name": "python",
   "nbconvert_exporter": "python",
   "pygments_lexer": "ipython3",
   "version": "3.7.5"
  }
 },
 "nbformat": 4,
 "nbformat_minor": 4
}
