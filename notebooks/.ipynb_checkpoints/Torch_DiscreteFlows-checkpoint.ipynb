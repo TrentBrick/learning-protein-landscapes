{
 "cells": [
  {
   "cell_type": "code",
   "execution_count": null,
   "metadata": {},
   "outputs": [],
   "source": []
  },
  {
   "cell_type": "code",
   "execution_count": 1,
   "metadata": {},
   "outputs": [],
   "source": [
    "import numpy as np\n",
    "import matplotlib.pyplot as plt\n",
    "from scipy.stats import multivariate_normal\n",
    "import torch\n",
    "import itertools"
   ]
  },
  {
   "cell_type": "code",
   "execution_count": 2,
   "metadata": {},
   "outputs": [],
   "source": [
    "# for auto-reloading external modules\n",
    "# see http://stackoverflow.com/questions/1907993/autoreload-of-modules-in-ipython\n",
    "%load_ext autoreload\n",
    "%autoreload 2"
   ]
  },
  {
   "cell_type": "code",
   "execution_count": 3,
   "metadata": {},
   "outputs": [
    {
     "data": {
      "image/png": "[encoded data removed]",
      "text/plain": [
       "<Figure size 432x288 with 1 Axes>"
      ]
     },
     "metadata": {
      "needs_background": "light"
     },
     "output_type": "display_data"
    }
   ],
   "source": [
    "n_samps = 50\n",
    "\n",
    "means = np.array([[8,9], [2,1], [8,1], [2,9], [5,12], [5,0], [10, 5], [1.5,5]]) * 10\n",
    "data = np.zeros((len(means)*n_samps,2))\n",
    "y = np.zeros((len(means)*n_samps,1))\n",
    "for ind, m in enumerate(means):\n",
    "    samps = multivariate_normal(m, np.eye(2)/0.1).rvs(n_samps)#.astype(int)\n",
    "    data[ind*n_samps:((ind+1)*n_samps)] = samps\n",
    "    y[ind*n_samps:((ind+1)*n_samps)] = np.tile(ind, n_samps).reshape(-1,1)\n",
    "    plt.scatter(samps[:,0], samps[:,1])\n"
   ]
  },
  {
   "cell_type": "code",
   "execution_count": 65,
   "metadata": {},
   "outputs": [
    {
     "data": {
      "image/png": "[encoded data removed]",
      "text/plain": [
       "<Figure size 288x288 with 1 Axes>"
      ]
     },
     "metadata": {
      "needs_background": "light"
     },
     "output_type": "display_data"
    }
   ],
   "source": [
    "# Lightweight datasets\n",
    "import pickle\n",
    "from sklearn import datasets\n",
    "\n",
    "class DatasetSIGGRAPH:\n",
    "    \"\"\" \n",
    "    haha, found from Eric https://blog.evjang.com/2018/01/nf2.html\n",
    "    https://github.com/ericjang/normalizing-flows-tutorial/blob/master/siggraph.pkl\n",
    "    \"\"\"\n",
    "    def __init__(self):\n",
    "        with open('siggraph.pkl', 'rb') as f:\n",
    "            XY = np.array(pickle.load(f), dtype=np.float32)\n",
    "            XY -= np.mean(XY, axis=0) # center\n",
    "        self.XY = torch.from_numpy(XY)\n",
    "    \n",
    "    def sample(self, n):\n",
    "        X = self.XY[np.random.randint(self.XY.shape[0], size=n)]\n",
    "        return X\n",
    "\n",
    "class DatasetMoons:\n",
    "    \"\"\" two half-moons \"\"\"\n",
    "    def sample(self, n):\n",
    "        moons = datasets.make_moons(n_samples=n, noise=0.05)[0].astype(np.float32)\n",
    "        return torch.from_numpy(moons)\n",
    "\n",
    "class DatasetMixture:\n",
    "    \"\"\" 4 mixture of gaussians \"\"\"\n",
    "    def sample(self, n):\n",
    "        assert n%4 == 0\n",
    "        r = np.r_[np.random.randn(n // 4, 2)*0.5 + np.array([0, -2]),\n",
    "                  np.random.randn(n // 4, 2)*0.5 + np.array([0, 0]),\n",
    "                  np.random.randn(n // 4, 2)*0.5 + np.array([2, 2]),\n",
    "                  np.random.randn(n // 4, 2)*0.5 + np.array([-2, 2])]\n",
    "        return torch.from_numpy(r.astype(np.float32))\n",
    "\n",
    "def eightMixture_sample(batch_size):\n",
    "    rand = np.random.choice(np.arange(len(data)), batch_size)\n",
    "    return data[rand,:]\n",
    "\n",
    "def oh_eightMixture_sample(batch_size):\n",
    "    rand = np.random.choice(np.arange(len(oh)), batch_size)\n",
    "    return oh[rand,:]\n",
    "    \n",
    "d = DatasetMoons()\n",
    "#d = DatasetMixture()\n",
    "#d = DatasetSIGGRAPH()\n",
    "\n",
    "x = d.sample(128)\n",
    "plt.figure(figsize=(4,4))\n",
    "plt.scatter(x[:,0], x[:,1], s=5, alpha=0.5)\n",
    "plt.axis('equal');"
   ]
  },
  {
   "cell_type": "code",
   "execution_count": 130,
   "metadata": {},
   "outputs": [],
   "source": [
    "def torch_oh(input, vocab_size, axis=-1):\n",
    "    input = input-input.min()\n",
    "    x = input.flatten().unsqueeze(1).long()\n",
    "    z = torch.zeros((input.shape[0]*input.shape[1], vocab_size ))\n",
    "    z.scatter_(1,x,1)\n",
    "    z = z.view(input.shape[0], input.shape[1], vocab_size)\n",
    "    return z"
   ]
  },
  {
   "cell_type": "code",
   "execution_count": 131,
   "metadata": {},
   "outputs": [
    {
     "name": "stdout",
     "output_type": "stream",
     "text": [
      "torch.Size([64, 2])\n"
     ]
    },
    {
     "data": {
      "image/png": "[encoded data removed]",
      "text/plain": [
       "<Figure size 288x288 with 1 Axes>"
      ]
     },
     "metadata": {
      "needs_background": "light"
     },
     "output_type": "display_data"
    }
   ],
   "source": [
    "import disc_utils\n",
    "ds_moons = DatasetMoons()\n",
    "moons_vocab_size = 35\n",
    "# need to make one hot. \n",
    "def int_moons_sample(batch_size):\n",
    "    x = ds_moons.sample(batch_size)*10\n",
    "    x = x.type(torch.int)\n",
    "    x = torch_oh(x, moons_vocab_size, axis=-1)\n",
    "    return x\n",
    "\n",
    "x = int_moons_sample(64).argmax(-1)\n",
    "print(x.shape)\n",
    "plt.figure(figsize=(4,4))\n",
    "plt.scatter(x[:,0], x[:,1], s=5, alpha=0.5)\n",
    "plt.axis('equal');"
   ]
  },
  {
   "cell_type": "code",
   "execution_count": 82,
   "metadata": {},
   "outputs": [
    {
     "name": "stdout",
     "output_type": "stream",
     "text": [
      "tensor(20, dtype=torch.int32) tensor(-10, dtype=torch.int32)\n"
     ]
    }
   ],
   "source": [
    "print(x.max(), x.min())"
   ]
  },
  {
   "cell_type": "code",
   "execution_count": 5,
   "metadata": {},
   "outputs": [
    {
     "data": {
      "text/plain": [
       "(400, 2)"
      ]
     },
     "execution_count": 5,
     "metadata": {},
     "output_type": "execute_result"
    }
   ],
   "source": [
    "data.shape"
   ]
  },
  {
   "cell_type": "code",
   "execution_count": 6,
   "metadata": {},
   "outputs": [],
   "source": [
    "batch_size, sequence_length, vocab_size = 32,  2, 150\n",
    "\n",
    "def one_hotter(x, depth):\n",
    "    idd = np.eye(depth)\n",
    "    #print(idd[0])\n",
    "    res = np.zeros((x.shape[0], x.shape[1], depth))\n",
    "    #print(res.shape)\n",
    "    for ind in range(len(x)): \n",
    "        for j, val in enumerate(x[ind]):\n",
    "            res[ind, j, :] = idd[int(val)]\n",
    "            \n",
    "    return res\n",
    "            \n",
    "\n",
    "oh = one_hotter(data, vocab_size)"
   ]
  },
  {
   "cell_type": "code",
   "execution_count": 178,
   "metadata": {},
   "outputs": [],
   "source": [
    "from MADE import *\n",
    "from flows import *\n",
    "from spline_flows import NSF_AR, NSF_CL\n",
    "\n",
    "base = torch.distributions.multivariate_normal.MultivariateNormal(torch.zeros(2), torch.eye(2))\n",
    "\n",
    "\n",
    "# RealNVP\n",
    "#flows = [AffineHalfFlow(dim=2, parity=i%2) for i in range(9)]\n",
    "\n",
    "# NICE\n",
    "#flows = [AffineHalfFlow(dim=2, parity=i%2, scale=False) for i in range(4)]\n",
    "#flows.append(AffineConstantFlow(dim=2, shift=False))\n",
    "\n",
    "# SlowMAF (MAF, but without any parameter sharing for each dimension's scale/shift)\n",
    "# flows = [SlowMAF(dim=2, parity=i%2) for i in range(4)]\n",
    "\n",
    "# MAF (with MADE net, so we get very fast density estimation)\n",
    "flows = [MAF(dim=2, parity=i%2) for i in range(4)]\n",
    "\n",
    "# Neural splines, coupling\n",
    "'''nfs_flow = NSF_CL if True else NSF_AR\n",
    "flows = [nfs_flow(dim=2, K=8, B=3, hidden_dim=16) for _ in range(3)]\n",
    "convs = [Invertible1x1Conv(dim=2) for _ in flows]\n",
    "norms = [ActNorm(dim=2) for _ in flows]\n",
    "flows = list(itertools.chain(*zip(norms, convs, flows)))'''\n",
    "\n",
    "\n",
    "model = NormalizingFlowModel(base, flows)"
   ]
  },
  {
   "cell_type": "code",
   "execution_count": null,
   "metadata": {},
   "outputs": [],
   "source": []
  },
  {
   "cell_type": "code",
   "execution_count": 8,
   "metadata": {},
   "outputs": [
    {
     "name": "stdout",
     "output_type": "stream",
     "text": [
      "number of params:  5488\n"
     ]
    }
   ],
   "source": [
    "print(\"number of params: \", sum(p.numel() for p in model.parameters()))"
   ]
  },
  {
   "cell_type": "code",
   "execution_count": 9,
   "metadata": {},
   "outputs": [],
   "source": [
    "base.sample((100,));"
   ]
  },
  {
   "cell_type": "code",
   "execution_count": 10,
   "metadata": {},
   "outputs": [
    {
     "data": {
      "text/plain": [
       "torch.Tensor"
      ]
     },
     "execution_count": 10,
     "metadata": {},
     "output_type": "execute_result"
    }
   ],
   "source": [
    "type(torch.Tensor(data[:batch_size,:]))"
   ]
  },
  {
   "cell_type": "markdown",
   "metadata": {},
   "source": [
    "forward is from data to latent. backward is from latent to data"
   ]
  },
  {
   "cell_type": "code",
   "execution_count": 11,
   "metadata": {},
   "outputs": [
    {
     "name": "stdout",
     "output_type": "stream",
     "text": [
      "0 31729980.0\n",
      "100 5319970.0\n",
      "200 3094805.75\n",
      "300 2209843.0\n",
      "400 1703109.375\n",
      "500 1372396.625\n",
      "600 1205545.25\n",
      "700 1101721.5\n",
      "800 970992.875\n",
      "900 872133.75\n",
      "1000 701831.6875\n",
      "1100 692740.75\n",
      "1200 590573.3125\n",
      "1300 559430.3125\n",
      "1400 567803.0\n",
      "1500 511533.375\n",
      "1600 462751.75\n",
      "1700 457484.46875\n",
      "1800 434756.0\n"
     ]
    },
    {
     "name": "stderr",
     "output_type": "stream",
     "text": [
      "ERROR:root:Internal Python error in the inspect module.\n",
      "Below is the traceback from this internal error.\n",
      "\n"
     ]
    },
    {
     "name": "stdout",
     "output_type": "stream",
     "text": [
      "Traceback (most recent call last):\n",
      "  File \"/Users/trentonbricken/anaconda3/lib/python3.7/site-packages/IPython/core/interactiveshell.py\", line 3326, in run_code\n",
      "    exec(code_obj, self.user_global_ns, self.user_ns)\n",
      "  File \"<ipython-input-11-1241853afd91>\", line 25, in <module>\n",
      "    optimizer.step()\n",
      "  File \"/Users/trentonbricken/anaconda3/lib/python3.7/site-packages/torch/optim/adam.py\", line 93, in step\n",
      "    exp_avg.mul_(beta1).add_(1 - beta1, grad)\n",
      "KeyboardInterrupt\n",
      "\n",
      "During handling of the above exception, another exception occurred:\n",
      "\n",
      "Traceback (most recent call last):\n",
      "  File \"/Users/trentonbricken/anaconda3/lib/python3.7/site-packages/IPython/core/interactiveshell.py\", line 2040, in showtraceback\n",
      "    stb = value._render_traceback_()\n",
      "AttributeError: 'KeyboardInterrupt' object has no attribute '_render_traceback_'\n",
      "\n",
      "During handling of the above exception, another exception occurred:\n",
      "\n",
      "Traceback (most recent call last):\n",
      "  File \"/Users/trentonbricken/anaconda3/lib/python3.7/site-packages/IPython/core/ultratb.py\", line 1101, in get_records\n",
      "    return _fixed_getinnerframes(etb, number_of_lines_of_context, tb_offset)\n",
      "  File \"/Users/trentonbricken/anaconda3/lib/python3.7/site-packages/IPython/core/ultratb.py\", line 319, in wrapped\n",
      "    return f(*args, **kwargs)\n",
      "  File \"/Users/trentonbricken/anaconda3/lib/python3.7/site-packages/IPython/core/ultratb.py\", line 353, in _fixed_getinnerframes\n",
      "    records = fix_frame_records_filenames(inspect.getinnerframes(etb, context))\n",
      "  File \"/Users/trentonbricken/anaconda3/lib/python3.7/inspect.py\", line 1502, in getinnerframes\n",
      "    frameinfo = (tb.tb_frame,) + getframeinfo(tb, context)\n",
      "  File \"/Users/trentonbricken/anaconda3/lib/python3.7/inspect.py\", line 1460, in getframeinfo\n",
      "    filename = getsourcefile(frame) or getfile(frame)\n",
      "  File \"/Users/trentonbricken/anaconda3/lib/python3.7/inspect.py\", line 696, in getsourcefile\n",
      "    if getattr(getmodule(object, filename), '__loader__', None) is not None:\n",
      "  File \"/Users/trentonbricken/anaconda3/lib/python3.7/inspect.py\", line 742, in getmodule\n",
      "    os.path.realpath(f)] = module.__name__\n",
      "  File \"/Users/trentonbricken/anaconda3/lib/python3.7/posixpath.py\", line 395, in realpath\n",
      "    path, ok = _joinrealpath(filename[:0], filename, {})\n",
      "  File \"/Users/trentonbricken/anaconda3/lib/python3.7/posixpath.py\", line 428, in _joinrealpath\n",
      "    newpath = join(path, name)\n",
      "  File \"/Users/trentonbricken/anaconda3/lib/python3.7/posixpath.py\", line 80, in join\n",
      "    a = os.fspath(a)\n",
      "KeyboardInterrupt\n"
     ]
    },
    {
     "ename": "KeyboardInterrupt",
     "evalue": "",
     "output_type": "error",
     "traceback": [
      "\u001b[0;31m---------------------------------------------------------------------------\u001b[0m"
     ]
    }
   ],
   "source": [
    "epochs = 15000\n",
    "batch_size = 248\n",
    "learning_rate=0.00001\n",
    "optimizer = torch.optim.Adam(model.parameters(), lr=learning_rate)\n",
    "losses = []\n",
    "\n",
    "#x = torch.Tensor(data[:batch_size,:])\n",
    "\n",
    "model.train()\n",
    "for e in range(epochs): \n",
    "    \n",
    "    #x = d.sample(batch_size)\n",
    "    x = torch.Tensor(eightMixture_sample(batch_size))\n",
    "    \n",
    "    optimizer.zero_grad()\n",
    "    \n",
    "    zs, prior_logprob, log_det = model.forward( x )\n",
    "    # get the back output after every transformation currently!\n",
    "    #print(back_probs)\n",
    "    logprob = prior_logprob + log_det\n",
    "    loss = -torch.sum(logprob)\n",
    "    #print(loss)\n",
    "    \n",
    "    loss.backward()\n",
    "    optimizer.step()\n",
    "    \n",
    "    losses.append(loss.detach())\n",
    "    \n",
    "    if e%100==0:\n",
    "        print(e, loss.item())\n",
    "    \n",
    "    \n",
    "plt.plot(losses)\n",
    "    "
   ]
  },
  {
   "cell_type": "code",
   "execution_count": 54,
   "metadata": {},
   "outputs": [
    {
     "data": {
      "text/plain": [
       "Text(0.5, 1.0, 'z -> x')"
      ]
     },
     "execution_count": 54,
     "metadata": {},
     "output_type": "execute_result"
    },
    {
     "data": {
      "image/png": "[encoded data removed]",
      "text/plain": [
       "<Figure size 720x360 with 2 Axes>"
      ]
     },
     "metadata": {
      "needs_background": "light"
     },
     "output_type": "display_data"
    }
   ],
   "source": [
    "model.eval()\n",
    "\n",
    "#x = d.sample(128)\n",
    "x = torch.Tensor(eightMixture_sample(batch_size))\n",
    "zs, prior_logprob, log_det = model(x)\n",
    "z = zs[-1]\n",
    "\n",
    "x = x.detach().numpy()\n",
    "z = z.detach().numpy()\n",
    "p = model.prior.sample([128, 2]).squeeze()\n",
    "plt.figure(figsize=(10,5))\n",
    "plt.subplot(121)\n",
    "plt.scatter(p[:,0], p[:,1], c='g', s=5)\n",
    "plt.scatter(z[:,0], z[:,1], c='r', s=5)\n",
    "plt.scatter(x[:,0], x[:,1], c='b', s=5)\n",
    "plt.legend(['prior', 'x->z', 'data'])\n",
    "plt.axis('scaled')\n",
    "plt.title('x -> z')\n",
    "\n",
    "zs = model.sample(128*8)\n",
    "z = zs[-1]\n",
    "z = z.detach().numpy()\n",
    "plt.subplot(122)\n",
    "plt.scatter(x[:,0], x[:,1], c='b', s=5, alpha=0.5)\n",
    "plt.scatter(z[:,0], z[:,1], c='r', s=5, alpha=0.5)\n",
    "plt.legend(['data', 'z->x'])\n",
    "plt.axis('scaled')\n",
    "plt.title('z -> x')"
   ]
  },
  {
   "cell_type": "code",
   "execution_count": 62,
   "metadata": {},
   "outputs": [],
   "source": [
    "def plot2D(x):\n",
    "    plt.scatter(x[:,0], x[:,1])\n",
    "    plt.show()"
   ]
  },
  {
   "cell_type": "code",
   "execution_count": 11,
   "metadata": {},
   "outputs": [
    {
     "ename": "NameError",
     "evalue": "name 'eightMixture_sample' is not defined",
     "output_type": "error",
     "traceback": [
      "\u001b[0;31m---------------------------------------------------------------------------\u001b[0m",
      "\u001b[0;31mNameError\u001b[0m                                 Traceback (most recent call last)",
      "\u001b[0;32m<ipython-input-11-7880efb13830>\u001b[0m in \u001b[0;36m<module>\u001b[0;34m\u001b[0m\n\u001b[0;32m----> 1\u001b[0;31m \u001b[0mx\u001b[0m \u001b[0;34m=\u001b[0m \u001b[0meightMixture_sample\u001b[0m\u001b[0;34m(\u001b[0m\u001b[0mbatch_size\u001b[0m\u001b[0;34m)\u001b[0m\u001b[0;34m\u001b[0m\u001b[0;34m\u001b[0m\u001b[0m\n\u001b[0m\u001b[1;32m      2\u001b[0m \u001b[0mplot2D\u001b[0m\u001b[0;34m(\u001b[0m\u001b[0mx\u001b[0m\u001b[0;34m)\u001b[0m\u001b[0;34m\u001b[0m\u001b[0;34m\u001b[0m\u001b[0m\n",
      "\u001b[0;31mNameError\u001b[0m: name 'eightMixture_sample' is not defined"
     ]
    }
   ],
   "source": [
    "x = eightMixture_sample(batch_size)\n",
    "plot2D(x)"
   ]
  },
  {
   "cell_type": "code",
   "execution_count": 12,
   "metadata": {},
   "outputs": [
    {
     "ename": "NameError",
     "evalue": "name 'plot2D' is not defined",
     "output_type": "error",
     "traceback": [
      "\u001b[0;31m---------------------------------------------------------------------------\u001b[0m",
      "\u001b[0;31mNameError\u001b[0m                                 Traceback (most recent call last)",
      "\u001b[0;32m<ipython-input-12-cb79a627192a>\u001b[0m in \u001b[0;36m<module>\u001b[0;34m\u001b[0m\n\u001b[1;32m      3\u001b[0m \u001b[0msamps\u001b[0m \u001b[0;34m=\u001b[0m \u001b[0mmodel\u001b[0m\u001b[0;34m.\u001b[0m\u001b[0msample\u001b[0m\u001b[0;34m(\u001b[0m\u001b[0mbatch_size\u001b[0m\u001b[0;34m)\u001b[0m\u001b[0;34m[\u001b[0m\u001b[0;34m-\u001b[0m\u001b[0;36m1\u001b[0m\u001b[0;34m]\u001b[0m\u001b[0;34m\u001b[0m\u001b[0;34m\u001b[0m\u001b[0m\n\u001b[1;32m      4\u001b[0m \u001b[0msamps\u001b[0m \u001b[0;34m=\u001b[0m \u001b[0msamps\u001b[0m\u001b[0;34m.\u001b[0m\u001b[0mdetach\u001b[0m\u001b[0;34m(\u001b[0m\u001b[0;34m)\u001b[0m\u001b[0;34m.\u001b[0m\u001b[0mnumpy\u001b[0m\u001b[0;34m(\u001b[0m\u001b[0;34m)\u001b[0m\u001b[0;34m\u001b[0m\u001b[0;34m\u001b[0m\u001b[0m\n\u001b[0;32m----> 5\u001b[0;31m \u001b[0mplot2D\u001b[0m\u001b[0;34m(\u001b[0m\u001b[0msamps\u001b[0m\u001b[0;34m)\u001b[0m\u001b[0;34m\u001b[0m\u001b[0;34m\u001b[0m\u001b[0m\n\u001b[0m",
      "\u001b[0;31mNameError\u001b[0m: name 'plot2D' is not defined"
     ]
    }
   ],
   "source": [
    "model.eval()\n",
    "\n",
    "samps = model.sample(batch_size)[-1]\n",
    "samps = samps.detach().numpy()\n",
    "plot2D(samps)"
   ]
  },
  {
   "cell_type": "code",
   "execution_count": 13,
   "metadata": {},
   "outputs": [],
   "source": [
    "samps;"
   ]
  },
  {
   "cell_type": "markdown",
   "metadata": {},
   "source": [
    "# Discrete Flows"
   ]
  },
  {
   "cell_type": "code",
   "execution_count": 221,
   "metadata": {},
   "outputs": [],
   "source": [
    "from TorchDiscCode import *"
   ]
  },
  {
   "cell_type": "code",
   "execution_count": 248,
   "metadata": {},
   "outputs": [],
   "source": [
    "nh = 32\n",
    "batch_size= 124\n",
    "sequence_length = 2\n",
    "vocab_size = 35\n",
    "temperature = 0.1\n",
    "flows = []\n",
    "\n",
    "for i in range(1):\n",
    "    # if want to also learn the scale: \n",
    "    # MADE(vocab_size, [nh, nh, nh], 2*vocab_size, num_masks=1, natural_ordering=False)\n",
    "    layer = MADE(vocab_size, [nh, nh, nh], vocab_size, num_masks=1, natural_ordering=False)\n",
    "    disc_layer = DiscreteAutoregressiveFlow( layer, temperature, vocab_size )\n",
    "    flows.append(disc_layer)\n",
    "    \n",
    "model = DiscreteAutoFlowModel(flows)\n",
    "    "
   ]
  },
  {
   "cell_type": "code",
   "execution_count": 249,
   "metadata": {},
   "outputs": [
    {
     "data": {
      "text/plain": [
       "(64, 2, 150)"
      ]
     },
     "execution_count": 249,
     "metadata": {},
     "output_type": "execute_result"
    }
   ],
   "source": [
    "oh[:64,:,:].shape"
   ]
  },
  {
   "cell_type": "code",
   "execution_count": 250,
   "metadata": {},
   "outputs": [
    {
     "data": {
      "text/plain": [
       "torch.Size([124, 2, 35])"
      ]
     },
     "execution_count": 250,
     "metadata": {},
     "output_type": "execute_result"
    }
   ],
   "source": [
    "rand_source = torch.distributions.Normal(0,1).sample([batch_size, sequence_length, vocab_size])\n",
    "\n",
    "rand_source.shape"
   ]
  },
  {
   "cell_type": "code",
   "execution_count": 251,
   "metadata": {},
   "outputs": [],
   "source": [
    "base = torch.distributions.OneHotCategorical(logits = rand_source )"
   ]
  },
  {
   "cell_type": "code",
   "execution_count": 252,
   "metadata": {},
   "outputs": [
    {
     "data": {
      "text/plain": [
       "(array([17., 12.,  3., 14., 17., 10., 12., 13., 12., 14.]),\n",
       " array([ 0. ,  3.3,  6.6,  9.9, 13.2, 16.5, 19.8, 23.1, 26.4, 29.7, 33. ]),\n",
       " <a list of 10 Patch objects>)"
      ]
     },
     "execution_count": 252,
     "metadata": {},
     "output_type": "execute_result"
    },
    {
     "data": {
      "image/png": "[encoded data removed]",
      "text/plain": [
       "<Figure size 432x288 with 1 Axes>"
      ]
     },
     "metadata": {
      "needs_background": "light"
     },
     "output_type": "display_data"
    }
   ],
   "source": [
    "samps = base.sample().argmax(-1)\n",
    "plt.hist(samps[:,0])\n",
    "plt.hist(samps[:,1], alpha=0.5)"
   ]
  },
  {
   "cell_type": "code",
   "execution_count": 253,
   "metadata": {},
   "outputs": [
    {
     "data": {
      "image/png": "[encoded data removed]",
      "text/plain": [
       "<Figure size 432x288 with 1 Axes>"
      ]
     },
     "metadata": {
      "needs_background": "light"
     },
     "output_type": "display_data"
    }
   ],
   "source": [
    "def plot2D(x):\n",
    "    plt.scatter(x[:,0], x[:,1])\n",
    "    plt.show()\n",
    "    \n",
    "plot2D(samps)"
   ]
  },
  {
   "cell_type": "code",
   "execution_count": 254,
   "metadata": {},
   "outputs": [
    {
     "data": {
      "image/png": "[encoded data removed]",
      "text/plain": [
       "<Figure size 432x288 with 1 Axes>"
      ]
     },
     "metadata": {
      "needs_background": "light"
     },
     "output_type": "display_data"
    }
   ],
   "source": [
    "x = int_moons_sample(batch_size)\n",
    "plot2D(x.argmax(-1))\n"
   ]
  },
  {
   "cell_type": "code",
   "execution_count": 256,
   "metadata": {},
   "outputs": [
    {
     "name": "stdout",
     "output_type": "stream",
     "text": [
      "MADE(\n",
      "  (net): Sequential(\n",
      "    (0): MaskedLinear(in_features=35, out_features=32, bias=True)\n",
      "    (1): ReLU()\n",
      "    (2): MaskedLinear(in_features=32, out_features=32, bias=True)\n",
      "    (3): ReLU()\n",
      "    (4): MaskedLinear(in_features=32, out_features=32, bias=True)\n",
      "    (5): ReLU()\n",
      "    (6): MaskedLinear(in_features=32, out_features=35, bias=True)\n",
      "  )\n",
      ")\n",
      "torch.Size([35, 32])\n"
     ]
    },
    {
     "data": {
      "text/plain": [
       "(array([4., 0., 6., 5., 1., 4., 5., 1., 3., 3.]),\n",
       " array([-0.17613155, -0.14174114, -0.10735074, -0.07296035, -0.03856995,\n",
       "        -0.00417954,  0.03021086,  0.06460126,  0.09899165,  0.13338205,\n",
       "         0.16777246], dtype=float32),\n",
       " <a list of 10 Patch objects>)"
      ]
     },
     "execution_count": 256,
     "metadata": {},
     "output_type": "execute_result"
    },
    {
     "data": {
      "image/png": "[encoded data removed]",
      "text/plain": [
       "<Figure size 432x288 with 1 Axes>"
      ]
     },
     "metadata": {
      "needs_background": "light"
     },
     "output_type": "display_data"
    }
   ],
   "source": [
    "flow_num = 0\n",
    "sub_part = 6\n",
    "print(model.flows[flow_num]._modules['layer'])\n",
    "w = model.flows[flow_num]._modules['layer'].net[sub_part]._parameters['weight'] \n",
    "print(w.shape)\n",
    "plt.hist(w.detach().numpy()[0,:])"
   ]
  },
  {
   "cell_type": "code",
   "execution_count": null,
   "metadata": {},
   "outputs": [
    {
     "name": "stdout",
     "output_type": "stream",
     "text": [
      "0 976.6187133789062\n"
     ]
    },
    {
     "data": {
      "image/png": "[encoded data removed]",
      "text/plain": [
       "<Figure size 432x288 with 1 Axes>"
      ]
     },
     "metadata": {
      "needs_background": "light"
     },
     "output_type": "display_data"
    },
    {
     "name": "stdout",
     "output_type": "stream",
     "text": [
      "250 962.4197998046875\n"
     ]
    },
    {
     "data": {
      "image/png": "[encoded data removed]",
      "text/plain": [
       "<Figure size 432x288 with 1 Axes>"
      ]
     },
     "metadata": {
      "needs_background": "light"
     },
     "output_type": "display_data"
    }
   ],
   "source": [
    "epochs = 50000\n",
    "learning_rate =0.01\n",
    "optimizer = torch.optim.Adam(model.parameters(), lr=learning_rate)\n",
    "losses = []\n",
    "weights = []\n",
    "#x = torch.Tensor(data[:batch_size,:])\n",
    "base_log_probs = torch.log(base.probs)\n",
    "model.train()\n",
    "for e in range(epochs): \n",
    "    \n",
    "    #x = d.sample(batch_size)\n",
    "    #x = torch.tensor(oh_eightMixture_sample(batch_size)).float()\n",
    "    x = int_moons_sample(batch_size).float()\n",
    "    \n",
    "    optimizer.zero_grad()\n",
    "    zs = model.reverse(x)\n",
    "    #zs = model.reverse( x ) # there is no log det jacobian here. \n",
    "    #print(zs)\n",
    "    # get the back output after every transformation currently!\n",
    "    #print(back_probs)\n",
    "    logprob = zs*base_log_probs\n",
    "    #logprob = base.log_prob(zs)\n",
    "    #print(logprob)\n",
    "    loss = -torch.sum(logprob)\n",
    "    #print(loss)\n",
    "    \n",
    "    loss.backward()\n",
    "    optimizer.step()\n",
    "    \n",
    "    losses.append(loss.detach())\n",
    "    \n",
    "    if e%250==0:\n",
    "        print(e, loss.item())\n",
    "        \n",
    "        \n",
    "        #plotting the weights of a single layer: \n",
    "        \n",
    "        flow_num = 0\n",
    "        sub_part = 6\n",
    "        w = model.flows[flow_num]._modules['layer'].net[sub_part]._parameters['weight'].detach().numpy() \n",
    "        #print(w.shape)\n",
    "        weights.append(w)\n",
    "        plt.hist(w[0,:])\n",
    "        plt.show()\n",
    "    \n",
    "plt.plot(losses)\n",
    "    "
   ]
  },
  {
   "cell_type": "code",
   "execution_count": 246,
   "metadata": {},
   "outputs": [],
   "source": [
    "ma_loss = [losses[0]]\n",
    "ind = 1\n",
    "for l in losses[1:]:\n",
    "    ma_loss.append( ma_loss[ind-1] +0.01*(l-ma_loss[ind-1]) )\n",
    "    ind+=1"
   ]
  },
  {
   "cell_type": "code",
   "execution_count": 247,
   "metadata": {},
   "outputs": [
    {
     "data": {
      "text/plain": [
       "[<matplotlib.lines.Line2D at 0x1a2cc67090>]"
      ]
     },
     "execution_count": 247,
     "metadata": {},
     "output_type": "execute_result"
    },
    {
     "data": {
      "image/png": "[encoded data removed]",
      "text/plain": [
       "<Figure size 432x288 with 1 Axes>"
      ]
     },
     "metadata": {
      "needs_background": "light"
     },
     "output_type": "display_data"
    }
   ],
   "source": [
    "plt.plot(ma_loss)"
   ]
  },
  {
   "cell_type": "code",
   "execution_count": 177,
   "metadata": {},
   "outputs": [
    {
     "name": "stdout",
     "output_type": "stream",
     "text": [
      "(124, 2)\n"
     ]
    },
    {
     "data": {
      "text/plain": [
       "Text(0.5, 1.0, 'z -> x')"
      ]
     },
     "execution_count": 177,
     "metadata": {},
     "output_type": "execute_result"
    },
    {
     "data": {
      "image/png": "[encoded data removed]",
      "text/plain": [
       "<Figure size 720x360 with 2 Axes>"
      ]
     },
     "metadata": {
      "needs_background": "light"
     },
     "output_type": "display_data"
    }
   ],
   "source": [
    "model.eval()\n",
    "\n",
    "#x = d.sample(128)\n",
    "x = int_moons_sample(batch_size).float()\n",
    "zs = model.reverse(x)\n",
    "z = zs\n",
    "\n",
    "x = x.detach().numpy().argmax(-1)\n",
    "z = z.detach().numpy().argmax(-1)\n",
    "print(z.shape)\n",
    "p = base.sample().argmax(-1)\n",
    "plt.figure(figsize=(10,5))\n",
    "plt.subplot(121)\n",
    "plt.scatter(p[:,0], p[:,1], c='g', s=5)\n",
    "plt.scatter(z[:,0], z[:,1], c='r', s=5)\n",
    "plt.scatter(x[:,0], x[:,1], c='b', s=5)\n",
    "plt.legend(['prior', 'x->z', 'data'])\n",
    "plt.axis('scaled')\n",
    "plt.title('x -> z')\n",
    "\n",
    "zs = model.forward(base.sample())\n",
    "z = zs\n",
    "z = z.detach().numpy().argmax(-1)\n",
    "plt.subplot(122)\n",
    "plt.scatter(x[:,0], x[:,1], c='b', s=5, alpha=0.5)\n",
    "plt.scatter(z[:,0], z[:,1], c='r', s=5, alpha=0.5)\n",
    "plt.legend(['data', 'z->x'])\n",
    "plt.axis('scaled')\n",
    "plt.title('z -> x')"
   ]
  },
  {
   "cell_type": "code",
   "execution_count": 141,
   "metadata": {},
   "outputs": [
    {
     "data": {
      "image/png": "[encoded data removed]",
      "text/plain": [
       "<Figure size 432x288 with 1 Axes>"
      ]
     },
     "metadata": {
      "needs_background": "light"
     },
     "output_type": "display_data"
    }
   ],
   "source": [
    "x = int_moons_sample(batch_size)\n",
    "plot2D(x.argmax(-1))"
   ]
  },
  {
   "cell_type": "code",
   "execution_count": null,
   "metadata": {},
   "outputs": [],
   "source": [
    "a = model.forward(base.sample()).argmax(-1)\n",
    "plot2D(a)"
   ]
  },
  {
   "cell_type": "code",
   "execution_count": 142,
   "metadata": {},
   "outputs": [
    {
     "data": {
      "image/png": "[encoded data removed]",
      "text/plain": [
       "<Figure size 432x288 with 1 Axes>"
      ]
     },
     "metadata": {
      "needs_background": "light"
     },
     "output_type": "display_data"
    }
   ],
   "source": [
    "a = model.forward(base.sample()).argmax(-1)\n",
    "plot2D(a)"
   ]
  },
  {
   "cell_type": "code",
   "execution_count": null,
   "metadata": {},
   "outputs": [],
   "source": []
  },
  {
   "cell_type": "code",
   "execution_count": null,
   "metadata": {},
   "outputs": [],
   "source": []
  },
  {
   "cell_type": "code",
   "execution_count": null,
   "metadata": {},
   "outputs": [],
   "source": []
  },
  {
   "cell_type": "markdown",
   "metadata": {},
   "source": [
    "# Scraps in making a one hot adder\n"
   ]
  },
  {
   "cell_type": "code",
   "execution_count": 364,
   "metadata": {},
   "outputs": [
    {
     "name": "stdout",
     "output_type": "stream",
     "text": [
      "torch.Size([64, 2, 150])\n"
     ]
    },
    {
     "data": {
      "text/plain": [
       "torch.Size([64, 2, 151])"
      ]
     },
     "execution_count": 364,
     "metadata": {},
     "output_type": "execute_result"
    }
   ],
   "source": [
    "inputs = torch.tensor(oh[:64,:,:]).float()\n",
    "loc = layer(inputs)\n",
    "loc = disc_utils.one_hot_argmax(loc, 0.1).type(inputs.dtype)\n",
    "print(loc.shape)\n",
    "disc_utils.one_hot_add(loc, inputs).shape"
   ]
  },
  {
   "cell_type": "code",
   "execution_count": 70,
   "metadata": {},
   "outputs": [],
   "source": [
    "t_res_sub = disc_utils.one_hot_minus( inputs, loc )"
   ]
  },
  {
   "cell_type": "code",
   "execution_count": 34,
   "metadata": {},
   "outputs": [
    {
     "data": {
      "text/plain": [
       "torch.Size([64, 2, 76, 2])"
      ]
     },
     "execution_count": 34,
     "metadata": {},
     "output_type": "execute_result"
    }
   ],
   "source": [
    "torch.rfft(loc,3).shape"
   ]
  },
  {
   "cell_type": "code",
   "execution_count": 35,
   "metadata": {},
   "outputs": [
    {
     "data": {
      "text/plain": [
       "torch.Size([64, 2, 76, 2])"
      ]
     },
     "execution_count": 35,
     "metadata": {},
     "output_type": "execute_result"
    }
   ],
   "source": [
    "torch.rfft(inputs,3).shape"
   ]
  },
  {
   "cell_type": "code",
   "execution_count": 36,
   "metadata": {},
   "outputs": [
    {
     "data": {
      "text/plain": [
       "tensor([[[0.8212, 0.8514, 0.7500,  ..., 1.6410, 1.3845, 0.9818],\n",
       "         [0.8212, 0.8514, 0.7500,  ..., 1.6410, 1.3845, 0.9818]],\n",
       "\n",
       "        [[0.8212, 0.8514, 0.7500,  ..., 1.6410, 1.3845, 0.9818],\n",
       "         [0.8212, 0.8514, 0.7500,  ..., 1.6410, 1.3845, 0.9818]],\n",
       "\n",
       "        [[0.8212, 0.8514, 0.7500,  ..., 1.6410, 1.3845, 0.9818],\n",
       "         [0.8212, 0.8514, 0.7500,  ..., 1.6410, 1.3845, 0.9818]],\n",
       "\n",
       "        ...,\n",
       "\n",
       "        [[0.8212, 0.8514, 0.7500,  ..., 1.6410, 1.3845, 0.9818],\n",
       "         [0.8212, 0.8514, 0.7500,  ..., 1.6410, 1.3845, 0.9818]],\n",
       "\n",
       "        [[0.8212, 0.8514, 0.7500,  ..., 1.6410, 1.3845, 0.9818],\n",
       "         [0.8212, 0.8514, 0.7500,  ..., 1.6410, 1.3845, 0.9818]],\n",
       "\n",
       "        [[0.8212, 0.8514, 0.7500,  ..., 1.6410, 1.3845, 0.9818],\n",
       "         [0.8212, 0.8514, 0.7500,  ..., 1.6410, 1.3845, 0.9818]]],\n",
       "       grad_fn=<SqueezeBackward1>)"
      ]
     },
     "execution_count": 36,
     "metadata": {},
     "output_type": "execute_result"
    }
   ],
   "source": [
    "torch.irfft(torch.rfft(loc,3) * torch.rfft(inputs,3),3)"
   ]
  },
  {
   "cell_type": "code",
   "execution_count": 37,
   "metadata": {},
   "outputs": [
    {
     "data": {
      "text/plain": [
       "torch.Size([64, 2, 151])"
      ]
     },
     "execution_count": 37,
     "metadata": {},
     "output_type": "execute_result"
    }
   ],
   "source": [
    "torch.irfft(torch.rfft(loc,3) * torch.rfft(inputs,3),3).shape"
   ]
  },
  {
   "cell_type": "code",
   "execution_count": 247,
   "metadata": {},
   "outputs": [],
   "source": [
    "inp = torch.tensor([1,2,3,4,5]).float()-1\n",
    "inp_oh = torch.zeros((5,5))\n",
    "inp_oh = inp_oh.scatter_(1, inp.unsqueeze(1).long(), 1)"
   ]
  },
  {
   "cell_type": "code",
   "execution_count": 248,
   "metadata": {},
   "outputs": [
    {
     "data": {
      "text/plain": [
       "torch.Size([5, 5])"
      ]
     },
     "execution_count": 248,
     "metadata": {},
     "output_type": "execute_result"
    }
   ],
   "source": [
    "inp_oh.shape"
   ]
  },
  {
   "cell_type": "code",
   "execution_count": 298,
   "metadata": {},
   "outputs": [
    {
     "data": {
      "text/plain": [
       "tensor([[[0., 0., 1., 0., 0.]],\n",
       "\n",
       "        [[0., 1., 0., 0., 0.]],\n",
       "\n",
       "        [[0., 0., 0., 1., 0.]],\n",
       "\n",
       "        [[0., 0., 1., 0., 0.]],\n",
       "\n",
       "        [[1., 0., 0., 0., 0.]]])"
      ]
     },
     "execution_count": 298,
     "metadata": {},
     "output_type": "execute_result"
    }
   ],
   "source": [
    "shifter = disc_utils.one_hot_argmax(torch.rand((5,1,5)), 0.1)\n",
    "#torch.softmax(torch.rand((5)), -1)\n",
    "shifter"
   ]
  },
  {
   "cell_type": "code",
   "execution_count": 299,
   "metadata": {},
   "outputs": [
    {
     "data": {
      "text/plain": [
       "tensor(8.)"
      ]
     },
     "execution_count": 299,
     "metadata": {},
     "output_type": "execute_result"
    }
   ],
   "source": [
    "torch.sum(torch.arange(5)*shifter)"
   ]
  },
  {
   "cell_type": "code",
   "execution_count": 300,
   "metadata": {},
   "outputs": [
    {
     "data": {
      "text/plain": [
       "torch.Size([5, 1, 5])"
      ]
     },
     "execution_count": 300,
     "metadata": {},
     "output_type": "execute_result"
    }
   ],
   "source": [
    "shifter.shape"
   ]
  },
  {
   "cell_type": "code",
   "execution_count": 348,
   "metadata": {},
   "outputs": [
    {
     "data": {
      "text/plain": [
       "tensor([0., 0., 1., 0., 0.])"
      ]
     },
     "execution_count": 348,
     "metadata": {},
     "output_type": "execute_result"
    }
   ],
   "source": [
    "shifter[0,0,:]"
   ]
  },
  {
   "cell_type": "code",
   "execution_count": 349,
   "metadata": {},
   "outputs": [
    {
     "data": {
      "text/plain": [
       "tensor([0., 1., 0., 0., 0.])"
      ]
     },
     "execution_count": 349,
     "metadata": {},
     "output_type": "execute_result"
    }
   ],
   "source": [
    "inp_oh[1,:] #0-3=-3%5 = 2\n",
    "# 1-3=-2%5=3\n",
    "# 1+3 = 4 % 5 = 1\n",
    "\n",
    "\n",
    "# 1 - 2 = -1 %5  = 4\n",
    "# 1+2 = 3%5 = 3"
   ]
  },
  {
   "cell_type": "code",
   "execution_count": 350,
   "metadata": {},
   "outputs": [
    {
     "data": {
      "text/plain": [
       "tensor([0., 0., 0., 0., 1.])"
      ]
     },
     "execution_count": 350,
     "metadata": {},
     "output_type": "execute_result"
    }
   ],
   "source": [
    "torch.einsum('...v,...uv->...u', inp_oh[1,:].float(), shift_mat[0,0,:,:].float())"
   ]
  },
  {
   "cell_type": "code",
   "execution_count": 351,
   "metadata": {},
   "outputs": [
    {
     "data": {
      "text/plain": [
       "torch.Size([5, 1, 5, 5])"
      ]
     },
     "execution_count": 351,
     "metadata": {},
     "output_type": "execute_result"
    }
   ],
   "source": [
    "shift_mat = torch.stack( \n",
    "    [torch.roll(shifter, i, dims=-1) for i in (range(5))],\n",
    "    dim=-2).float()\n",
    "shift_mat.shape\n"
   ]
  },
  {
   "cell_type": "code",
   "execution_count": 352,
   "metadata": {},
   "outputs": [
    {
     "data": {
      "text/plain": [
       "tensor([[0., 0., 1., 0., 0.],\n",
       "        [0., 0., 0., 1., 0.],\n",
       "        [0., 0., 0., 0., 1.],\n",
       "        [1., 0., 0., 0., 0.],\n",
       "        [0., 1., 0., 0., 0.]])"
      ]
     },
     "execution_count": 352,
     "metadata": {},
     "output_type": "execute_result"
    }
   ],
   "source": [
    "shift_mat[0,0,:,:]"
   ]
  },
  {
   "cell_type": "code",
   "execution_count": 342,
   "metadata": {},
   "outputs": [
    {
     "data": {
      "text/plain": [
       "tensor([[0., 0., 1., 0., 0.],\n",
       "        [0., 0., 0., 1., 0.],\n",
       "        [0., 0., 0., 0., 1.],\n",
       "        [1., 0., 0., 0., 0.],\n",
       "        [0., 1., 0., 0., 0.]])"
      ]
     },
     "execution_count": 342,
     "metadata": {},
     "output_type": "execute_result"
    }
   ],
   "source": [
    "shift_mat[0,0,:,:]"
   ]
  },
  {
   "cell_type": "code",
   "execution_count": 343,
   "metadata": {},
   "outputs": [
    {
     "data": {
      "text/plain": [
       "torch.Size([5, 5])"
      ]
     },
     "execution_count": 343,
     "metadata": {},
     "output_type": "execute_result"
    }
   ],
   "source": [
    "inp_oh.shape"
   ]
  },
  {
   "cell_type": "code",
   "execution_count": 344,
   "metadata": {},
   "outputs": [
    {
     "data": {
      "text/plain": [
       "torch.Size([5, 1, 5, 5])"
      ]
     },
     "execution_count": 344,
     "metadata": {},
     "output_type": "execute_result"
    }
   ],
   "source": [
    "shift_mat.shape"
   ]
  },
  {
   "cell_type": "code",
   "execution_count": 354,
   "metadata": {},
   "outputs": [
    {
     "data": {
      "text/plain": [
       "tensor([[0., 0., 1., 0., 0.],\n",
       "        [0., 1., 0., 0., 0.],\n",
       "        [0., 0., 0., 1., 0.],\n",
       "        [0., 0., 1., 0., 0.],\n",
       "        [1., 0., 0., 0., 0.]])"
      ]
     },
     "execution_count": 354,
     "metadata": {},
     "output_type": "execute_result"
    }
   ],
   "source": [
    "shifter[:,0,:]"
   ]
  },
  {
   "cell_type": "code",
   "execution_count": 353,
   "metadata": {},
   "outputs": [
    {
     "data": {
      "text/plain": [
       "tensor([[1., 0., 0., 0., 0.],\n",
       "        [0., 1., 0., 0., 0.],\n",
       "        [0., 0., 1., 0., 0.],\n",
       "        [0., 0., 0., 1., 0.],\n",
       "        [0., 0., 0., 0., 1.]])"
      ]
     },
     "execution_count": 353,
     "metadata": {},
     "output_type": "execute_result"
    }
   ],
   "source": [
    "inp_oh"
   ]
  },
  {
   "cell_type": "code",
   "execution_count": 362,
   "metadata": {},
   "outputs": [
    {
     "data": {
      "text/plain": [
       "tensor([[0., 0., 1., 0., 0.],\n",
       "        [0., 0., 0., 1., 0.],\n",
       "        [0., 0., 0., 0., 1.],\n",
       "        [1., 0., 0., 0., 0.],\n",
       "        [0., 1., 0., 0., 0.]])"
      ]
     },
     "execution_count": 362,
     "metadata": {},
     "output_type": "execute_result"
    }
   ],
   "source": [
    "shift_mat[0,0,:,:]"
   ]
  },
  {
   "cell_type": "code",
   "execution_count": 359,
   "metadata": {},
   "outputs": [
    {
     "data": {
      "text/plain": [
       "tensor([[0., 0., 0., 1., 0.],\n",
       "        [0., 0., 0., 0., 1.],\n",
       "        [1., 0., 0., 0., 0.],\n",
       "        [0., 1., 0., 0., 0.],\n",
       "        [0., 0., 1., 0., 0.]])"
      ]
     },
     "execution_count": 359,
     "metadata": {},
     "output_type": "execute_result"
    }
   ],
   "source": [
    "shift_mat[0,0,:,:].T"
   ]
  },
  {
   "cell_type": "code",
   "execution_count": 360,
   "metadata": {},
   "outputs": [],
   "source": [
    "shift_mat_T = torch.transpose(shift_mat,-1,-2)"
   ]
  },
  {
   "cell_type": "code",
   "execution_count": 361,
   "metadata": {},
   "outputs": [
    {
     "data": {
      "text/plain": [
       "tensor([[[0., 0., 1., 0., 0.]],\n",
       "\n",
       "        [[0., 0., 1., 0., 0.]],\n",
       "\n",
       "        [[1., 0., 0., 0., 0.]],\n",
       "\n",
       "        [[1., 0., 0., 0., 0.]],\n",
       "\n",
       "        [[0., 0., 0., 0., 1.]]])"
      ]
     },
     "execution_count": 361,
     "metadata": {},
     "output_type": "execute_result"
    }
   ],
   "source": [
    "torch.einsum('...v,...uv->...u', inp_oh.unsqueeze(1).float(), shift_mat_T.float())"
   ]
  },
  {
   "cell_type": "code",
   "execution_count": 86,
   "metadata": {},
   "outputs": [
    {
     "data": {
      "text/plain": [
       "TensorShape([64, 2, 150])"
      ]
     },
     "execution_count": 86,
     "metadata": {},
     "output_type": "execute_result"
    }
   ],
   "source": [
    "inputs.shape"
   ]
  },
  {
   "cell_type": "code",
   "execution_count": 87,
   "metadata": {},
   "outputs": [
    {
     "data": {
      "text/plain": [
       "TensorShape([64, 2, 150])"
      ]
     },
     "execution_count": 87,
     "metadata": {},
     "output_type": "execute_result"
    }
   ],
   "source": [
    "loc.shape"
   ]
  },
  {
   "cell_type": "code",
   "execution_count": 273,
   "metadata": {},
   "outputs": [],
   "source": [
    "import tensorflow as tf\n",
    "import edward2 as ed2\n",
    "loc = tf.constant(loc.detach().numpy())\n",
    "inputs = tf.constant(inputs.detach().numpy())"
   ]
  },
  {
   "cell_type": "code",
   "execution_count": 371,
   "metadata": {},
   "outputs": [],
   "source": [
    "import disc_utils"
   ]
  },
  {
   "cell_type": "code",
   "execution_count": 372,
   "metadata": {},
   "outputs": [
    {
     "name": "stderr",
     "output_type": "stream",
     "text": [
      "/Users/trentonbricken/protein-gen/notebooks/disc_utils.py:141: UserWarning: To copy construct from a tensor, it is recommended to use sourceTensor.clone().detach() or sourceTensor.clone().detach().requires_grad_(True), rather than torch.tensor(sourceTensor).\n",
      "  scale = scale.type( inputs.dtype)\n"
     ]
    }
   ],
   "source": [
    "tor_add = disc_utils.one_hot_add_simple(inputs, loc)"
   ]
  },
  {
   "cell_type": "code",
   "execution_count": 376,
   "metadata": {},
   "outputs": [
    {
     "data": {
      "text/plain": [
       "torch.Size([64, 2, 150])"
      ]
     },
     "execution_count": 376,
     "metadata": {},
     "output_type": "execute_result"
    }
   ],
   "source": [
    "tor_add.shape"
   ]
  },
  {
   "cell_type": "code",
   "execution_count": 375,
   "metadata": {},
   "outputs": [
    {
     "name": "stdout",
     "output_type": "stream",
     "text": [
      "tensor(101) tensor(20) tensor(81)\n"
     ]
    }
   ],
   "source": [
    "j=4\n",
    "print( tor_add[j,0,:].argmax(), loc[j,0,:].argmax(), inputs[j,0,:].argmax())"
   ]
  },
  {
   "cell_type": "code",
   "execution_count": null,
   "metadata": {},
   "outputs": [],
   "source": []
  },
  {
   "cell_type": "code",
   "execution_count": 283,
   "metadata": {},
   "outputs": [
    {
     "data": {
      "text/plain": [
       "91"
      ]
     },
     "execution_count": 283,
     "metadata": {},
     "output_type": "execute_result"
    }
   ],
   "source": [
    "\n",
    "res_add = ed2.tensorflow.layers.utils.one_hot_add(loc,inputs)\n",
    "res_add[0,0,:].numpy().argmax()"
   ]
  },
  {
   "cell_type": "code",
   "execution_count": 284,
   "metadata": {},
   "outputs": [
    {
     "data": {
      "text/plain": [
       "20"
      ]
     },
     "execution_count": 284,
     "metadata": {},
     "output_type": "execute_result"
    }
   ],
   "source": [
    "loc[0,0,:].numpy().argmax()"
   ]
  },
  {
   "cell_type": "code",
   "execution_count": 285,
   "metadata": {},
   "outputs": [
    {
     "data": {
      "text/plain": [
       "71"
      ]
     },
     "execution_count": 285,
     "metadata": {},
     "output_type": "execute_result"
    }
   ],
   "source": [
    "inputs[0,0,:].numpy().argmax()"
   ]
  },
  {
   "cell_type": "code",
   "execution_count": 79,
   "metadata": {},
   "outputs": [],
   "source": [
    "def one_hot_simp_add(inputs, shift):\n",
    "  \"\"\"Performs (inputs - shift) % vocab_size in the one-hot space.\n",
    "  Args:\n",
    "    inputs: Tensor of shape `[..., vocab_size]`. Typically a soft/hard one-hot\n",
    "      Tensor.\n",
    "    shift: Tensor of shape `[..., vocab_size]`. Typically a soft/hard one-hot\n",
    "      Tensor specifying how much to shift the corresponding one-hot vector in\n",
    "      inputs. Soft values perform a \"weighted shift\": for example,\n",
    "      shift=[0.2, 0.3, 0.5] performs a linear combination of 0.2 * shifting by\n",
    "      zero; 0.3 * shifting by one; and 0.5 * shifting by two.\n",
    "  Returns:\n",
    "    Tensor of same shape and dtype as inputs.\n",
    "  \"\"\"\n",
    "  # TODO(trandustin): Implement with circular conv1d.\n",
    "  inputs = tf.convert_to_tensor(inputs)\n",
    "  shift = tf.cast(shift, inputs.dtype)\n",
    "  vocab_size = inputs.shape[-1]\n",
    "  \n",
    "  # Form a [..., vocab_size, vocab_size] matrix. Each batch element of\n",
    "  # inputs will vector-matrix multiply the vocab_size x vocab_size matrix. This\n",
    "  # \"shifts\" the inputs batch element by the corresponding shift batch element.\n",
    "  shift_matrix = tf.stack([tf.roll(shift, i, axis=-1)\n",
    "                           for i in range(vocab_size)], axis=-2)\n",
    "  outputs = tf.einsum('...v,...uv->...u', inputs, shift_matrix)\n",
    "  return outputs"
   ]
  },
  {
   "cell_type": "code",
   "execution_count": 83,
   "metadata": {},
   "outputs": [],
   "source": [
    "res_add_simple = one_hot_simp_add(inputs, -loc)\n"
   ]
  },
  {
   "cell_type": "code",
   "execution_count": 175,
   "metadata": {},
   "outputs": [
    {
     "data": {
      "text/plain": [
       "<tf.Tensor: id=966, shape=(64, 2, 150), dtype=float32, numpy=\n",
       "array([[[-1.39077505e-08,  6.16050926e-08,  8.06805431e-08, ...,\n",
       "          2.07518425e-09,  1.41010847e-08,  2.90336484e-08],\n",
       "        [-4.53988704e-08, -1.05245928e-08, -3.14599333e-08, ...,\n",
       "          2.92471771e-08, -4.65775791e-08,  8.32149425e-08]],\n",
       "\n",
       "       [[-3.41733291e-08, -4.92956538e-08,  9.18260312e-08, ...,\n",
       "         -6.81949146e-08,  3.31483285e-08, -1.94591241e-08],\n",
       "        [ 3.76701365e-07,  2.26353151e-07,  1.23996514e-07, ...,\n",
       "         -5.16586134e-08,  9.79530590e-09, -7.09407971e-07]],\n",
       "\n",
       "       [[-1.29540766e-07,  3.38414630e-08, -3.11788995e-08, ...,\n",
       "         -4.34769838e-08, -6.02295458e-09, -4.69469548e-08],\n",
       "        [ 1.04904174e-07,  2.37671586e-07, -9.71124194e-08, ...,\n",
       "         -5.45487637e-08, -5.72065382e-08,  1.21280365e-07]],\n",
       "\n",
       "       ...,\n",
       "\n",
       "       [[ 5.99026677e-08, -6.21348306e-08, -2.20887088e-07, ...,\n",
       "          7.00678342e-08,  2.92297159e-07, -6.02593445e-07],\n",
       "        [-1.31527585e-07,  2.42835814e-08, -5.84419659e-08, ...,\n",
       "         -1.03611434e-07, -6.85178136e-08, -5.00979276e-08]],\n",
       "\n",
       "       [[ 3.29812373e-08,  1.21786314e-07,  5.77335129e-07, ...,\n",
       "          5.45725584e-07,  3.29109923e-07,  4.61970160e-08],\n",
       "        [ 5.08626314e-08, -1.08097574e-07, -1.74191452e-08, ...,\n",
       "          4.08430578e-09,  4.48263719e-08, -8.56177707e-08]],\n",
       "\n",
       "       [[-6.67572024e-08, -2.41873295e-07, -2.09221724e-07, ...,\n",
       "         -3.51165426e-08, -5.52537127e-09,  3.94028170e-08],\n",
       "        [-1.22388201e-07, -8.80769377e-08, -4.72566626e-08, ...,\n",
       "         -5.03630879e-08, -1.28257057e-07, -7.43803668e-08]]],\n",
       "      dtype=float32)>"
      ]
     },
     "execution_count": 175,
     "metadata": {},
     "output_type": "execute_result"
    }
   ],
   "source": [
    "res_add"
   ]
  },
  {
   "cell_type": "code",
   "execution_count": 84,
   "metadata": {},
   "outputs": [
    {
     "data": {
      "text/plain": [
       "<tf.Tensor: id=2362, shape=(5,), dtype=float32, numpy=array([0., 0., 0., 0., 0.], dtype=float32)>"
      ]
     },
     "execution_count": 84,
     "metadata": {},
     "output_type": "execute_result"
    }
   ],
   "source": [
    "res_add_simple[0,0,:5]"
   ]
  },
  {
   "cell_type": "code",
   "execution_count": 85,
   "metadata": {},
   "outputs": [
    {
     "data": {
      "text/plain": [
       "<tf.Tensor: id=2363, shape=(64, 2, 150), dtype=bool, numpy=\n",
       "array([[[False, False, False, ..., False, False, False],\n",
       "        [False, False, False, ..., False, False, False]],\n",
       "\n",
       "       [[False, False, False, ..., False, False, False],\n",
       "        [False, False, False, ..., False, False, False]],\n",
       "\n",
       "       [[False, False, False, ..., False, False, False],\n",
       "        [False, False, False, ..., False, False, False]],\n",
       "\n",
       "       ...,\n",
       "\n",
       "       [[False, False, False, ..., False, False, False],\n",
       "        [False, False, False, ..., False, False, False]],\n",
       "\n",
       "       [[False, False, False, ..., False, False, False],\n",
       "        [False, False, False, ..., False, False, False]],\n",
       "\n",
       "       [[False, False, False, ..., False, False, False],\n",
       "        [False, False, False, ..., False, False, False]]])>"
      ]
     },
     "execution_count": 85,
     "metadata": {},
     "output_type": "execute_result"
    }
   ],
   "source": [
    "res_add == res_add_simple"
   ]
  },
  {
   "cell_type": "code",
   "execution_count": 64,
   "metadata": {},
   "outputs": [],
   "source": [
    "res_sub = ed2.tensorflow.layers.utils.one_hot_minus(inputs, loc )"
   ]
  },
  {
   "cell_type": "code",
   "execution_count": 65,
   "metadata": {},
   "outputs": [
    {
     "data": {
      "text/plain": [
       "<tf.Tensor: id=1428, shape=(5,), dtype=float32, numpy=\n",
       "array([-1.39077505e-08,  6.16050926e-08,  8.06805431e-08, -8.64888676e-08,\n",
       "        1.04205597e-07], dtype=float32)>"
      ]
     },
     "execution_count": 65,
     "metadata": {},
     "output_type": "execute_result"
    }
   ],
   "source": [
    "res_add[0,0,:5]"
   ]
  },
  {
   "cell_type": "code",
   "execution_count": 73,
   "metadata": {},
   "outputs": [
    {
     "data": {
      "text/plain": [
       "array([[[ True,  True,  True, ...,  True,  True,  True],\n",
       "        [ True,  True,  True, ...,  True,  True,  True]],\n",
       "\n",
       "       [[ True,  True,  True, ...,  True,  True,  True],\n",
       "        [ True,  True,  True, ...,  True,  True,  True]],\n",
       "\n",
       "       [[ True,  True,  True, ...,  True,  True,  True],\n",
       "        [ True,  True,  True, ...,  True,  True,  True]],\n",
       "\n",
       "       ...,\n",
       "\n",
       "       [[ True,  True,  True, ...,  True,  True,  True],\n",
       "        [ True,  True,  True, ...,  True,  True,  True]],\n",
       "\n",
       "       [[ True,  True,  True, ...,  True,  True,  True],\n",
       "        [ True,  True,  True, ...,  True,  True,  True]],\n",
       "\n",
       "       [[ True,  True,  True, ...,  True,  True,  True],\n",
       "        [ True,  True,  True, ...,  True,  True,  True]]])"
      ]
     },
     "execution_count": 73,
     "metadata": {},
     "output_type": "execute_result"
    }
   ],
   "source": [
    "res_sub.numpy() == t_res_sub.detach().numpy()"
   ]
  },
  {
   "cell_type": "code",
   "execution_count": null,
   "metadata": {},
   "outputs": [],
   "source": []
  }
 ],
 "metadata": {
  "kernelspec": {
   "display_name": "Python 3",
   "language": "python",
   "name": "python3"
  },
  "language_info": {
   "codemirror_mode": {
    "name": "ipython",
    "version": 3
   },
   "file_extension": ".py",
   "mimetype": "text/x-python",
   "name": "python",
   "nbconvert_exporter": "python",
   "pygments_lexer": "ipython3",
   "version": "3.7.5"
  }
 },
 "nbformat": 4,
 "nbformat_minor": 4
}
