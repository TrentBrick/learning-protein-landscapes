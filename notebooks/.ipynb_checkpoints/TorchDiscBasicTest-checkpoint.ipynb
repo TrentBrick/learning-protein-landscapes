{
 "cells": [
  {
   "cell_type": "code",
   "execution_count": 1,
   "metadata": {},
   "outputs": [
    {
     "data": {
      "text/plain": [
       "' Basic testing to try and get the bipartite model working. '"
      ]
     },
     "execution_count": 1,
     "metadata": {},
     "output_type": "execute_result"
    }
   ],
   "source": [
    "''' Basic testing to try and get the bipartite model working. '''"
   ]
  },
  {
   "cell_type": "code",
   "execution_count": 1,
   "metadata": {},
   "outputs": [],
   "source": [
    "import numpy as np\n",
    "import matplotlib.pyplot as plt\n",
    "from scipy.stats import multivariate_normal\n",
    "import torch\n",
    "import itertools"
   ]
  },
  {
   "cell_type": "code",
   "execution_count": 2,
   "metadata": {},
   "outputs": [],
   "source": [
    "%load_ext autoreload\n",
    "%autoreload 2"
   ]
  },
  {
   "cell_type": "code",
   "execution_count": 3,
   "metadata": {},
   "outputs": [
    {
     "data": {
      "image/png": "[encoded data removed]",
      "text/plain": [
       "<Figure size 432x288 with 1 Axes>"
      ]
     },
     "metadata": {
      "needs_background": "light"
     },
     "output_type": "display_data"
    }
   ],
   "source": [
    "n_samps = 100\n",
    "\n",
    "means = np.array([[8,9], [2,1], [9,1], [2,9], [5,9], [5,0], [10, 5], [1.5,5]])\n",
    "data = np.zeros((len(means)*n_samps,2))\n",
    "y = np.zeros((len(means)*n_samps,1))\n",
    "for ind, m in enumerate(means):\n",
    "    samps = multivariate_normal(m, np.eye(2)*0.1).rvs(n_samps)#.astype(int)\n",
    "    data[ind*n_samps:((ind+1)*n_samps)] = samps\n",
    "    y[ind*n_samps:((ind+1)*n_samps)] = np.tile(ind, n_samps).reshape(-1,1)\n",
    "    plt.scatter(samps[:,0], samps[:,1])"
   ]
  },
  {
   "cell_type": "code",
   "execution_count": 4,
   "metadata": {},
   "outputs": [],
   "source": [
    "batch_size, sequence_length, vocab_size = 128, 2, 12\n",
    "\n"
   ]
  },
  {
   "cell_type": "code",
   "execution_count": 5,
   "metadata": {},
   "outputs": [
    {
     "data": {
      "text/plain": [
       "<matplotlib.collections.PathCollection at 0x1a2812f590>"
      ]
     },
     "execution_count": 5,
     "metadata": {},
     "output_type": "execute_result"
    },
    {
     "data": {
      "image/png": "[encoded data removed]",
      "text/plain": [
       "<Figure size 432x288 with 1 Axes>"
      ]
     },
     "metadata": {
      "needs_background": "light"
     },
     "output_type": "display_data"
    }
   ],
   "source": [
    "plt.scatter(data[:,0], data[:,1])"
   ]
  },
  {
   "cell_type": "code",
   "execution_count": null,
   "metadata": {},
   "outputs": [],
   "source": []
  },
  {
   "cell_type": "code",
   "execution_count": 6,
   "metadata": {},
   "outputs": [
    {
     "data": {
      "text/plain": [
       "<matplotlib.collections.PathCollection at 0x1a28225350>"
      ]
     },
     "execution_count": 6,
     "metadata": {},
     "output_type": "execute_result"
    },
    {
     "data": {
      "image/png": "[encoded data removed]",
      "text/plain": [
       "<Figure size 360x360 with 1 Axes>"
      ]
     },
     "metadata": {
      "needs_background": "light"
     },
     "output_type": "display_data"
    }
   ],
   "source": [
    "def one_hotter(x, depth):\n",
    "    idd = np.eye(depth)\n",
    "    #print(idd[0])\n",
    "    res = np.zeros((x.shape[0], x.shape[1], depth))\n",
    "    #print(res.shape)\n",
    "    for ind in range(len(x)): \n",
    "        for j, val in enumerate(x[ind]):\n",
    "            if int(val) >= depth:\n",
    "                val = depth-1\n",
    "                #print(val)\n",
    "            res[ind, j, :] = idd[int(val)]\n",
    "            \n",
    "    return res    \n",
    "\n",
    "oh = one_hotter(data, vocab_size)\n",
    "\n",
    "def torch_oh(input, vocab_size, axis=-1):\n",
    "    input = input-input.min()\n",
    "    x = input.flatten().unsqueeze(1).long()\n",
    "    z = torch.zeros((input.shape[0]*input.shape[1], vocab_size ))\n",
    "    z.scatter_(1,x,1)\n",
    "    z = z.view(input.shape[0], input.shape[1], vocab_size)\n",
    "    return z\n",
    "\n",
    "def eightMixture_sample(batch_size):\n",
    "    rand = np.random.choice(np.arange(len(data)), batch_size)\n",
    "    return data[rand,:]\n",
    "\n",
    "def oh_eightMixture_sample(batch_size):\n",
    "    rand = np.random.choice(np.arange(len(oh)), batch_size)\n",
    "    return oh[rand,:]\n",
    "samps = oh_eightMixture_sample(100).argmax(-1)\n",
    "plt.figure(figsize=(5,5))\n",
    "plt.scatter(samps[:,0], samps[:,1])\n"
   ]
  },
  {
   "cell_type": "code",
   "execution_count": null,
   "metadata": {},
   "outputs": [],
   "source": []
  },
  {
   "cell_type": "code",
   "execution_count": 7,
   "metadata": {},
   "outputs": [],
   "source": [
    "import os\n",
    "os.chdir('../pytorch/nflib')"
   ]
  },
  {
   "cell_type": "code",
   "execution_count": 8,
   "metadata": {},
   "outputs": [],
   "source": [
    "\n",
    "import disc_utils\n",
    "from MADE import *\n",
    "from flows import *\n",
    "from spline_flows import NSF_AR, NSF_CL\n",
    "from TorchDiscCode import *"
   ]
  },
  {
   "cell_type": "code",
   "execution_count": 9,
   "metadata": {},
   "outputs": [],
   "source": [
    "num_flows = 8\n",
    "nh = 256\n",
    "#batch_size= 64\n",
    "#sequence_length = 2\n",
    "#vocab_size = 35\n",
    "vector_length = sequence_length*vocab_size\n",
    "temperature = 0.1\n",
    "flows = []\n",
    "disc_layer_type = 'autoreg' #'bipartite' # "
   ]
  },
  {
   "cell_type": "code",
   "execution_count": 10,
   "metadata": {},
   "outputs": [
    {
     "name": "stdout",
     "output_type": "stream",
     "text": [
      "update masks is running!\n",
      "update masks is running!\n",
      "update masks is running!\n",
      "update masks is running!\n",
      "update masks is running!\n",
      "update masks is running!\n",
      "update masks is running!\n",
      "update masks is running!\n"
     ]
    }
   ],
   "source": [
    "for i in range(num_flows):\n",
    "    # if want to also learn the scale: \n",
    "    # MADE(vocab_size, [nh, nh, nh], 2*vocab_size, num_masks=1, natural_ordering=False)\n",
    "    if disc_layer_type == 'autoreg':\n",
    "        layer = MADE(vocab_size, [nh, nh, nh], vocab_size, \n",
    "                     num_masks=1, natural_ordering=False)\n",
    "        disc_layer = DiscreteAutoregressiveFlow( layer, temperature, vocab_size )\n",
    "    \n",
    "    elif disc_layer_type == 'bipartite':\n",
    "        layer = MLP(vector_length//2, vector_length//2, nh)\n",
    "        \n",
    "        disc_layer = DiscreteBipartiteFlow(layer, i%2, temperature, vocab_size, vector_length)\n",
    "    flows.append(disc_layer)\n",
    "    \n",
    "model = DiscreteAutoFlowModel(flows)\n",
    "    "
   ]
  },
  {
   "cell_type": "code",
   "execution_count": 11,
   "metadata": {},
   "outputs": [
    {
     "data": {
      "text/plain": [
       "torch.Size([2, 12])"
      ]
     },
     "execution_count": 11,
     "metadata": {},
     "output_type": "execute_result"
    }
   ],
   "source": [
    "rand_source = torch.distributions.normal.Normal(0,1)\n",
    "rand_samps = rand_source.sample([sequence_length, vocab_size])\n",
    "\n",
    "rand_samps.shape"
   ]
  },
  {
   "cell_type": "code",
   "execution_count": null,
   "metadata": {},
   "outputs": [],
   "source": []
  },
  {
   "cell_type": "code",
   "execution_count": 12,
   "metadata": {},
   "outputs": [
    {
     "name": "stdout",
     "output_type": "stream",
     "text": [
      "torch.Size([128, 2])\n"
     ]
    },
    {
     "data": {
      "text/plain": [
       "(array([ 2.,  5., 87.,  0.,  0.,  0.,  0., 30.,  3.,  1.]),\n",
       " array([1. , 1.7, 2.4, 3.1, 3.8, 4.5, 5.2, 5.9, 6.6, 7.3, 8. ]),\n",
       " <a list of 10 Patch objects>)"
      ]
     },
     "execution_count": 12,
     "metadata": {},
     "output_type": "execute_result"
    },
    {
     "data": {
      "image/png": "[encoded data removed]",
      "text/plain": [
       "<Figure size 432x288 with 1 Axes>"
      ]
     },
     "metadata": {
      "needs_background": "light"
     },
     "output_type": "display_data"
    }
   ],
   "source": [
    "base = torch.distributions.OneHotCategorical(logits = rand_samps*3 )\n",
    "samps = base.sample((batch_size,)).argmax(-1)\n",
    "print(samps.shape)\n",
    "plt.hist(samps[:,0])\n",
    "plt.hist(samps[:,1], alpha=0.5)"
   ]
  },
  {
   "cell_type": "code",
   "execution_count": 13,
   "metadata": {},
   "outputs": [
    {
     "data": {
      "image/png": "[encoded data removed]",
      "text/plain": [
       "<Figure size 432x288 with 1 Axes>"
      ]
     },
     "metadata": {
      "needs_background": "light"
     },
     "output_type": "display_data"
    }
   ],
   "source": [
    "n_moon_samps = 10000\n",
    "moon_samp = oh_eightMixture_sample(n_moon_samps).argmax(-1)\n",
    "plt.hist(moon_samp[:,0])\n",
    "#plt.show()\n",
    "plt.hist(moon_samp[:,1], alpha=0.5)\n",
    "plt.show()"
   ]
  },
  {
   "cell_type": "code",
   "execution_count": 14,
   "metadata": {},
   "outputs": [
    {
     "data": {
      "text/plain": [
       "(array([2322., 1398.,    0.,    0., 1339., 1195.,    0.,   13., 1787.,\n",
       "        1946.]),\n",
       " array([0. , 0.9, 1.8, 2.7, 3.6, 4.5, 5.4, 6.3, 7.2, 8.1, 9. ]),\n",
       " <a list of 10 Patch objects>)"
      ]
     },
     "execution_count": 14,
     "metadata": {},
     "output_type": "execute_result"
    },
    {
     "data": {
      "image/png": "[encoded data removed]",
      "text/plain": [
       "<Figure size 432x288 with 1 Axes>"
      ]
     },
     "metadata": {
      "needs_background": "light"
     },
     "output_type": "display_data"
    }
   ],
   "source": [
    "import collections\n",
    "import pandas as pd\n",
    "moon_dim0 = collections.Counter(moon_samp[:,0])\n",
    "moon_dim1 = collections.Counter(moon_samp[:,1])\n",
    "dim0_probs = np.zeros((vocab_size))\n",
    "dim1_probs = np.zeros((vocab_size))\n",
    "for k, v in moon_dim0.items():\n",
    "    dim0_probs[k] = v/n_moon_samps\n",
    "for k, v in moon_dim1.items():\n",
    "    dim1_probs[k] = (v/n_moon_samps)\n",
    "\n",
    "dim0_probs += 0.000001\n",
    "dim1_probs += 0.000001\n",
    "\n",
    "# need to renormalize again... \n",
    "\n",
    "\n",
    "dim0_probs = dim0_probs / np.sum(dim0_probs)\n",
    "dim1_probs = dim1_probs / np.sum(dim1_probs)\n",
    "\n",
    "moon_probs = np.vstack([dim0_probs, dim1_probs])\n",
    "\n",
    "base = torch.distributions.OneHotCategorical(probs = torch.tensor(moon_probs).float() )\n",
    "samps = base.sample((10000,)).argmax(-1)\n",
    "plt.hist(samps[:,0])\n",
    "plt.hist(samps[:,1], alpha=0.5)"
   ]
  },
  {
   "cell_type": "code",
   "execution_count": 15,
   "metadata": {},
   "outputs": [
    {
     "data": {
      "image/png": "[encoded data removed]",
      "text/plain": [
       "<Figure size 432x288 with 1 Axes>"
      ]
     },
     "metadata": {
      "needs_background": "light"
     },
     "output_type": "display_data"
    }
   ],
   "source": [
    "def plot2D(x, alpha=0.05):\n",
    "    plt.scatter(x[:,0], x[:,1], alpha)\n",
    "    plt.show()\n",
    "    \n",
    "plot2D(samps)"
   ]
  },
  {
   "cell_type": "code",
   "execution_count": 16,
   "metadata": {},
   "outputs": [
    {
     "name": "stdout",
     "output_type": "stream",
     "text": [
      "0 -0.0179671011865139\n",
      "5 -0.017017316073179245\n",
      "10 -0.017357071861624718\n",
      "15 -0.015396032482385635\n",
      "20 -0.01737324148416519\n",
      "25 -0.01715177111327648\n",
      "30 -0.015517408028244972\n",
      "35 -0.014684069901704788\n",
      "40 -0.024627789855003357\n",
      "45 -0.02541079744696617\n",
      "50 -0.015619861893355846\n",
      "55 -0.01694086194038391\n",
      "60 -0.017379816621541977\n",
      "65 -0.015481522306799889\n",
      "70 -0.015358802862465382\n",
      "75 -0.016426388174295425\n",
      "80 -0.015532582998275757\n",
      "85 -0.01544153317809105\n",
      "90 -0.01982702501118183\n",
      "95 -0.023815995082259178\n",
      "100 -0.02545497938990593\n",
      "105 -0.02449173666536808\n",
      "110 -0.025922229513525963\n",
      "115 -0.02556392177939415\n",
      "120 -0.025351716205477715\n",
      "125 -0.02706940285861492\n",
      "130 -0.02365335449576378\n",
      "135 -0.025840170681476593\n",
      "140 -0.025732921436429024\n",
      "145 -0.025153087452054024\n",
      "150 -0.025842756032943726\n",
      "155 -0.025902317836880684\n",
      "160 -0.024548593908548355\n",
      "165 -0.024463796988129616\n",
      "170 -0.026020891964435577\n",
      "175 -0.026497436687350273\n",
      "180 -0.024315819144248962\n",
      "185 -0.024315236136317253\n",
      "190 -0.025630122050642967\n",
      "195 -0.026468880474567413\n",
      "200 -0.026171062141656876\n",
      "205 -0.02535845711827278\n",
      "210 -0.02485920861363411\n",
      "215 -0.02504233829677105\n",
      "220 -0.023662269115447998\n",
      "225 -0.025309715420007706\n",
      "230 -0.026283180341124535\n",
      "235 -0.025318922474980354\n",
      "240 -0.02577129565179348\n",
      "245 -0.02346785180270672\n",
      "250 -0.025688715279102325\n",
      "255 -0.02647651731967926\n",
      "260 -0.024504318833351135\n",
      "265 -0.02545776031911373\n",
      "270 -0.023378076031804085\n",
      "275 -0.02494741417467594\n",
      "280 -0.024968650192022324\n",
      "285 -0.024363892152905464\n",
      "290 -0.025422116741538048\n",
      "295 -0.0240529365837574\n",
      "300 -0.025755586102604866\n",
      "305 -0.024301042780280113\n",
      "310 -0.024471353739500046\n",
      "315 -0.02605522982776165\n",
      "320 -0.02546464093029499\n",
      "325 -0.025942521169781685\n",
      "330 -0.02322804182767868\n",
      "335 -0.02421785145998001\n",
      "340 -0.02571353316307068\n",
      "345 -0.024926815181970596\n",
      "350 -0.026776079088449478\n",
      "355 -0.024123553186655045\n",
      "360 -0.024991774931550026\n",
      "365 -0.025459768250584602\n",
      "370 -0.025712741538882256\n",
      "375 -0.026667622849345207\n",
      "380 -0.022975586354732513\n",
      "385 -0.024712616577744484\n",
      "390 -0.026539864018559456\n",
      "395 -0.024605635553598404\n",
      "400 -0.026149198412895203\n",
      "405 -0.023276429623365402\n",
      "410 -0.02487870305776596\n",
      "415 -0.025727247819304466\n",
      "420 -0.02398962341248989\n",
      "425 -0.023565623909235\n",
      "430 -0.02453509159386158\n",
      "435 -0.02659718692302704\n",
      "440 -0.0244884230196476\n",
      "445 -0.024326276034116745\n",
      "450 -0.024160709232091904\n",
      "455 -0.024014363065361977\n",
      "460 -0.024734366685152054\n",
      "465 -0.023341910913586617\n",
      "470 -0.023967333137989044\n",
      "475 -0.024817587807774544\n",
      "480 -0.02497401088476181\n",
      "485 -0.025195537135004997\n",
      "490 -0.026151323691010475\n",
      "495 -0.024637557566165924\n",
      "500 -0.02492232620716095\n",
      "505 -0.024705179035663605\n",
      "510 -0.025315944105386734\n",
      "515 -0.02423534169793129\n",
      "520 -0.02529940754175186\n",
      "525 -0.024393698200583458\n",
      "530 -0.02473750337958336\n",
      "535 -0.025850098580121994\n",
      "540 -0.0250244140625\n",
      "545 -0.025674305856227875\n",
      "550 -0.023859506472945213\n",
      "555 -0.02487809769809246\n",
      "560 -0.02503393217921257\n",
      "565 -0.025385897606611252\n",
      "570 -0.0239090733230114\n",
      "575 -0.026564596220850945\n",
      "580 -0.024514954537153244\n",
      "585 -0.02566005475819111\n",
      "590 -0.023969702422618866\n",
      "595 -0.02610311098396778\n",
      "600 -0.024199552834033966\n",
      "605 -0.025351179763674736\n",
      "610 -0.025253603234887123\n",
      "615 -0.02368561178445816\n",
      "620 -0.024759184569120407\n",
      "625 -0.02597803808748722\n",
      "630 -0.02509501948952675\n",
      "635 -0.026112088933587074\n",
      "640 -0.024314988404512405\n",
      "645 -0.02499563619494438\n",
      "650 -0.024190455675125122\n",
      "655 -0.02539565972983837\n",
      "660 -0.02543249912559986\n",
      "665 -0.022368919104337692\n",
      "670 -0.02430536411702633\n",
      "675 -0.024954237043857574\n",
      "680 -0.025265827775001526\n",
      "685 -0.02283416874706745\n",
      "690 -0.025659916922450066\n",
      "695 -0.027607521042227745\n",
      "700 -0.025767995044589043\n",
      "705 -0.02642172761261463\n",
      "710 -0.02623305283486843\n",
      "715 -0.025556078180670738\n",
      "720 -0.026368776336312294\n",
      "725 -0.02497623860836029\n",
      "730 -0.02590068057179451\n",
      "735 -0.024630319327116013\n",
      "740 -0.023964978754520416\n",
      "745 -0.02554244175553322\n",
      "750 -0.02714528515934944\n",
      "755 -0.02575276978313923\n",
      "760 -0.025515729561448097\n",
      "765 -0.02555585280060768\n",
      "770 -0.028012465685606003\n",
      "775 -0.026003098115324974\n",
      "780 -0.023799078539013863\n",
      "785 -0.0250324048101902\n",
      "790 -0.02373892441391945\n",
      "795 -0.024255987256765366\n"
     ]
    },
    {
     "data": {
      "text/plain": [
       "[<matplotlib.lines.Line2D at 0x11e430190>]"
      ]
     },
     "execution_count": 16,
     "metadata": {},
     "output_type": "execute_result"
    },
    {
     "data": {
      "image/png": "[encoded data removed]",
      "text/plain": [
       "<Figure size 432x288 with 1 Axes>"
      ]
     },
     "metadata": {
      "needs_background": "light"
     },
     "output_type": "display_data"
    }
   ],
   "source": [
    "epochs = 800\n",
    "learning_rate = 0.0001\n",
    "optimizer = torch.optim.Adam(model.parameters(), lr=learning_rate)\n",
    "losses = []\n",
    "weights = []\n",
    "#x = torch.Tensor(data[:batch_size,:])\n",
    "base_log_probs = torch.log(base.probs)\n",
    "model.train()\n",
    "for e in range(epochs):\n",
    "    \n",
    "    #x = d.sample(batch_size)\n",
    "    #x = torch.tensor(oh_eightMixture_sample(batch_size)).float()\n",
    "    x = torch.tensor(oh_eightMixture_sample(batch_size)).float()\n",
    "    #print(x.shape)\n",
    "    #x= x.view(x.shape[0], -1)\n",
    "    \n",
    "    optimizer.zero_grad()\n",
    "    zs = model.reverse(x)\n",
    "    #zs = zs.view(batch_size, 2, -1)\n",
    "    #print('shape of zs', zs.shape, zs)\n",
    "    logprob = zs*base_log_probs.float()\n",
    "    #print(logprob.shape)\n",
    "    logprob = torch.sum(logprob, dim=2).sum(dim=1)\n",
    "    #print(logprob.shape)\n",
    "    loss = -torch.exp(logprob).sum()/batch_size\n",
    "    \n",
    "    loss.backward()\n",
    "    optimizer.step()\n",
    "    \n",
    "    losses.append(loss.detach())\n",
    "    \n",
    "    if e%5==0:\n",
    "        print(e, loss.item())\n",
    "        #plotting the weights of a single layer: \n",
    "        \n",
    "        flow_num = num_flows-1\n",
    "        sub_part = 6\n",
    "        w = model.flows[flow_num]._modules['layer'].net[sub_part]._parameters['weight'].detach().numpy()\n",
    "        #print(w.shape)\n",
    "        weights.append(w)\n",
    "        #plt.hist(w[0,:],bins=100)\n",
    "        #plt.show()\n",
    "    \n",
    "plt.plot(losses)\n",
    "    "
   ]
  },
  {
   "cell_type": "code",
   "execution_count": 18,
   "metadata": {},
   "outputs": [
    {
     "name": "stdout",
     "output_type": "stream",
     "text": [
      "(128, 2)\n"
     ]
    },
    {
     "data": {
      "text/plain": [
       "(0, 12)"
      ]
     },
     "execution_count": 18,
     "metadata": {},
     "output_type": "execute_result"
    },
    {
     "data": {
      "image/png": "[encoded data removed]",
      "text/plain": [
       "<Figure size 720x360 with 2 Axes>"
      ]
     },
     "metadata": {
      "needs_background": "light"
     },
     "output_type": "display_data"
    }
   ],
   "source": [
    "model.eval()\n",
    "\n",
    "#x = d.sample(128)\n",
    "x = torch.tensor(oh_eightMixture_sample(batch_size)).float()\n",
    "if disc_layer_type == 'bipartite':\n",
    "    x = x.view(batch_size, -1)\n",
    "zs = model.reverse(x)\n",
    "z = zs\n",
    "if disc_layer_type == 'bipartite':\n",
    "    z = z.view(batch_size, 2, -1)\n",
    "    x = x.view(batch_size, 2, -1)\n",
    "\n",
    "x = x.detach().numpy().argmax(-1)\n",
    "z = z.detach().numpy().argmax(-1)\n",
    "print(z.shape)\n",
    "p = base.sample((batch_size,)).argmax(-1)\n",
    "plt.figure(figsize=(10,5))\n",
    "plt.subplot(121)\n",
    "plt.scatter(p[:,0], p[:,1], c='g', s=5)\n",
    "plt.scatter(z[:,0], z[:,1], c='r', s=5)\n",
    "plt.scatter(x[:,0], x[:,1], c='b', s=5)\n",
    "plt.legend(['prior', 'x->z', 'data'])\n",
    "plt.axis('scaled')\n",
    "plt.title('x -> z')\n",
    "plt.xlim([0,vocab_size])\n",
    "plt.ylim([0,vocab_size])\n",
    "\n",
    "if disc_layer_type == 'bipartite':\n",
    "    zs = model.forward(base.sample((batch_size,)).float().view(batch_size, -1))\n",
    "else: \n",
    "    zs = model.forward(base.sample((batch_size,)).float())\n",
    "z = zs\n",
    "if disc_layer_type == 'bipartite':\n",
    "    z = z.view(batch_size, 2, -1)\n",
    "z = z.detach().numpy().argmax(-1)\n",
    "plt.subplot(122)\n",
    "plt.scatter(x[:,0], x[:,1], c='b', s=5, alpha=0.5)\n",
    "plt.scatter(z[:,0], z[:,1], c='r', s=5, alpha=0.3)\n",
    "plt.legend(['data', 'z->x'])\n",
    "plt.axis('scaled')\n",
    "plt.title('z -> x')\n",
    "plt.xlim([0,vocab_size])\n",
    "plt.ylim([0,vocab_size])"
   ]
  },
  {
   "cell_type": "code",
   "execution_count": 19,
   "metadata": {},
   "outputs": [],
   "source": [
    "def one_hotter(x, depth):\n",
    "    idd = np.eye(depth)\n",
    "    #print(idd[0])\n",
    "    res = np.zeros((x.shape[0], x.shape[1], depth))\n",
    "    #print(res.shape)\n",
    "    for ind in range(len(x)): \n",
    "        for j, val in enumerate(x[ind]):\n",
    "            if int(val) >= depth:\n",
    "                val = depth-1\n",
    "                #print(val)\n",
    "            res[ind, j, :] = idd[int(val)]\n",
    "            \n",
    "    return res    "
   ]
  },
  {
   "cell_type": "code",
   "execution_count": 20,
   "metadata": {},
   "outputs": [
    {
     "data": {
      "image/png": "[encoded data removed]",
      "text/plain": [
       "<Figure size 432x288 with 1 Axes>"
      ]
     },
     "metadata": {
      "needs_background": "light"
     },
     "output_type": "display_data"
    }
   ],
   "source": [
    "d = np.vstack( [np.random.normal(50,0.1,100), np.random.normal(50,0.1,100)]).T\n",
    "plot2D(d)\n",
    "d = one_hotter( d ,100)"
   ]
  },
  {
   "cell_type": "code",
   "execution_count": 21,
   "metadata": {},
   "outputs": [
    {
     "ename": "RuntimeError",
     "evalue": "The size of tensor a (100) must match the size of tensor b (12) at non-singleton dimension 2",
     "output_type": "error",
     "traceback": [
      "\u001b[0;31m---------------------------------------------------------------------------\u001b[0m",
      "\u001b[0;31mRuntimeError\u001b[0m                              Traceback (most recent call last)",
      "\u001b[0;32m<ipython-input-21-5a8f77a53971>\u001b[0m in \u001b[0;36m<module>\u001b[0;34m\u001b[0m\n\u001b[1;32m      3\u001b[0m \u001b[0;32mfor\u001b[0m \u001b[0mi\u001b[0m \u001b[0;32min\u001b[0m \u001b[0mrange\u001b[0m\u001b[0;34m(\u001b[0m\u001b[0;36m100\u001b[0m\u001b[0;34m)\u001b[0m\u001b[0;34m:\u001b[0m\u001b[0;34m\u001b[0m\u001b[0;34m\u001b[0m\u001b[0m\n\u001b[1;32m      4\u001b[0m     \u001b[0msamps\u001b[0m \u001b[0;34m=\u001b[0m \u001b[0mtorch\u001b[0m\u001b[0;34m.\u001b[0m\u001b[0mtensor\u001b[0m\u001b[0;34m(\u001b[0m\u001b[0md\u001b[0m\u001b[0;34m)\u001b[0m\u001b[0;34m.\u001b[0m\u001b[0mfloat\u001b[0m\u001b[0;34m(\u001b[0m\u001b[0;34m)\u001b[0m\u001b[0;34m\u001b[0m\u001b[0;34m\u001b[0m\u001b[0m\n\u001b[0;32m----> 5\u001b[0;31m     \u001b[0mlogprob\u001b[0m \u001b[0;34m=\u001b[0m \u001b[0msamps\u001b[0m\u001b[0;34m*\u001b[0m\u001b[0mbase_log_probs\u001b[0m\u001b[0;34m\u001b[0m\u001b[0;34m\u001b[0m\u001b[0m\n\u001b[0m\u001b[1;32m      6\u001b[0m \u001b[0;34m\u001b[0m\u001b[0m\n\u001b[1;32m      7\u001b[0m     \u001b[0mlogprob\u001b[0m \u001b[0;34m=\u001b[0m \u001b[0mtorch\u001b[0m\u001b[0;34m.\u001b[0m\u001b[0msum\u001b[0m\u001b[0;34m(\u001b[0m\u001b[0mlogprob\u001b[0m\u001b[0;34m,\u001b[0m \u001b[0mdim\u001b[0m\u001b[0;34m=\u001b[0m\u001b[0;36m2\u001b[0m\u001b[0;34m)\u001b[0m\u001b[0;34m.\u001b[0m\u001b[0msum\u001b[0m\u001b[0;34m(\u001b[0m\u001b[0mdim\u001b[0m\u001b[0;34m=\u001b[0m\u001b[0;36m1\u001b[0m\u001b[0;34m)\u001b[0m\u001b[0;34m\u001b[0m\u001b[0;34m\u001b[0m\u001b[0m\n",
      "\u001b[0;31mRuntimeError\u001b[0m: The size of tensor a (100) must match the size of tensor b (12) at non-singleton dimension 2"
     ]
    }
   ],
   "source": [
    "res= []\n",
    "b_size = 32\n",
    "for i in range(100):\n",
    "    samps = torch.tensor(d).float()\n",
    "    logprob = samps*base_log_probs\n",
    "    \n",
    "    logprob = torch.sum(logprob, dim=2).sum(dim=1)\n",
    "    #print(logprob.shape)\n",
    "    loss = -torch.exp(logprob).sum()/samps.shape[0]\n",
    "    \n",
    "    res.append(loss)\n",
    "    \n",
    "np.mean(np.asarray(res))"
   ]
  },
  {
   "cell_type": "code",
   "execution_count": 22,
   "metadata": {},
   "outputs": [
    {
     "ename": "RuntimeError",
     "evalue": "size mismatch, m1: [128 x 24], m2: [12 x 256] at /Users/distiller/project/conda/conda-bld/pytorch_1565272526878/work/aten/src/TH/generic/THTensorMath.cpp:752",
     "output_type": "error",
     "traceback": [
      "\u001b[0;31m---------------------------------------------------------------------------\u001b[0m",
      "\u001b[0;31mRuntimeError\u001b[0m                              Traceback (most recent call last)",
      "\u001b[0;32m<ipython-input-22-c448d9eae2e1>\u001b[0m in \u001b[0;36m<module>\u001b[0;34m\u001b[0m\n\u001b[1;32m      4\u001b[0m \u001b[0;34m\u001b[0m\u001b[0m\n\u001b[1;32m      5\u001b[0m \u001b[0moptimizer\u001b[0m\u001b[0;34m.\u001b[0m\u001b[0mzero_grad\u001b[0m\u001b[0;34m(\u001b[0m\u001b[0;34m)\u001b[0m\u001b[0;34m\u001b[0m\u001b[0;34m\u001b[0m\u001b[0m\n\u001b[0;32m----> 6\u001b[0;31m \u001b[0mzs\u001b[0m \u001b[0;34m=\u001b[0m \u001b[0mmodel\u001b[0m\u001b[0;34m.\u001b[0m\u001b[0mreverse\u001b[0m\u001b[0;34m(\u001b[0m\u001b[0mx\u001b[0m\u001b[0;34m)\u001b[0m\u001b[0;34m\u001b[0m\u001b[0;34m\u001b[0m\u001b[0m\n\u001b[0m\u001b[1;32m      7\u001b[0m \u001b[0mzs\u001b[0m \u001b[0;34m=\u001b[0m \u001b[0mzs\u001b[0m\u001b[0;34m.\u001b[0m\u001b[0mview\u001b[0m\u001b[0;34m(\u001b[0m\u001b[0mbatch_size\u001b[0m\u001b[0;34m,\u001b[0m \u001b[0;36m2\u001b[0m\u001b[0;34m,\u001b[0m \u001b[0;34m-\u001b[0m\u001b[0;36m1\u001b[0m\u001b[0;34m)\u001b[0m\u001b[0;34m\u001b[0m\u001b[0;34m\u001b[0m\u001b[0m\n\u001b[1;32m      8\u001b[0m \u001b[0;31m#print('shape of zs', zs.shape, zs)\u001b[0m\u001b[0;34m\u001b[0m\u001b[0;34m\u001b[0m\u001b[0;34m\u001b[0m\u001b[0m\n",
      "\u001b[0;32m~/protein-gen/pytorch/nflib/TorchDiscCode.py\u001b[0m in \u001b[0;36mreverse\u001b[0;34m(self, x)\u001b[0m\n\u001b[1;32m     36\u001b[0m         \u001b[0;31m# from the data to latent space\u001b[0m\u001b[0;34m\u001b[0m\u001b[0;34m\u001b[0m\u001b[0;34m\u001b[0m\u001b[0m\n\u001b[1;32m     37\u001b[0m         \u001b[0;32mfor\u001b[0m \u001b[0mflow\u001b[0m \u001b[0;32min\u001b[0m \u001b[0mself\u001b[0m\u001b[0;34m.\u001b[0m\u001b[0mflows\u001b[0m\u001b[0;34m[\u001b[0m\u001b[0;34m:\u001b[0m\u001b[0;34m:\u001b[0m\u001b[0;34m-\u001b[0m\u001b[0;36m1\u001b[0m\u001b[0;34m]\u001b[0m\u001b[0;34m:\u001b[0m\u001b[0;34m\u001b[0m\u001b[0;34m\u001b[0m\u001b[0m\n\u001b[0;32m---> 38\u001b[0;31m             \u001b[0mx\u001b[0m \u001b[0;34m=\u001b[0m \u001b[0mflow\u001b[0m\u001b[0;34m.\u001b[0m\u001b[0mreverse\u001b[0m\u001b[0;34m(\u001b[0m\u001b[0mx\u001b[0m\u001b[0;34m)\u001b[0m\u001b[0;34m\u001b[0m\u001b[0;34m\u001b[0m\u001b[0m\n\u001b[0m\u001b[1;32m     39\u001b[0m         \u001b[0;32mreturn\u001b[0m \u001b[0mx\u001b[0m\u001b[0;34m\u001b[0m\u001b[0;34m\u001b[0m\u001b[0m\n\u001b[1;32m     40\u001b[0m \u001b[0;34m\u001b[0m\u001b[0m\n",
      "\u001b[0;32m~/protein-gen/pytorch/nflib/TorchDiscCode.py\u001b[0m in \u001b[0;36mreverse\u001b[0;34m(self, inputs, **kwargs)\u001b[0m\n\u001b[1;32m    236\u001b[0m     \u001b[0;31m#  self._maybe_build(inputs)\u001b[0m\u001b[0;34m\u001b[0m\u001b[0;34m\u001b[0m\u001b[0;34m\u001b[0m\u001b[0m\n\u001b[1;32m    237\u001b[0m \u001b[0;34m\u001b[0m\u001b[0m\n\u001b[0;32m--> 238\u001b[0;31m     \u001b[0mnet\u001b[0m \u001b[0;34m=\u001b[0m \u001b[0mself\u001b[0m\u001b[0;34m.\u001b[0m\u001b[0mlayer\u001b[0m\u001b[0;34m(\u001b[0m\u001b[0minputs\u001b[0m\u001b[0;34m,\u001b[0m \u001b[0;34m**\u001b[0m\u001b[0mkwargs\u001b[0m\u001b[0;34m)\u001b[0m\u001b[0;34m\u001b[0m\u001b[0;34m\u001b[0m\u001b[0m\n\u001b[0m\u001b[1;32m    239\u001b[0m     \u001b[0;31m#print('shape of neural net output', net.shape)\u001b[0m\u001b[0;34m\u001b[0m\u001b[0;34m\u001b[0m\u001b[0;34m\u001b[0m\u001b[0m\n\u001b[1;32m    240\u001b[0m     \u001b[0;31m#print('reverse net output', net.shape)\u001b[0m\u001b[0;34m\u001b[0m\u001b[0;34m\u001b[0m\u001b[0;34m\u001b[0m\u001b[0m\n",
      "\u001b[0;32m~/anaconda3/lib/python3.7/site-packages/torch/nn/modules/module.py\u001b[0m in \u001b[0;36m__call__\u001b[0;34m(self, *input, **kwargs)\u001b[0m\n\u001b[1;32m    545\u001b[0m             \u001b[0mresult\u001b[0m \u001b[0;34m=\u001b[0m \u001b[0mself\u001b[0m\u001b[0;34m.\u001b[0m\u001b[0m_slow_forward\u001b[0m\u001b[0;34m(\u001b[0m\u001b[0;34m*\u001b[0m\u001b[0minput\u001b[0m\u001b[0;34m,\u001b[0m \u001b[0;34m**\u001b[0m\u001b[0mkwargs\u001b[0m\u001b[0;34m)\u001b[0m\u001b[0;34m\u001b[0m\u001b[0;34m\u001b[0m\u001b[0m\n\u001b[1;32m    546\u001b[0m         \u001b[0;32melse\u001b[0m\u001b[0;34m:\u001b[0m\u001b[0;34m\u001b[0m\u001b[0;34m\u001b[0m\u001b[0m\n\u001b[0;32m--> 547\u001b[0;31m             \u001b[0mresult\u001b[0m \u001b[0;34m=\u001b[0m \u001b[0mself\u001b[0m\u001b[0;34m.\u001b[0m\u001b[0mforward\u001b[0m\u001b[0;34m(\u001b[0m\u001b[0;34m*\u001b[0m\u001b[0minput\u001b[0m\u001b[0;34m,\u001b[0m \u001b[0;34m**\u001b[0m\u001b[0mkwargs\u001b[0m\u001b[0;34m)\u001b[0m\u001b[0;34m\u001b[0m\u001b[0;34m\u001b[0m\u001b[0m\n\u001b[0m\u001b[1;32m    548\u001b[0m         \u001b[0;32mfor\u001b[0m \u001b[0mhook\u001b[0m \u001b[0;32min\u001b[0m \u001b[0mself\u001b[0m\u001b[0;34m.\u001b[0m\u001b[0m_forward_hooks\u001b[0m\u001b[0;34m.\u001b[0m\u001b[0mvalues\u001b[0m\u001b[0;34m(\u001b[0m\u001b[0;34m)\u001b[0m\u001b[0;34m:\u001b[0m\u001b[0;34m\u001b[0m\u001b[0;34m\u001b[0m\u001b[0m\n\u001b[1;32m    549\u001b[0m             \u001b[0mhook_result\u001b[0m \u001b[0;34m=\u001b[0m \u001b[0mhook\u001b[0m\u001b[0;34m(\u001b[0m\u001b[0mself\u001b[0m\u001b[0;34m,\u001b[0m \u001b[0minput\u001b[0m\u001b[0;34m,\u001b[0m \u001b[0mresult\u001b[0m\u001b[0;34m)\u001b[0m\u001b[0;34m\u001b[0m\u001b[0;34m\u001b[0m\u001b[0m\n",
      "\u001b[0;32m~/protein-gen/pytorch/nflib/MADE.py\u001b[0m in \u001b[0;36mforward\u001b[0;34m(self, x)\u001b[0m\n\u001b[1;32m    111\u001b[0m \u001b[0;34m\u001b[0m\u001b[0m\n\u001b[1;32m    112\u001b[0m     \u001b[0;32mdef\u001b[0m \u001b[0mforward\u001b[0m\u001b[0;34m(\u001b[0m\u001b[0mself\u001b[0m\u001b[0;34m,\u001b[0m \u001b[0mx\u001b[0m\u001b[0;34m)\u001b[0m\u001b[0;34m:\u001b[0m\u001b[0;34m\u001b[0m\u001b[0;34m\u001b[0m\u001b[0m\n\u001b[0;32m--> 113\u001b[0;31m         \u001b[0;32mreturn\u001b[0m \u001b[0mself\u001b[0m\u001b[0;34m.\u001b[0m\u001b[0mnet\u001b[0m\u001b[0;34m(\u001b[0m\u001b[0mx\u001b[0m\u001b[0;34m)\u001b[0m\u001b[0;34m\u001b[0m\u001b[0;34m\u001b[0m\u001b[0m\n\u001b[0m\u001b[1;32m    114\u001b[0m \u001b[0;34m\u001b[0m\u001b[0m\n\u001b[1;32m    115\u001b[0m \u001b[0;31m#------------------\u001b[0m\u001b[0;34m\u001b[0m\u001b[0;34m\u001b[0m\u001b[0;34m\u001b[0m\u001b[0m\n",
      "\u001b[0;32m~/anaconda3/lib/python3.7/site-packages/torch/nn/modules/module.py\u001b[0m in \u001b[0;36m__call__\u001b[0;34m(self, *input, **kwargs)\u001b[0m\n\u001b[1;32m    545\u001b[0m             \u001b[0mresult\u001b[0m \u001b[0;34m=\u001b[0m \u001b[0mself\u001b[0m\u001b[0;34m.\u001b[0m\u001b[0m_slow_forward\u001b[0m\u001b[0;34m(\u001b[0m\u001b[0;34m*\u001b[0m\u001b[0minput\u001b[0m\u001b[0;34m,\u001b[0m \u001b[0;34m**\u001b[0m\u001b[0mkwargs\u001b[0m\u001b[0;34m)\u001b[0m\u001b[0;34m\u001b[0m\u001b[0;34m\u001b[0m\u001b[0m\n\u001b[1;32m    546\u001b[0m         \u001b[0;32melse\u001b[0m\u001b[0;34m:\u001b[0m\u001b[0;34m\u001b[0m\u001b[0;34m\u001b[0m\u001b[0m\n\u001b[0;32m--> 547\u001b[0;31m             \u001b[0mresult\u001b[0m \u001b[0;34m=\u001b[0m \u001b[0mself\u001b[0m\u001b[0;34m.\u001b[0m\u001b[0mforward\u001b[0m\u001b[0;34m(\u001b[0m\u001b[0;34m*\u001b[0m\u001b[0minput\u001b[0m\u001b[0;34m,\u001b[0m \u001b[0;34m**\u001b[0m\u001b[0mkwargs\u001b[0m\u001b[0;34m)\u001b[0m\u001b[0;34m\u001b[0m\u001b[0;34m\u001b[0m\u001b[0m\n\u001b[0m\u001b[1;32m    548\u001b[0m         \u001b[0;32mfor\u001b[0m \u001b[0mhook\u001b[0m \u001b[0;32min\u001b[0m \u001b[0mself\u001b[0m\u001b[0;34m.\u001b[0m\u001b[0m_forward_hooks\u001b[0m\u001b[0;34m.\u001b[0m\u001b[0mvalues\u001b[0m\u001b[0;34m(\u001b[0m\u001b[0;34m)\u001b[0m\u001b[0;34m:\u001b[0m\u001b[0;34m\u001b[0m\u001b[0;34m\u001b[0m\u001b[0m\n\u001b[1;32m    549\u001b[0m             \u001b[0mhook_result\u001b[0m \u001b[0;34m=\u001b[0m \u001b[0mhook\u001b[0m\u001b[0;34m(\u001b[0m\u001b[0mself\u001b[0m\u001b[0;34m,\u001b[0m \u001b[0minput\u001b[0m\u001b[0;34m,\u001b[0m \u001b[0mresult\u001b[0m\u001b[0;34m)\u001b[0m\u001b[0;34m\u001b[0m\u001b[0;34m\u001b[0m\u001b[0m\n",
      "\u001b[0;32m~/anaconda3/lib/python3.7/site-packages/torch/nn/modules/container.py\u001b[0m in \u001b[0;36mforward\u001b[0;34m(self, input)\u001b[0m\n\u001b[1;32m     90\u001b[0m     \u001b[0;32mdef\u001b[0m \u001b[0mforward\u001b[0m\u001b[0;34m(\u001b[0m\u001b[0mself\u001b[0m\u001b[0;34m,\u001b[0m \u001b[0minput\u001b[0m\u001b[0;34m)\u001b[0m\u001b[0;34m:\u001b[0m\u001b[0;34m\u001b[0m\u001b[0;34m\u001b[0m\u001b[0m\n\u001b[1;32m     91\u001b[0m         \u001b[0;32mfor\u001b[0m \u001b[0mmodule\u001b[0m \u001b[0;32min\u001b[0m \u001b[0mself\u001b[0m\u001b[0;34m.\u001b[0m\u001b[0m_modules\u001b[0m\u001b[0;34m.\u001b[0m\u001b[0mvalues\u001b[0m\u001b[0;34m(\u001b[0m\u001b[0;34m)\u001b[0m\u001b[0;34m:\u001b[0m\u001b[0;34m\u001b[0m\u001b[0;34m\u001b[0m\u001b[0m\n\u001b[0;32m---> 92\u001b[0;31m             \u001b[0minput\u001b[0m \u001b[0;34m=\u001b[0m \u001b[0mmodule\u001b[0m\u001b[0;34m(\u001b[0m\u001b[0minput\u001b[0m\u001b[0;34m)\u001b[0m\u001b[0;34m\u001b[0m\u001b[0;34m\u001b[0m\u001b[0m\n\u001b[0m\u001b[1;32m     93\u001b[0m         \u001b[0;32mreturn\u001b[0m \u001b[0minput\u001b[0m\u001b[0;34m\u001b[0m\u001b[0;34m\u001b[0m\u001b[0m\n\u001b[1;32m     94\u001b[0m \u001b[0;34m\u001b[0m\u001b[0m\n",
      "\u001b[0;32m~/anaconda3/lib/python3.7/site-packages/torch/nn/modules/module.py\u001b[0m in \u001b[0;36m__call__\u001b[0;34m(self, *input, **kwargs)\u001b[0m\n\u001b[1;32m    545\u001b[0m             \u001b[0mresult\u001b[0m \u001b[0;34m=\u001b[0m \u001b[0mself\u001b[0m\u001b[0;34m.\u001b[0m\u001b[0m_slow_forward\u001b[0m\u001b[0;34m(\u001b[0m\u001b[0;34m*\u001b[0m\u001b[0minput\u001b[0m\u001b[0;34m,\u001b[0m \u001b[0;34m**\u001b[0m\u001b[0mkwargs\u001b[0m\u001b[0;34m)\u001b[0m\u001b[0;34m\u001b[0m\u001b[0;34m\u001b[0m\u001b[0m\n\u001b[1;32m    546\u001b[0m         \u001b[0;32melse\u001b[0m\u001b[0;34m:\u001b[0m\u001b[0;34m\u001b[0m\u001b[0;34m\u001b[0m\u001b[0m\n\u001b[0;32m--> 547\u001b[0;31m             \u001b[0mresult\u001b[0m \u001b[0;34m=\u001b[0m \u001b[0mself\u001b[0m\u001b[0;34m.\u001b[0m\u001b[0mforward\u001b[0m\u001b[0;34m(\u001b[0m\u001b[0;34m*\u001b[0m\u001b[0minput\u001b[0m\u001b[0;34m,\u001b[0m \u001b[0;34m**\u001b[0m\u001b[0mkwargs\u001b[0m\u001b[0;34m)\u001b[0m\u001b[0;34m\u001b[0m\u001b[0;34m\u001b[0m\u001b[0m\n\u001b[0m\u001b[1;32m    548\u001b[0m         \u001b[0;32mfor\u001b[0m \u001b[0mhook\u001b[0m \u001b[0;32min\u001b[0m \u001b[0mself\u001b[0m\u001b[0;34m.\u001b[0m\u001b[0m_forward_hooks\u001b[0m\u001b[0;34m.\u001b[0m\u001b[0mvalues\u001b[0m\u001b[0;34m(\u001b[0m\u001b[0;34m)\u001b[0m\u001b[0;34m:\u001b[0m\u001b[0;34m\u001b[0m\u001b[0;34m\u001b[0m\u001b[0m\n\u001b[1;32m    549\u001b[0m             \u001b[0mhook_result\u001b[0m \u001b[0;34m=\u001b[0m \u001b[0mhook\u001b[0m\u001b[0;34m(\u001b[0m\u001b[0mself\u001b[0m\u001b[0;34m,\u001b[0m \u001b[0minput\u001b[0m\u001b[0;34m,\u001b[0m \u001b[0mresult\u001b[0m\u001b[0;34m)\u001b[0m\u001b[0;34m\u001b[0m\u001b[0;34m\u001b[0m\u001b[0m\n",
      "\u001b[0;32m~/protein-gen/pytorch/nflib/MADE.py\u001b[0m in \u001b[0;36mforward\u001b[0;34m(self, input)\u001b[0m\n\u001b[1;32m     22\u001b[0m \u001b[0;34m\u001b[0m\u001b[0m\n\u001b[1;32m     23\u001b[0m     \u001b[0;32mdef\u001b[0m \u001b[0mforward\u001b[0m\u001b[0;34m(\u001b[0m\u001b[0mself\u001b[0m\u001b[0;34m,\u001b[0m \u001b[0minput\u001b[0m\u001b[0;34m)\u001b[0m\u001b[0;34m:\u001b[0m\u001b[0;34m\u001b[0m\u001b[0;34m\u001b[0m\u001b[0m\n\u001b[0;32m---> 24\u001b[0;31m         \u001b[0;32mreturn\u001b[0m \u001b[0mF\u001b[0m\u001b[0;34m.\u001b[0m\u001b[0mlinear\u001b[0m\u001b[0;34m(\u001b[0m\u001b[0minput\u001b[0m\u001b[0;34m,\u001b[0m \u001b[0mself\u001b[0m\u001b[0;34m.\u001b[0m\u001b[0mmask\u001b[0m \u001b[0;34m*\u001b[0m \u001b[0mself\u001b[0m\u001b[0;34m.\u001b[0m\u001b[0mweight\u001b[0m\u001b[0;34m,\u001b[0m \u001b[0mself\u001b[0m\u001b[0;34m.\u001b[0m\u001b[0mbias\u001b[0m\u001b[0;34m)\u001b[0m\u001b[0;34m\u001b[0m\u001b[0;34m\u001b[0m\u001b[0m\n\u001b[0m\u001b[1;32m     25\u001b[0m \u001b[0;34m\u001b[0m\u001b[0m\n\u001b[1;32m     26\u001b[0m \u001b[0;32mclass\u001b[0m \u001b[0mMADE\u001b[0m\u001b[0;34m(\u001b[0m\u001b[0mnn\u001b[0m\u001b[0;34m.\u001b[0m\u001b[0mModule\u001b[0m\u001b[0;34m)\u001b[0m\u001b[0;34m:\u001b[0m\u001b[0;34m\u001b[0m\u001b[0;34m\u001b[0m\u001b[0m\n",
      "\u001b[0;32m~/anaconda3/lib/python3.7/site-packages/torch/nn/functional.py\u001b[0m in \u001b[0;36mlinear\u001b[0;34m(input, weight, bias)\u001b[0m\n\u001b[1;32m   1367\u001b[0m     \u001b[0;32mif\u001b[0m \u001b[0minput\u001b[0m\u001b[0;34m.\u001b[0m\u001b[0mdim\u001b[0m\u001b[0;34m(\u001b[0m\u001b[0;34m)\u001b[0m \u001b[0;34m==\u001b[0m \u001b[0;36m2\u001b[0m \u001b[0;32mand\u001b[0m \u001b[0mbias\u001b[0m \u001b[0;32mis\u001b[0m \u001b[0;32mnot\u001b[0m \u001b[0;32mNone\u001b[0m\u001b[0;34m:\u001b[0m\u001b[0;34m\u001b[0m\u001b[0;34m\u001b[0m\u001b[0m\n\u001b[1;32m   1368\u001b[0m         \u001b[0;31m# fused op is marginally faster\u001b[0m\u001b[0;34m\u001b[0m\u001b[0;34m\u001b[0m\u001b[0;34m\u001b[0m\u001b[0m\n\u001b[0;32m-> 1369\u001b[0;31m         \u001b[0mret\u001b[0m \u001b[0;34m=\u001b[0m \u001b[0mtorch\u001b[0m\u001b[0;34m.\u001b[0m\u001b[0maddmm\u001b[0m\u001b[0;34m(\u001b[0m\u001b[0mbias\u001b[0m\u001b[0;34m,\u001b[0m \u001b[0minput\u001b[0m\u001b[0;34m,\u001b[0m \u001b[0mweight\u001b[0m\u001b[0;34m.\u001b[0m\u001b[0mt\u001b[0m\u001b[0;34m(\u001b[0m\u001b[0;34m)\u001b[0m\u001b[0;34m)\u001b[0m\u001b[0;34m\u001b[0m\u001b[0;34m\u001b[0m\u001b[0m\n\u001b[0m\u001b[1;32m   1370\u001b[0m     \u001b[0;32melse\u001b[0m\u001b[0;34m:\u001b[0m\u001b[0;34m\u001b[0m\u001b[0;34m\u001b[0m\u001b[0m\n\u001b[1;32m   1371\u001b[0m         \u001b[0moutput\u001b[0m \u001b[0;34m=\u001b[0m \u001b[0minput\u001b[0m\u001b[0;34m.\u001b[0m\u001b[0mmatmul\u001b[0m\u001b[0;34m(\u001b[0m\u001b[0mweight\u001b[0m\u001b[0;34m.\u001b[0m\u001b[0mt\u001b[0m\u001b[0;34m(\u001b[0m\u001b[0;34m)\u001b[0m\u001b[0;34m)\u001b[0m\u001b[0;34m\u001b[0m\u001b[0;34m\u001b[0m\u001b[0m\n",
      "\u001b[0;31mRuntimeError\u001b[0m: size mismatch, m1: [128 x 24], m2: [12 x 256] at /Users/distiller/project/conda/conda-bld/pytorch_1565272526878/work/aten/src/TH/generic/THTensorMath.cpp:752"
     ]
    }
   ],
   "source": [
    "x = torch.tensor(oh_eightMixture_sample(batch_size)).float()\n",
    "#print(x.shape)\n",
    "x= x.view(x.shape[0], -1)\n",
    "\n",
    "optimizer.zero_grad()\n",
    "zs = model.reverse(x)\n",
    "zs = zs.view(batch_size, 2, -1)\n",
    "#print('shape of zs', zs.shape, zs)\n",
    "logprob = zs*base_log_probs.float()"
   ]
  },
  {
   "cell_type": "code",
   "execution_count": 23,
   "metadata": {},
   "outputs": [
    {
     "data": {
      "text/plain": [
       "-0.025473569"
      ]
     },
     "execution_count": 23,
     "metadata": {},
     "output_type": "execute_result"
    }
   ],
   "source": [
    "res= []\n",
    "b_size = 32\n",
    "for i in range(100):\n",
    "    samps = base.sample((b_size,)).float()\n",
    "    logprob = samps*base_log_probs\n",
    "    \n",
    "    logprob = torch.sum(logprob, dim=2).sum(dim=1)\n",
    "    #print(logprob.shape)\n",
    "    loss = -torch.exp(logprob).sum()/b_size\n",
    "    \n",
    "    res.append(loss)\n",
    "    \n",
    "np.mean(np.asarray(res))"
   ]
  },
  {
   "cell_type": "code",
   "execution_count": 24,
   "metadata": {},
   "outputs": [
    {
     "data": {
      "text/plain": [
       "Text(0.5, 1.0, 'Distribution of optimal scores')"
      ]
     },
     "execution_count": 24,
     "metadata": {},
     "output_type": "execute_result"
    },
    {
     "data": {
      "image/png": "[encoded data removed]",
      "text/plain": [
       "<Figure size 432x288 with 1 Axes>"
      ]
     },
     "metadata": {
      "needs_background": "light"
     },
     "output_type": "display_data"
    }
   ],
   "source": [
    "plt.hist(res)\n",
    "plt.title('Distribution of optimal scores')"
   ]
  },
  {
   "cell_type": "code",
   "execution_count": 26,
   "metadata": {},
   "outputs": [
    {
     "data": {
      "text/plain": [
       "<matplotlib.collections.PathCollection at 0x1a30cc70d0>"
      ]
     },
     "execution_count": 26,
     "metadata": {},
     "output_type": "execute_result"
    },
    {
     "data": {
      "image/png": "[encoded data removed]",
      "text/plain": [
       "<Figure size 360x360 with 1 Axes>"
      ]
     },
     "metadata": {
      "needs_background": "light"
     },
     "output_type": "display_data"
    }
   ],
   "source": [
    "p = base.sample((10000,)).argmax(-1)\n",
    "plt.figure(figsize=(5,5))\n",
    "\n",
    "plt.scatter(p[:,0], p[:,1], c='g', s=5, alpha=0.05)"
   ]
  },
  {
   "cell_type": "code",
   "execution_count": 28,
   "metadata": {},
   "outputs": [
    {
     "name": "stdout",
     "output_type": "stream",
     "text": [
      "autoreg\n"
     ]
    },
    {
     "data": {
      "text/plain": [
       "<matplotlib.collections.PathCollection at 0x1a35b05210>"
      ]
     },
     "execution_count": 28,
     "metadata": {},
     "output_type": "execute_result"
    },
    {
     "data": {
      "image/png": "[encoded data removed]",
      "text/plain": [
       "<Figure size 360x360 with 1 Axes>"
      ]
     },
     "metadata": {
      "needs_background": "light"
     },
     "output_type": "display_data"
    }
   ],
   "source": [
    "nsamps = 1000\n",
    "plt.figure(figsize=(5,5))\n",
    "if disc_layer_type == 'bipartite':\n",
    "    z = model.forward(base.sample((nsamps,)).float().view(nsamps, -1)).detach().numpy()\n",
    "else: \n",
    "    print('autoreg')\n",
    "    z = model.forward(base.sample((nsamps,)).float()).detach().numpy()\n",
    "    z = z.argmax(-1)\n",
    "plt.scatter(z[:,0], z[:,1], c='r', s=5, alpha=0.05)"
   ]
  },
  {
   "cell_type": "code",
   "execution_count": 187,
   "metadata": {},
   "outputs": [
    {
     "data": {
      "text/plain": [
       "(1000, 2, 100)"
      ]
     },
     "execution_count": 187,
     "metadata": {},
     "output_type": "execute_result"
    }
   ],
   "source": [
    "z.shape"
   ]
  },
  {
   "cell_type": "code",
   "execution_count": null,
   "metadata": {},
   "outputs": [],
   "source": []
  },
  {
   "cell_type": "markdown",
   "metadata": {},
   "source": [
    "## Checking how block insertion works"
   ]
  },
  {
   "cell_type": "code",
   "execution_count": 150,
   "metadata": {},
   "outputs": [],
   "source": [
    "s = np.random.randint(0,10, (50,6))\n",
    "s0 = s[:,::2]\n",
    "s1 = s[:,1::2]\n",
    "#print(s, s0)\n",
    "np.concatenate([s0,s1], 1);"
   ]
  },
  {
   "cell_type": "code",
   "execution_count": 151,
   "metadata": {},
   "outputs": [
    {
     "data": {
      "text/plain": [
       "AffineHalfFlow(\n",
       "  (s_cond): MLP(\n",
       "    (net): Sequential(\n",
       "      (0): Linear(in_features=3, out_features=24, bias=True)\n",
       "      (1): LeakyReLU(negative_slope=0.2)\n",
       "      (2): Linear(in_features=24, out_features=24, bias=True)\n",
       "      (3): LeakyReLU(negative_slope=0.2)\n",
       "      (4): Linear(in_features=24, out_features=24, bias=True)\n",
       "      (5): LeakyReLU(negative_slope=0.2)\n",
       "      (6): Linear(in_features=24, out_features=3, bias=True)\n",
       "    )\n",
       "  )\n",
       "  (t_cond): MLP(\n",
       "    (net): Sequential(\n",
       "      (0): Linear(in_features=3, out_features=24, bias=True)\n",
       "      (1): LeakyReLU(negative_slope=0.2)\n",
       "      (2): Linear(in_features=24, out_features=24, bias=True)\n",
       "      (3): LeakyReLU(negative_slope=0.2)\n",
       "      (4): Linear(in_features=24, out_features=24, bias=True)\n",
       "      (5): LeakyReLU(negative_slope=0.2)\n",
       "      (6): Linear(in_features=24, out_features=3, bias=True)\n",
       "    )\n",
       "  )\n",
       ")"
      ]
     },
     "execution_count": 151,
     "metadata": {},
     "output_type": "execute_result"
    }
   ],
   "source": [
    "AffineHalfFlow( 6, False)"
   ]
  },
  {
   "cell_type": "code",
   "execution_count": 66,
   "metadata": {},
   "outputs": [
    {
     "name": "stderr",
     "output_type": "stream",
     "text": [
      "/Users/trentonbricken/anaconda3/lib/python3.7/site-packages/ipykernel_launcher.py:4: UserWarning: To copy construct from a tensor, it is recommended to use sourceTensor.clone().detach() or sourceTensor.clone().detach().requires_grad_(True), rather than torch.tensor(sourceTensor).\n",
      "  after removing the cwd from sys.path.\n",
      "/Users/trentonbricken/anaconda3/lib/python3.7/site-packages/ipykernel_launcher.py:7: UserWarning: To copy construct from a tensor, it is recommended to use sourceTensor.clone().detach() or sourceTensor.clone().detach().requires_grad_(True), rather than torch.tensor(sourceTensor).\n",
      "  import sys\n"
     ]
    }
   ],
   "source": [
    "layers = [AffineHalfFlow( 6, False), AffineHalfFlow( 6, True)]\n",
    "f = s\n",
    "for l in layers: \n",
    "    f = lol.forward(torch.tensor(f).float())[0]\n",
    "b = f\n",
    "for l in layers: \n",
    "    b = lol.forward(torch.tensor(b).float())[0]\n"
   ]
  },
  {
   "cell_type": "code",
   "execution_count": 223,
   "metadata": {},
   "outputs": [],
   "source": [
    "base = torch.distributions.multivariate_normal.MultivariateNormal(torch.zeros(10), torch.eye(10))\n",
    "\n",
    "flows = [AffineHalfFlow(dim=10, parity=i%2, nh=24 ,\n",
    "                        scale=False, block_mask=False) for i in range(4)]\n",
    "flows.append(AffineConstantFlow(dim=10, shift=False))\n",
    "network = NormalizingFlowModel(base, flows)\n",
    "   "
   ]
  },
  {
   "cell_type": "code",
   "execution_count": 224,
   "metadata": {},
   "outputs": [
    {
     "data": {
      "text/plain": [
       "torch.Size([10000, 10])"
      ]
     },
     "execution_count": 224,
     "metadata": {},
     "output_type": "execute_result"
    }
   ],
   "source": [
    "s = network.sample()\n",
    "s.shape"
   ]
  },
  {
   "cell_type": "code",
   "execution_count": 225,
   "metadata": {},
   "outputs": [],
   "source": [
    "s = torch.tensor(np.random.randint(0,10, (50,10))).float()"
   ]
  },
  {
   "cell_type": "code",
   "execution_count": 226,
   "metadata": {},
   "outputs": [
    {
     "data": {
      "text/plain": [
       "tensor([[0., 3., 6., 9., 6., 1., 5., 4., 9., 4.],\n",
       "        [5., 4., 3., 5., 6., 2., 1., 0., 2., 2.]])"
      ]
     },
     "execution_count": 226,
     "metadata": {},
     "output_type": "execute_result"
    }
   ],
   "source": [
    "s[0:2]"
   ]
  },
  {
   "cell_type": "code",
   "execution_count": 227,
   "metadata": {},
   "outputs": [],
   "source": [
    "f = network.forward(s)[0]\n"
   ]
  },
  {
   "cell_type": "code",
   "execution_count": 228,
   "metadata": {},
   "outputs": [
    {
     "data": {
      "text/plain": [
       "tensor([[ 0.3711,  2.0053,  1.2576,  3.8458, 13.5337,  0.6626,  5.6304, 21.8273,\n",
       "         13.9251,  0.5547],\n",
       "        [ 4.0072,  2.8304,  0.6248,  2.1776, 13.9554,  0.9793,  0.8463, -1.6907,\n",
       "          2.7597,  0.2816]], grad_fn=<SliceBackward>)"
      ]
     },
     "execution_count": 228,
     "metadata": {},
     "output_type": "execute_result"
    }
   ],
   "source": [
    "f[0:2]"
   ]
  },
  {
   "cell_type": "code",
   "execution_count": 229,
   "metadata": {},
   "outputs": [],
   "source": [
    "b = network.backward(f)[0]"
   ]
  },
  {
   "cell_type": "code",
   "execution_count": 230,
   "metadata": {},
   "outputs": [
    {
     "data": {
      "text/plain": [
       "tensor([[-2.9802e-08,  3.0000e+00,  6.0000e+00,  9.0000e+00,  6.0000e+00,\n",
       "          1.0000e+00,  5.0000e+00,  4.0000e+00,  9.0000e+00,  4.0000e+00],\n",
       "        [ 5.0000e+00,  4.0000e+00,  3.0000e+00,  5.0000e+00,  6.0000e+00,\n",
       "          2.0000e+00,  1.0000e+00,  0.0000e+00,  2.0000e+00,  2.0000e+00]],\n",
       "       grad_fn=<SliceBackward>)"
      ]
     },
     "execution_count": 230,
     "metadata": {},
     "output_type": "execute_result"
    }
   ],
   "source": [
    "b[0:2]"
   ]
  },
  {
   "cell_type": "code",
   "execution_count": 206,
   "metadata": {},
   "outputs": [
    {
     "data": {
      "text/plain": [
       "tensor([[False, False, False, False, False, False, False, False, False, False],\n",
       "        [False, False, False, False, False, False, False, False, False, False],\n",
       "        [False, False, False, False, False, False, False, False, False, False],\n",
       "        [False, False, False, False, False, False, False, False, False, False],\n",
       "        [False, False, False, False, False, False, False, False, False, False],\n",
       "        [False, False, False, False, False, False, False, False, False, False],\n",
       "        [False, False, False, False, False, False, False, False, False, False],\n",
       "        [False, False, False, False, False, False, False, False, False, False],\n",
       "        [False, False, False, False, False, False, False, False, False, False],\n",
       "        [False, False, False, False, False, False, False, False, False, False],\n",
       "        [False, False, False, False, False, False, False, False, False, False],\n",
       "        [False, False, False, False, False, False, False, False, False, False],\n",
       "        [False, False, False, False, False, False, False, False, False, False],\n",
       "        [False, False, False, False, False, False, False, False, False, False],\n",
       "        [False, False, False, False, False, False, False, False, False, False],\n",
       "        [False, False, False, False, False, False, False, False, False, False],\n",
       "        [False, False, False, False, False, False, False, False, False, False],\n",
       "        [False, False, False, False, False, False, False, False, False, False],\n",
       "        [False, False, False, False, False, False, False, False, False, False],\n",
       "        [False, False, False, False, False, False, False, False, False, False],\n",
       "        [False, False, False, False, False, False, False, False, False, False],\n",
       "        [False, False, False, False, False, False, False, False, False, False],\n",
       "        [False, False, False, False, False, False, False, False, False, False],\n",
       "        [False, False, False, False, False, False, False, False, False, False],\n",
       "        [False, False, False, False, False, False, False, False, False, False],\n",
       "        [False, False, False, False, False, False, False, False, False, False],\n",
       "        [False, False, False, False, False, False, False, False, False, False],\n",
       "        [False, False, False, False, False, False, False, False, False, False],\n",
       "        [False, False, False, False, False, False, False, False, False, False],\n",
       "        [False, False, False, False, False, False, False, False, False, False],\n",
       "        [False, False, False, False, False, False, False, False, False, False],\n",
       "        [False, False, False, False, False, False, False, False, False, False],\n",
       "        [False, False, False, False, False, False, False, False, False, False],\n",
       "        [False, False, False, False, False, False, False, False, False, False],\n",
       "        [False, False, False, False, False, False, False, False, False, False],\n",
       "        [False, False, False, False, False, False, False, False, False, False],\n",
       "        [False, False, False, False, False, False, False, False, False, False],\n",
       "        [False, False, False, False, False, False, False, False, False, False],\n",
       "        [False, False, False, False, False, False, False, False, False, False],\n",
       "        [False, False, False, False, False, False, False, False, False, False],\n",
       "        [False, False, False, False, False, False, False, False, False, False],\n",
       "        [False, False, False, False, False, False, False, False, False, False],\n",
       "        [False, False, False, False, False, False, False, False, False, False],\n",
       "        [False, False, False, False, False, False, False, False, False, False],\n",
       "        [False, False, False, False, False, False, False, False, False, False],\n",
       "        [False, False, False, False, False, False, False, False, False, False],\n",
       "        [False, False, False, False, False, False, False, False, False, False],\n",
       "        [False, False, False, False, False, False, False, False, False, False],\n",
       "        [False, False, False, False, False, False, False, False, False, False],\n",
       "        [False, False, False, False, False, False, False, False, False, False]])"
      ]
     },
     "execution_count": 206,
     "metadata": {},
     "output_type": "execute_result"
    }
   ],
   "source": [
    "s == b"
   ]
  },
  {
   "cell_type": "code",
   "execution_count": 67,
   "metadata": {},
   "outputs": [
    {
     "data": {
      "text/plain": [
       "array([[ True, False, False, False, False, False],\n",
       "       [ True, False, False, False, False, False],\n",
       "       [ True, False, False, False, False, False],\n",
       "       [ True, False, False, False, False, False],\n",
       "       [ True, False, False, False, False, False],\n",
       "       [ True, False, False, False, False, False],\n",
       "       [ True, False, False, False, False, False],\n",
       "       [ True, False, False, False, False, False],\n",
       "       [ True, False, False, False, False, False],\n",
       "       [ True, False, False, False, False, False],\n",
       "       [ True, False, False, False, False, False],\n",
       "       [ True, False, False, False, False, False],\n",
       "       [ True, False, False, False, False, False],\n",
       "       [ True, False, False, False, False, False],\n",
       "       [ True, False, False, False, False, False],\n",
       "       [ True, False, False, False, False, False],\n",
       "       [ True, False, False, False, False, False],\n",
       "       [ True, False, False, False, False, False],\n",
       "       [ True, False, False, False, False, False],\n",
       "       [ True, False, False, False, False, False],\n",
       "       [ True, False, False, False, False, False],\n",
       "       [ True, False, False, False, False, False],\n",
       "       [ True, False, False, False, False, False],\n",
       "       [ True, False, False, False, False, False],\n",
       "       [ True, False, False, False, False, False],\n",
       "       [ True, False, False, False, False, False],\n",
       "       [ True, False, False, False, False, False],\n",
       "       [ True, False, False, False, False, False],\n",
       "       [ True, False, False, False, False, False],\n",
       "       [ True, False, False, False, False, False],\n",
       "       [ True, False, False, False, False, False],\n",
       "       [ True, False, False, False, False, False],\n",
       "       [ True, False, False, False, False, False],\n",
       "       [ True, False, False, False, False, False],\n",
       "       [ True, False, False, False, False, False],\n",
       "       [ True, False, False, False, False, False],\n",
       "       [ True, False, False, False, False, False],\n",
       "       [ True, False, False, False, False, False],\n",
       "       [ True, False, False, False, False, False],\n",
       "       [ True, False, False, False, False, False],\n",
       "       [ True, False, False, False, False, False],\n",
       "       [ True, False, False, False, False, False],\n",
       "       [ True, False, False, False, False, False],\n",
       "       [ True, False, False, False, False, False],\n",
       "       [ True, False, False, False, False, False],\n",
       "       [ True, False, False, False, False, False],\n",
       "       [ True, False, False, False, False, False],\n",
       "       [ True, False, False, False, False, False],\n",
       "       [ True, False, False, False, False, False],\n",
       "       [ True, False, False, False, False, False]])"
      ]
     },
     "execution_count": 67,
     "metadata": {},
     "output_type": "execute_result"
    }
   ],
   "source": [
    "s == b.detach().numpy()"
   ]
  },
  {
   "cell_type": "code",
   "execution_count": 174,
   "metadata": {},
   "outputs": [
    {
     "data": {
      "text/plain": [
       "tensor([[0., 0., 1., 0., 2., 0.],\n",
       "        [0., 0., 1., 0., 2., 0.],\n",
       "        [0., 0., 1., 0., 2., 0.],\n",
       "        [0., 0., 1., 0., 2., 0.],\n",
       "        [0., 0., 1., 0., 2., 0.],\n",
       "        [0., 0., 1., 0., 2., 0.],\n",
       "        [0., 0., 1., 0., 2., 0.],\n",
       "        [0., 0., 1., 0., 2., 0.],\n",
       "        [0., 0., 1., 0., 2., 0.],\n",
       "        [0., 0., 1., 0., 2., 0.],\n",
       "        [0., 0., 1., 0., 2., 0.],\n",
       "        [0., 0., 1., 0., 2., 0.],\n",
       "        [0., 0., 1., 0., 2., 0.],\n",
       "        [0., 0., 1., 0., 2., 0.],\n",
       "        [0., 0., 1., 0., 2., 0.],\n",
       "        [0., 0., 1., 0., 2., 0.],\n",
       "        [0., 0., 1., 0., 2., 0.],\n",
       "        [0., 0., 1., 0., 2., 0.],\n",
       "        [0., 0., 1., 0., 2., 0.],\n",
       "        [0., 0., 1., 0., 2., 0.]])"
      ]
     },
     "execution_count": 174,
     "metadata": {},
     "output_type": "execute_result"
    }
   ],
   "source": [
    "ins = torch.arange( 3) \n",
    "to = torch.zeros((20,6))\n",
    "to[:,::2] = ins\n",
    "to"
   ]
  },
  {
   "cell_type": "code",
   "execution_count": null,
   "metadata": {},
   "outputs": [],
   "source": []
  }
 ],
 "metadata": {
  "kernelspec": {
   "display_name": "Python 3",
   "language": "python",
   "name": "python3"
  },
  "language_info": {
   "codemirror_mode": {
    "name": "ipython",
    "version": 3
   },
   "file_extension": ".py",
   "mimetype": "text/x-python",
   "name": "python",
   "nbconvert_exporter": "python",
   "pygments_lexer": "ipython3",
   "version": "3.7.5"
  }
 },
 "nbformat": 4,
 "nbformat_minor": 4
}
