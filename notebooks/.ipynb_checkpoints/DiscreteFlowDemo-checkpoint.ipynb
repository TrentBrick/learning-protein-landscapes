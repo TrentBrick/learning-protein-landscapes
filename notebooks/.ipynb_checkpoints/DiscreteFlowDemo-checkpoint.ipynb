{
 "cells": [
  {
   "cell_type": "markdown",
   "metadata": {},
   "source": [
    "Parts of this notebook are taken from Andre Karpathy: https://github.com/karpathy/pytorch-normalizing-flows/blob/master/nflib1.ipynb\n",
    "and have been modified. "
   ]
  },
  {
   "cell_type": "code",
   "execution_count": null,
   "metadata": {},
   "outputs": [],
   "source": [
    "import numpy as np\n",
    "import matplotlib.pyplot as plt\n",
    "from scipy.stats import multivariate_normal\n",
    "import torch\n",
    "import itertools"
   ]
  },
  {
   "cell_type": "code",
   "execution_count": null,
   "metadata": {},
   "outputs": [],
   "source": [
    "import os\n",
    "os.chdir('../nflib')\n",
    "# importing all of the normalizing flows. \n",
    "import disc_utils\n",
    "from MADE import *\n",
    "from nets import MLP\n",
    "from TorchDiscCode import *"
   ]
  },
  {
   "cell_type": "code",
   "execution_count": 3,
   "metadata": {},
   "outputs": [],
   "source": [
    "# will autoupdate any of the packages imported:\n",
    "%load_ext autoreload\n",
    "%autoreload 2"
   ]
  },
  {
   "cell_type": "markdown",
   "metadata": {},
   "source": [
    "## Generating the training data. A 2D Gaussian. \n",
    "Storing the data as variable \"data\" which will then be sampled from. "
   ]
  },
  {
   "cell_type": "code",
   "execution_count": 21,
   "metadata": {},
   "outputs": [
    {
     "data": {
      "text/plain": [
       "<matplotlib.collections.PathCollection at 0x1a2cface50>"
      ]
     },
     "execution_count": 21,
     "metadata": {},
     "output_type": "execute_result"
    },
    {
     "data": {
      "image/png": "[encoded data removed]",
      "text/plain": [
       "<Figure size 432x288 with 1 Axes>"
      ]
     },
     "metadata": {
      "needs_background": "light"
     },
     "output_type": "display_data"
    }
   ],
   "source": [
    "n_samps = 1000\n",
    "mean = np.array([5,7] ) \n",
    "data = np.zeros((len(means)*n_samps,2))\n",
    "samps = multivariate_normal(mean, np.eye(2)*2).rvs(n_samps)#.astype(int)\n",
    "data[ind*n_samps:((ind+1)*n_samps)] = samps\n",
    "plt.scatter(samps[:,0], samps[:,1])"
   ]
  },
  {
   "cell_type": "markdown",
   "metadata": {},
   "source": [
    "## Converting data into onehot vectors\n",
    "Need to define the vocabulary size to do this. "
   ]
  },
  {
   "cell_type": "code",
   "execution_count": 32,
   "metadata": {},
   "outputs": [],
   "source": [
    "def one_hotter(x, depth):\n",
    "    idd = np.eye(depth)\n",
    "    #print(idd[0])\n",
    "    res = np.zeros((x.shape[0], x.shape[1], depth))\n",
    "    #print(res.shape)\n",
    "    for ind in range(len(x)): \n",
    "        for j, val in enumerate(x[ind]):\n",
    "            if int(val) >= depth:\n",
    "                val = depth-1\n",
    "                #print(val)\n",
    "            res[ind, j, :] = idd[int(val)]\n",
    "            \n",
    "    return res    \n",
    "\n",
    "batch_size, sequence_length, vocab_size = 128, 2, 30\n",
    "\n",
    "oh = one_hotter(data, vocab_size)"
   ]
  },
  {
   "cell_type": "markdown",
   "metadata": {},
   "source": [
    "## Generating an example onehot sample of the data:"
   ]
  },
  {
   "cell_type": "code",
   "execution_count": 33,
   "metadata": {},
   "outputs": [
    {
     "data": {
      "text/plain": [
       "<matplotlib.collections.PathCollection at 0x1a2d7c3590>"
      ]
     },
     "execution_count": 33,
     "metadata": {},
     "output_type": "execute_result"
    },
    {
     "data": {
      "image/png": "[encoded data removed]",
      "text/plain": [
       "<Figure size 360x360 with 1 Axes>"
      ]
     },
     "metadata": {
      "needs_background": "light"
     },
     "output_type": "display_data"
    }
   ],
   "source": [
    "def oh_sample(batch_size):\n",
    "    rand = np.random.choice(np.arange(len(oh)), batch_size)\n",
    "    return oh[rand,:]\n",
    "\n",
    "samps = oh_sample(10000).argmax(-1)\n",
    "plt.figure(figsize=(5,5))\n",
    "plt.scatter(samps[:,0], samps[:,1])"
   ]
  },
  {
   "cell_type": "markdown",
   "metadata": {},
   "source": [
    "## Generating the model"
   ]
  },
  {
   "cell_type": "code",
   "execution_count": 34,
   "metadata": {},
   "outputs": [],
   "source": [
    "num_flows = 6 # number of flow steps. This is different to the number of layers used inside each flow\n",
    "nh = 32 # number of hidden units per layer\n",
    "vector_length = sequence_length*vocab_size \n",
    "temperature = 0.1 # used for the straight-through gradient estimator. Value taken from the paper\n",
    "disc_layer_type = 'bipartite' #'autoreg'\n",
    "flows = []"
   ]
  },
  {
   "cell_type": "code",
   "execution_count": 35,
   "metadata": {},
   "outputs": [
    {
     "ename": "NameError",
     "evalue": "name 'MLP' is not defined",
     "output_type": "error",
     "traceback": [
      "\u001b[0;31m---------------------------------------------------------------------------\u001b[0m",
      "\u001b[0;31mNameError\u001b[0m                                 Traceback (most recent call last)",
      "\u001b[0;32m<ipython-input-35-29f7bb2d3cf0>\u001b[0m in \u001b[0;36m<module>\u001b[0;34m\u001b[0m\n\u001b[1;32m     12\u001b[0m \u001b[0;34m\u001b[0m\u001b[0m\n\u001b[1;32m     13\u001b[0m     \u001b[0;32melif\u001b[0m \u001b[0mdisc_layer_type\u001b[0m \u001b[0;34m==\u001b[0m \u001b[0;34m'bipartite'\u001b[0m\u001b[0;34m:\u001b[0m\u001b[0;34m\u001b[0m\u001b[0;34m\u001b[0m\u001b[0m\n\u001b[0;32m---> 14\u001b[0;31m         \u001b[0mlayer\u001b[0m \u001b[0;34m=\u001b[0m \u001b[0mMLP\u001b[0m\u001b[0;34m(\u001b[0m\u001b[0mvector_length\u001b[0m\u001b[0;34m//\u001b[0m\u001b[0;36m2\u001b[0m\u001b[0;34m,\u001b[0m \u001b[0mvector_length\u001b[0m\u001b[0;34m//\u001b[0m\u001b[0;36m2\u001b[0m\u001b[0;34m,\u001b[0m \u001b[0mnh\u001b[0m\u001b[0;34m)\u001b[0m\u001b[0;34m\u001b[0m\u001b[0;34m\u001b[0m\u001b[0m\n\u001b[0m\u001b[1;32m     15\u001b[0m         \u001b[0;31m# to get the scale also, set MLP(vector_length//2, vector_length, nh)\u001b[0m\u001b[0;34m\u001b[0m\u001b[0;34m\u001b[0m\u001b[0;34m\u001b[0m\u001b[0m\n\u001b[1;32m     16\u001b[0m         \u001b[0;31m# MLP defaults to the following architecture for each individual flow:\u001b[0m\u001b[0;34m\u001b[0m\u001b[0;34m\u001b[0m\u001b[0;34m\u001b[0m\u001b[0m\n",
      "\u001b[0;31mNameError\u001b[0m: name 'MLP' is not defined"
     ]
    }
   ],
   "source": [
    "for i in range(num_flows):\n",
    "    if disc_layer_type == 'autoreg':\n",
    "        layer = MADE(vocab_size, [nh, nh, nh], vocab_size, \n",
    "                     num_masks=1, natural_ordering=True)\n",
    "        # if want to also learn the scale: \n",
    "        # put MADE(vocab_size, [nh, nh, nh], 2*vocab_size, num_masks=1, natural_ordering=True)\n",
    "        \n",
    "        # if natural ordering is false then this only works for up to 4 layers!!!!\n",
    "        # TODO: fix this bug. \n",
    "        \n",
    "        disc_layer = DiscreteAutoregressiveFlow( layer, temperature, vocab_size )\n",
    "    \n",
    "    elif disc_layer_type == 'bipartite':\n",
    "        layer = MLP(vector_length//2, vector_length//2, nh)\n",
    "        # to get the scale also, set MLP(vector_length//2, vector_length, nh)\n",
    "        # MLP defaults to the following architecture for each individual flow: \n",
    "        '''\n",
    "        self.net = nn.Sequential(\n",
    "            nn.Linear(nin, nh),\n",
    "            nn.LeakyReLU(0.2),\n",
    "            nn.Linear(nh, nh),\n",
    "            nn.LeakyReLU(0.2),\n",
    "            nn.Linear(nh, nh),\n",
    "            nn.LeakyReLU(0.2),\n",
    "            nn.Linear(nh, nout),\n",
    "        )\n",
    "        '''\n",
    "        \n",
    "        disc_layer = DiscreteBipartiteFlow(layer, i%2, temperature, vocab_size, vector_length)\n",
    "        # i%2 flips the parity of the masking. It splits the vector in half and alternates\n",
    "        # each flow between changing the first half or the second. \n",
    "    flows.append(disc_layer)\n",
    "    \n",
    "model = DiscreteAutoFlowModel(flows)"
   ]
  },
  {
   "cell_type": "markdown",
   "metadata": {},
   "source": [
    "## Generate the base distribution/prior. \n",
    "This learns a factorized distribution but deliberately shifts it to make learning meaningful for this single 2D Gaussian. "
   ]
  },
  {
   "cell_type": "code",
   "execution_count": 36,
   "metadata": {},
   "outputs": [
    {
     "data": {
      "text/plain": [
       "(10000, 2)"
      ]
     },
     "execution_count": 36,
     "metadata": {},
     "output_type": "execute_result"
    }
   ],
   "source": [
    "mod_data_samps.shape"
   ]
  },
  {
   "cell_type": "code",
   "execution_count": 37,
   "metadata": {},
   "outputs": [
    {
     "data": {
      "image/png": "[encoded data removed]",
      "text/plain": [
       "<Figure size 432x288 with 1 Axes>"
      ]
     },
     "metadata": {
      "needs_background": "light"
     },
     "output_type": "display_data"
    }
   ],
   "source": [
    "n_samps = 10000\n",
    "data_samps = oh_sample(n_samps).argmax(-1) \n",
    "mod_data_samps = data_samps+15\n",
    "plt.scatter(data_samps[:,0], data_samps[:,1], label = 'original data')\n",
    "plt.scatter(mod_data_samps[:,0], mod_data_samps[:,1], label = 'shifted data')\n",
    "plt.legend()\n",
    "plt.show()"
   ]
  },
  {
   "cell_type": "markdown",
   "metadata": {},
   "source": [
    "## Converting into a proper probability distribution"
   ]
  },
  {
   "cell_type": "code",
   "execution_count": 38,
   "metadata": {},
   "outputs": [
    {
     "data": {
      "image/png": "[encoded data removed]",
      "text/plain": [
       "<Figure size 432x288 with 1 Axes>"
      ]
     },
     "metadata": {
      "needs_background": "light"
     },
     "output_type": "display_data"
    }
   ],
   "source": [
    "import collections\n",
    "import pandas as pd\n",
    "mod_data_dim0 = collections.Counter(mod_data_samps[:,0])\n",
    "mod_data_dim1 = collections.Counter(mod_data_samps[:,1])\n",
    "dim0_probs = np.zeros((vocab_size))\n",
    "dim1_probs = np.zeros((vocab_size))\n",
    "for k, v in mod_data_dim0.items():\n",
    "    dim0_probs[k] = v/n_samps\n",
    "for k, v in mod_data_dim1.items():\n",
    "    dim1_probs[k] = (v/n_samps)\n",
    "\n",
    "dim0_probs += 0.000001\n",
    "dim1_probs += 0.000001\n",
    "\n",
    "# need to renormalize again... \n",
    "dim0_probs = dim0_probs / np.sum(dim0_probs)\n",
    "dim1_probs = dim1_probs / np.sum(dim1_probs)\n",
    "\n",
    "mod_data_probs = np.vstack([dim0_probs, dim1_probs])\n",
    "\n",
    "base = torch.distributions.OneHotCategorical(probs = torch.tensor(mod_data_probs).float() )\n",
    "samps = base.sample((10000,)).argmax(-1)\n",
    "plt.scatter(samps[:,0], samps[:,1], label = 'shifted data')\n",
    "plt.show()"
   ]
  },
  {
   "cell_type": "code",
   "execution_count": null,
   "metadata": {},
   "outputs": [],
   "source": [
    "epochs = 800\n",
    "learning_rate = 0.0001\n",
    "print_loss_every = 5\n",
    "optimizer = torch.optim.Adam(model.parameters(), lr=learning_rate)\n",
    "losses = []\n",
    "weights = []\n",
    "base_log_probs = torch.log(base.probs)\n",
    "model.train()\n",
    "for e in range(epochs):\n",
    "    x = torch.tensor(oh_sample(batch_size)).float()\n",
    "    \n",
    "    if disc_layer_type == 'bipartite':\n",
    "        x= x.view(x.shape[0], -1) #flattening vector\n",
    "    \n",
    "    optimizer.zero_grad()\n",
    "    zs = model.forward(x)\n",
    "    \n",
    "    if disc_layer_type == 'bipartite':\n",
    "        zs = zs.view(batch_size, 2, -1) # flattening vector\n",
    "    \n",
    "    logprob = zs*base_log_probs.float()\n",
    "    loss = -torch.sum(logprob)/batch_size\n",
    "    \n",
    "    loss.backward()\n",
    "    optimizer.step()\n",
    "    \n",
    "    losses.append(loss.detach())\n",
    "    \n",
    "    if e%print_loss_every==0:\n",
    "        print('epoch:', e, 'loss:', loss.item())\n",
    "\n",
    "plt.plot(losses)"
   ]
  },
  {
   "cell_type": "markdown",
   "metadata": {},
   "source": [
    "## Analyze model performance"
   ]
  },
  {
   "cell_type": "code",
   "execution_count": null,
   "metadata": {},
   "outputs": [],
   "source": [
    "model.eval()\n",
    "x = torch.tensor(oh_sample(batch_size)).float()\n",
    "if disc_layer_type == 'bipartite':\n",
    "    x = x.view(batch_size, -1)\n",
    "zs = model.forward(x)\n",
    "z = zs\n",
    "if disc_layer_type == 'bipartite':\n",
    "    z = z.view(batch_size, 2, -1)\n",
    "    x = x.view(batch_size, 2, -1)\n",
    "\n",
    "x = x.detach().numpy().argmax(-1)\n",
    "z = z.detach().numpy().argmax(-1)\n",
    "p = base.sample((batch_size,)).argmax(-1)\n",
    "plt.figure(figsize=(10,5))\n",
    "plt.subplot(121)\n",
    "plt.scatter(p[:,0], p[:,1], c='g', s=5)\n",
    "plt.scatter(z[:,0], z[:,1], c='r', s=5)\n",
    "plt.scatter(x[:,0], x[:,1], c='b', s=5)\n",
    "plt.legend(['prior', 'x->z', 'data'])\n",
    "plt.axis('scaled')\n",
    "plt.title('x -> z')\n",
    "plt.xlim([0,vocab_size])\n",
    "plt.ylim([0,vocab_size])\n",
    "\n",
    "if disc_layer_type == 'bipartite':\n",
    "    z = model.reverse(base.sample((batch_size,)).float().view(batch_size, -1))\n",
    "    z = z.view(batch_size, 2, -1)\n",
    "else: \n",
    "    z = model.reverse(base.sample((batch_size,)).float())\n",
    "z = z.detach().numpy().argmax(-1)\n",
    "plt.subplot(122)\n",
    "plt.scatter(x[:,0], x[:,1], c='b', s=5, alpha=0.5)\n",
    "plt.scatter(z[:,0], z[:,1], c='r', s=5, alpha=0.3)\n",
    "plt.legend(['data', 'z->x'])\n",
    "plt.axis('scaled')\n",
    "plt.title('z -> x')\n",
    "plt.xlim([0,vocab_size])\n",
    "plt.ylim([0,vocab_size])"
   ]
  }
 ],
 "metadata": {
  "kernelspec": {
   "display_name": "Python 3",
   "language": "python",
   "name": "python3"
  },
  "language_info": {
   "codemirror_mode": {
    "name": "ipython",
    "version": 3
   },
   "file_extension": ".py",
   "mimetype": "text/x-python",
   "name": "python",
   "nbconvert_exporter": "python",
   "pygments_lexer": "ipython3",
   "version": "3.7.5"
  }
 },
 "nbformat": 4,
 "nbformat_minor": 4
}
