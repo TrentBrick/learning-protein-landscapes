{
 "cells": [
  {
   "cell_type": "code",
   "execution_count": 1,
   "metadata": {},
   "outputs": [],
   "source": [
    "import numpy as np\n",
    "\n",
    "import seaborn as sns\n",
    "import matplotlib.pylab as plt\n",
    "from scipy.special import softmax\n",
    "import json \n",
    "import torch"
   ]
  },
  {
   "cell_type": "code",
   "execution_count": 2,
   "metadata": {},
   "outputs": [
    {
     "name": "stdout",
     "output_type": "stream",
     "text": [
      "/Users/trentonbricken/protein-gen/pytorch\n"
     ]
    }
   ],
   "source": [
    "cd ../pytorch"
   ]
  },
  {
   "cell_type": "code",
   "execution_count": 3,
   "metadata": {},
   "outputs": [],
   "source": [
    "from metropolis import MetropolisHastings\n",
    "from utils import *\n",
    "from EVCouplingsGen import *\n",
    "from evcouplings.couplings import CouplingsModel\n",
    "from EVCouplingsStuff.seq_sele import *"
   ]
  },
  {
   "cell_type": "code",
   "execution_count": 4,
   "metadata": {},
   "outputs": [],
   "source": [
    "params = {'protein_length':2}\n",
    "# Loading in EVCouplings model \n",
    "focus_seqs = read_fa('EVCouplingsStuff/DYR_ECOLI_1_b0.5.a2m_trimmed.fa')\n",
    "evc_model = CouplingsModel('EVCouplingsStuff/DYR.model')\n",
    "\n",
    "# extracting the model parameters used to determine the evolutionary hamiltonian\n",
    "h = evc_model.h_i\n",
    "J = evc_model.J_ij\n",
    "\n",
    "if params['protein_length'] > 0:\n",
    "    h = h[0:params['protein_length'], :]\n",
    "    J = J[0:params['protein_length'], 0:params['protein_length'], :,:]\n",
    "\n",
    "# processing and plotting the natural sequences: \n",
    "# first by converting amino acids into integers and also onehots. \n",
    "enc_seqs=[]\n",
    "oh = []\n",
    "AA=h.shape[1] # number of amino acids\n",
    "for seq in focus_seqs['seq']:\n",
    "    enc_seq = np.asarray(encode_aa(seq, evc_model.alphabet_map))\n",
    "    if params['protein_length'] > 0: \n",
    "        enc_seq = enc_seq[:params['protein_length']]\n",
    "    enc_seqs.append(enc_seq) \n",
    "    oh.append(onehot(enc_seq,AA)) # this could be made much more efficient with tensorflow operations. \n",
    "enc_seqs = np.asarray(enc_seqs)\n",
    "oh=np.asarray(oh) # of shape: [batch x L x AA]\n",
    "N = oh.shape[0] # batch size\n",
    "L = oh.shape[1] # length of the protein\n",
    "\n",
    "device = torch.device(\"cuda\" if torch.cuda.is_available() else \"cpu\")"
   ]
  },
  {
   "cell_type": "code",
   "execution_count": 5,
   "metadata": {},
   "outputs": [
    {
     "name": "stdout",
     "output_type": "stream",
     "text": [
      "shape of feature map torch.Size([20, 3])\n"
     ]
    }
   ],
   "source": [
    "# loading in the environment class, used to score the evolutionary hamiltonians\n",
    "gen_model = EVCouplingsGenerator(L, AA, h, J, device, False, gaussian_cov_noise = 1.0)\n"
   ]
  },
  {
   "cell_type": "code",
   "execution_count": 12,
   "metadata": {},
   "outputs": [],
   "source": [
    "nsteps = 3000\n",
    "sampler = MetropolisHastings(gen_model, noise=5.0, \n",
    "                     stride=5, mapper=None, \n",
    "                     is_discrete=True, AA_num=AA)\n",
    "#mapper=HardMaxMapper() but now I have discrete actions so dont need. \n",
    "sample_x = sampler.run(nsteps)"
   ]
  },
  {
   "cell_type": "code",
   "execution_count": 13,
   "metadata": {},
   "outputs": [
    {
     "data": {
      "text/plain": [
       "(38400, 40)"
      ]
     },
     "execution_count": 13,
     "metadata": {},
     "output_type": "execute_result"
    }
   ],
   "source": [
    "sample_x.shape"
   ]
  },
  {
   "cell_type": "code",
   "execution_count": 14,
   "metadata": {},
   "outputs": [],
   "source": [
    "def hard_max(inp):\n",
    "    if inp.shape[1] > L: # if it isnt a sequence of ints, then all to one hot.  \n",
    "        #print('the input to oh is', inp)\n",
    "\n",
    "        if len(inp)>2:\n",
    "            inp = inp.reshape(inp.shape[0], -1, 20)\n",
    "        else:\n",
    "            inp = inp.reshape(-1,20)\n",
    "\n",
    "        inp = np.argmax(inp, axis=-1)\n",
    "    return inp\n",
    "\n",
    "def seq_counter(seqs, AA=20):\n",
    "    # assumes not in one hot\n",
    "    counter = np.zeros((AA, AA))\n",
    "    for s in seqs: \n",
    "        counter[s[0], s[1]] +=1\n",
    "    return counter"
   ]
  },
  {
   "cell_type": "code",
   "execution_count": 15,
   "metadata": {},
   "outputs": [
    {
     "name": "stdout",
     "output_type": "stream",
     "text": [
      "sample x shape (38400, 40) hard max (38400, 2)\n"
     ]
    }
   ],
   "source": [
    "x = hard_max(sample_x)\n",
    "print('sample x shape', sample_x.shape, 'hard max', x.shape)\n",
    "counter = seq_counter(x)"
   ]
  },
  {
   "cell_type": "code",
   "execution_count": 16,
   "metadata": {},
   "outputs": [
    {
     "data": {
      "text/plain": [
       "<matplotlib.axes._subplots.AxesSubplot at 0x1a39a1a650>"
      ]
     },
     "execution_count": 16,
     "metadata": {},
     "output_type": "execute_result"
    },
    {
     "data": {
      "image/png": "[encoded data removed]",
      "text/plain": [
       "<Figure size 432x288 with 2 Axes>"
      ]
     },
     "metadata": {
      "needs_background": "light"
     },
     "output_type": "display_data"
    }
   ],
   "source": [
    "import seaborn as sns;\n",
    "%matplotlib inline\n",
    "sns.heatmap(counter.T)"
   ]
  },
  {
   "cell_type": "code",
   "execution_count": null,
   "metadata": {},
   "outputs": [],
   "source": []
  }
 ],
 "metadata": {
  "kernelspec": {
   "display_name": "Python 3",
   "language": "python",
   "name": "python3"
  },
  "language_info": {
   "codemirror_mode": {
    "name": "ipython",
    "version": 3
   },
   "file_extension": ".py",
   "mimetype": "text/x-python",
   "name": "python",
   "nbconvert_exporter": "python",
   "pygments_lexer": "ipython3",
   "version": "3.7.5"
  }
 },
 "nbformat": 4,
 "nbformat_minor": 4
}
