{
 "cells": [
  {
   "cell_type": "code",
   "execution_count": 1,
   "metadata": {},
   "outputs": [
    {
     "name": "stderr",
     "output_type": "stream",
     "text": [
      "Using TensorFlow backend.\n",
      "/Users/trentonbricken/anaconda3/lib/python3.7/site-packages/tensorflow/python/framework/dtypes.py:526: FutureWarning: Passing (type, 1) or '1type' as a synonym of type is deprecated; in a future version of numpy, it will be understood as (type, (1,)) / '(1,)type'.\n",
      "  _np_qint8 = np.dtype([(\"qint8\", np.int8, 1)])\n",
      "/Users/trentonbricken/anaconda3/lib/python3.7/site-packages/tensorflow/python/framework/dtypes.py:527: FutureWarning: Passing (type, 1) or '1type' as a synonym of type is deprecated; in a future version of numpy, it will be understood as (type, (1,)) / '(1,)type'.\n",
      "  _np_quint8 = np.dtype([(\"quint8\", np.uint8, 1)])\n",
      "/Users/trentonbricken/anaconda3/lib/python3.7/site-packages/tensorflow/python/framework/dtypes.py:528: FutureWarning: Passing (type, 1) or '1type' as a synonym of type is deprecated; in a future version of numpy, it will be understood as (type, (1,)) / '(1,)type'.\n",
      "  _np_qint16 = np.dtype([(\"qint16\", np.int16, 1)])\n",
      "/Users/trentonbricken/anaconda3/lib/python3.7/site-packages/tensorflow/python/framework/dtypes.py:529: FutureWarning: Passing (type, 1) or '1type' as a synonym of type is deprecated; in a future version of numpy, it will be understood as (type, (1,)) / '(1,)type'.\n",
      "  _np_quint16 = np.dtype([(\"quint16\", np.uint16, 1)])\n",
      "/Users/trentonbricken/anaconda3/lib/python3.7/site-packages/tensorflow/python/framework/dtypes.py:530: FutureWarning: Passing (type, 1) or '1type' as a synonym of type is deprecated; in a future version of numpy, it will be understood as (type, (1,)) / '(1,)type'.\n",
      "  _np_qint32 = np.dtype([(\"qint32\", np.int32, 1)])\n",
      "/Users/trentonbricken/anaconda3/lib/python3.7/site-packages/tensorflow/python/framework/dtypes.py:535: FutureWarning: Passing (type, 1) or '1type' as a synonym of type is deprecated; in a future version of numpy, it will be understood as (type, (1,)) / '(1,)type'.\n",
      "  np_resource = np.dtype([(\"resource\", np.ubyte, 1)])\n"
     ]
    }
   ],
   "source": [
    "import numpy as np\n",
    "import matplotlib.pyplot as plt\n",
    "from matplotlib import rcParams\n",
    "import keras\n",
    "import tensorflow as tf\n",
    "#tf.enable_eager_execution()\n",
    "%matplotlib inline\n",
    "\n",
    "import sys\n",
    "sys.path.insert(1, '/Users/trentonbricken/protein-generators/deep_boltzmann/deep_boltzmann')\n",
    "\n",
    "from PlottingFunctions import *\n",
    "\n",
    "import os\n",
    "os.chdir('../deep_boltzmann')\n",
    "\n",
    "from deep_boltzmann.networks.invertible import create_NICERNet, create_RealNVPNet, invnet\n",
    "from deep_boltzmann.sampling import GaussianPriorMCMC\n",
    "from deep_boltzmann.networks.plot import test_xz_projection\n",
    "from deep_boltzmann.util import count_transitions\n",
    "from deep_boltzmann.sampling.analysis import free_energy_bootstrap, mean_finite, std_finite\n",
    "\n",
    "import seaborn as sns\n",
    "import matplotlib.pylab as plt\n",
    "\n",
    "from evcouplings.couplings import CouplingsModel\n",
    "from EVCouplingsStuff.seq_sele import *\n",
    "\n",
    "from EVCouplingsGen import *\n",
    "\n",
    "focus_seqs = read_fa('deep_boltzmann/EVCouplingsStuff/DYR_ECOLI_1_b0.5.a2m_trimmed.fa')\n",
    "evc_model = CouplingsModel('deep_boltzmann/EVCouplingsStuff/DYR.model')\n",
    "scores = evc_model.hamiltonians(list(focus_seqs['seq']))\n",
    "\n"
   ]
  },
  {
   "cell_type": "code",
   "execution_count": 2,
   "metadata": {},
   "outputs": [
    {
     "name": "stdout",
     "output_type": "stream",
     "text": [
      "calculating weights and identities\n",
      "(2, 20)\n",
      "(2, 2, 20, 20)\n"
     ]
    }
   ],
   "source": [
    "seq_len = 2\n",
    "enc_seqs=[]\n",
    "for seq in focus_seqs['seq']:\n",
    "    enc_seqs.append(encode_aa(seq[:seq_len], evc_model.alphabet_map)) \n",
    "\n",
    "enc_seqs = np.asarray(enc_seqs)\n",
    "target_seq = enc_seqs[0]#encode_aa(np.char.upper(ali.matrix[0, :]), a2n)\n",
    "\n",
    "oh = []\n",
    "N=20 # none of these focus have gaps, else should be 21. \n",
    "for seq in enc_seqs:\n",
    "    oh.append(onehot(seq,N))\n",
    "oh=np.asarray(oh)\n",
    "\n",
    "print('calculating weights and identities')\n",
    "N = oh.shape[0]\n",
    "L = oh.shape[1]\n",
    "AA = oh.shape[2]\n",
    "w, neighbors = msa_weights(enc_seqs, theta=0.8, pseudocount=0)\n",
    "oh.shape\n",
    "\n",
    "h = evc_model.h_i[:seq_len,:]\n",
    "print(h.shape)\n",
    "        \n",
    "J = evc_model.J_ij[:seq_len, :seq_len, :, :]\n",
    "print(J.shape)"
   ]
  },
  {
   "cell_type": "code",
   "execution_count": 3,
   "metadata": {},
   "outputs": [
    {
     "data": {
      "text/plain": [
       "2"
      ]
     },
     "execution_count": 3,
     "metadata": {},
     "output_type": "execute_result"
    }
   ],
   "source": [
    "L"
   ]
  },
  {
   "cell_type": "code",
   "execution_count": 4,
   "metadata": {},
   "outputs": [],
   "source": [
    "nat_energies = hamiltonians(oh, J, h)"
   ]
  },
  {
   "cell_type": "code",
   "execution_count": 5,
   "metadata": {},
   "outputs": [
    {
     "data": {
      "text/plain": [
       "(7848,)"
      ]
     },
     "execution_count": 5,
     "metadata": {},
     "output_type": "execute_result"
    }
   ],
   "source": [
    "nat_energies.shape"
   ]
  },
  {
   "cell_type": "code",
   "execution_count": 6,
   "metadata": {},
   "outputs": [
    {
     "name": "stdout",
     "output_type": "stream",
     "text": [
      "Plotting a hist of all the natural sequences energies:\n"
     ]
    },
    {
     "data": {
      "image/png": "[encoded data removed]",
      "text/plain": [
       "<Figure size 432x288 with 1 Axes>"
      ]
     },
     "metadata": {
      "needs_background": "light"
     },
     "output_type": "display_data"
    }
   ],
   "source": [
    "%matplotlib inline\n",
    "plt.figure()\n",
    "\n",
    "print('Plotting a hist of all the natural sequences energies:')\n",
    "plt.hist(nat_energies, bins=100)\n",
    "plt.show()"
   ]
  },
  {
   "cell_type": "code",
   "execution_count": 7,
   "metadata": {},
   "outputs": [],
   "source": [
    "gen_model = EVCouplingsGenerator(L, AA, h, J)"
   ]
  },
  {
   "cell_type": "code",
   "execution_count": 8,
   "metadata": {
    "collapsed": true,
    "jupyter": {
     "outputs_hidden": true
    }
   },
   "outputs": [
    {
     "name": "stdout",
     "output_type": "stream",
     "text": [
      "being converted to one hot! (1, 2)\n",
      "being converted to one hot! (1, 2)\n",
      "being converted to one hot! (1, 2)\n",
      "being converted to one hot! (1, 2)\n",
      "being converted to one hot! (1, 2)\n",
      "being converted to one hot! (1, 2)\n",
      "being converted to one hot! (1, 2)\n",
      "being converted to one hot! (1, 2)\n",
      "being converted to one hot! (1, 2)\n",
      "being converted to one hot! (1, 2)\n",
      "being converted to one hot! (1, 2)\n",
      "being converted to one hot! (1, 2)\n",
      "being converted to one hot! (1, 2)\n",
      "being converted to one hot! (1, 2)\n",
      "being converted to one hot! (1, 2)\n",
      "being converted to one hot! (1, 2)\n",
      "being converted to one hot! (1, 2)\n",
      "being converted to one hot! (1, 2)\n",
      "being converted to one hot! (1, 2)\n",
      "being converted to one hot! (1, 2)\n",
      "being converted to one hot! (1, 2)\n",
      "being converted to one hot! (1, 2)\n",
      "being converted to one hot! (1, 2)\n",
      "being converted to one hot! (1, 2)\n",
      "being converted to one hot! (1, 2)\n",
      "being converted to one hot! (1, 2)\n",
      "being converted to one hot! (1, 2)\n",
      "being converted to one hot! (1, 2)\n",
      "being converted to one hot! (1, 2)\n",
      "being converted to one hot! (1, 2)\n",
      "being converted to one hot! (1, 2)\n",
      "being converted to one hot! (1, 2)\n",
      "being converted to one hot! (1, 2)\n",
      "being converted to one hot! (1, 2)\n",
      "being converted to one hot! (1, 2)\n",
      "being converted to one hot! (1, 2)\n",
      "being converted to one hot! (1, 2)\n",
      "being converted to one hot! (1, 2)\n",
      "being converted to one hot! (1, 2)\n",
      "being converted to one hot! (1, 2)\n",
      "being converted to one hot! (1, 2)\n",
      "being converted to one hot! (1, 2)\n",
      "being converted to one hot! (1, 2)\n",
      "being converted to one hot! (1, 2)\n",
      "being converted to one hot! (1, 2)\n",
      "being converted to one hot! (1, 2)\n",
      "being converted to one hot! (1, 2)\n",
      "being converted to one hot! (1, 2)\n",
      "being converted to one hot! (1, 2)\n",
      "being converted to one hot! (1, 2)\n",
      "being converted to one hot! (1, 2)\n",
      "being converted to one hot! (1, 2)\n",
      "being converted to one hot! (1, 2)\n",
      "being converted to one hot! (1, 2)\n",
      "being converted to one hot! (1, 2)\n",
      "being converted to one hot! (1, 2)\n",
      "being converted to one hot! (1, 2)\n",
      "being converted to one hot! (1, 2)\n",
      "being converted to one hot! (1, 2)\n",
      "being converted to one hot! (1, 2)\n",
      "being converted to one hot! (1, 2)\n",
      "being converted to one hot! (1, 2)\n",
      "being converted to one hot! (1, 2)\n",
      "being converted to one hot! (1, 2)\n",
      "being converted to one hot! (1, 2)\n",
      "being converted to one hot! (1, 2)\n",
      "being converted to one hot! (1, 2)\n",
      "being converted to one hot! (1, 2)\n",
      "being converted to one hot! (1, 2)\n",
      "being converted to one hot! (1, 2)\n",
      "being converted to one hot! (1, 2)\n",
      "being converted to one hot! (1, 2)\n",
      "being converted to one hot! (1, 2)\n",
      "being converted to one hot! (1, 2)\n",
      "being converted to one hot! (1, 2)\n",
      "being converted to one hot! (1, 2)\n",
      "being converted to one hot! (1, 2)\n",
      "being converted to one hot! (1, 2)\n",
      "being converted to one hot! (1, 2)\n",
      "being converted to one hot! (1, 2)\n",
      "being converted to one hot! (1, 2)\n",
      "being converted to one hot! (1, 2)\n",
      "being converted to one hot! (1, 2)\n",
      "being converted to one hot! (1, 2)\n",
      "being converted to one hot! (1, 2)\n",
      "being converted to one hot! (1, 2)\n",
      "being converted to one hot! (1, 2)\n",
      "being converted to one hot! (1, 2)\n",
      "being converted to one hot! (1, 2)\n",
      "being converted to one hot! (1, 2)\n",
      "being converted to one hot! (1, 2)\n",
      "being converted to one hot! (1, 2)\n",
      "being converted to one hot! (1, 2)\n",
      "being converted to one hot! (1, 2)\n",
      "being converted to one hot! (1, 2)\n",
      "being converted to one hot! (1, 2)\n",
      "being converted to one hot! (1, 2)\n",
      "being converted to one hot! (1, 2)\n",
      "being converted to one hot! (1, 2)\n",
      "being converted to one hot! (1, 2)\n",
      "being converted to one hot! (1, 2)\n",
      "being converted to one hot! (1, 2)\n",
      "being converted to one hot! (1, 2)\n",
      "being converted to one hot! (1, 2)\n",
      "being converted to one hot! (1, 2)\n",
      "being converted to one hot! (1, 2)\n",
      "being converted to one hot! (1, 2)\n",
      "being converted to one hot! (1, 2)\n",
      "being converted to one hot! (1, 2)\n",
      "being converted to one hot! (1, 2)\n",
      "being converted to one hot! (1, 2)\n",
      "being converted to one hot! (1, 2)\n",
      "being converted to one hot! (1, 2)\n",
      "being converted to one hot! (1, 2)\n",
      "being converted to one hot! (1, 2)\n",
      "being converted to one hot! (1, 2)\n",
      "being converted to one hot! (1, 2)\n",
      "being converted to one hot! (1, 2)\n",
      "being converted to one hot! (1, 2)\n",
      "being converted to one hot! (1, 2)\n",
      "being converted to one hot! (1, 2)\n",
      "being converted to one hot! (1, 2)\n",
      "being converted to one hot! (1, 2)\n",
      "being converted to one hot! (1, 2)\n",
      "being converted to one hot! (1, 2)\n",
      "being converted to one hot! (1, 2)\n",
      "being converted to one hot! (1, 2)\n",
      "being converted to one hot! (1, 2)\n",
      "being converted to one hot! (1, 2)\n",
      "being converted to one hot! (1, 2)\n",
      "being converted to one hot! (1, 2)\n",
      "being converted to one hot! (1, 2)\n",
      "being converted to one hot! (1, 2)\n",
      "being converted to one hot! (1, 2)\n",
      "being converted to one hot! (1, 2)\n",
      "being converted to one hot! (1, 2)\n",
      "being converted to one hot! (1, 2)\n",
      "being converted to one hot! (1, 2)\n",
      "being converted to one hot! (1, 2)\n",
      "being converted to one hot! (1, 2)\n",
      "being converted to one hot! (1, 2)\n",
      "being converted to one hot! (1, 2)\n",
      "being converted to one hot! (1, 2)\n",
      "being converted to one hot! (1, 2)\n",
      "being converted to one hot! (1, 2)\n",
      "being converted to one hot! (1, 2)\n",
      "being converted to one hot! (1, 2)\n",
      "being converted to one hot! (1, 2)\n",
      "being converted to one hot! (1, 2)\n",
      "being converted to one hot! (1, 2)\n",
      "being converted to one hot! (1, 2)\n",
      "being converted to one hot! (1, 2)\n",
      "being converted to one hot! (1, 2)\n",
      "being converted to one hot! (1, 2)\n",
      "being converted to one hot! (1, 2)\n",
      "being converted to one hot! (1, 2)\n",
      "being converted to one hot! (1, 2)\n",
      "being converted to one hot! (1, 2)\n",
      "being converted to one hot! (1, 2)\n",
      "being converted to one hot! (1, 2)\n",
      "being converted to one hot! (1, 2)\n",
      "being converted to one hot! (1, 2)\n",
      "being converted to one hot! (1, 2)\n",
      "being converted to one hot! (1, 2)\n",
      "being converted to one hot! (1, 2)\n",
      "being converted to one hot! (1, 2)\n",
      "being converted to one hot! (1, 2)\n",
      "being converted to one hot! (1, 2)\n",
      "being converted to one hot! (1, 2)\n",
      "being converted to one hot! (1, 2)\n",
      "being converted to one hot! (1, 2)\n",
      "being converted to one hot! (1, 2)\n",
      "being converted to one hot! (1, 2)\n",
      "being converted to one hot! (1, 2)\n",
      "being converted to one hot! (1, 2)\n",
      "being converted to one hot! (1, 2)\n",
      "being converted to one hot! (1, 2)\n",
      "being converted to one hot! (1, 2)\n",
      "being converted to one hot! (1, 2)\n",
      "being converted to one hot! (1, 2)\n",
      "being converted to one hot! (1, 2)\n",
      "being converted to one hot! (1, 2)\n",
      "being converted to one hot! (1, 2)\n",
      "being converted to one hot! (1, 2)\n",
      "being converted to one hot! (1, 2)\n",
      "being converted to one hot! (1, 2)\n",
      "being converted to one hot! (1, 2)\n",
      "being converted to one hot! (1, 2)\n",
      "being converted to one hot! (1, 2)\n",
      "being converted to one hot! (1, 2)\n",
      "being converted to one hot! (1, 2)\n",
      "being converted to one hot! (1, 2)\n",
      "being converted to one hot! (1, 2)\n",
      "being converted to one hot! (1, 2)\n",
      "being converted to one hot! (1, 2)\n",
      "being converted to one hot! (1, 2)\n",
      "being converted to one hot! (1, 2)\n",
      "being converted to one hot! (1, 2)\n",
      "being converted to one hot! (1, 2)\n",
      "being converted to one hot! (1, 2)\n",
      "being converted to one hot! (1, 2)\n",
      "being converted to one hot! (1, 2)\n",
      "being converted to one hot! (1, 2)\n",
      "being converted to one hot! (1, 2)\n",
      "being converted to one hot! (1, 2)\n",
      "being converted to one hot! (1, 2)\n",
      "being converted to one hot! (1, 2)\n",
      "being converted to one hot! (1, 2)\n",
      "being converted to one hot! (1, 2)\n",
      "being converted to one hot! (1, 2)\n",
      "being converted to one hot! (1, 2)\n",
      "being converted to one hot! (1, 2)\n",
      "being converted to one hot! (1, 2)\n",
      "being converted to one hot! (1, 2)\n",
      "being converted to one hot! (1, 2)\n",
      "being converted to one hot! (1, 2)\n",
      "being converted to one hot! (1, 2)\n",
      "being converted to one hot! (1, 2)\n",
      "being converted to one hot! (1, 2)\n",
      "being converted to one hot! (1, 2)\n",
      "being converted to one hot! (1, 2)\n",
      "being converted to one hot! (1, 2)\n",
      "being converted to one hot! (1, 2)\n",
      "being converted to one hot! (1, 2)\n",
      "being converted to one hot! (1, 2)\n",
      "being converted to one hot! (1, 2)\n",
      "being converted to one hot! (1, 2)\n",
      "being converted to one hot! (1, 2)\n",
      "being converted to one hot! (1, 2)\n",
      "being converted to one hot! (1, 2)\n",
      "being converted to one hot! (1, 2)\n",
      "being converted to one hot! (1, 2)\n",
      "being converted to one hot! (1, 2)\n",
      "being converted to one hot! (1, 2)\n",
      "being converted to one hot! (1, 2)\n",
      "being converted to one hot! (1, 2)\n",
      "being converted to one hot! (1, 2)\n",
      "being converted to one hot! (1, 2)\n",
      "being converted to one hot! (1, 2)\n",
      "being converted to one hot! (1, 2)\n",
      "being converted to one hot! (1, 2)\n",
      "being converted to one hot! (1, 2)\n",
      "being converted to one hot! (1, 2)\n",
      "being converted to one hot! (1, 2)\n",
      "being converted to one hot! (1, 2)\n",
      "being converted to one hot! (1, 2)\n",
      "being converted to one hot! (1, 2)\n",
      "being converted to one hot! (1, 2)\n",
      "being converted to one hot! (1, 2)\n",
      "being converted to one hot! (1, 2)\n",
      "being converted to one hot! (1, 2)\n",
      "being converted to one hot! (1, 2)\n",
      "being converted to one hot! (1, 2)\n",
      "being converted to one hot! (1, 2)\n",
      "being converted to one hot! (1, 2)\n",
      "being converted to one hot! (1, 2)\n",
      "being converted to one hot! (1, 2)\n",
      "being converted to one hot! (1, 2)\n",
      "being converted to one hot! (1, 2)\n",
      "being converted to one hot! (1, 2)\n",
      "being converted to one hot! (1, 2)\n",
      "being converted to one hot! (1, 2)\n",
      "being converted to one hot! (1, 2)\n",
      "being converted to one hot! (1, 2)\n",
      "being converted to one hot! (1, 2)\n",
      "being converted to one hot! (1, 2)\n",
      "being converted to one hot! (1, 2)\n",
      "being converted to one hot! (1, 2)\n",
      "being converted to one hot! (1, 2)\n",
      "being converted to one hot! (1, 2)\n",
      "being converted to one hot! (1, 2)\n",
      "being converted to one hot! (1, 2)\n",
      "being converted to one hot! (1, 2)\n",
      "being converted to one hot! (1, 2)\n",
      "being converted to one hot! (1, 2)\n",
      "being converted to one hot! (1, 2)\n",
      "being converted to one hot! (1, 2)\n",
      "being converted to one hot! (1, 2)\n",
      "being converted to one hot! (1, 2)\n",
      "being converted to one hot! (1, 2)\n",
      "being converted to one hot! (1, 2)\n",
      "being converted to one hot! (1, 2)\n",
      "being converted to one hot! (1, 2)\n",
      "being converted to one hot! (1, 2)\n",
      "being converted to one hot! (1, 2)\n",
      "being converted to one hot! (1, 2)\n",
      "being converted to one hot! (1, 2)\n",
      "being converted to one hot! (1, 2)\n",
      "being converted to one hot! (1, 2)\n",
      "being converted to one hot! (1, 2)\n",
      "being converted to one hot! (1, 2)\n",
      "being converted to one hot! (1, 2)\n",
      "being converted to one hot! (1, 2)\n",
      "being converted to one hot! (1, 2)\n",
      "being converted to one hot! (1, 2)\n",
      "being converted to one hot! (1, 2)\n",
      "being converted to one hot! (1, 2)\n",
      "being converted to one hot! (1, 2)\n",
      "being converted to one hot! (1, 2)\n",
      "being converted to one hot! (1, 2)\n",
      "being converted to one hot! (1, 2)\n",
      "being converted to one hot! (1, 2)\n",
      "being converted to one hot! (1, 2)\n",
      "being converted to one hot! (1, 2)\n",
      "being converted to one hot! (1, 2)\n",
      "being converted to one hot! (1, 2)\n",
      "being converted to one hot! (1, 2)\n",
      "being converted to one hot! (1, 2)\n",
      "being converted to one hot! (1, 2)\n",
      "being converted to one hot! (1, 2)\n",
      "being converted to one hot! (1, 2)\n",
      "being converted to one hot! (1, 2)\n",
      "being converted to one hot! (1, 2)\n",
      "being converted to one hot! (1, 2)\n",
      "being converted to one hot! (1, 2)\n",
      "being converted to one hot! (1, 2)\n",
      "being converted to one hot! (1, 2)\n",
      "being converted to one hot! (1, 2)\n",
      "being converted to one hot! (1, 2)\n",
      "being converted to one hot! (1, 2)\n",
      "being converted to one hot! (1, 2)\n",
      "being converted to one hot! (1, 2)\n",
      "being converted to one hot! (1, 2)\n",
      "being converted to one hot! (1, 2)\n",
      "being converted to one hot! (1, 2)\n",
      "being converted to one hot! (1, 2)\n",
      "being converted to one hot! (1, 2)\n",
      "being converted to one hot! (1, 2)\n",
      "being converted to one hot! (1, 2)\n",
      "being converted to one hot! (1, 2)\n",
      "being converted to one hot! (1, 2)\n",
      "being converted to one hot! (1, 2)\n",
      "being converted to one hot! (1, 2)\n",
      "being converted to one hot! (1, 2)\n",
      "being converted to one hot! (1, 2)\n",
      "being converted to one hot! (1, 2)\n",
      "being converted to one hot! (1, 2)\n",
      "being converted to one hot! (1, 2)\n",
      "being converted to one hot! (1, 2)\n",
      "being converted to one hot! (1, 2)\n",
      "being converted to one hot! (1, 2)\n",
      "being converted to one hot! (1, 2)\n",
      "being converted to one hot! (1, 2)\n",
      "being converted to one hot! (1, 2)\n",
      "being converted to one hot! (1, 2)\n",
      "being converted to one hot! (1, 2)\n",
      "being converted to one hot! (1, 2)\n",
      "being converted to one hot! (1, 2)\n",
      "being converted to one hot! (1, 2)\n",
      "being converted to one hot! (1, 2)\n",
      "being converted to one hot! (1, 2)\n",
      "being converted to one hot! (1, 2)\n",
      "being converted to one hot! (1, 2)\n",
      "being converted to one hot! (1, 2)\n",
      "being converted to one hot! (1, 2)\n",
      "being converted to one hot! (1, 2)\n",
      "being converted to one hot! (1, 2)\n",
      "being converted to one hot! (1, 2)\n",
      "being converted to one hot! (1, 2)\n",
      "being converted to one hot! (1, 2)\n",
      "being converted to one hot! (1, 2)\n",
      "being converted to one hot! (1, 2)\n",
      "being converted to one hot! (1, 2)\n",
      "being converted to one hot! (1, 2)\n",
      "being converted to one hot! (1, 2)\n",
      "being converted to one hot! (1, 2)\n",
      "being converted to one hot! (1, 2)\n",
      "being converted to one hot! (1, 2)\n",
      "being converted to one hot! (1, 2)\n",
      "being converted to one hot! (1, 2)\n",
      "being converted to one hot! (1, 2)\n",
      "being converted to one hot! (1, 2)\n",
      "being converted to one hot! (1, 2)\n",
      "being converted to one hot! (1, 2)\n",
      "being converted to one hot! (1, 2)\n",
      "being converted to one hot! (1, 2)\n",
      "being converted to one hot! (1, 2)\n",
      "being converted to one hot! (1, 2)\n",
      "being converted to one hot! (1, 2)\n",
      "being converted to one hot! (1, 2)\n",
      "being converted to one hot! (1, 2)\n",
      "being converted to one hot! (1, 2)\n",
      "being converted to one hot! (1, 2)\n",
      "being converted to one hot! (1, 2)\n",
      "being converted to one hot! (1, 2)\n",
      "being converted to one hot! (1, 2)\n",
      "being converted to one hot! (1, 2)\n",
      "being converted to one hot! (1, 2)\n",
      "being converted to one hot! (1, 2)\n",
      "being converted to one hot! (1, 2)\n",
      "being converted to one hot! (1, 2)\n",
      "being converted to one hot! (1, 2)\n",
      "being converted to one hot! (1, 2)\n",
      "being converted to one hot! (1, 2)\n",
      "being converted to one hot! (1, 2)\n",
      "being converted to one hot! (1, 2)\n",
      "being converted to one hot! (1, 2)\n",
      "being converted to one hot! (1, 2)\n",
      "being converted to one hot! (1, 2)\n",
      "being converted to one hot! (1, 2)\n"
     ]
    }
   ],
   "source": [
    "evh_vals = []\n",
    "for i in range(20):\n",
    "    for j in range(20):\n",
    "        seq = np.hstack([i,j])\n",
    "        seq = seq.reshape(1,-1)\n",
    "        ham = gen_model.energy(seq)\n",
    "        #print(ham)\n",
    "        evh_vals.append(ham)\n",
    "evh_vals;"
   ]
  },
  {
   "cell_type": "code",
   "execution_count": 9,
   "metadata": {},
   "outputs": [
    {
     "data": {
      "text/plain": [
       "<matplotlib.axes._subplots.AxesSubplot at 0x1044a8f10>"
      ]
     },
     "execution_count": 9,
     "metadata": {},
     "output_type": "execute_result"
    },
    {
     "data": {
      "image/png": "[encoded data removed]",
      "text/plain": [
       "<Figure size 432x288 with 2 Axes>"
      ]
     },
     "metadata": {
      "needs_background": "light"
     },
     "output_type": "display_data"
    }
   ],
   "source": [
    "import seaborn as sns;\n",
    "sns.heatmap(np.array(evh_vals).reshape(20,20).T)"
   ]
  },
  {
   "cell_type": "code",
   "execution_count": 10,
   "metadata": {},
   "outputs": [
    {
     "data": {
      "text/plain": [
       "[<matplotlib.lines.Line2D at 0x1a3a5bdf90>]"
      ]
     },
     "execution_count": 10,
     "metadata": {},
     "output_type": "execute_result"
    },
    {
     "data": {
      "image/png": "[encoded data removed]",
      "text/plain": [
       "<Figure size 432x288 with 1 Axes>"
      ]
     },
     "metadata": {
      "needs_background": "light"
     },
     "output_type": "display_data"
    }
   ],
   "source": [
    "vals = evh_vals\n",
    "probs = np.exp(vals) / np.sum(np.exp(vals))\n",
    "plt.plot(probs)"
   ]
  },
  {
   "cell_type": "code",
   "execution_count": 11,
   "metadata": {},
   "outputs": [
    {
     "data": {
      "text/plain": [
       "array([7.93462935])"
      ]
     },
     "execution_count": 11,
     "metadata": {},
     "output_type": "execute_result"
    }
   ],
   "source": [
    "max(vals)"
   ]
  },
  {
   "cell_type": "code",
   "execution_count": 12,
   "metadata": {},
   "outputs": [
    {
     "data": {
      "text/plain": [
       "<matplotlib.axes._subplots.AxesSubplot at 0x1a3a6b0e50>"
      ]
     },
     "execution_count": 12,
     "metadata": {},
     "output_type": "execute_result"
    },
    {
     "data": {
      "image/png": "[encoded data removed]",
      "text/plain": [
       "<Figure size 432x288 with 2 Axes>"
      ]
     },
     "metadata": {
      "needs_background": "light"
     },
     "output_type": "display_data"
    }
   ],
   "source": [
    "# this is the actual frequency with which I should be seeing different scores:\n",
    "import seaborn as sns;\n",
    "sns.heatmap(np.array(probs).reshape(20,20).T)"
   ]
  },
  {
   "cell_type": "code",
   "execution_count": 13,
   "metadata": {},
   "outputs": [
    {
     "data": {
      "text/plain": [
       "(7848, 2, 20)"
      ]
     },
     "execution_count": 13,
     "metadata": {},
     "output_type": "execute_result"
    }
   ],
   "source": [
    "oh.shape"
   ]
  },
  {
   "cell_type": "code",
   "execution_count": 14,
   "metadata": {},
   "outputs": [
    {
     "data": {
      "text/plain": [
       "2"
      ]
     },
     "execution_count": 14,
     "metadata": {},
     "output_type": "execute_result"
    }
   ],
   "source": [
    "np.unique(oh).shape[0]"
   ]
  },
  {
   "cell_type": "code",
   "execution_count": 15,
   "metadata": {},
   "outputs": [
    {
     "data": {
      "text/plain": [
       "(7848, 2, 20)"
      ]
     },
     "execution_count": 15,
     "metadata": {},
     "output_type": "execute_result"
    }
   ],
   "source": [
    "oh.shape"
   ]
  },
  {
   "cell_type": "code",
   "execution_count": 16,
   "metadata": {},
   "outputs": [
    {
     "data": {
      "text/plain": [
       "<matplotlib.collections.PathCollection at 0x1a39849a90>"
      ]
     },
     "execution_count": 16,
     "metadata": {},
     "output_type": "execute_result"
    },
    {
     "data": {
      "image/png": "[encoded data removed]",
      "text/plain": [
       "<Figure size 432x288 with 1 Axes>"
      ]
     },
     "metadata": {
      "needs_background": "light"
     },
     "output_type": "display_data"
    }
   ],
   "source": [
    "plt.scatter(evh_vals, probs)"
   ]
  },
  {
   "cell_type": "code",
   "execution_count": 17,
   "metadata": {},
   "outputs": [
    {
     "data": {
      "text/plain": [
       "<matplotlib.collections.PathCollection at 0x1a39849850>"
      ]
     },
     "execution_count": 17,
     "metadata": {},
     "output_type": "execute_result"
    },
    {
     "data": {
      "image/png": "[encoded data removed]",
      "text/plain": [
       "<Figure size 432x288 with 1 Axes>"
      ]
     },
     "metadata": {
      "needs_background": "light"
     },
     "output_type": "display_data"
    }
   ],
   "source": [
    "plt.scatter(evh_vals, probs*1000)"
   ]
  },
  {
   "cell_type": "code",
   "execution_count": 25,
   "metadata": {},
   "outputs": [],
   "source": [
    "from deep_boltzmann.sampling import MetropolisGauss\n",
    "\n",
    "nsteps = 500000\n",
    "# starting positions\n",
    "I = np.eye(AA)\n",
    "\n",
    "def make_rand_starter():\n",
    "    rand_starter = []\n",
    "    for i in range(L):\n",
    "        rand_starter.append( I[np.random.randint(0,20,1),:] )\n",
    "    rand_starter = np.asarray(rand_starter).flatten().reshape(1,-1)\n",
    "    return rand_starter\n",
    "    \n",
    "x0_left = make_rand_starter()\n",
    "\n",
    "x0_right = make_rand_starter()\n",
    "\n",
    "sampler = MetropolisGauss(gen_model, x0_left, noise=5, \n",
    "                          stride=5, mapper=None, is_discrete=True, AA_num=AA)\n",
    "#mapper=HardMaxMapper() but now I have discrete actions so dont need. \n",
    "sampler.run(nsteps)\n",
    "traj_left = sampler.traj.copy()\n",
    "\n",
    "sampler.reset(x0_right)\n",
    "sampler.run(nsteps)\n",
    "traj_right = sampler.traj.copy()\n"
   ]
  },
  {
   "cell_type": "code",
   "execution_count": 26,
   "metadata": {},
   "outputs": [
    {
     "name": "stderr",
     "output_type": "stream",
     "text": [
      "/Users/trentonbricken/anaconda3/lib/python3.7/site-packages/IPython/core/events.py:88: UserWarning: Creating legend with loc=\"best\" can be slow with large amounts of data.\n",
      "  func(*args, **kwargs)\n",
      "/Users/trentonbricken/anaconda3/lib/python3.7/site-packages/IPython/core/pylabtools.py:128: UserWarning: Creating legend with loc=\"best\" can be slow with large amounts of data.\n",
      "  fig.canvas.print_figure(bytes_io, **kw)\n"
     ]
    },
    {
     "data": {
      "image/png": "[encoded data removed]",
      "text/plain": [
       "<Figure size 648x288 with 2 Axes>"
      ]
     },
     "metadata": {
      "needs_background": "light"
     },
     "output_type": "display_data"
    }
   ],
   "source": [
    "# left is blue\n",
    "plot_mcmc(traj_left, traj_right, AA, pos=0) # pos is for x0 or x1"
   ]
  },
  {
   "cell_type": "code",
   "execution_count": 27,
   "metadata": {},
   "outputs": [
    {
     "data": {
      "image/png": "[encoded data removed]",
      "text/plain": [
       "<Figure size 432x288 with 1 Axes>"
      ]
     },
     "metadata": {
      "needs_background": "light"
     },
     "output_type": "display_data"
    }
   ],
   "source": [
    "plt.hist(gen_model.energy(traj_left), bins=100)\n",
    "plt.show()"
   ]
  },
  {
   "cell_type": "code",
   "execution_count": 28,
   "metadata": {},
   "outputs": [
    {
     "data": {
      "image/png": "[encoded data removed]",
      "text/plain": [
       "<Figure size 648x288 with 2 Axes>"
      ]
     },
     "metadata": {
      "needs_background": "light"
     },
     "output_type": "display_data"
    }
   ],
   "source": [
    "plot_mcmc(traj_left, traj_right, AA, pos=1)"
   ]
  },
  {
   "cell_type": "code",
   "execution_count": null,
   "metadata": {},
   "outputs": [],
   "source": [
    "# because of the discreet space, it is too hard to move? \n",
    "# reward for the blue line,\n",
    "# the energy states present in over time\n",
    "plt.plot(np.arange(traj_left.shape[0]), model.energy(traj_left), color='blue', label='left')\n",
    "plt.plot(np.arange(traj_right.shape[0]), model.energy(traj_right), color='red', label='right')\n",
    "plt.legend()"
   ]
  },
  {
   "cell_type": "code",
   "execution_count": 19,
   "metadata": {},
   "outputs": [
    {
     "data": {
      "text/plain": [
       "<matplotlib.legend.Legend at 0x1a356a86d8>"
      ]
     },
     "execution_count": 19,
     "metadata": {},
     "output_type": "execute_result"
    },
    {
     "data": {
      "image/png": "[encoded data removed]",
      "text/plain": [
       "<Figure size 432x288 with 1 Axes>"
      ]
     },
     "metadata": {
      "needs_background": "light"
     },
     "output_type": "display_data"
    }
   ],
   "source": [
    "both_traj = [traj_left, traj_right]\n",
    "names = ['left', 'right']\n",
    "for ind, traj in enumerate(both_traj):\n",
    "    x0 = vect_to_aa_ind(traj, AA_num=AA_num,pos=0)\n",
    "    x1 = vect_to_aa_ind(traj, AA_num=AA_num,pos=1)\n",
    "    plt.scatter(x0,x1, alpha=0.2, label='Trajectory - ' + names[ind] )\n",
    "    \n",
    "plt.xlim([0,20])\n",
    "plt.ylim([0,20])\n",
    "plt.legend()"
   ]
  },
  {
   "cell_type": "code",
   "execution_count": null,
   "metadata": {},
   "outputs": [],
   "source": []
  },
  {
   "cell_type": "markdown",
   "metadata": {},
   "source": [
    "# Doing the same but for the full model"
   ]
  },
  {
   "cell_type": "code",
   "execution_count": null,
   "metadata": {},
   "outputs": [],
   "source": []
  },
  {
   "cell_type": "code",
   "execution_count": 29,
   "metadata": {},
   "outputs": [
    {
     "name": "stdout",
     "output_type": "stream",
     "text": [
      "calculating weights and identities\n",
      "(155, 20)\n",
      "(155, 155, 20, 20)\n"
     ]
    }
   ],
   "source": [
    "#seq_len = 2\n",
    "enc_seqs=[]\n",
    "for seq in focus_seqs['seq']:\n",
    "    enc_seqs.append(encode_aa(seq, evc_model.alphabet_map)) \n",
    "\n",
    "enc_seqs = np.asarray(enc_seqs)\n",
    "target_seq = enc_seqs[0]#encode_aa(np.char.upper(ali.matrix[0, :]), a2n)\n",
    "\n",
    "oh = []\n",
    "N=20 # none of these focus have gaps, else should be 21. \n",
    "for seq in enc_seqs:\n",
    "    oh.append(onehot(seq,N))\n",
    "oh=np.asarray(oh)\n",
    "\n",
    "print('calculating weights and identities')\n",
    "N = oh.shape[0]\n",
    "L = oh.shape[1]\n",
    "AA = oh.shape[2]\n",
    "w, neighbors = msa_weights(enc_seqs, theta=0.8, pseudocount=0)\n",
    "oh.shape\n",
    "\n",
    "h = evc_model.h_i\n",
    "print(h.shape)\n",
    "        \n",
    "J = evc_model.J_ij\n",
    "print(J.shape)"
   ]
  },
  {
   "cell_type": "code",
   "execution_count": 30,
   "metadata": {},
   "outputs": [
    {
     "data": {
      "text/plain": [
       "155"
      ]
     },
     "execution_count": 30,
     "metadata": {},
     "output_type": "execute_result"
    }
   ],
   "source": [
    "L"
   ]
  },
  {
   "cell_type": "code",
   "execution_count": 31,
   "metadata": {},
   "outputs": [],
   "source": [
    "nat_energies = hamiltonians(oh, J, h)"
   ]
  },
  {
   "cell_type": "code",
   "execution_count": 32,
   "metadata": {},
   "outputs": [
    {
     "data": {
      "text/plain": [
       "(7848,)"
      ]
     },
     "execution_count": 32,
     "metadata": {},
     "output_type": "execute_result"
    }
   ],
   "source": [
    "nat_energies.shape"
   ]
  },
  {
   "cell_type": "code",
   "execution_count": 33,
   "metadata": {},
   "outputs": [
    {
     "name": "stdout",
     "output_type": "stream",
     "text": [
      "Plotting a hist of all the natural sequences energies:\n"
     ]
    },
    {
     "data": {
      "image/png": "[encoded data removed]",
      "text/plain": [
       "<Figure size 432x288 with 1 Axes>"
      ]
     },
     "metadata": {
      "needs_background": "light"
     },
     "output_type": "display_data"
    }
   ],
   "source": [
    "%matplotlib inline\n",
    "plt.figure()\n",
    "\n",
    "print('Plotting a hist of all the natural sequences energies:')\n",
    "plt.hist(nat_energies, bins=100)\n",
    "plt.show()"
   ]
  },
  {
   "cell_type": "code",
   "execution_count": 34,
   "metadata": {},
   "outputs": [],
   "source": [
    "gen_model = EVCouplingsGenerator(L, AA, h, J)"
   ]
  },
  {
   "cell_type": "code",
   "execution_count": 36,
   "metadata": {},
   "outputs": [],
   "source": [
    "from deep_boltzmann.sampling import MetropolisGauss\n",
    "\n",
    "nsteps = 500000\n",
    "# starting positions\n",
    "I = np.eye(AA)\n",
    "\n",
    "def make_rand_starter():\n",
    "    rand_starter = []\n",
    "    for i in range(L):\n",
    "        rand_starter.append( I[np.random.randint(0,20,1),:] )\n",
    "    rand_starter = np.asarray(rand_starter).flatten().reshape(1,-1)\n",
    "    return rand_starter\n",
    "    \n",
    "x0_left = make_rand_starter()\n",
    "\n",
    "x0_right = make_rand_starter()\n",
    "\n",
    "sampler = MetropolisGauss(gen_model, x0_left, noise=5, \n",
    "                          stride=5, mapper=None, is_discrete=True, AA_num=AA)\n",
    "#mapper=HardMaxMapper() but now I have discrete actions so dont need. \n",
    "sampler.run(nsteps)\n",
    "traj_left = sampler.traj.copy()\n",
    "\n",
    "sampler.reset(x0_right)\n",
    "sampler.run(nsteps)\n",
    "traj_right = sampler.traj.copy()\n"
   ]
  },
  {
   "cell_type": "code",
   "execution_count": 37,
   "metadata": {},
   "outputs": [
    {
     "data": {
      "image/png": "[encoded data removed]",
      "text/plain": [
       "<Figure size 648x288 with 2 Axes>"
      ]
     },
     "metadata": {
      "needs_background": "light"
     },
     "output_type": "display_data"
    }
   ],
   "source": [
    "# left is blue\n",
    "plot_mcmc(traj_left, traj_right, AA, pos=0) # pos is for x0 or x1"
   ]
  },
  {
   "cell_type": "code",
   "execution_count": 38,
   "metadata": {},
   "outputs": [
    {
     "data": {
      "image/png": "[encoded data removed]",
      "text/plain": [
       "<Figure size 432x288 with 1 Axes>"
      ]
     },
     "metadata": {
      "needs_background": "light"
     },
     "output_type": "display_data"
    }
   ],
   "source": [
    "plt.hist(gen_model.energy(traj_left), bins=100)\n",
    "plt.show()"
   ]
  },
  {
   "cell_type": "code",
   "execution_count": 39,
   "metadata": {},
   "outputs": [
    {
     "data": {
      "image/png": "[encoded data removed]",
      "text/plain": [
       "<Figure size 648x288 with 2 Axes>"
      ]
     },
     "metadata": {
      "needs_background": "light"
     },
     "output_type": "display_data"
    }
   ],
   "source": [
    "plot_mcmc(traj_left, traj_right, AA, pos=1)"
   ]
  },
  {
   "cell_type": "code",
   "execution_count": 40,
   "metadata": {},
   "outputs": [],
   "source": [
    "import pickle\n",
    "pickle.dump(traj_left, open('traj1_50K_MCMC.pickle', 'wb'))"
   ]
  },
  {
   "cell_type": "code",
   "execution_count": 41,
   "metadata": {},
   "outputs": [],
   "source": [
    "pickle.dump(traj_right, open('traj2_50K_MCMC.pickle', 'wb'))"
   ]
  },
  {
   "cell_type": "code",
   "execution_count": 46,
   "metadata": {},
   "outputs": [
    {
     "name": "stdout",
     "output_type": "stream",
     "text": [
      "/Users/trentonbricken/protein-generators/deep_boltzmann/deep_boltzmann\n"
     ]
    }
   ],
   "source": [
    "cd deep_boltzmann/"
   ]
  }
 ],
 "metadata": {
  "kernelspec": {
   "display_name": "Python 3",
   "language": "python",
   "name": "python3"
  },
  "language_info": {
   "codemirror_mode": {
    "name": "ipython",
    "version": 3
   },
   "file_extension": ".py",
   "mimetype": "text/x-python",
   "name": "python",
   "nbconvert_exporter": "python",
   "pygments_lexer": "ipython3",
   "version": "3.7.5"
  }
 },
 "nbformat": 4,
 "nbformat_minor": 4
}
