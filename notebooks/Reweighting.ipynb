{
 "cells": [
  {
   "cell_type": "code",
   "execution_count": 1,
   "metadata": {},
   "outputs": [
    {
     "data": {
      "text/plain": [
       "'Going to see how the reweighting from the paper changes my results. \\nI am generating a histogram but then accounting for the difference between probability and score. \\nI am also using a re-weighting approximation '"
      ]
     },
     "execution_count": 1,
     "metadata": {},
     "output_type": "execute_result"
    }
   ],
   "source": [
    "'''Going to see how the reweighting from the paper changes my results. \n",
    "I am generating a histogram but then accounting for the difference between probability and score. \n",
    "I am also using a re-weighting approximation '''\n",
    "\n"
   ]
  },
  {
   "cell_type": "code",
   "execution_count": 2,
   "metadata": {},
   "outputs": [],
   "source": [
    "# import modules\n",
    "\n",
    "import numpy as np\n",
    "import matplotlib.pyplot as plt\n",
    "from matplotlib import rcParams\n",
    "\n",
    "import torch\n",
    "#tf.enable_eager_execution()\n",
    "%matplotlib inline\n",
    "\n",
    "import sys\n",
    "#sys.path.insert(1, '/Users/trentonbricken/protein-gen/pytorch/deep_boltzmann')\n",
    "\n",
    "#from PlottingFunctions import *\n",
    "\n",
    "import os\n",
    "os.chdir('../pytorch')\n",
    "\n",
    "from EVCouplingsGen import *\n",
    "from evcouplings.couplings import CouplingsModel\n",
    "from EVCouplingsStuff.seq_sele import *\n",
    "\n",
    "from metropolis import MetropolisHastings\n",
    "from utils import *\n",
    "\n",
    "from nflib.MADE import *\n",
    "from nflib.flows import *\n",
    "from nflib.spline_flows import NSF_AR, NSF_CL\n",
    "import itertools\n",
    "\n",
    "import seaborn as sns\n",
    "import matplotlib.pylab as plt\n",
    "\n",
    "from evcouplings.couplings import CouplingsModel\n",
    "from EVCouplingsStuff.seq_sele import *\n",
    "\n",
    "from EVCouplingsGen import *\n",
    "\n",
    "focus_seqs = read_fa('EVCouplingsStuff/DYR_ECOLI_1_b0.5.a2m_trimmed.fa')\n",
    "evc_model = CouplingsModel('EVCouplingsStuff/DYR.model')\n",
    "scores = evc_model.hamiltonians(list(focus_seqs['seq']))"
   ]
  },
  {
   "cell_type": "code",
   "execution_count": 32,
   "metadata": {},
   "outputs": [
    {
     "name": "stdout",
     "output_type": "stream",
     "text": [
      "0.9933071490757153 5.000000000000019\n"
     ]
    }
   ],
   "source": [
    "# inverse sigmoid\n",
    "\n",
    "def sigmoid(x):\n",
    "    return 1/(1 + np.exp(-x)) \n",
    "\n",
    "def inv_sigmoid(x):\n",
    "    return np.log(x/(1-x))\n",
    "\n",
    "res = sigmoid(5)\n",
    "org = inv_sigmoid(res)\n",
    "print(res, org)"
   ]
  },
  {
   "cell_type": "code",
   "execution_count": 3,
   "metadata": {},
   "outputs": [
    {
     "name": "stdout",
     "output_type": "stream",
     "text": [
      "calculating weights and identities\n",
      "(2, 20)\n",
      "(2, 2, 20, 20)\n",
      "shape of feature map torch.Size([20, 3])\n"
     ]
    }
   ],
   "source": [
    "# preprocessing: \n",
    "\n",
    "seq_len = 2\n",
    "enc_seqs=[]\n",
    "for seq in focus_seqs['seq']:\n",
    "    enc_seqs.append(encode_aa(seq[:seq_len], evc_model.alphabet_map)) \n",
    "\n",
    "enc_seqs = np.asarray(enc_seqs)\n",
    "target_seq = enc_seqs[0]#encode_aa(np.char.upper(ali.matrix[0, :]), a2n)\n",
    "\n",
    "oh = []\n",
    "N=20 # none of these focus have gaps, else should be 21. \n",
    "for seq in enc_seqs:\n",
    "    oh.append(onehot(seq,N))\n",
    "oh=np.asarray(oh)\n",
    "\n",
    "print('calculating weights and identities')\n",
    "N = oh.shape[0]\n",
    "L = oh.shape[1]\n",
    "AA = oh.shape[2]\n",
    "w, neighbors = msa_weights(enc_seqs, theta=0.8, pseudocount=0)\n",
    "oh.shape\n",
    "\n",
    "h = evc_model.h_i[:seq_len,:]\n",
    "print(h.shape)\n",
    "        \n",
    "J = evc_model.J_ij[:seq_len, :seq_len, :, :]\n",
    "print(J.shape)\n",
    "\n",
    "device = torch.device(\"cuda\" if torch.cuda.is_available() else \"cpu\")\n",
    "gen_model = EVCouplingsGenerator(L, AA, h, J, device, False, gaussian_cov_noise = 5.0)\n",
    "#EVCouplingsGenerator(L, AA, h, J, device)\n",
    "\n",
    "base = torch.distributions.multivariate_normal.MultivariateNormal(torch.zeros(gen_model.dim), torch.eye(gen_model.dim))\n",
    "\n",
    "### the block mask setting is SUPER IMPORTANT!!!\n",
    "flows = [AffineHalfFlow(dim=gen_model.dim, parity=i%2, nh=32 ,scale=False, block_mask=False) for i in range(4)]\n",
    "flows.append(AffineConstantFlow(dim=gen_model.dim, shift=False))\n",
    "\n",
    "network = NormalizingFlowModel(base, flows, gen_model)\n"
   ]
  },
  {
   "cell_type": "code",
   "execution_count": 29,
   "metadata": {},
   "outputs": [
    {
     "data": {
      "text/plain": [
       "torch.Size([50, 6])"
      ]
     },
     "execution_count": 29,
     "metadata": {},
     "output_type": "execute_result"
    }
   ],
   "source": [
    "network.sample(50).shape"
   ]
  },
  {
   "cell_type": "code",
   "execution_count": 4,
   "metadata": {},
   "outputs": [
    {
     "name": "stdout",
     "output_type": "stream",
     "text": [
      "continous_TrainLength_rand_seed-68_ML_epochs-3000_KL_epochs-2000_learning_rate-0.005_MLweight-1.0_KLweight-1.0_explore1.0_temperature-1.0_s_time-2020-03-02_23_30_44.780111\n"
     ]
    },
    {
     "data": {
      "text/plain": [
       "<All keys matched successfully>"
      ]
     },
     "execution_count": 4,
     "metadata": {},
     "output_type": "execute_result"
    }
   ],
   "source": [
    "folder_name = 'continous_TrainLength_rand_seed-68_ML_epochs-3000_KL_epochs-2000_learning_rate-0.005_MLweight-1.0_KLweight-1.0_explore1.0_temperature-1.0_s_time-2020-03-02_23_30_44.780111'\n",
    "#'continous_TEST_rand_seed-92_ML_epochs-300_KL_epochs-200_learning_rate-0.005_MLweight-1.0_KLweight-1.0_explore1.0_temperature-1.0_s_time-2020-03-02_23_20_49.028968'\n",
    "#'continous_TEST_rand_seed-92_ML_epochs-300_KL_epochs-200_learning_rate-0.005_MLweight-1.0_KLweight-1.0_explore1.0_temperature-1.0_s_time-2020-03-02_23_20_49.028968'\n",
    "#'NO_ENT_len2_NICE_diffMasks_maxOut_rand_seed-98_ML_epochs-80000_KL_epochs-80000_learning_rate-0.0005_MLweight-1.0_KLweight-1.0_explore1.0_temperature-1.0_s_time-2020-01-30_20_19_00.997518'\n",
    "#'02_GPU_NICEvsNeuralS_len30_rand_seed-98_ML_epochs-8000_KL_epochs-15000_learning_rate-1e-05_MLweight-1.0_KLweight-1.0_explore1.0_temperature-1.0_s_time-2020-01-17_15_50_58.624611'\n",
    "#'02_GPU_Analy_rand_seed-25_ML_epochs-1000_KL_epochs-1000_learning_rate-0.0001_MLweight-1.0_KLweight-1.0_explore1.0_temperature-1.0_s_time-2020-01-16_18_46_57.944733'\n",
    "folder_name = folder_name.replace('/',':')\n",
    "print(folder_name)\n",
    "network.flow.load_state_dict(torch.load('experiments/'+folder_name+'/Model_Post_ML_Training.torch', map_location=device))\n",
    "\n"
   ]
  },
  {
   "cell_type": "code",
   "execution_count": 5,
   "metadata": {},
   "outputs": [
    {
     "name": "stdout",
     "output_type": "stream",
     "text": [
      "[[11  7]\n",
      " [ 2 12]\n",
      " [ 9 17]\n",
      " ...\n",
      " [16 16]\n",
      " [15  2]\n",
      " [15  9]] (5000, 2) <class 'numpy.ndarray'>\n"
     ]
    },
    {
     "data": {
      "image/png": "[encoded data removed]",
      "text/plain": [
       "<Figure size 432x288 with 1 Axes>"
      ]
     },
     "metadata": {
      "needs_background": "light"
     },
     "output_type": "display_data"
    }
   ],
   "source": [
    "num_gen = 5000\n",
    "exp_energy_x, hard_energy_x = network.sample_energy(temperature=1.0, num_samples=num_gen)\n",
    "plt.hist(exp_energy_x, bins=100)\n",
    "plt.show()"
   ]
  },
  {
   "cell_type": "code",
   "execution_count": null,
   "metadata": {},
   "outputs": [],
   "source": []
  },
  {
   "cell_type": "code",
   "execution_count": 6,
   "metadata": {},
   "outputs": [
    {
     "data": {
      "image/png": "[encoded data removed]",
      "text/plain": [
       "<Figure size 432x288 with 1 Axes>"
      ]
     },
     "metadata": {
      "needs_background": "light"
     },
     "output_type": "display_data"
    }
   ],
   "source": [
    "plt.hist(hard_energy_x, bins=100)\n",
    "plt.show()"
   ]
  },
  {
   "cell_type": "code",
   "execution_count": 16,
   "metadata": {},
   "outputs": [
    {
     "name": "stdout",
     "output_type": "stream",
     "text": [
      "torch.Size([5, 2, 20])\n",
      "torch.Size([5, 2, 3])\n",
      "torch.Size([5, 6]) <class 'torch.Tensor'>\n"
     ]
    }
   ],
   "source": [
    "### checking for invertibility!!!!\n",
    "\n",
    "inp = torch.tensor([np.eye(20)[:2,:]]*5).float()\n",
    "print(inp.shape)\n",
    "#encode sequences\n",
    "inp = gen_model.encode(inp)\n",
    "print(inp.shape)\n",
    "inp = inp.reshape((inp.shape[0], -1))\n",
    "# put through model\n",
    "print(inp.shape, type(inp))\n",
    "forw, _, _ = network.forward(inp)\n",
    "# get back out\n",
    "back,_,_ = network.backward(forw)"
   ]
  },
  {
   "cell_type": "code",
   "execution_count": 25,
   "metadata": {},
   "outputs": [
    {
     "data": {
      "text/plain": [
       "tensor([[ 0.6200, 15.0000,  6.1100,  0.2900, 47.0000,  5.0200],\n",
       "        [ 0.6200, 15.0000,  6.1100,  0.2900, 47.0000,  5.0200],\n",
       "        [ 0.6200, 15.0000,  6.1100,  0.2900, 47.0000,  5.0200],\n",
       "        [ 0.6200, 15.0000,  6.1100,  0.2900, 47.0000,  5.0200],\n",
       "        [ 0.6200, 15.0000,  6.1100,  0.2900, 47.0000,  5.0200]])"
      ]
     },
     "execution_count": 25,
     "metadata": {},
     "output_type": "execute_result"
    }
   ],
   "source": [
    "inp"
   ]
  },
  {
   "cell_type": "code",
   "execution_count": 26,
   "metadata": {},
   "outputs": [
    {
     "data": {
      "text/plain": [
       "tensor([[-0.3801, -1.6256, -0.3648, -1.7463,  0.7119, -0.4219],\n",
       "        [-0.3801, -1.6256, -0.3648, -1.7463,  0.7119, -0.4219],\n",
       "        [-0.3801, -1.6256, -0.3648, -1.7463,  0.7119, -0.4219],\n",
       "        [-0.3801, -1.6256, -0.3648, -1.7463,  0.7119, -0.4219],\n",
       "        [-0.3801, -1.6256, -0.3648, -1.7463,  0.7119, -0.4219]],\n",
       "       grad_fn=<AddBackward0>)"
      ]
     },
     "execution_count": 26,
     "metadata": {},
     "output_type": "execute_result"
    }
   ],
   "source": [
    "forw"
   ]
  },
  {
   "cell_type": "code",
   "execution_count": 27,
   "metadata": {},
   "outputs": [
    {
     "data": {
      "text/plain": [
       "tensor([[ 0.6200, 15.0000,  6.1100,  0.2900, 47.0000,  5.0200],\n",
       "        [ 0.6200, 15.0000,  6.1100,  0.2900, 47.0000,  5.0200],\n",
       "        [ 0.6200, 15.0000,  6.1100,  0.2900, 47.0000,  5.0200],\n",
       "        [ 0.6200, 15.0000,  6.1100,  0.2900, 47.0000,  5.0200],\n",
       "        [ 0.6200, 15.0000,  6.1100,  0.2900, 47.0000,  5.0200]],\n",
       "       grad_fn=<CopySlices>)"
      ]
     },
     "execution_count": 27,
     "metadata": {},
     "output_type": "execute_result"
    }
   ],
   "source": [
    "back"
   ]
  },
  {
   "cell_type": "code",
   "execution_count": null,
   "metadata": {},
   "outputs": [],
   "source": [
    "def hard_max(inp):\n",
    "    if inp.shape[1] > L: # if it isnt a sequence of ints, then all to one hot.  \n",
    "        #print('the input to oh is', inp)\n",
    "\n",
    "        if len(inp)>2:\n",
    "            inp = inp.reshape(inp.shape[0], -1, 20)\n",
    "        else:\n",
    "            inp = inp.reshape(-1,20)\n",
    "\n",
    "        inp = np.argmax(inp, axis=-1)\n",
    "    return inp\n",
    "\n",
    "def seq_counter(seqs, AA=20):\n",
    "    # assumes not in one hot\n",
    "    counter = np.zeros((AA, AA))\n",
    "    for s in seqs: \n",
    "        counter[s[0], s[1]] +=1\n",
    "    return counter"
   ]
  },
  {
   "cell_type": "code",
   "execution_count": null,
   "metadata": {},
   "outputs": [],
   "source": [
    "x.shape"
   ]
  },
  {
   "cell_type": "code",
   "execution_count": null,
   "metadata": {},
   "outputs": [],
   "source": [
    "# going to try and plot the energy rather than the probabilities\n",
    "# this is more tricky because here I am not dealing with positions that I can bin by but rather whole sequences. \n",
    "# each sequence should be its own discrete bin? \n",
    "\n",
    "sample_x = network.sample(temperature=1.0, num_samples=num_gen).detach().numpy()\n",
    "\n",
    "is_discrete = False\n",
    "\n",
    "if not is_discrete: \n",
    "    inp = sample_x.reshape( sample_x.shape[0], gen_model.L, -1 )\n",
    "    sample_x_seqs = gen_model.decode( torch.tensor(inp).float() ).numpy()\n",
    "    x = sample_x_seqs.argmax(axis=-1)\n",
    "    \n",
    "    #gen_model.decode(torch.tensor(sample_x).float())\n",
    "else:\n",
    "    x = hard_max(sample_x_seqs)\n",
    "# reversing energy here\n",
    "sample_energies = -gen_model.energy(sample_x)\n",
    "\n",
    "\n",
    "print('sample x shape', sample_x.shape, 'hard max', x.shape)\n",
    "counter = seq_counter(x)"
   ]
  },
  {
   "cell_type": "code",
   "execution_count": 88,
   "metadata": {},
   "outputs": [
    {
     "data": {
      "text/plain": [
       "<matplotlib.axes._subplots.AxesSubplot at 0x1a37fe8450>"
      ]
     },
     "execution_count": 88,
     "metadata": {},
     "output_type": "execute_result"
    },
    {
     "data": {
      "image/png": "[encoded data removed]",
      "text/plain": [
       "<Figure size 432x288 with 2 Axes>"
      ]
     },
     "metadata": {
      "needs_background": "light"
     },
     "output_type": "display_data"
    }
   ],
   "source": [
    "# check that the counter is working\n",
    "import seaborn as sns;\n",
    "sns.heatmap(counter.T)"
   ]
  },
  {
   "cell_type": "code",
   "execution_count": 89,
   "metadata": {},
   "outputs": [
    {
     "name": "stderr",
     "output_type": "stream",
     "text": [
      "/Users/trentonbricken/anaconda3/lib/python3.7/site-packages/ipykernel_launcher.py:1: RuntimeWarning: divide by zero encountered in log\n",
      "  \"\"\"Entry point for launching an IPython kernel.\n"
     ]
    },
    {
     "data": {
      "text/plain": [
       "<matplotlib.axes._subplots.AxesSubplot at 0x1a39c49ed0>"
      ]
     },
     "execution_count": 89,
     "metadata": {},
     "output_type": "execute_result"
    },
    {
     "data": {
      "image/png": "[encoded data removed]",
      "text/plain": [
       "<Figure size 432x288 with 2 Axes>"
      ]
     },
     "metadata": {
      "needs_background": "light"
     },
     "output_type": "display_data"
    }
   ],
   "source": [
    "noe_scoring = -np.log(counter)\n",
    "isinf = np.isinf(noe_scoring)\n",
    "noe_scoring = noe_scoring - noe_scoring.min() + sample_energies.min()\n",
    "noe_scoring[isinf] = None\n",
    "sns.heatmap(-noe_scoring.T)"
   ]
  },
  {
   "cell_type": "markdown",
   "metadata": {},
   "source": [
    "## now trying to run the reweighting code"
   ]
  },
  {
   "cell_type": "code",
   "execution_count": 90,
   "metadata": {},
   "outputs": [],
   "source": [
    "def hist_weights(network):\n",
    "    sample_x, log_w = network.sample_log_w(temperature=1.0, num_samples=100000)\n",
    "    log_w -= log_w.max()\n",
    "    bins = np.linspace(-2.5, 2.5, 100)\n",
    "    bin_means = (bins[:-1] + bins[1:]) /2\n",
    "    sample_x_index = np.digitize(sample_x[:, 0], bins)\n",
    "    whist = np.zeros(len(bins) + 1)\n",
    "    for i in range(len(log_w)):\n",
    "        whist[sample_x_index[i]] += np.exp(log_w[i])\n",
    "    return bin_means, whist[1:-1]"
   ]
  },
  {
   "cell_type": "code",
   "execution_count": 93,
   "metadata": {},
   "outputs": [],
   "source": [
    "# reweights for the discrete sequences: \n",
    "sample_x, log_w = network.sample_log_w(temperature=1.0, num_samples=100000)\n",
    "if not is_discrete: \n",
    "    inp = sample_x.reshape( sample_x.shape[0], gen_model.L, -1 )\n",
    "    sample_x_seqs = gen_model.decode( torch.tensor(inp).float() ).numpy()\n",
    "    x = sample_x_seqs.argmax(axis=-1)\n",
    "else: \n",
    "    x = hard_max(sample_x)\n",
    "\n",
    "log_w -= log_w.max()\n",
    "\n",
    "counter = seq_counter(x)\n",
    "\n",
    "# account for how much weight in total is in each bin. \n",
    "whist = np.zeros_like(counter)\n",
    "for i in range(len(log_w)):\n",
    "    whist[x[i][0], x[i][1]] += np.exp(log_w[i] - log_w.max())\n",
    " "
   ]
  },
  {
   "cell_type": "code",
   "execution_count": 94,
   "metadata": {},
   "outputs": [
    {
     "data": {
      "text/plain": [
       "<matplotlib.axes._subplots.AxesSubplot at 0x1a38c335d0>"
      ]
     },
     "execution_count": 94,
     "metadata": {},
     "output_type": "execute_result"
    },
    {
     "data": {
      "image/png": "[encoded data removed]",
      "text/plain": [
       "<Figure size 432x288 with 2 Axes>"
      ]
     },
     "metadata": {
      "needs_background": "light"
     },
     "output_type": "display_data"
    }
   ],
   "source": [
    "sns.heatmap(whist.T)"
   ]
  },
  {
   "cell_type": "code",
   "execution_count": 95,
   "metadata": {},
   "outputs": [],
   "source": [
    "# now using the weights I need to resample the sequences. \n",
    "# get probabilities and then convert these back to scores. \n",
    "\n",
    "single_index_dict = dict()\n",
    "for i in range(counter.shape[0] * counter.shape[1]):\n",
    "    single_index_dict[i] = np.array( [i//counter.shape[0], i%counter.shape[1]])\n",
    "\n",
    "#test_sample_rew(network, gen_model, temperature=1.0, plot=False)\n",
    "single_index_dict;"
   ]
  },
  {
   "cell_type": "code",
   "execution_count": 96,
   "metadata": {},
   "outputs": [
    {
     "data": {
      "text/plain": [
       "7.449174032992818"
      ]
     },
     "execution_count": 96,
     "metadata": {},
     "output_type": "execute_result"
    }
   ],
   "source": [
    "whist.sum()"
   ]
  },
  {
   "cell_type": "code",
   "execution_count": 97,
   "metadata": {},
   "outputs": [],
   "source": [
    "whist = whist/whist.sum()"
   ]
  },
  {
   "cell_type": "code",
   "execution_count": 98,
   "metadata": {},
   "outputs": [
    {
     "name": "stderr",
     "output_type": "stream",
     "text": [
      "/Users/trentonbricken/anaconda3/lib/python3.7/site-packages/ipykernel_launcher.py:11: RuntimeWarning: divide by zero encountered in log\n",
      "  # This is added back by InteractiveShellApp.init_path()\n"
     ]
    }
   ],
   "source": [
    "n_boots = 10\n",
    "energies = []\n",
    "for n in range(n_boots):\n",
    "    rand_inds = np.random.choice( np.arange(len(single_index_dict)), size =x.shape[0], p = whist.flatten(), replace=True )\n",
    "    rand_seqs = []\n",
    "    for r in rand_inds:\n",
    "        rand_seqs.append(single_index_dict[r])\n",
    "    rand_seqs = np.asarray(rand_seqs)\n",
    "    rand_counter = seq_counter(rand_seqs)\n",
    "    rand_counter = rand_counter / rand_counter.sum()\n",
    "    E = -np.log(rand_counter)\n",
    "    energies.append(E)\n",
    "energies = np.asarray(energies)"
   ]
  },
  {
   "cell_type": "code",
   "execution_count": 99,
   "metadata": {},
   "outputs": [
    {
     "data": {
      "text/plain": [
       "nan"
      ]
     },
     "execution_count": 99,
     "metadata": {},
     "output_type": "execute_result"
    }
   ],
   "source": [
    "np.mean( np.array([np.nan, 5, 6]))"
   ]
  },
  {
   "cell_type": "code",
   "execution_count": 100,
   "metadata": {},
   "outputs": [
    {
     "name": "stderr",
     "output_type": "stream",
     "text": [
      "/Users/trentonbricken/anaconda3/lib/python3.7/site-packages/numpy/core/_methods.py:193: RuntimeWarning: invalid value encountered in subtract\n",
      "  x = asanyarray(arr - arrmean)\n"
     ]
    }
   ],
   "source": [
    "# compute the mean and std! \n",
    "emean = energies.mean(axis=0)\n",
    "estd = energies.std(axis=0)\n",
    "emean[ np.invert(np.isfinite(emean)) ] = np.nan\n",
    "estd[ np.invert(np.isfinite(estd)) ] = np.nan"
   ]
  },
  {
   "cell_type": "code",
   "execution_count": 101,
   "metadata": {},
   "outputs": [
    {
     "data": {
      "text/plain": [
       "<matplotlib.axes._subplots.AxesSubplot at 0x1a38a4ba10>"
      ]
     },
     "execution_count": 101,
     "metadata": {},
     "output_type": "execute_result"
    },
    {
     "data": {
      "image/png": "[encoded data removed]",
      "text/plain": [
       "<Figure size 432x288 with 2 Axes>"
      ]
     },
     "metadata": {
      "needs_background": "light"
     },
     "output_type": "display_data"
    }
   ],
   "source": [
    "# plotting the energies after reweighted bootstrapping\n",
    "emean = emean - emean[np.isfinite(emean)].min() + sample_energies.min()\n",
    "sns.heatmap(-emean.T)"
   ]
  },
  {
   "cell_type": "code",
   "execution_count": 105,
   "metadata": {},
   "outputs": [
    {
     "data": {
      "text/plain": [
       "(20, 20)"
      ]
     },
     "execution_count": 105,
     "metadata": {},
     "output_type": "execute_result"
    }
   ],
   "source": [
    "emean.shape"
   ]
  },
  {
   "cell_type": "code",
   "execution_count": 117,
   "metadata": {},
   "outputs": [
    {
     "data": {
      "text/plain": [
       "array([ 4.30950968e+00,  2.60802541e+00,  1.14007479e+00,  5.80379794e+00,\n",
       "        3.32571666e+00,  3.58690860e+00,  3.93313031e+00,  4.43485487e+00,\n",
       "        3.79594294e+00, -9.35152105e-01,  1.64704018e+00, -9.68044169e-01,\n",
       "        1.66897641e+00,  9.71118452e-01, -6.68470942e-01,  3.28126218e+00,\n",
       "        3.31199109e+00,  1.02471445e+00, -5.25759306e-01,  2.58702749e+00,\n",
       "        1.62305710e+00,  1.19932906e+00,  3.43840035e+00,  3.78613553e+00,\n",
       "        8.35220788e-01, -2.00443176e-01,  1.24470791e+00, -1.96972579e+00,\n",
       "        2.04108156e+00,  3.00697509e+00, -1.42290415e+00,  5.84548606e-01,\n",
       "       -6.24064019e-02, -8.59187974e-01,  5.67416919e-01,  2.05733281e+00,\n",
       "        1.98230185e+00, -1.51974483e+00, -4.00383060e-01, -7.31664392e-01,\n",
       "        4.41588268e-01, -5.47778590e-01, -2.56536240e-03,  8.66785763e-01,\n",
       "        5.90185235e-01,  1.82441881e+00, -1.61261615e+00,  7.08727481e-01,\n",
       "        1.38677195e+00, -5.34895676e-01, -1.28303246e+00, -4.30208162e-01,\n",
       "        4.34704826e+00,  1.55109724e+00,  1.32573951e+00,  5.57528798e+00,\n",
       "        1.70602169e+00,  2.82574637e+00,  3.65335584e+00,  4.41383104e+00,\n",
       "        3.00930685e+00,  1.24113983e+00,  1.91490707e+00, -7.05713272e-01,\n",
       "       -9.98276584e-02,  3.85841336e+00,  4.14808242e+00, -4.56266176e-01,\n",
       "        7.64724866e-01,  2.95442633e+00,  2.53676782e+00,  1.73161152e+00,\n",
       "        2.57701191e+00,  3.15476895e+00,  2.46453070e+00, -1.03735889e+00,\n",
       "       -2.35730192e-01,  2.73163155e+00, -1.34418278e+00, -1.71069908e+00,\n",
       "       -2.09488590e-02, -7.25181411e-02,  3.52548008e+00,  1.24834204e+00,\n",
       "        3.05863139e-01,  4.59059203e+00,  1.32968792e+00,  6.23152381e-01,\n",
       "        3.02770715e+00,  3.06846477e+00,  1.85775271e+00, -2.37133691e-01,\n",
       "        1.09457195e+00, -3.05240032e-01,  1.61561878e+00,  3.11189133e+00,\n",
       "        1.47243093e+00, -1.57206964e+00,  2.19145696e+00, -5.80478633e-01,\n",
       "        4.23720370e-01,  2.10212360e+00,  3.27796040e+00,  3.99220348e+00,\n",
       "        8.32775177e-01,  1.67994370e+00,  1.33884224e+00, -1.28948632e+00,\n",
       "        3.98783288e-02, -1.79054985e+00,  1.77696670e+00,  3.69214372e+00,\n",
       "       -5.21658309e-01,  8.41896887e-01, -2.25876297e+00,  3.99565524e+00,\n",
       "        2.26068916e-01,  1.82775665e+00,  3.14501550e+00,  5.63127574e-01,\n",
       "        4.51434903e+00,  2.77017828e+00,  6.97718445e+00,  1.37313973e+00,\n",
       "        3.26832967e-01, -2.12013353e+00,  1.32357877e+00, -1.20445887e-01,\n",
       "        4.72251664e+00,  1.93432685e+00,  1.52494860e+00,  1.74327693e+00,\n",
       "        2.30974960e+00, -9.09265503e-01,  2.03210483e-01,  9.43329683e-01,\n",
       "        1.67645269e+00, -3.06163914e-01, -1.64138436e+00, -8.08105412e-01,\n",
       "        3.11438439e+00,  1.39644669e-01,  6.75662876e-01,  1.44935348e+00,\n",
       "        6.15806675e-01,  8.51070284e-01,  2.45967591e+00,  2.79296263e+00,\n",
       "        1.39455448e+00, -9.29517929e-01,  1.47711160e+00,  2.09146690e+00,\n",
       "       -1.02940271e+00,  3.37893999e+00,  2.15089879e+00,  1.10136767e-01,\n",
       "        2.05698786e+00, -3.64552824e-02,  1.99588383e+00,  2.32395588e+00,\n",
       "        2.88270153e+00,  2.73622129e+00,  2.79005966e-01,  2.32913986e+00,\n",
       "        3.16568928e+00,  4.16380784e+00,  6.89590744e+00,  2.95582083e+00,\n",
       "        2.68689656e+00,  6.03839081e+00,  3.33056226e+00,  3.72227629e+00,\n",
       "        5.23906338e+00, -1.49379371e+00,  7.30291071e+00,  4.55958903e+00,\n",
       "        2.44515601e+00,  3.09448495e+00,  7.93986192e-01,  4.02500528e+00,\n",
       "        5.00882849e-01, -1.18288761e+00,  6.68662898e-01,  3.88343740e+00,\n",
       "        2.56544066e+00,  1.46667432e+00, -9.92730177e-01,  1.41426545e+00,\n",
       "        9.56454658e-01,  1.56608362e+00,  1.36847068e+00,  5.36717581e+00,\n",
       "        5.72807445e-01, -4.55102386e-01,  1.43662079e-01, -2.84067979e-01,\n",
       "        4.42327560e-01,  2.97557739e+00, -7.37340225e-01,  4.23931029e-01,\n",
       "        1.29383405e+00,  5.28685107e-02,  9.40132838e-01, -1.78395844e-01,\n",
       "        4.80090040e-01, -9.83459237e-01,  2.91522118e+00,  1.10669663e+00,\n",
       "        9.47589121e-01,  2.15879940e+00,  2.61592303e+00,  3.81490055e+00,\n",
       "        2.76050179e+00,  1.13023681e+00, -3.35662051e-01,  2.72006024e+00,\n",
       "       -1.92917928e+00,  9.60758175e-01])"
      ]
     },
     "execution_count": 117,
     "metadata": {},
     "output_type": "execute_result"
    }
   ],
   "source": [
    "top = -emean.flatten()\n",
    "top = top[np.isfinite(top)].flatten()\n",
    "top"
   ]
  },
  {
   "cell_type": "code",
   "execution_count": 118,
   "metadata": {},
   "outputs": [
    {
     "data": {
      "image/png": "[encoded data removed]",
      "text/plain": [
       "<Figure size 432x288 with 1 Axes>"
      ]
     },
     "metadata": {
      "needs_background": "light"
     },
     "output_type": "display_data"
    }
   ],
   "source": [
    "plt.scatter(np.arange(len(top)), np.sort(top) )\n",
    "plt.show()"
   ]
  },
  {
   "cell_type": "code",
   "execution_count": 119,
   "metadata": {},
   "outputs": [
    {
     "data": {
      "image/png": "[encoded data removed]",
      "text/plain": [
       "<Figure size 432x288 with 1 Axes>"
      ]
     },
     "metadata": {
      "needs_background": "light"
     },
     "output_type": "display_data"
    }
   ],
   "source": [
    "# plotting probabilities of one of the reweighted bootstraps\n",
    "plt.hist(gen_model.energy(rand_seqs), bins=100)\n",
    "plt.show()"
   ]
  },
  {
   "cell_type": "code",
   "execution_count": null,
   "metadata": {},
   "outputs": [],
   "source": []
  }
 ],
 "metadata": {
  "kernelspec": {
   "display_name": "Python 3",
   "language": "python",
   "name": "python3"
  },
  "language_info": {
   "codemirror_mode": {
    "name": "ipython",
    "version": 3
   },
   "file_extension": ".py",
   "mimetype": "text/x-python",
   "name": "python",
   "nbconvert_exporter": "python",
   "pygments_lexer": "ipython3",
   "version": "3.7.5"
  }
 },
 "nbformat": 4,
 "nbformat_minor": 4
}
