{
 "cells": [
  {
   "cell_type": "code",
   "execution_count": null,
   "metadata": {},
   "outputs": [],
   "source": []
  },
  {
   "cell_type": "code",
   "execution_count": 1,
   "metadata": {},
   "outputs": [],
   "source": [
    "import numpy as np\n",
    "import matplotlib.pyplot as plt\n",
    "from scipy.stats import multivariate_normal\n",
    "import torch\n",
    "import itertools"
   ]
  },
  {
   "cell_type": "code",
   "execution_count": 2,
   "metadata": {},
   "outputs": [],
   "source": [
    "# for auto-reloading external modules\n",
    "# see http://stackoverflow.com/questions/1907993/autoreload-of-modules-in-ipython\n",
    "%load_ext autoreload\n",
    "%autoreload 2"
   ]
  },
  {
   "cell_type": "code",
   "execution_count": 3,
   "metadata": {},
   "outputs": [
    {
     "data": {
      "image/png": "[encoded data removed]",
      "text/plain": [
       "<Figure size 432x288 with 1 Axes>"
      ]
     },
     "metadata": {
      "needs_background": "light"
     },
     "output_type": "display_data"
    }
   ],
   "source": [
    "n_samps = 50\n",
    "\n",
    "means = np.array([[8,9], [2,1], [8,1], [2,9], [5,12], [5,0], [10, 5], [1.5,5]]) * 10\n",
    "data = np.zeros((len(means)*n_samps,2))\n",
    "y = np.zeros((len(means)*n_samps,1))\n",
    "for ind, m in enumerate(means):\n",
    "    samps = multivariate_normal(m, np.eye(2)/0.1).rvs(n_samps)#.astype(int)\n",
    "    data[ind*n_samps:((ind+1)*n_samps)] = samps\n",
    "    y[ind*n_samps:((ind+1)*n_samps)] = np.tile(ind, n_samps).reshape(-1,1)\n",
    "    plt.scatter(samps[:,0], samps[:,1])\n"
   ]
  },
  {
   "cell_type": "code",
   "execution_count": 4,
   "metadata": {},
   "outputs": [
    {
     "data": {
      "image/png": "[encoded data removed]",
      "text/plain": [
       "<Figure size 288x288 with 1 Axes>"
      ]
     },
     "metadata": {
      "needs_background": "light"
     },
     "output_type": "display_data"
    }
   ],
   "source": [
    "# Lightweight datasets\n",
    "import pickle\n",
    "from sklearn import datasets\n",
    "\n",
    "class DatasetSIGGRAPH:\n",
    "    \"\"\" \n",
    "    haha, found from Eric https://blog.evjang.com/2018/01/nf2.html\n",
    "    https://github.com/ericjang/normalizing-flows-tutorial/blob/master/siggraph.pkl\n",
    "    \"\"\"\n",
    "    def __init__(self):\n",
    "        with open('siggraph.pkl', 'rb') as f:\n",
    "            XY = np.array(pickle.load(f), dtype=np.float32)\n",
    "            XY -= np.mean(XY, axis=0) # center\n",
    "        self.XY = torch.from_numpy(XY)\n",
    "    \n",
    "    def sample(self, n):\n",
    "        X = self.XY[np.random.randint(self.XY.shape[0], size=n)]\n",
    "        return X\n",
    "\n",
    "class DatasetMoons:\n",
    "    \"\"\" two half-moons \"\"\"\n",
    "    def sample(self, n):\n",
    "        moons = datasets.make_moons(n_samples=n, noise=0.05)[0].astype(np.float32)\n",
    "        return torch.from_numpy(moons)\n",
    "\n",
    "class DatasetMixture:\n",
    "    \"\"\" 4 mixture of gaussians \"\"\"\n",
    "    def sample(self, n):\n",
    "        assert n%4 == 0\n",
    "        r = np.r_[np.random.randn(n // 4, 2)*0.5 + np.array([0, -2]),\n",
    "                  np.random.randn(n // 4, 2)*0.5 + np.array([0, 0]),\n",
    "                  np.random.randn(n // 4, 2)*0.5 + np.array([2, 2]),\n",
    "                  np.random.randn(n // 4, 2)*0.5 + np.array([-2, 2])]\n",
    "        return torch.from_numpy(r.astype(np.float32))\n",
    "\n",
    "def eightMixture_sample(batch_size):\n",
    "    rand = np.random.choice(np.arange(len(data)), batch_size)\n",
    "    return data[rand,:]\n",
    "    \n",
    "d = DatasetMoons()\n",
    "#d = DatasetMixture()\n",
    "#d = DatasetSIGGRAPH()\n",
    "\n",
    "x = d.sample(128)\n",
    "plt.figure(figsize=(4,4))\n",
    "plt.scatter(x[:,0], x[:,1], s=5, alpha=0.5)\n",
    "plt.axis('equal');"
   ]
  },
  {
   "cell_type": "code",
   "execution_count": 5,
   "metadata": {},
   "outputs": [
    {
     "data": {
      "text/plain": [
       "(400, 2)"
      ]
     },
     "execution_count": 5,
     "metadata": {},
     "output_type": "execute_result"
    }
   ],
   "source": [
    "data.shape"
   ]
  },
  {
   "cell_type": "code",
   "execution_count": 6,
   "metadata": {},
   "outputs": [],
   "source": [
    "batch_size, sequence_length, vocab_size = 32,  2, 150\n",
    "\n",
    "def one_hotter(x, depth):\n",
    "    idd = np.eye(depth)\n",
    "    #print(idd[0])\n",
    "    res = np.zeros((x.shape[0], x.shape[1], depth))\n",
    "    #print(res.shape)\n",
    "    for ind in range(len(x)): \n",
    "        for j, val in enumerate(x[ind]):\n",
    "            res[ind, j, :] = idd[int(val)]\n",
    "            \n",
    "    return res\n",
    "            \n",
    "\n",
    "oh = one_hotter(data, vocab_size)"
   ]
  },
  {
   "cell_type": "code",
   "execution_count": 40,
   "metadata": {},
   "outputs": [],
   "source": [
    "from MADE import *\n",
    "from flows import *\n",
    "from spline_flows import NSF_AR, NSF_CL\n",
    "\n",
    "base = torch.distributions.multivariate_normal.MultivariateNormal(torch.zeros(2), torch.eye(2))\n",
    "\n",
    "\n",
    "# RealNVP\n",
    "#flows = [AffineHalfFlow(dim=2, parity=i%2) for i in range(9)]\n",
    "\n",
    "# NICE\n",
    "#flows = [AffineHalfFlow(dim=2, parity=i%2, scale=False) for i in range(4)]\n",
    "#flows.append(AffineConstantFlow(dim=2, shift=False))\n",
    "\n",
    "# SlowMAF (MAF, but without any parameter sharing for each dimension's scale/shift)\n",
    "# flows = [SlowMAF(dim=2, parity=i%2) for i in range(4)]\n",
    "\n",
    "# MAF (with MADE net, so we get very fast density estimation)\n",
    "flows = [MAF(dim=2, parity=i%2) for i in range(4)]\n",
    "\n",
    "# Neural splines, coupling\n",
    "'''nfs_flow = NSF_CL if True else NSF_AR\n",
    "flows = [nfs_flow(dim=2, K=8, B=3, hidden_dim=16) for _ in range(3)]\n",
    "convs = [Invertible1x1Conv(dim=2) for _ in flows]\n",
    "norms = [ActNorm(dim=2) for _ in flows]\n",
    "flows = list(itertools.chain(*zip(norms, convs, flows)))'''\n",
    "\n",
    "\n",
    "model = NormalizingFlowModel(base, flows)"
   ]
  },
  {
   "cell_type": "code",
   "execution_count": 41,
   "metadata": {},
   "outputs": [
    {
     "name": "stdout",
     "output_type": "stream",
     "text": [
      "number of params:  5488\n"
     ]
    }
   ],
   "source": [
    "print(\"number of params: \", sum(p.numel() for p in model.parameters()))"
   ]
  },
  {
   "cell_type": "code",
   "execution_count": 42,
   "metadata": {},
   "outputs": [],
   "source": [
    "base.sample((100,));"
   ]
  },
  {
   "cell_type": "code",
   "execution_count": 43,
   "metadata": {},
   "outputs": [
    {
     "data": {
      "text/plain": [
       "torch.Tensor"
      ]
     },
     "execution_count": 43,
     "metadata": {},
     "output_type": "execute_result"
    }
   ],
   "source": [
    "type(torch.Tensor(data[:batch_size,:]))"
   ]
  },
  {
   "cell_type": "markdown",
   "metadata": {},
   "source": [
    "forward is from data to latent. backward is from latent to data"
   ]
  },
  {
   "cell_type": "code",
   "execution_count": 53,
   "metadata": {},
   "outputs": [
    {
     "name": "stdout",
     "output_type": "stream",
     "text": [
      "0 2172.728515625\n",
      "100 2160.712890625\n",
      "200 2191.925048828125\n",
      "300 2172.721435546875\n",
      "400 2184.44091796875\n",
      "500 2149.40234375\n",
      "600 2177.878662109375\n",
      "700 2152.619873046875\n",
      "800 2166.35205078125\n",
      "900 2164.374755859375\n",
      "1000 2197.827880859375\n",
      "1100 2170.57177734375\n",
      "1200 2184.13134765625\n",
      "1300 2194.01611328125\n",
      "1400 2169.92626953125\n",
      "1500 2183.864501953125\n",
      "1600 2171.095947265625\n",
      "1700 2180.258544921875\n",
      "1800 2170.240966796875\n",
      "1900 2198.173828125\n",
      "2000 2150.70751953125\n",
      "2100 2170.982177734375\n",
      "2200 2132.828369140625\n",
      "2300 2169.839111328125\n",
      "2400 2168.052734375\n",
      "2500 2187.58642578125\n",
      "2600 2156.30029296875\n",
      "2700 2189.29052734375\n",
      "2800 2155.549560546875\n",
      "2900 2159.39208984375\n",
      "3000 2173.03173828125\n",
      "3100 2160.380126953125\n",
      "3200 2172.83056640625\n",
      "3300 2147.94677734375\n",
      "3400 2151.26123046875\n",
      "3500 2175.88134765625\n",
      "3600 2153.33203125\n",
      "3700 2168.792724609375\n",
      "3800 2174.660888671875\n",
      "3900 2196.6328125\n",
      "4000 2155.479248046875\n",
      "4100 2208.9765625\n",
      "4200 2178.74072265625\n",
      "4300 2150.285888671875\n",
      "4400 2178.69580078125\n",
      "4500 2157.470703125\n",
      "4600 2161.927734375\n",
      "4700 2165.74462890625\n",
      "4800 2163.32666015625\n",
      "4900 2159.486083984375\n",
      "5000 2161.851318359375\n",
      "5100 2132.361572265625\n",
      "5200 2160.50537109375\n",
      "5300 2150.98876953125\n",
      "5400 2148.43017578125\n",
      "5500 2173.221435546875\n",
      "5600 2162.693603515625\n",
      "5700 2187.583740234375\n",
      "5800 2175.13427734375\n",
      "5900 2151.017578125\n",
      "6000 2194.77490234375\n",
      "6100 2172.954345703125\n",
      "6200 2151.872314453125\n",
      "6300 2179.358642578125\n",
      "6400 2222.70263671875\n",
      "6500 2136.25537109375\n",
      "6600 2183.84814453125\n",
      "6700 2143.127197265625\n",
      "6800 2139.995361328125\n",
      "6900 2170.8125\n",
      "7000 2179.73583984375\n",
      "7100 2161.57666015625\n",
      "7200 2143.57421875\n",
      "7300 2180.035400390625\n",
      "7400 2160.741455078125\n",
      "7500 2198.543701171875\n",
      "7600 2174.267333984375\n",
      "7700 2151.578857421875\n",
      "7800 2142.119873046875\n",
      "7900 2152.552490234375\n",
      "8000 2159.34912109375\n",
      "8100 2152.06103515625\n",
      "8200 2168.715576171875\n",
      "8300 2170.27001953125\n",
      "8400 2176.67919921875\n",
      "8500 2137.65966796875\n",
      "8600 2167.241943359375\n",
      "8700 2155.259033203125\n",
      "8800 2165.3603515625\n",
      "8900 2171.15869140625\n",
      "9000 2161.013427734375\n",
      "9100 2151.093017578125\n",
      "9200 2174.760498046875\n",
      "9300 2188.478271484375\n",
      "9400 2148.86962890625\n",
      "9500 2198.685791015625\n",
      "9600 2147.40185546875\n",
      "9700 2134.59619140625\n",
      "9800 2170.2197265625\n",
      "9900 2210.30126953125\n",
      "10000 2144.170654296875\n",
      "10100 2185.384765625\n",
      "10200 2172.281005859375\n",
      "10300 2155.099365234375\n",
      "10400 2164.002197265625\n",
      "10500 2150.306396484375\n",
      "10600 2136.067626953125\n",
      "10700 2152.56787109375\n",
      "10800 2184.253662109375\n",
      "10900 2140.04248046875\n",
      "11000 2154.850341796875\n",
      "11100 2231.959716796875\n",
      "11200 2136.119873046875\n",
      "11300 2182.48583984375\n",
      "11400 2143.614013671875\n",
      "11500 2184.48974609375\n",
      "11600 2143.1396484375\n",
      "11700 2136.094482421875\n",
      "11800 2129.522216796875\n",
      "11900 2167.236083984375\n",
      "12000 2165.657958984375\n",
      "12100 2142.872314453125\n",
      "12200 2188.762939453125\n",
      "12300 2150.0986328125\n",
      "12400 2192.525390625\n",
      "12500 2153.215087890625\n",
      "12600 2164.64794921875\n",
      "12700 2161.810302734375\n",
      "12800 2143.23291015625\n",
      "12900 2138.24462890625\n",
      "13000 2165.190673828125\n",
      "13100 2175.037353515625\n",
      "13200 2172.53271484375\n",
      "13300 2152.17431640625\n",
      "13400 2140.6806640625\n",
      "13500 2136.41259765625\n",
      "13600 2148.91259765625\n",
      "13700 2151.662353515625\n",
      "13800 2167.553466796875\n",
      "13900 2146.144775390625\n",
      "14000 2132.439697265625\n",
      "14100 2178.862548828125\n",
      "14200 2168.2392578125\n",
      "14300 2171.264892578125\n",
      "14400 2163.238037109375\n",
      "14500 2162.291259765625\n",
      "14600 2139.037353515625\n",
      "14700 2211.6103515625\n",
      "14800 2153.811279296875\n",
      "14900 2184.759521484375\n"
     ]
    },
    {
     "data": {
      "text/plain": [
       "[<matplotlib.lines.Line2D at 0x1a28c2ee50>]"
      ]
     },
     "execution_count": 53,
     "metadata": {},
     "output_type": "execute_result"
    },
    {
     "data": {
      "image/png": "[encoded data removed]",
      "text/plain": [
       "<Figure size 432x288 with 1 Axes>"
      ]
     },
     "metadata": {
      "needs_background": "light"
     },
     "output_type": "display_data"
    }
   ],
   "source": [
    "epochs = 15000\n",
    "batch_size = 248\n",
    "learning_rate=0.00001\n",
    "optimizer = torch.optim.Adam(model.parameters(), lr=learning_rate)\n",
    "losses = []\n",
    "\n",
    "#x = torch.Tensor(data[:batch_size,:])\n",
    "\n",
    "model.train()\n",
    "for e in range(epochs): \n",
    "    \n",
    "    #x = d.sample(batch_size)\n",
    "    x = torch.Tensor(eightMixture_sample(batch_size))\n",
    "    \n",
    "    optimizer.zero_grad()\n",
    "    \n",
    "    zs, prior_logprob, log_det = model.forward( x )\n",
    "    # get the back output after every transformation currently!\n",
    "    #print(back_probs)\n",
    "    logprob = prior_logprob + log_det\n",
    "    loss = -torch.sum(logprob)\n",
    "    #print(loss)\n",
    "    \n",
    "    loss.backward()\n",
    "    optimizer.step()\n",
    "    \n",
    "    losses.append(loss.detach())\n",
    "    \n",
    "    if e%100==0:\n",
    "        print(e, loss.item())\n",
    "    \n",
    "    \n",
    "plt.plot(losses)\n",
    "    "
   ]
  },
  {
   "cell_type": "code",
   "execution_count": 54,
   "metadata": {},
   "outputs": [
    {
     "data": {
      "text/plain": [
       "Text(0.5, 1.0, 'z -> x')"
      ]
     },
     "execution_count": 54,
     "metadata": {},
     "output_type": "execute_result"
    },
    {
     "data": {
      "image/png": "[encoded data removed]",
      "text/plain": [
       "<Figure size 720x360 with 2 Axes>"
      ]
     },
     "metadata": {
      "needs_background": "light"
     },
     "output_type": "display_data"
    }
   ],
   "source": [
    "model.eval()\n",
    "\n",
    "#x = d.sample(128)\n",
    "x = torch.Tensor(eightMixture_sample(batch_size))\n",
    "zs, prior_logprob, log_det = model(x)\n",
    "z = zs[-1]\n",
    "\n",
    "x = x.detach().numpy()\n",
    "z = z.detach().numpy()\n",
    "p = model.prior.sample([128, 2]).squeeze()\n",
    "plt.figure(figsize=(10,5))\n",
    "plt.subplot(121)\n",
    "plt.scatter(p[:,0], p[:,1], c='g', s=5)\n",
    "plt.scatter(z[:,0], z[:,1], c='r', s=5)\n",
    "plt.scatter(x[:,0], x[:,1], c='b', s=5)\n",
    "plt.legend(['prior', 'x->z', 'data'])\n",
    "plt.axis('scaled')\n",
    "plt.title('x -> z')\n",
    "\n",
    "zs = model.sample(128*8)\n",
    "z = zs[-1]\n",
    "z = z.detach().numpy()\n",
    "plt.subplot(122)\n",
    "plt.scatter(x[:,0], x[:,1], c='b', s=5, alpha=0.5)\n",
    "plt.scatter(z[:,0], z[:,1], c='r', s=5, alpha=0.5)\n",
    "plt.legend(['data', 'z->x'])\n",
    "plt.axis('scaled')\n",
    "plt.title('z -> x')"
   ]
  },
  {
   "cell_type": "code",
   "execution_count": 48,
   "metadata": {},
   "outputs": [],
   "source": [
    "def plot2D(x):\n",
    "    plt.scatter(x[:,0], x[:,1])\n",
    "    plt.show()"
   ]
  },
  {
   "cell_type": "code",
   "execution_count": 49,
   "metadata": {},
   "outputs": [
    {
     "data": {
      "image/png": "[encoded data removed]",
      "text/plain": [
       "<Figure size 432x288 with 1 Axes>"
      ]
     },
     "metadata": {
      "needs_background": "light"
     },
     "output_type": "display_data"
    }
   ],
   "source": [
    "x = eightMixture_sample(batch_size)\n",
    "plot2D(x)"
   ]
  },
  {
   "cell_type": "code",
   "execution_count": 50,
   "metadata": {},
   "outputs": [
    {
     "data": {
      "image/png": "[encoded data removed]",
      "text/plain": [
       "<Figure size 432x288 with 1 Axes>"
      ]
     },
     "metadata": {
      "needs_background": "light"
     },
     "output_type": "display_data"
    }
   ],
   "source": [
    "model.eval()\n",
    "\n",
    "samps = model.sample(batch_size)[-1]\n",
    "samps = samps.detach().numpy()\n",
    "plot2D(samps)"
   ]
  },
  {
   "cell_type": "code",
   "execution_count": 61,
   "metadata": {},
   "outputs": [],
   "source": [
    "samps;"
   ]
  },
  {
   "cell_type": "code",
   "execution_count": 56,
   "metadata": {},
   "outputs": [
    {
     "data": {
      "text/plain": [
       "[[0, 0], [0, 0], [0, 49], [0, 0]]"
      ]
     },
     "execution_count": 56,
     "metadata": {},
     "output_type": "execute_result"
    }
   ],
   "source": [
    "[[0, 0]] * 2 + [[0, 50 - 1], [0, 0]]"
   ]
  },
  {
   "cell_type": "code",
   "execution_count": 69,
   "metadata": {},
   "outputs": [
    {
     "name": "stdout",
     "output_type": "stream",
     "text": [
      "tensor([[0., 0., 0., 0., 0., 0., 0., 0., 0., 0.],\n",
      "        [0., 0., 0., 0., 0., 0., 0., 0., 0., 0.],\n",
      "        [0., 0., 0., 0., 0., 0., 0., 0., 0., 0.],\n",
      "        [0., 0., 0., 0., 0., 0., 0., 0., 0., 0.],\n",
      "        [0., 0., 0., 0., 0., 0., 0., 0., 0., 0.]])\n",
      "tensor([[2],\n",
      "        [3],\n",
      "        [6],\n",
      "        [5],\n",
      "        [2]])\n",
      "tensor([[0., 0., 1., 0., 0., 0., 0., 0., 0., 0.],\n",
      "        [0., 0., 0., 1., 0., 0., 0., 0., 0., 0.],\n",
      "        [0., 0., 0., 0., 0., 0., 1., 0., 0., 0.],\n",
      "        [0., 0., 0., 0., 0., 1., 0., 0., 0., 0.],\n",
      "        [0., 0., 1., 0., 0., 0., 0., 0., 0., 0.]])\n"
     ]
    }
   ],
   "source": [
    "import torch\n",
    "\n",
    "batch_size = 5\n",
    "nb_digits = 10\n",
    "# Dummy input that HAS to be 2D for the scatter (you can use view(-1,1) if needed)\n",
    "y = torch.LongTensor(batch_size,1).random_() % nb_digits\n",
    "# One hot encoding buffer that you create out of the loop and just keep reusing\n",
    "y_onehot = torch.zeros(batch_size, nb_digits)\n",
    "print(y_onehot)\n",
    "# In your for loop\n",
    "y_onehot.zero_()\n",
    "y_onehot.scatter_(1, y, 1)\n",
    "\n",
    "print(y)\n",
    "print(y_onehot)"
   ]
  },
  {
   "cell_type": "code",
   "execution_count": 77,
   "metadata": {},
   "outputs": [
    {
     "data": {
      "text/plain": [
       "tensor([2, 3, 6, 5, 2], dtype=torch.int32)"
      ]
     },
     "execution_count": 77,
     "metadata": {},
     "output_type": "execute_result"
    }
   ],
   "source": [
    "torch.argmax(y_onehot, dim=1).type(torch.int32)"
   ]
  },
  {
   "cell_type": "code",
   "execution_count": 76,
   "metadata": {},
   "outputs": [
    {
     "data": {
      "text/plain": [
       "torch.float32"
      ]
     },
     "execution_count": 76,
     "metadata": {},
     "output_type": "execute_result"
    }
   ],
   "source": [
    "y_onehot.dtype"
   ]
  },
  {
   "cell_type": "code",
   "execution_count": 80,
   "metadata": {},
   "outputs": [
    {
     "data": {
      "text/plain": [
       "[5]"
      ]
     },
     "execution_count": 80,
     "metadata": {},
     "output_type": "execute_result"
    }
   ],
   "source": [
    "list(y_onehot.shape[:-1])"
   ]
  },
  {
   "cell_type": "code",
   "execution_count": 81,
   "metadata": {},
   "outputs": [
    {
     "ename": "NameError",
     "evalue": "name 'tf' is not defined",
     "output_type": "error",
     "traceback": [
      "\u001b[0;31m---------------------------------------------------------------------------\u001b[0m",
      "\u001b[0;31mNameError\u001b[0m                                 Traceback (most recent call last)",
      "\u001b[0;32m<ipython-input-81-9756d4423364>\u001b[0m in \u001b[0;36m<module>\u001b[0;34m\u001b[0m\n\u001b[0;32m----> 1\u001b[0;31m tf.floormod(\n\u001b[0m\u001b[1;32m      2\u001b[0m         \u001b[0mtf\u001b[0m\u001b[0;34m.\u001b[0m\u001b[0mtile\u001b[0m\u001b[0;34m(\u001b[0m\u001b[0mtf\u001b[0m\u001b[0;34m.\u001b[0m\u001b[0mrange\u001b[0m\u001b[0;34m(\u001b[0m\u001b[0mvocab_size\u001b[0m\u001b[0;34m)\u001b[0m\u001b[0;34m[\u001b[0m\u001b[0;34m:\u001b[0m\u001b[0;34m,\u001b[0m \u001b[0mtf\u001b[0m\u001b[0;34m.\u001b[0m\u001b[0mnewaxis\u001b[0m\u001b[0;34m]\u001b[0m\u001b[0;34m,\u001b[0m \u001b[0;34m[\u001b[0m\u001b[0;36m1\u001b[0m\u001b[0;34m,\u001b[0m \u001b[0mvocab_size\u001b[0m\u001b[0;34m]\u001b[0m\u001b[0;34m)\u001b[0m \u001b[0;34m*\u001b[0m\u001b[0;34m\u001b[0m\u001b[0;34m\u001b[0m\u001b[0m\n\u001b[1;32m      3\u001b[0m         tf.range(vocab_size)[tf.newaxis], vocab_size)\n",
      "\u001b[0;31mNameError\u001b[0m: name 'tf' is not defined"
     ]
    }
   ],
   "source": []
  },
  {
   "cell_type": "code",
   "execution_count": null,
   "metadata": {},
   "outputs": [],
   "source": []
  }
 ],
 "metadata": {
  "kernelspec": {
   "display_name": "Python 3",
   "language": "python",
   "name": "python3"
  },
  "language_info": {
   "codemirror_mode": {
    "name": "ipython",
    "version": 3
   },
   "file_extension": ".py",
   "mimetype": "text/x-python",
   "name": "python",
   "nbconvert_exporter": "python",
   "pygments_lexer": "ipython3",
   "version": "3.7.5"
  }
 },
 "nbformat": 4,
 "nbformat_minor": 4
}
