{
 "cells": [
  {
   "cell_type": "code",
   "execution_count": 3,
   "metadata": {},
   "outputs": [
    {
     "name": "stderr",
     "output_type": "stream",
     "text": [
      "Using TensorFlow backend.\n"
     ]
    }
   ],
   "source": [
    "import numpy as np\n",
    "import matplotlib.pyplot as plt\n",
    "from matplotlib import rcParams\n",
    "import keras\n",
    "import tensorflow as tf"
   ]
  },
  {
   "cell_type": "code",
   "execution_count": 4,
   "metadata": {},
   "outputs": [],
   "source": [
    "from IPython.display import SVG\n",
    "from keras.utils.vis_utils import model_to_dot"
   ]
  },
  {
   "cell_type": "code",
   "execution_count": 5,
   "metadata": {},
   "outputs": [],
   "source": [
    "from PlottingFunctions import *"
   ]
  },
  {
   "cell_type": "code",
   "execution_count": 6,
   "metadata": {},
   "outputs": [],
   "source": [
    "rcParams.update({'font.size': 16})"
   ]
  },
  {
   "cell_type": "code",
   "execution_count": 7,
   "metadata": {},
   "outputs": [],
   "source": [
    "%load_ext autoreload\n",
    "%autoreload 2"
   ]
  },
  {
   "cell_type": "code",
   "execution_count": 8,
   "metadata": {},
   "outputs": [],
   "source": [
    "\n",
    "from deep_boltzmann.networks.invertible import create_NICERNet, create_RealNVPNet, invnet\n",
    "from deep_boltzmann.sampling import GaussianPriorMCMC\n",
    "from deep_boltzmann.networks.plot import test_xz_projection\n",
    "from deep_boltzmann.util import count_transitions\n",
    "from deep_boltzmann.sampling.analysis import free_energy_bootstrap, mean_finite, std_finite"
   ]
  },
  {
   "cell_type": "code",
   "execution_count": 9,
   "metadata": {},
   "outputs": [],
   "source": [
    "import seaborn as sns\n",
    "import matplotlib.pylab as plt\n",
    "from scipy.special import softmax\n",
    "\n",
    "AA_num=21"
   ]
  },
  {
   "cell_type": "code",
   "execution_count": 10,
   "metadata": {},
   "outputs": [],
   "source": [
    "I = np.eye(AA_num)\n",
    "full_grid = []\n",
    "for i in range(AA_num):\n",
    "    x = I[i,:]\n",
    "    for j in range(AA_num):\n",
    "        full_grid.append(np.hstack([x, I[j,:]]))\n",
    "    \n",
    "full_grid = np.asarray(full_grid)"
   ]
  },
  {
   "cell_type": "markdown",
   "metadata": {},
   "source": [
    "### This may be a harder task as the contrast between points is so high"
   ]
  },
  {
   "cell_type": "code",
   "execution_count": 11,
   "metadata": {},
   "outputs": [],
   "source": [
    "# Need to make a model for the protein values. It will be 2D before moving \n",
    "# up the EV couplings\n",
    "\n",
    "class ProteinModelDemo(object):\n",
    "\n",
    "    def __init__(self):\n",
    "        # set parameters\n",
    "        self.a2n = dict([(a, n) for n, a in enumerate('ACDEFGHIKLMNPQRSTVWY-')])\n",
    "        self.AA_num = len(self.a2n.keys())\n",
    "        self.dim = 2*self.AA_num\n",
    "        self.fs_score = np.hstack( [np.asarray([1,2,3,4,5,6,7,8,6,4,3,2,1,1,0,0,0,3,6,4,2]),\n",
    "                                   np.asarray([0,0,0,0,0,0,0,0,2,3,6,9,6,4,3,2,1,1,0,0,0])]).astype(np.float32)\n",
    "        self.fs_score *= -1 # as want the lowest energy!!!\n",
    "        #np.random.normal(20,5,self.dim).astype(np.float32) # first position    \n",
    "        \n",
    "    def energy(self, inp):\n",
    "        # input is a vector of size 22, 11 for each AA as a onehot.\n",
    "        \n",
    "        #elementwise multiply then multiply everything together. \n",
    "        \n",
    "        #hard max the values. \n",
    "        oh = np.zeros(inp.shape)\n",
    "        oh[np.arange(inp.shape[0]),np.argmax(inp[:, 0:self.AA_num], axis=1)] = 1\n",
    "        oh[np.arange(inp.shape[0]),np.argmax(inp[:, self.AA_num:], axis=1)+self.AA_num] = 1\n",
    "        \n",
    "        #oh = np.hstack([softmax(inp[:,0:self.AA_num], axis=1), softmax(inp[:,self.AA_num:], axis=1) ])\n",
    "        res = self.fs_score*oh #np.tile(masker, 2)\n",
    "        #res[res==0] = 1\n",
    "        res = np.sum(res, axis=1)\n",
    "        #will return the batches intact\n",
    "        #print('the energy res returned', res)\n",
    "        return res\n",
    "        \n",
    "    def energy_tf(self, inp):\n",
    "        # scalars in a row of batch size. \n",
    "        #print('energy tf giong in ', inp)\n",
    "        '''\n",
    "        # this enables an energy function on discreet sequences (but then need reinforce)\n",
    "        # think the where function would be good here. \n",
    "        oh = np.zeros(tf.shape(inp))\n",
    "        oh[np.arange(inp.shape[0]),np.argmax(inp[:, 0:self.AA_num], axis=1)] = 1\n",
    "        oh[np.arange(inp.shape[0]),np.argmax(inp[:, self.AA_num:], axis=1)+self.AA_num] = 1\n",
    "    '''\n",
    "        oh = tf.concat([tf.nn.softmax(inp[:,0:self.AA_num], axis=1), tf.nn.softmax(inp[:,self.AA_num:], axis=1)], axis=1)\n",
    "        res = tf.reduce_sum(tf.math.multiply(self.fs_score,oh), axis=1)\n",
    "        #print('energy calc done, 1xbatch size? ',res)\n",
    "        return res\n",
    "    \n",
    "    def discrete_energy_tf(self, inp, batch_size):\n",
    "\n",
    "        # need to find the ind of the max value in each row. sliced out by amino acid\n",
    "        # then need to find their values. then anything less than this i can set to be a value of 0.\n",
    "        # then concat back all of the different slices. \n",
    "\n",
    "        # taking easy way out for now and doing it just for these two positions. \n",
    "        for i in range(2):\n",
    "                start = i*AA_num\n",
    "                end = (i*AA_num) +AA_num\n",
    "\n",
    "                pos = inp[:,start:end]\n",
    "                \n",
    "                max_inds = tf.cast(tf.argmax( pos, axis=1), tf.int32)\n",
    "                max_gatherer = tf.stack([tf.range(0,batch_size), max_inds], axis=1)\n",
    "                max_vals = tf.expand_dims(tf.gather_nd( pos, max_gatherer),1)\n",
    "\n",
    "                new1 = tf.where(  pos < max_vals, \n",
    "                    tf.zeros_like( pos, dtype=pos.dtype), \n",
    "                tf.ones_like( pos, dtype=pos.dtype)\n",
    "                )\n",
    "                if i == 0:\n",
    "                    oh = new1\n",
    "                else: \n",
    "                    oh = tf.concat([oh, new1], axis=1)\n",
    "                    \n",
    "        res = tf.reduce_sum(tf.math.multiply(self.fs_score,oh), axis=1)\n",
    "        \n",
    "        return res\n",
    "    \n",
    "    def plot_energy(self, axis=None, temperature=1.0):\n",
    "        \"\"\" Plots the dimer energy to the standard figure \"\"\"\n",
    "        #x_grid = np.arange(self.AA_num).astype(int)\n",
    "        \n",
    "        I = np.eye(self.AA_num)\n",
    "        x_grid = I\n",
    "        zero_vector = I[:,0]\n",
    "        z = np.expand_dims(zero_vector,0)\n",
    "        z = np.repeat(z,self.AA_num, axis=0)\n",
    "        print(z.shape)\n",
    "        \n",
    "        #convert this to one hot. \n",
    "        \n",
    "        if self.dim == 1:\n",
    "            X = x_grid[:, None]\n",
    "        else:\n",
    "            X = np.hstack([x_grid, z]) #.astype(int)\n",
    "            \n",
    "        # feeds in a matrix, 200 by 2, first column is the linspace, 2nd is all 0s. \n",
    "        # 2nd dim in this case is just to communicate how many dimensions there are. it isnt actually used. \n",
    "        #print(X)\n",
    "        energies = self.energy(X) / temperature\n",
    "\n",
    "        import matplotlib.pyplot as plt\n",
    "        if axis is None:\n",
    "            axis = plt.gca()\n",
    "        #plt.figure(figsize=(5, 4))\n",
    "        axis.plot(np.arange(self.AA_num), energies, linewidth=3, color='black')\n",
    "        axis.set_xlabel('first protein position / a.u.')\n",
    "        axis.set_ylabel('Energy / kT')\n",
    "        #axis.set_ylim(energies.min() - 2.0, energies[int(energies.size / 2)] + 2.0)\n",
    "\n",
    "        return x_grid, energies\n",
    "\n"
   ]
  },
  {
   "cell_type": "code",
   "execution_count": 12,
   "metadata": {},
   "outputs": [],
   "source": [
    "model = ProteinModelDemo()"
   ]
  },
  {
   "cell_type": "code",
   "execution_count": 13,
   "metadata": {},
   "outputs": [
    {
     "data": {
      "image/png": "[encoded data removed]",
      "text/plain": [
       "<Figure size 288x396 with 2 Axes>"
      ]
     },
     "metadata": {
      "needs_background": "light"
     },
     "output_type": "display_data"
    }
   ],
   "source": [
    "\n",
    "'''a2n = dict([(a, n) for n, a in enumerate('ACDEFGHIKLMNPQRSTVWY-')])\n",
    "AA_num = len(a2n.keys())\n",
    "f_score = np.random.normal(0,1,len(a2n.keys())) # first position\n",
    "s_score = np.random.normal(0,0.5,len(a2n.keys())) # second position\n",
    "\n",
    "\n",
    "def score(inp):\n",
    "    #print(inp)\n",
    "    f, s = inp[:,0], inp[:,1]\n",
    "    #print(f_score[f])\n",
    "    return f_score[f]*s_score[s]'''\n",
    "\n",
    "plot_potential_simple(AA_num, model.energy, orientation='horizontal')"
   ]
  },
  {
   "cell_type": "code",
   "execution_count": 14,
   "metadata": {},
   "outputs": [
    {
     "name": "stdout",
     "output_type": "stream",
     "text": [
      "(21, 21)\n"
     ]
    },
    {
     "data": {
      "image/png": "[encoded data removed]",
      "text/plain": [
       "<Figure size 360x360 with 1 Axes>"
      ]
     },
     "metadata": {
      "needs_background": "light"
     },
     "output_type": "display_data"
    }
   ],
   "source": [
    "\n",
    "plt.figure(figsize=(5,5))\n",
    "model.plot_energy();"
   ]
  },
  {
   "cell_type": "markdown",
   "metadata": {},
   "source": [
    "### MCMC sampling from this - need a discreete sampler"
   ]
  },
  {
   "cell_type": "code",
   "execution_count": null,
   "metadata": {},
   "outputs": [],
   "source": []
  },
  {
   "cell_type": "code",
   "execution_count": 15,
   "metadata": {},
   "outputs": [
    {
     "name": "stdout",
     "output_type": "stream",
     "text": [
      "7\n"
     ]
    }
   ],
   "source": [
    "# simulation data\n",
    "from deep_boltzmann.sampling import MetropolisGauss\n",
    "\n",
    "nsteps = 1000\n",
    "# starting positions\n",
    "I = np.eye(AA_num)\n",
    "x0_left = np.hstack([I[7,:],I[11,:]])\n",
    "print(np.argmax(x0_left[0:21]))\n",
    "x0_right = np.hstack([I[18,:],I[11,:]])\n",
    "\n",
    "sampler = MetropolisGauss(model, x0_left, noise=0.1, stride=1)\n",
    "sampler.run(nsteps)\n",
    "traj_left = sampler.traj.copy()\n",
    "\n",
    "sampler.reset(x0_left)\n",
    "sampler.run(nsteps)\n",
    "traj_left_val = sampler.traj.copy()\n",
    "\n",
    "sampler.reset(x0_right)\n",
    "sampler.run(nsteps)\n",
    "traj_right = sampler.traj.copy()\n",
    "\n",
    "sampler.reset(x0_right)\n",
    "sampler.run(nsteps)\n",
    "traj_right_val = sampler.traj.copy()"
   ]
  },
  {
   "cell_type": "code",
   "execution_count": 16,
   "metadata": {},
   "outputs": [
    {
     "data": {
      "image/png": "[encoded data removed]",
      "text/plain": [
       "<Figure size 648x288 with 2 Axes>"
      ]
     },
     "metadata": {
      "needs_background": "light"
     },
     "output_type": "display_data"
    }
   ],
   "source": [
    "# left is blue\n",
    "plot_mcmc(traj_left, traj_right, AA_num, pos=0) # pos is for x0 or x1"
   ]
  },
  {
   "cell_type": "code",
   "execution_count": 17,
   "metadata": {},
   "outputs": [
    {
     "data": {
      "image/png": "[encoded data removed]",
      "text/plain": [
       "<Figure size 648x288 with 2 Axes>"
      ]
     },
     "metadata": {
      "needs_background": "light"
     },
     "output_type": "display_data"
    }
   ],
   "source": [
    "plot_mcmc(traj_left, traj_right, AA_num, pos=1)"
   ]
  },
  {
   "cell_type": "code",
   "execution_count": 18,
   "metadata": {},
   "outputs": [
    {
     "data": {
      "text/plain": [
       "<matplotlib.legend.Legend at 0x1a3589c908>"
      ]
     },
     "execution_count": 18,
     "metadata": {},
     "output_type": "execute_result"
    },
    {
     "data": {
      "image/png": "[encoded data removed]",
      "text/plain": [
       "<Figure size 432x288 with 1 Axes>"
      ]
     },
     "metadata": {
      "needs_background": "light"
     },
     "output_type": "display_data"
    }
   ],
   "source": [
    "# because of the discreet space, it is too hard to move? \n",
    "# reward for the blue line,\n",
    "# the energy states present in over time\n",
    "plt.plot(np.arange(traj_left.shape[0]), model.energy(traj_left), color='blue', label='left')\n",
    "plt.plot(np.arange(traj_right.shape[0]), model.energy(traj_right), color='red', label='right')\n",
    "plt.legend()"
   ]
  },
  {
   "cell_type": "code",
   "execution_count": 19,
   "metadata": {},
   "outputs": [
    {
     "data": {
      "text/plain": [
       "<matplotlib.legend.Legend at 0x1a356a86d8>"
      ]
     },
     "execution_count": 19,
     "metadata": {},
     "output_type": "execute_result"
    },
    {
     "data": {
      "image/png": "[encoded data removed]",
      "text/plain": [
       "<Figure size 432x288 with 1 Axes>"
      ]
     },
     "metadata": {
      "needs_background": "light"
     },
     "output_type": "display_data"
    }
   ],
   "source": [
    "both_traj = [traj_left, traj_right]\n",
    "names = ['left', 'right']\n",
    "for ind, traj in enumerate(both_traj):\n",
    "    x0 = vect_to_aa_ind(traj, AA_num=AA_num,pos=0)\n",
    "    x1 = vect_to_aa_ind(traj, AA_num=AA_num,pos=1)\n",
    "    plt.scatter(x0,x1, alpha=0.2, label='Trajectory - ' + names[ind] )\n",
    "    \n",
    "plt.xlim([0,20])\n",
    "plt.ylim([0,20])\n",
    "plt.legend()"
   ]
  },
  {
   "cell_type": "code",
   "execution_count": 20,
   "metadata": {},
   "outputs": [],
   "source": [
    "x = np.vstack([traj_left, traj_right])\n",
    "xval = np.vstack([traj_left_val, traj_right_val])"
   ]
  },
  {
   "cell_type": "code",
   "execution_count": 21,
   "metadata": {},
   "outputs": [],
   "source": [
    "x = traj_left[0:50,:]\n",
    "xval= traj_left[0:50,:]"
   ]
  },
  {
   "cell_type": "markdown",
   "metadata": {},
   "source": [
    "### Sampling totally randomly from the space:"
   ]
  },
  {
   "cell_type": "code",
   "execution_count": 22,
   "metadata": {},
   "outputs": [
    {
     "data": {
      "text/plain": [
       "'# give it some x values to train on! and cross validate on\\n\\nn_train = 2000\\nn_test = 2000\\n\\n# how to make the training data vectors? \\nAA_num = 21\\n\\ntemp = []\\nI = np.eye(AA_num)\\nfor i in range(n_train): \\n    o = np.random.randint(0,AA_num, 2)\\n    f = o[0]\\n    s = o[1]\\n    temp.append(np.hstack([ I[f,:], I[s,:]]))\\n    \\nx = np.asarray(temp)\\n\\ntemp = []\\nI = np.eye(AA_num)\\nfor i in range(n_train): \\n    o = np.random.randint(0,AA_num, 2)\\n    f = o[0]\\n    s = o[1]\\n    temp.append(np.hstack([ I[f,:], I[s,:]]))\\nxval = np.asarray(temp)'"
      ]
     },
     "execution_count": 22,
     "metadata": {},
     "output_type": "execute_result"
    }
   ],
   "source": [
    "'''# give it some x values to train on! and cross validate on\n",
    "\n",
    "n_train = 2000\n",
    "n_test = 2000\n",
    "\n",
    "# how to make the training data vectors? \n",
    "AA_num = 21\n",
    "\n",
    "temp = []\n",
    "I = np.eye(AA_num)\n",
    "for i in range(n_train): \n",
    "    o = np.random.randint(0,AA_num, 2)\n",
    "    f = o[0]\n",
    "    s = o[1]\n",
    "    temp.append(np.hstack([ I[f,:], I[s,:]]))\n",
    "    \n",
    "x = np.asarray(temp)\n",
    "\n",
    "temp = []\n",
    "I = np.eye(AA_num)\n",
    "for i in range(n_train): \n",
    "    o = np.random.randint(0,AA_num, 2)\n",
    "    f = o[0]\n",
    "    s = o[1]\n",
    "    temp.append(np.hstack([ I[f,:], I[s,:]]))\n",
    "xval = np.asarray(temp)'''"
   ]
  },
  {
   "cell_type": "markdown",
   "metadata": {},
   "source": [
    "## NVP"
   ]
  },
  {
   "cell_type": "code",
   "execution_count": 23,
   "metadata": {},
   "outputs": [],
   "source": [
    "epochsZ = 100\n",
    "epochsE = 1000\n",
    "batchsize_ML = 128\n",
    "batchsize_KL = 1000\n",
    "temperature = 1.0\n",
    "explore = 10.0"
   ]
  },
  {
   "cell_type": "code",
   "execution_count": 24,
   "metadata": {},
   "outputs": [
    {
     "name": "stdout",
     "output_type": "stream",
     "text": [
      "<NNNN>S\n",
      "< 42 0 0\n",
      "N 21 21 0\n",
      "N 21 21 0\n",
      "N 21 21 0\n",
      "N 21 21 0\n",
      "> 21 21 0\n",
      "S 42 0 0\n",
      "WARNING:tensorflow:From /Users/trentonbricken/anaconda3/lib/python3.7/site-packages/tensorflow/python/ops/resource_variable_ops.py:435: colocate_with (from tensorflow.python.framework.ops) is deprecated and will be removed in a future version.\n",
      "Instructions for updating:\n",
      "Colocations handled automatically by placer.\n",
      "tracking <tf.Variable 'log_scale:0' shape=(1, 42) dtype=float32> log_scaling_factors\n",
      "tracking <tf.Variable 'log_scale:0' shape=(1, 42) dtype=float32> log_scaling_factors\n"
     ]
    }
   ],
   "source": [
    "network_RNVP_KLML = invnet(model.dim, 'NNNNS', model, nl_layers=3, nl_hidden=100, \n",
    "                            nl_activation='relu', nl_activation_scale='tanh')"
   ]
  },
  {
   "cell_type": "code",
   "execution_count": 25,
   "metadata": {},
   "outputs": [
    {
     "name": "stdout",
     "output_type": "stream",
     "text": [
      "WARNING:tensorflow:From /Users/trentonbricken/anaconda3/lib/python3.7/site-packages/tensorflow/python/ops/math_ops.py:3066: to_int32 (from tensorflow.python.ops.math_ops) is deprecated and will be removed in a future version.\n",
      "Instructions for updating:\n",
      "Use tf.cast instead.\n"
     ]
    }
   ],
   "source": [
    "network_RNVP_KLML1 = network_RNVP_KLML.train_ML(x, xval=xval, epochs=epochsZ, batch_size=batchsize_ML, std=1.0, \n",
    "                                               verbose=0, return_test_energies=True)"
   ]
  },
  {
   "cell_type": "code",
   "execution_count": 26,
   "metadata": {},
   "outputs": [
    {
     "name": "stdout",
     "output_type": "stream",
     "text": [
      "Epoch 0/1000 loss 821.7435 808.4388 scaling_xz_1_loss -4.2075 -3.9386 index_layer_6_loss 821.7477 808.4428 \n",
      "Epoch 1/1000 loss 805.6778 809.0115 scaling_xz_1_loss -3.9441 -4.2636 index_layer_6_loss 805.6818 809.0158 \n",
      "Epoch 2/1000 loss 808.5890 826.8610 scaling_xz_1_loss -4.2646 -4.1482 index_layer_6_loss 808.5933 826.8652 \n",
      "Epoch 3/1000 loss 826.9465 818.8478 scaling_xz_1_loss -4.1563 -4.2776 index_layer_6_loss 826.9507 818.8521 \n",
      "Epoch 4/1000 loss 825.3786 806.0346 scaling_xz_1_loss -4.2755 -4.3865 index_layer_6_loss 825.3829 806.0390 \n",
      "Epoch 5/1000 loss 809.4247 802.3495 scaling_xz_1_loss -4.3880 -4.4162 index_layer_6_loss 809.4291 802.3539 \n",
      "Epoch 6/1000 loss 810.2372 790.3621 scaling_xz_1_loss -4.4161 -4.4371 index_layer_6_loss 810.2416 790.3666 \n",
      "Epoch 7/1000 loss 819.8998 796.1259 scaling_xz_1_loss -4.4406 -4.4700 index_layer_6_loss 819.9042 796.1304 \n",
      "Epoch 8/1000 loss 801.0132 798.9175 scaling_xz_1_loss -4.4694 -4.5251 index_layer_6_loss 801.0177 798.9221 \n",
      "Epoch 9/1000 loss 797.0580 788.5424 scaling_xz_1_loss -4.5239 -4.5889 index_layer_6_loss 797.0625 788.5469 \n",
      "Epoch 10/1000 loss 798.7765 803.1852 scaling_xz_1_loss -4.5882 -4.6458 index_layer_6_loss 798.7811 803.1899 \n",
      "Epoch 11/1000 loss 802.5475 823.0909 scaling_xz_1_loss -4.6450 -4.6880 index_layer_6_loss 802.5522 823.0956 \n",
      "Epoch 12/1000 loss 810.1275 817.1432 scaling_xz_1_loss -4.6882 -4.7221 index_layer_6_loss 810.1322 817.1479 \n",
      "Epoch 13/1000 loss 827.0650 812.1978 scaling_xz_1_loss -4.7229 -4.7632 index_layer_6_loss 827.0697 812.2025 \n",
      "Epoch 14/1000 loss 810.4642 813.8232 scaling_xz_1_loss -4.7623 -4.8079 index_layer_6_loss 810.4689 813.8281 \n",
      "Epoch 15/1000 loss 814.4932 818.3703 scaling_xz_1_loss -4.8082 -4.8546 index_layer_6_loss 814.4980 818.3752 \n",
      "Epoch 16/1000 loss 816.5836 821.1378 scaling_xz_1_loss -4.8546 -4.9007 index_layer_6_loss 816.5884 821.1426 \n",
      "Epoch 17/1000 loss 801.0009 813.1688 scaling_xz_1_loss -4.9003 -4.9444 index_layer_6_loss 801.0057 813.1738 \n",
      "Epoch 18/1000 loss 821.8862 831.5672 scaling_xz_1_loss -4.9446 -4.9886 index_layer_6_loss 821.8911 831.5722 \n",
      "Epoch 19/1000 loss 817.3564 828.0101 scaling_xz_1_loss -4.9893 -5.0305 index_layer_6_loss 817.3615 828.0151 \n",
      "Epoch 20/1000 loss 817.0495 817.2444 scaling_xz_1_loss -5.0302 -5.0732 index_layer_6_loss 817.0545 817.2495 \n",
      "Epoch 21/1000 loss 832.9637 821.9846 scaling_xz_1_loss -5.0739 -5.1158 index_layer_6_loss 832.9688 821.9897 \n",
      "Epoch 22/1000 loss 816.0007 820.0081 scaling_xz_1_loss -5.1168 -5.1585 index_layer_6_loss 816.0058 820.0133 \n",
      "Epoch 23/1000 loss 818.1648 829.9088 scaling_xz_1_loss -5.1600 -5.2031 index_layer_6_loss 818.1700 829.9140 \n",
      "Epoch 24/1000 loss 813.5110 813.7369 scaling_xz_1_loss -5.2041 -5.2481 index_layer_6_loss 813.5162 813.7422 \n",
      "Epoch 25/1000 loss 807.6378 823.5722 scaling_xz_1_loss -5.2484 -5.2929 index_layer_6_loss 807.6430 823.5775 \n",
      "Epoch 26/1000 loss 813.3378 806.2780 scaling_xz_1_loss -5.2937 -5.3366 index_layer_6_loss 813.3431 806.2833 \n",
      "Epoch 27/1000 loss 802.9693 810.6429 scaling_xz_1_loss -5.3374 -5.3792 index_layer_6_loss 802.9746 810.6483 \n",
      "Epoch 28/1000 loss 801.9004 811.3311 scaling_xz_1_loss -5.3792 -5.4223 index_layer_6_loss 801.9058 811.3365 \n",
      "Epoch 29/1000 loss 815.0421 809.8279 scaling_xz_1_loss -5.4221 -5.4633 index_layer_6_loss 815.0475 809.8334 \n",
      "Epoch 30/1000 loss 812.4088 818.3538 scaling_xz_1_loss -5.4644 -5.5064 index_layer_6_loss 812.4142 818.3593 \n",
      "Epoch 31/1000 loss 816.5101 813.8305 scaling_xz_1_loss -5.5075 -5.5514 index_layer_6_loss 816.5156 813.8361 \n",
      "Epoch 32/1000 loss 807.2547 807.9812 scaling_xz_1_loss -5.5503 -5.5936 index_layer_6_loss 807.2603 807.9868 \n",
      "Epoch 33/1000 loss 817.0314 816.5667 scaling_xz_1_loss -5.5933 -5.6376 index_layer_6_loss 817.0370 816.5723 \n",
      "Epoch 34/1000 loss 810.4925 807.8746 scaling_xz_1_loss -5.6368 -5.6803 index_layer_6_loss 810.4981 807.8803 \n",
      "Epoch 35/1000 loss 810.7990 819.7110 scaling_xz_1_loss -5.6795 -5.7216 index_layer_6_loss 810.8046 819.7167 \n",
      "Epoch 36/1000 loss 804.3296 801.0120 scaling_xz_1_loss -5.7214 -5.7651 index_layer_6_loss 804.3353 801.0177 \n",
      "Epoch 37/1000 loss 818.3301 816.0977 scaling_xz_1_loss -5.7653 -5.8086 index_layer_6_loss 818.3359 816.1035 \n",
      "Epoch 38/1000 loss 804.3459 812.0175 scaling_xz_1_loss -5.8077 -5.8504 index_layer_6_loss 804.3517 812.0233 \n",
      "Epoch 39/1000 loss 817.0874 812.5897 scaling_xz_1_loss -5.8507 -5.8939 index_layer_6_loss 817.0933 812.5956 \n",
      "Epoch 40/1000 loss 812.5017 811.1111 scaling_xz_1_loss -5.8949 -5.9368 index_layer_6_loss 812.5076 811.1171 \n",
      "Epoch 41/1000 loss 813.3463 812.3304 scaling_xz_1_loss -5.9368 -5.9793 index_layer_6_loss 813.3522 812.3364 \n",
      "Epoch 42/1000 loss 828.0273 810.0096 scaling_xz_1_loss -5.9804 -6.0221 index_layer_6_loss 828.0333 810.0157 \n",
      "Epoch 43/1000 loss 805.5740 814.5254 scaling_xz_1_loss -6.0227 -6.0657 index_layer_6_loss 805.5801 814.5314 \n",
      "Epoch 44/1000 loss 823.5072 811.0570 scaling_xz_1_loss -6.0665 -6.1091 index_layer_6_loss 823.5132 811.0631 \n",
      "Epoch 45/1000 loss 827.9542 816.8925 scaling_xz_1_loss -6.1084 -6.1520 index_layer_6_loss 827.9603 816.8986 \n",
      "Epoch 46/1000 loss 794.3766 813.7961 scaling_xz_1_loss -6.1528 -6.1958 index_layer_6_loss 794.3828 813.8023 \n",
      "Epoch 47/1000 loss 812.9761 825.4157 scaling_xz_1_loss -6.1953 -6.2380 index_layer_6_loss 812.9824 825.4219 \n",
      "Epoch 48/1000 loss 812.1711 803.5197 scaling_xz_1_loss -6.2374 -6.2805 index_layer_6_loss 812.1773 803.5259 \n",
      "Epoch 49/1000 loss 812.4151 816.0542 scaling_xz_1_loss -6.2808 -6.3240 index_layer_6_loss 812.4214 816.0605 \n",
      "Epoch 50/1000 loss 816.7365 823.7182 scaling_xz_1_loss -6.3242 -6.3667 index_layer_6_loss 816.7428 823.7245 \n",
      "Epoch 51/1000 loss 806.0620 812.1835 scaling_xz_1_loss -6.3678 -6.4102 index_layer_6_loss 806.0684 812.1899 \n",
      "Epoch 52/1000 loss 807.7903 802.5820 scaling_xz_1_loss -6.4097 -6.4520 index_layer_6_loss 807.7967 802.5884 \n",
      "Epoch 53/1000 loss 829.8371 814.9395 scaling_xz_1_loss -6.4525 -6.4951 index_layer_6_loss 829.8436 814.9459 \n",
      "Epoch 54/1000 loss 818.6205 813.5741 scaling_xz_1_loss -6.4938 -6.5385 index_layer_6_loss 818.6270 813.5806 \n",
      "Epoch 55/1000 loss 812.2567 825.7670 scaling_xz_1_loss -6.5393 -6.5815 index_layer_6_loss 812.2632 825.7736 \n",
      "Epoch 56/1000 loss 802.5323 802.9933 scaling_xz_1_loss -6.5824 -6.6246 index_layer_6_loss 802.5389 802.9999 \n",
      "Epoch 57/1000 loss 804.6262 820.6802 scaling_xz_1_loss -6.6248 -6.6667 index_layer_6_loss 804.6329 820.6869 \n",
      "Epoch 58/1000 loss 808.2253 816.7258 scaling_xz_1_loss -6.6675 -6.7102 index_layer_6_loss 808.2319 816.7325 \n",
      "Epoch 59/1000 loss 817.3292 807.6675 scaling_xz_1_loss -6.7092 -6.7528 index_layer_6_loss 817.3359 807.6743 \n",
      "Epoch 60/1000 loss 814.9878 813.0322 scaling_xz_1_loss -6.7527 -6.7960 index_layer_6_loss 814.9946 813.0389 \n",
      "Epoch 61/1000 loss 813.3837 807.0894 scaling_xz_1_loss -6.7962 -6.8382 index_layer_6_loss 813.3904 807.0963 \n",
      "Epoch 62/1000 loss 810.4566 818.3524 scaling_xz_1_loss -6.8389 -6.8815 index_layer_6_loss 810.4634 818.3593 \n",
      "Epoch 63/1000 loss 812.2514 812.5479 scaling_xz_1_loss -6.8822 -6.9251 index_layer_6_loss 812.2583 812.5547 \n",
      "Epoch 64/1000 loss 809.8055 825.5891 scaling_xz_1_loss -6.9247 -6.9682 index_layer_6_loss 809.8124 825.5961 \n",
      "Epoch 65/1000 loss 798.6826 809.9069 scaling_xz_1_loss -6.9683 -7.0103 index_layer_6_loss 798.6896 809.9139 \n",
      "Epoch 66/1000 loss 813.6882 819.5534 scaling_xz_1_loss -7.0106 -7.0536 index_layer_6_loss 813.6952 819.5605 \n",
      "Epoch 67/1000 loss 816.6798 820.6096 scaling_xz_1_loss -7.0534 -7.0960 index_layer_6_loss 816.6869 820.6167 \n",
      "Epoch 68/1000 loss 822.0001 811.3919 scaling_xz_1_loss -7.0958 -7.1389 index_layer_6_loss 822.0072 811.3990 \n",
      "Epoch 69/1000 loss 825.9299 815.1406 scaling_xz_1_loss -7.1380 -7.1818 index_layer_6_loss 825.9370 815.1478 \n",
      "Epoch 70/1000 loss 806.3078 815.5260 scaling_xz_1_loss -7.1821 -7.2243 index_layer_6_loss 806.3150 815.5332 \n",
      "Epoch 71/1000 loss 820.2838 808.1249 scaling_xz_1_loss -7.2253 -7.2680 index_layer_6_loss 820.2910 808.1322 \n",
      "Epoch 72/1000 loss 820.9147 809.8358 scaling_xz_1_loss -7.2688 -7.3113 index_layer_6_loss 820.9219 809.8431 \n",
      "Epoch 73/1000 loss 824.5967 817.1339 scaling_xz_1_loss -7.3114 -7.3552 index_layer_6_loss 824.6040 817.1412 \n",
      "Epoch 74/1000 loss 816.9476 820.3779 scaling_xz_1_loss -7.3548 -7.3980 index_layer_6_loss 816.9550 820.3853 \n",
      "Epoch 75/1000 loss 822.3622 809.4203 scaling_xz_1_loss -7.3989 -7.4418 index_layer_6_loss 822.3696 809.4277 \n",
      "Epoch 76/1000 loss 794.5082 821.1428 scaling_xz_1_loss -7.4418 -7.4860 index_layer_6_loss 794.5157 821.1503 \n",
      "Epoch 77/1000 loss 809.4431 804.6646 scaling_xz_1_loss -7.4857 -7.5274 index_layer_6_loss 809.4506 804.6721 \n",
      "Epoch 78/1000 loss 809.8518 822.9167 scaling_xz_1_loss -7.5295 -7.5712 index_layer_6_loss 809.8593 822.9243 \n",
      "Epoch 79/1000 loss 808.2399 814.5082 scaling_xz_1_loss -7.5727 -7.6153 index_layer_6_loss 808.2475 814.5158 \n",
      "Epoch 80/1000 loss 822.7130 814.3575 scaling_xz_1_loss -7.6147 -7.6580 index_layer_6_loss 822.7206 814.3652 \n",
      "Epoch 81/1000 loss 823.6154 827.4371 scaling_xz_1_loss -7.6582 -7.7011 index_layer_6_loss 823.6230 827.4448 \n",
      "Epoch 82/1000 loss 818.8073 808.7427 scaling_xz_1_loss -7.7023 -7.7447 index_layer_6_loss 818.8150 808.7505 \n",
      "Epoch 83/1000 loss 815.0777 810.7267 scaling_xz_1_loss -7.7450 -7.7883 index_layer_6_loss 815.0854 810.7346 \n",
      "Epoch 84/1000 loss 816.2108 814.5240 scaling_xz_1_loss -7.7884 -7.8320 index_layer_6_loss 816.2186 814.5319 \n",
      "Epoch 85/1000 loss 823.4064 810.9160 scaling_xz_1_loss -7.8317 -7.8758 index_layer_6_loss 823.4142 810.9239 \n",
      "Epoch 86/1000 loss 826.4844 825.2336 scaling_xz_1_loss -7.8752 -7.9200 index_layer_6_loss 826.4923 825.2416 \n",
      "Epoch 87/1000 loss 809.9138 805.2494 scaling_xz_1_loss -7.9198 -7.9634 index_layer_6_loss 809.9218 805.2573 \n",
      "Epoch 88/1000 loss 808.7709 818.6194 scaling_xz_1_loss -7.9638 -8.0067 index_layer_6_loss 808.7789 818.6274 \n",
      "Epoch 89/1000 loss 807.4977 814.7343 scaling_xz_1_loss -8.0067 -8.0504 index_layer_6_loss 807.5057 814.7424 \n",
      "Epoch 90/1000 loss 799.2551 804.6403 scaling_xz_1_loss -8.0507 -8.0941 index_layer_6_loss 799.2631 804.6484 \n",
      "Epoch 91/1000 loss 809.1301 818.5779 scaling_xz_1_loss -8.0941 -8.1365 index_layer_6_loss 809.1382 818.5860 \n",
      "Epoch 92/1000 loss 805.0928 803.0177 scaling_xz_1_loss -8.1368 -8.1806 index_layer_6_loss 805.1010 803.0259 \n",
      "Epoch 93/1000 loss 817.6173 821.3981 scaling_xz_1_loss -8.1804 -8.2235 index_layer_6_loss 817.6255 821.4064 \n",
      "Epoch 94/1000 loss 807.8223 806.8985 scaling_xz_1_loss -8.2239 -8.2669 index_layer_6_loss 807.8305 806.9067 \n",
      "Epoch 95/1000 loss 820.0701 815.2520 scaling_xz_1_loss -8.2671 -8.3100 index_layer_6_loss 820.0783 815.2603 \n",
      "Epoch 96/1000 loss 807.5801 818.8043 scaling_xz_1_loss -8.3104 -8.3536 index_layer_6_loss 807.5884 818.8127 \n",
      "Epoch 97/1000 loss 809.6190 797.5254 scaling_xz_1_loss -8.3531 -8.3964 index_layer_6_loss 809.6274 797.5338 \n",
      "Epoch 98/1000 loss 808.7806 823.2861 scaling_xz_1_loss -8.3960 -8.4389 index_layer_6_loss 808.7890 823.2945 \n",
      "Epoch 99/1000 loss 817.4363 817.2722 scaling_xz_1_loss -8.4392 -8.4825 index_layer_6_loss 817.4447 817.2806 \n",
      "Epoch 100/1000 loss 813.1562 815.1945 scaling_xz_1_loss -8.4817 -8.5245 index_layer_6_loss 813.1647 815.2031 \n",
      "Epoch 101/1000 loss 807.2156 804.5300 scaling_xz_1_loss -8.5247 -8.5670 index_layer_6_loss 807.2242 804.5386 \n",
      "Epoch 102/1000 loss 813.3568 803.9913 scaling_xz_1_loss -8.5667 -8.6115 index_layer_6_loss 813.3653 803.9999 \n",
      "Epoch 103/1000 loss 812.8195 820.1315 scaling_xz_1_loss -8.6110 -8.6561 index_layer_6_loss 812.8281 820.1401 \n",
      "Epoch 104/1000 loss 801.4991 810.1450 scaling_xz_1_loss -8.6554 -8.6989 index_layer_6_loss 801.5078 810.1537 \n",
      "Epoch 105/1000 loss inf 799.4059 scaling_xz_1_loss -8.6993 -8.7416 index_layer_6_loss inf 799.4147 \n",
      "Epoch 106/1000 loss 803.1449 810.0220 scaling_xz_1_loss -8.7414 -8.7843 index_layer_6_loss 803.1536 810.0308 \n",
      "Epoch 107/1000 loss 801.4215 824.0850 scaling_xz_1_loss -8.7841 -8.8275 index_layer_6_loss 801.4303 824.0939 \n",
      "Epoch 108/1000 loss 813.2097 814.0204 scaling_xz_1_loss -8.8277 -8.8708 index_layer_6_loss 813.2186 814.0293 \n",
      "Epoch 109/1000 loss 815.0790 809.6628 scaling_xz_1_loss -8.8713 -8.9146 index_layer_6_loss 815.0878 809.6718 \n",
      "Epoch 110/1000 loss 826.8920 801.3896 scaling_xz_1_loss -8.9142 -8.9575 index_layer_6_loss 826.9009 801.3986 \n",
      "Epoch 111/1000 loss 810.1449 795.4494 scaling_xz_1_loss -8.9574 -9.0003 index_layer_6_loss 810.1539 795.4584 \n",
      "Epoch 112/1000 loss 811.3350 815.0072 scaling_xz_1_loss -9.0006 -9.0444 index_layer_6_loss 811.3439 815.0162 \n",
      "Epoch 113/1000 loss 809.9211 820.1548 scaling_xz_1_loss -9.0443 -9.0882 index_layer_6_loss 809.9302 820.1639 \n",
      "Epoch 114/1000 loss 813.8580 820.7794 scaling_xz_1_loss -9.0877 -9.1310 index_layer_6_loss 813.8671 820.7886 \n",
      "Epoch 115/1000 loss 808.3449 810.6942 scaling_xz_1_loss -9.1311 -9.1734 index_layer_6_loss 808.3541 810.7033 \n",
      "Epoch 116/1000 loss 817.3195 816.2119 scaling_xz_1_loss -9.1736 -9.2160 index_layer_6_loss 817.3286 816.2211 \n",
      "Epoch 117/1000 loss 815.3035 806.7018 scaling_xz_1_loss -9.2155 -9.2591 index_layer_6_loss 815.3127 806.7111 \n",
      "Epoch 118/1000 loss 824.9150 811.7021 scaling_xz_1_loss -9.2592 -9.3024 index_layer_6_loss 824.9243 811.7114 \n",
      "Epoch 119/1000 loss 792.1261 813.9354 scaling_xz_1_loss -9.3024 -9.3463 index_layer_6_loss 792.1354 813.9447 \n",
      "Epoch 120/1000 loss 812.9066 811.8973 scaling_xz_1_loss -9.3460 -9.3901 index_layer_6_loss 812.9160 811.9067 \n",
      "Epoch 121/1000 loss 806.6786 810.6600 scaling_xz_1_loss -9.3898 -9.4338 index_layer_6_loss 806.6880 810.6694 \n",
      "Epoch 122/1000 loss 810.1756 811.0980 scaling_xz_1_loss -9.4340 -9.4773 index_layer_6_loss 810.1851 811.1074 \n",
      "Epoch 123/1000 loss 807.6365 812.8323 scaling_xz_1_loss -9.4777 -9.5213 index_layer_6_loss 807.6460 812.8419 \n",
      "Epoch 124/1000 loss 805.8942 818.5062 scaling_xz_1_loss -9.5207 -9.5641 index_layer_6_loss 805.9037 818.5158 \n",
      "Epoch 125/1000 loss 807.0294 819.3127 scaling_xz_1_loss -9.5646 -9.6068 index_layer_6_loss 807.0390 819.3223 \n",
      "Epoch 126/1000 loss 820.4664 819.0742 scaling_xz_1_loss -9.6073 -9.6507 index_layer_6_loss 820.4760 819.0839 \n",
      "Epoch 127/1000 loss 814.3600 810.4742 scaling_xz_1_loss -9.6506 -9.6952 index_layer_6_loss 814.3697 810.4839 \n",
      "Epoch 128/1000 loss 810.5526 808.2794 scaling_xz_1_loss -9.6951 -9.7379 index_layer_6_loss 810.5623 808.2892 \n",
      "Epoch 129/1000 loss 808.8262 793.9532 scaling_xz_1_loss -9.7379 -9.7803 index_layer_6_loss 808.8360 793.9630 \n",
      "Epoch 130/1000 loss 796.2642 809.9349 scaling_xz_1_loss -9.7801 -9.8247 index_layer_6_loss 796.2740 809.9447 \n",
      "Epoch 131/1000 loss 809.0624 813.7816 scaling_xz_1_loss -9.8247 -9.8673 index_layer_6_loss 809.0723 813.7914 \n",
      "Epoch 132/1000 loss 808.5037 798.7406 scaling_xz_1_loss -9.8680 -9.9103 index_layer_6_loss 808.5135 798.7505 \n",
      "Epoch 133/1000 loss 810.5424 803.8285 scaling_xz_1_loss -9.9099 -9.9507 index_layer_6_loss 810.5523 803.8384 \n",
      "Epoch 134/1000 loss 793.1775 805.3024 scaling_xz_1_loss -9.9503 -9.9914 index_layer_6_loss 793.1874 805.3124 \n",
      "Epoch 135/1000 loss 808.0524 802.8339 scaling_xz_1_loss -9.9913 -10.0335 index_layer_6_loss 808.0624 802.8439 \n",
      "Epoch 136/1000 loss 807.5136 817.6690 scaling_xz_1_loss -10.0340 -10.0817 index_layer_6_loss 807.5236 817.6791 \n",
      "Epoch 137/1000 loss 802.4768 811.4561 scaling_xz_1_loss -10.0822 -10.1255 index_layer_6_loss 802.4869 811.4662 \n",
      "Epoch 138/1000 loss 810.0054 808.3028 scaling_xz_1_loss -10.1257 -10.1672 index_layer_6_loss 810.0156 808.3130 \n",
      "Epoch 139/1000 loss 807.0861 808.8956 scaling_xz_1_loss -10.1677 -10.2108 index_layer_6_loss 807.0963 808.9058 \n",
      "Epoch 140/1000 loss 808.7530 812.3184 scaling_xz_1_loss -10.2113 -10.2550 index_layer_6_loss 808.7632 812.3286 \n",
      "Epoch 141/1000 loss 805.5856 805.6636 scaling_xz_1_loss -10.2557 -10.2979 index_layer_6_loss 805.5958 805.6740 \n",
      "Epoch 142/1000 loss 805.4422 810.6904 scaling_xz_1_loss -10.2982 -10.3407 index_layer_6_loss 805.4525 810.7007 \n",
      "Epoch 143/1000 loss 816.8514 800.2377 scaling_xz_1_loss -10.3412 -10.3845 index_layer_6_loss 816.8618 800.2480 \n",
      "Epoch 144/1000 loss 801.0969 820.6752 scaling_xz_1_loss -10.3844 -10.4272 index_layer_6_loss 801.1073 820.6856 \n",
      "Epoch 145/1000 loss 808.7476 800.9109 scaling_xz_1_loss -10.4274 -10.4713 index_layer_6_loss 808.7580 800.9214 \n",
      "Epoch 146/1000 loss 807.1619 808.0619 scaling_xz_1_loss -10.4709 -10.5160 index_layer_6_loss 807.1724 808.0724 \n",
      "Epoch 147/1000 loss 817.4323 803.1998 scaling_xz_1_loss -10.5157 -10.5575 index_layer_6_loss 817.4428 803.2103 \n",
      "Epoch 148/1000 loss 800.5986 799.3507 scaling_xz_1_loss -10.5571 -10.6018 index_layer_6_loss 800.6092 799.3613 \n",
      "Epoch 149/1000 loss 807.7887 793.9918 scaling_xz_1_loss -10.6015 -10.6463 index_layer_6_loss 807.7993 794.0024 \n",
      "Epoch 150/1000 loss 798.3546 803.6376 scaling_xz_1_loss -10.6460 -10.6895 index_layer_6_loss 798.3652 803.6483 \n",
      "Epoch 151/1000 loss 807.8961 809.8565 scaling_xz_1_loss -10.6891 -10.7326 index_layer_6_loss 807.9067 809.8672 \n",
      "Epoch 152/1000 loss 804.7157 800.3022 scaling_xz_1_loss -10.7328 -10.7770 index_layer_6_loss 804.7264 800.3130 \n",
      "Epoch 153/1000 loss 803.3119 819.9711 scaling_xz_1_loss -10.7767 -10.8189 index_layer_6_loss 803.3227 819.9819 \n",
      "Epoch 154/1000 loss 813.6743 809.8327 scaling_xz_1_loss -10.8186 -10.8639 index_layer_6_loss 813.6851 809.8436 \n",
      "Epoch 155/1000 loss 811.2724 816.6218 scaling_xz_1_loss -10.8640 -10.9070 index_layer_6_loss 811.2833 816.6327 \n",
      "Epoch 156/1000 loss 799.9739 810.5959 scaling_xz_1_loss -10.9070 -10.9496 index_layer_6_loss 799.9849 810.6069 \n",
      "Epoch 157/1000 loss 810.5491 808.5118 scaling_xz_1_loss -10.9495 -10.9922 index_layer_6_loss 810.5600 808.5228 \n",
      "Epoch 158/1000 loss 806.3490 800.2995 scaling_xz_1_loss -10.9923 -11.0330 index_layer_6_loss 806.3600 800.3105 \n",
      "Epoch 159/1000 loss 806.8380 810.3195 scaling_xz_1_loss -11.0333 -11.0753 index_layer_6_loss 806.8491 810.3305 \n",
      "Epoch 160/1000 loss 807.1224 794.9943 scaling_xz_1_loss -11.0749 -11.1227 index_layer_6_loss 807.1334 795.0054 \n",
      "Epoch 161/1000 loss 798.7623 807.8403 scaling_xz_1_loss -11.1226 -11.1678 index_layer_6_loss 798.7734 807.8514 \n",
      "Epoch 162/1000 loss 808.1115 811.1820 scaling_xz_1_loss -11.1676 -11.2115 index_layer_6_loss 808.1226 811.1932 \n",
      "Epoch 163/1000 loss 798.2852 807.9081 scaling_xz_1_loss -11.2111 -11.2537 index_layer_6_loss 798.2964 807.9194 \n",
      "Epoch 164/1000 loss 810.9160 815.1373 scaling_xz_1_loss -11.2540 -11.2977 index_layer_6_loss 810.9272 815.1486 \n",
      "Epoch 165/1000 loss 796.9209 806.4315 scaling_xz_1_loss -11.2978 -11.3439 index_layer_6_loss 796.9322 806.4428 \n",
      "Epoch 166/1000 loss 800.7834 798.4344 scaling_xz_1_loss -11.3432 -11.3840 index_layer_6_loss 800.7948 798.4458 \n",
      "Epoch 167/1000 loss 817.4489 815.2289 scaling_xz_1_loss -11.3845 -11.4278 index_layer_6_loss 817.4603 815.2403 \n",
      "Epoch 168/1000 loss 807.5118 810.0687 scaling_xz_1_loss -11.4276 -11.4733 index_layer_6_loss 807.5233 810.0801 \n",
      "Epoch 169/1000 loss 820.9652 799.6761 scaling_xz_1_loss -11.4733 -11.5149 index_layer_6_loss 820.9767 799.6877 \n",
      "Epoch 170/1000 loss 796.4802 808.8480 scaling_xz_1_loss -11.5148 -11.5590 index_layer_6_loss 796.4917 808.8595 \n",
      "Epoch 171/1000 loss 801.5978 802.4782 scaling_xz_1_loss -11.5594 -11.6028 index_layer_6_loss 801.6094 802.4898 \n",
      "Epoch 172/1000 loss 811.6974 795.9941 scaling_xz_1_loss -11.6025 -11.6450 index_layer_6_loss 811.7090 796.0057 \n",
      "Epoch 173/1000 loss 804.3475 809.9360 scaling_xz_1_loss -11.6451 -11.6895 index_layer_6_loss 804.3592 809.9477 \n",
      "Epoch 174/1000 loss 810.3222 811.6838 scaling_xz_1_loss -11.6897 -11.7346 index_layer_6_loss 810.3339 811.6955 \n",
      "Epoch 175/1000 loss 812.0220 807.6685 scaling_xz_1_loss -11.7348 -11.7785 index_layer_6_loss 812.0337 807.6803 \n",
      "Epoch 176/1000 loss 813.0219 801.4470 scaling_xz_1_loss -11.7782 -11.8235 index_layer_6_loss 813.0337 801.4589 \n",
      "Epoch 177/1000 loss 812.8730 793.3079 scaling_xz_1_loss -11.8234 -11.8658 index_layer_6_loss 812.8848 793.3197 \n",
      "Epoch 178/1000 loss 808.3005 812.6762 scaling_xz_1_loss -11.8653 -11.9106 index_layer_6_loss 808.3123 812.6881 \n",
      "Epoch 179/1000 loss 797.0035 806.0657 scaling_xz_1_loss -11.9106 -11.9547 index_layer_6_loss 797.0154 806.0776 \n",
      "Epoch 180/1000 loss 798.3260 791.4651 scaling_xz_1_loss -11.9548 -11.9994 index_layer_6_loss 798.3380 791.4772 \n",
      "Epoch 181/1000 loss 798.9104 801.6369 scaling_xz_1_loss -11.9994 -12.0442 index_layer_6_loss 798.9224 801.6489 \n",
      "Epoch 182/1000 loss 813.1701 807.6448 scaling_xz_1_loss -12.0440 -12.0865 index_layer_6_loss 813.1821 807.6569 \n",
      "Epoch 183/1000 loss 798.4279 802.6544 scaling_xz_1_loss -12.0867 -12.1308 index_layer_6_loss 798.4399 802.6665 \n",
      "Epoch 184/1000 loss 805.0966 809.3790 scaling_xz_1_loss -12.1312 -12.1751 index_layer_6_loss 805.1088 809.3911 \n",
      "Epoch 185/1000 loss 801.8998 803.5264 scaling_xz_1_loss -12.1751 -12.2185 index_layer_6_loss 801.9120 803.5386 \n",
      "Epoch 186/1000 loss 821.0814 808.3491 scaling_xz_1_loss -12.2186 -12.2628 index_layer_6_loss 821.0936 808.3613 \n",
      "Epoch 187/1000 loss 807.0088 798.2461 scaling_xz_1_loss -12.2631 -12.3066 index_layer_6_loss 807.0211 798.2584 \n",
      "Epoch 188/1000 loss 801.7632 800.3393 scaling_xz_1_loss -12.3068 -12.3515 index_layer_6_loss 801.7755 800.3516 \n",
      "Epoch 189/1000 loss 804.2148 796.5350 scaling_xz_1_loss -12.3512 -12.3948 index_layer_6_loss 804.2272 796.5474 \n",
      "Epoch 190/1000 loss 809.1595 790.4485 scaling_xz_1_loss -12.3953 -12.4393 index_layer_6_loss 809.1719 790.4609 \n",
      "Epoch 191/1000 loss 811.2994 798.9693 scaling_xz_1_loss -12.4391 -12.4836 index_layer_6_loss 811.3119 798.9818 \n",
      "Epoch 192/1000 loss 800.1438 807.6667 scaling_xz_1_loss -12.4830 -12.5264 index_layer_6_loss 800.1563 807.6792 \n",
      "Epoch 193/1000 loss 801.4978 803.2550 scaling_xz_1_loss -12.5261 -12.5679 index_layer_6_loss 801.5103 803.2676 \n",
      "Epoch 194/1000 loss 805.3259 808.8931 scaling_xz_1_loss -12.5681 -12.6038 index_layer_6_loss 805.3384 808.9058 \n",
      "Epoch 195/1000 loss 797.9646 813.0630 scaling_xz_1_loss -12.6033 -12.6472 index_layer_6_loss 797.9772 813.0756 \n",
      "Epoch 196/1000 loss 807.7372 796.3101 scaling_xz_1_loss -12.6468 -12.6975 index_layer_6_loss 807.7499 796.3228 \n",
      "Epoch 197/1000 loss 808.6122 806.0414 scaling_xz_1_loss -12.6976 -12.7435 index_layer_6_loss 808.6249 806.0542 \n",
      "Epoch 198/1000 loss 806.5315 794.9873 scaling_xz_1_loss -12.7434 -12.7802 index_layer_6_loss 806.5443 795.0001 \n",
      "Epoch 199/1000 loss 807.9951 795.1693 scaling_xz_1_loss -12.7801 -12.8301 index_layer_6_loss 808.0079 795.1821 \n",
      "Epoch 200/1000 loss 795.3959 806.7137 scaling_xz_1_loss -12.8304 -12.8714 index_layer_6_loss 795.4088 806.7266 \n",
      "Epoch 201/1000 loss 806.8615 806.9720 scaling_xz_1_loss -12.8711 -12.9204 index_layer_6_loss 806.8744 806.9850 \n",
      "Epoch 202/1000 loss 803.7740 805.4382 scaling_xz_1_loss -12.9207 -12.9642 index_layer_6_loss 803.7870 805.4512 \n",
      "Epoch 203/1000 loss 794.6199 811.3704 scaling_xz_1_loss -12.9641 -13.0056 index_layer_6_loss 794.6329 811.3834 \n",
      "Epoch 204/1000 loss 811.8752 803.6847 scaling_xz_1_loss -13.0058 -13.0549 index_layer_6_loss 811.8882 803.6978 \n",
      "Epoch 205/1000 loss 806.4849 805.1957 scaling_xz_1_loss -13.0546 -13.0981 index_layer_6_loss 806.4979 805.2089 \n",
      "Epoch 206/1000 loss 794.9765 808.5004 scaling_xz_1_loss -13.0980 -13.1424 index_layer_6_loss 794.9896 808.5135 \n",
      "Epoch 207/1000 loss 801.2081 803.8638 scaling_xz_1_loss -13.1427 -13.1875 index_layer_6_loss 801.2213 803.8770 \n",
      "Epoch 208/1000 loss 794.4171 810.9627 scaling_xz_1_loss -13.1872 -13.2314 index_layer_6_loss 794.4302 810.9760 \n",
      "Epoch 209/1000 loss 798.5182 812.8955 scaling_xz_1_loss -13.2318 -13.2748 index_layer_6_loss 798.5314 812.9088 \n",
      "Epoch 210/1000 loss 797.0725 797.2126 scaling_xz_1_loss -13.2743 -13.3209 index_layer_6_loss 797.0858 797.2259 \n",
      "Epoch 211/1000 loss 794.9379 788.9652 scaling_xz_1_loss -13.3208 -13.3636 index_layer_6_loss 794.9512 788.9786 \n",
      "Epoch 212/1000 loss 799.4708 809.4187 scaling_xz_1_loss -13.3632 -13.4089 index_layer_6_loss 799.4842 809.4321 \n",
      "Epoch 213/1000 loss 801.7126 802.4391 scaling_xz_1_loss -13.4088 -13.4524 index_layer_6_loss 801.7261 802.4525 \n",
      "Epoch 214/1000 loss 803.1173 806.2424 scaling_xz_1_loss -13.4525 -13.4960 index_layer_6_loss 803.1307 806.2559 \n",
      "Epoch 215/1000 loss 793.2208 806.7496 scaling_xz_1_loss -13.4957 -13.5401 index_layer_6_loss 793.2343 806.7631 \n",
      "Epoch 216/1000 loss 800.9949 803.6876 scaling_xz_1_loss -13.5397 -13.5844 index_layer_6_loss 801.0084 803.7012 \n",
      "Epoch 217/1000 loss 807.2964 800.0573 scaling_xz_1_loss -13.5840 -13.6283 index_layer_6_loss 807.3101 800.0709 \n",
      "Epoch 218/1000 loss 801.2462 799.9310 scaling_xz_1_loss -13.6285 -13.6727 index_layer_6_loss 801.2598 799.9447 \n",
      "Epoch 219/1000 loss 801.6211 798.5258 scaling_xz_1_loss -13.6731 -13.7172 index_layer_6_loss 801.6348 798.5396 \n",
      "Epoch 220/1000 loss 790.9244 803.6346 scaling_xz_1_loss -13.7175 -13.7604 index_layer_6_loss 790.9381 803.6484 \n",
      "Epoch 221/1000 loss 812.9862 798.8403 scaling_xz_1_loss -13.7604 -13.8032 index_layer_6_loss 812.9999 798.8541 \n",
      "Epoch 222/1000 loss 795.5779 808.8792 scaling_xz_1_loss -13.8029 -13.8414 index_layer_6_loss 795.5917 808.8930 \n",
      "Epoch 223/1000 loss 799.4528 801.6340 scaling_xz_1_loss -13.8415 -13.8711 index_layer_6_loss 799.4667 801.6478 \n",
      "Epoch 224/1000 loss 796.5745 804.9633 scaling_xz_1_loss -13.8713 -13.9265 index_layer_6_loss 796.5884 804.9772 \n",
      "Epoch 225/1000 loss 806.7828 807.3038 scaling_xz_1_loss -13.9265 -13.9754 index_layer_6_loss 806.7967 807.3178 \n",
      "Epoch 226/1000 loss 809.7028 801.0484 scaling_xz_1_loss -13.9754 -14.0148 index_layer_6_loss 809.7167 801.0624 \n",
      "Epoch 227/1000 loss 794.8683 810.5870 scaling_xz_1_loss -14.0149 -14.0628 index_layer_6_loss 794.8823 810.6011 \n",
      "Epoch 228/1000 loss 808.0718 800.8585 scaling_xz_1_loss -14.0631 -14.1107 index_layer_6_loss 808.0858 800.8726 \n",
      "Epoch 229/1000 loss 808.9254 802.2282 scaling_xz_1_loss -14.1103 -14.1533 index_layer_6_loss 808.9395 802.2424 \n",
      "Epoch 230/1000 loss 785.7985 809.5352 scaling_xz_1_loss -14.1525 -14.1959 index_layer_6_loss 785.8127 809.5494 \n",
      "Epoch 231/1000 loss 804.0352 803.8037 scaling_xz_1_loss -14.1964 -14.2434 index_layer_6_loss 804.0494 803.8179 \n",
      "Epoch 232/1000 loss 803.9701 793.0715 scaling_xz_1_loss -14.2431 -14.2875 index_layer_6_loss 803.9843 793.0858 \n",
      "Epoch 233/1000 loss 797.0867 787.5956 scaling_xz_1_loss -14.2875 -14.3321 index_layer_6_loss 797.1010 787.6100 \n",
      "Epoch 234/1000 loss 795.4236 799.2044 scaling_xz_1_loss -14.3322 -14.3740 index_layer_6_loss 795.4380 799.2188 \n",
      "Epoch 235/1000 loss 806.1652 806.9408 scaling_xz_1_loss -14.3744 -14.4219 index_layer_6_loss 806.1796 806.9552 \n",
      "Epoch 236/1000 loss 800.8943 788.7455 scaling_xz_1_loss -14.4220 -14.4644 index_layer_6_loss 800.9087 788.7599 \n",
      "Epoch 237/1000 loss 797.0891 785.0376 scaling_xz_1_loss -14.4644 -14.5102 index_layer_6_loss 797.1035 785.0521 \n",
      "Epoch 238/1000 loss 801.3995 797.6810 scaling_xz_1_loss -14.5107 -14.5536 index_layer_6_loss 801.4140 797.6955 \n",
      "Epoch 239/1000 loss 800.3156 798.6887 scaling_xz_1_loss -14.5537 -14.5985 index_layer_6_loss 800.3301 798.7033 \n",
      "Epoch 240/1000 loss 803.6573 792.3367 scaling_xz_1_loss -14.5986 -14.6437 index_layer_6_loss 803.6719 792.3514 \n",
      "Epoch 241/1000 loss 792.7353 795.9691 scaling_xz_1_loss -14.6439 -14.6865 index_layer_6_loss 792.7499 795.9838 \n",
      "Epoch 242/1000 loss 813.3311 799.5323 scaling_xz_1_loss -14.6864 -14.7327 index_layer_6_loss 813.3458 799.5471 \n",
      "Epoch 243/1000 loss 799.1675 799.8914 scaling_xz_1_loss -14.7324 -14.7767 index_layer_6_loss 799.1823 799.9062 \n",
      "Epoch 244/1000 loss 806.0424 794.1907 scaling_xz_1_loss -14.7768 -14.8220 index_layer_6_loss 806.0572 794.2056 \n",
      "Epoch 245/1000 loss 807.2736 805.1887 scaling_xz_1_loss -14.8220 -14.8661 index_layer_6_loss 807.2885 805.2036 \n",
      "Epoch 246/1000 loss 803.2512 798.4201 scaling_xz_1_loss -14.8664 -14.9113 index_layer_6_loss 803.2661 798.4350 \n",
      "Epoch 247/1000 loss 792.9227 802.5399 scaling_xz_1_loss -14.9112 -14.9561 index_layer_6_loss 792.9376 802.5549 \n",
      "Epoch 248/1000 loss 798.8737 793.6179 scaling_xz_1_loss -14.9566 -15.0008 index_layer_6_loss 798.8887 793.6329 \n",
      "Epoch 249/1000 loss 794.5292 800.6465 scaling_xz_1_loss -15.0008 -15.0455 index_layer_6_loss 794.5443 800.6616 \n",
      "Epoch 250/1000 loss 794.9406 791.4948 scaling_xz_1_loss -15.0455 -15.0902 index_layer_6_loss 794.9556 791.5099 \n",
      "Epoch 251/1000 loss 797.3853 802.0185 scaling_xz_1_loss -15.0904 -15.1345 index_layer_6_loss 797.4004 802.0336 \n",
      "Epoch 252/1000 loss 794.6099 786.6390 scaling_xz_1_loss -15.1346 -15.1798 index_layer_6_loss 794.6251 786.6542 \n",
      "Epoch 253/1000 loss 790.4008 786.5571 scaling_xz_1_loss -15.1800 -15.2239 index_layer_6_loss 790.4160 786.5723 \n",
      "Epoch 254/1000 loss 800.5156 795.9979 scaling_xz_1_loss -15.2240 -15.2683 index_layer_6_loss 800.5308 796.0132 \n",
      "Epoch 255/1000 loss 798.4932 797.6102 scaling_xz_1_loss -15.2684 -15.3123 index_layer_6_loss 798.5084 797.6255 \n",
      "Epoch 256/1000 loss 788.6434 794.8929 scaling_xz_1_loss -15.3124 -15.3567 index_layer_6_loss 788.6588 794.9083 \n",
      "Epoch 257/1000 loss 805.0524 793.0262 scaling_xz_1_loss -15.3564 -15.4013 index_layer_6_loss 805.0678 793.0416 \n",
      "Epoch 258/1000 loss 796.7165 792.3226 scaling_xz_1_loss -15.4009 -15.4449 index_layer_6_loss 796.7319 792.3380 \n",
      "Epoch 259/1000 loss 791.1335 798.2559 scaling_xz_1_loss -15.4446 -15.4894 index_layer_6_loss 791.1489 798.2714 \n",
      "Epoch 260/1000 loss 798.1382 791.3757 scaling_xz_1_loss -15.4896 -15.5349 index_layer_6_loss 798.1537 791.3912 \n",
      "Epoch 261/1000 loss 795.4220 793.2870 scaling_xz_1_loss -15.5348 -15.5799 index_layer_6_loss 795.4376 793.3026 \n",
      "Epoch 262/1000 loss 793.9924 791.5779 scaling_xz_1_loss -15.5797 -15.6241 index_layer_6_loss 794.0079 791.5936 \n",
      "Epoch 263/1000 loss 797.6400 795.4161 scaling_xz_1_loss -15.6240 -15.6674 index_layer_6_loss 797.6556 795.4318 \n",
      "Epoch 264/1000 loss 797.3359 783.5489 scaling_xz_1_loss -15.6675 -15.7115 index_layer_6_loss 797.3516 783.5646 \n",
      "Epoch 265/1000 loss 788.1464 792.7318 scaling_xz_1_loss -15.7115 -15.7550 index_layer_6_loss 788.1620 792.7476 \n",
      "Epoch 266/1000 loss 794.7396 802.7498 scaling_xz_1_loss -15.7549 -15.7988 index_layer_6_loss 794.7553 802.7656 \n",
      "Epoch 267/1000 loss 789.4211 793.2003 scaling_xz_1_loss -15.7988 -15.8416 index_layer_6_loss 789.4370 793.2161 \n",
      "Epoch 268/1000 loss 787.0488 796.9768 scaling_xz_1_loss -15.8413 -15.8843 index_layer_6_loss 787.0646 796.9927 \n",
      "Epoch 269/1000 loss 795.4508 797.1736 scaling_xz_1_loss -15.8839 -15.9287 index_layer_6_loss 795.4667 797.1896 \n",
      "Epoch 270/1000 loss 793.4529 793.8882 scaling_xz_1_loss -15.9289 -15.9757 index_layer_6_loss 793.4688 793.9042 \n",
      "Epoch 271/1000 loss 794.4971 787.0381 scaling_xz_1_loss -15.9758 -16.0191 index_layer_6_loss 794.5131 787.0541 \n",
      "Epoch 272/1000 loss 793.1066 788.2338 scaling_xz_1_loss -16.0191 -16.0613 index_layer_6_loss 793.1226 788.2498 \n",
      "Epoch 273/1000 loss 791.8100 793.8179 scaling_xz_1_loss -16.0613 -16.1082 index_layer_6_loss 791.8260 793.8340 \n",
      "Epoch 274/1000 loss 792.5469 797.9062 scaling_xz_1_loss -16.1082 -16.1502 index_layer_6_loss 792.5630 797.9224 \n",
      "Epoch 275/1000 loss 791.7125 792.9918 scaling_xz_1_loss -16.1501 -16.1936 index_layer_6_loss 791.7286 793.0079 \n",
      "Epoch 276/1000 loss 798.0461 798.7473 scaling_xz_1_loss -16.1937 -16.2405 index_layer_6_loss 798.0623 798.7635 \n",
      "Epoch 277/1000 loss inf 795.9499 scaling_xz_1_loss -16.2407 -16.2826 index_layer_6_loss inf 795.9662 \n",
      "Epoch 278/1000 loss 788.2513 792.1769 scaling_xz_1_loss -16.2828 -16.3288 index_layer_6_loss 788.2676 792.1932 \n",
      "Epoch 279/1000 loss 799.7473 795.3689 scaling_xz_1_loss -16.3283 -16.3714 index_layer_6_loss 799.7637 795.3853 \n",
      "Epoch 280/1000 loss 795.0486 789.1184 scaling_xz_1_loss -16.3716 -16.4173 index_layer_6_loss 795.0649 789.1348 \n",
      "Epoch 281/1000 loss 789.6326 787.8742 scaling_xz_1_loss -16.4174 -16.4614 index_layer_6_loss 789.6490 787.8907 \n",
      "Epoch 282/1000 loss 786.9685 790.0986 scaling_xz_1_loss -16.4614 -16.5060 index_layer_6_loss 786.9850 790.1151 \n",
      "Epoch 283/1000 loss 800.0460 780.6891 scaling_xz_1_loss -16.5063 -16.5518 index_layer_6_loss 800.0625 780.7057 \n",
      "Epoch 284/1000 loss 791.6163 796.7856 scaling_xz_1_loss -16.5518 -16.5954 index_layer_6_loss 791.6329 796.8022 \n",
      "Epoch 285/1000 loss 794.8349 787.0244 scaling_xz_1_loss -16.5952 -16.6405 index_layer_6_loss 794.8515 787.0411 \n",
      "Epoch 286/1000 loss 794.7952 794.9656 scaling_xz_1_loss -16.6405 -16.6844 index_layer_6_loss 794.8118 794.9823 \n",
      "Epoch 287/1000 loss 793.7178 799.0776 scaling_xz_1_loss -16.6845 -16.7272 index_layer_6_loss 793.7345 799.0944 \n",
      "Epoch 288/1000 loss 793.4839 787.6608 scaling_xz_1_loss -16.7276 -16.7679 index_layer_6_loss 793.5006 787.6776 \n",
      "Epoch 289/1000 loss 787.7155 786.2807 scaling_xz_1_loss -16.7679 -16.8037 index_layer_6_loss 787.7323 786.2975 \n",
      "Epoch 290/1000 loss 785.5302 802.2097 scaling_xz_1_loss -16.8035 -16.8413 index_layer_6_loss 785.5469 802.2265 \n",
      "Epoch 291/1000 loss 788.9732 797.3347 scaling_xz_1_loss -16.8413 -16.8998 index_layer_6_loss 788.9901 797.3516 \n",
      "Epoch 292/1000 loss 794.0060 790.8730 scaling_xz_1_loss -16.9001 -16.9389 index_layer_6_loss 794.0229 790.8900 \n",
      "Epoch 293/1000 loss 791.2511 792.0870 scaling_xz_1_loss -16.9393 -16.9846 index_layer_6_loss 791.2681 792.1040 \n",
      "Epoch 294/1000 loss 791.9025 797.6940 scaling_xz_1_loss -16.9851 -17.0299 index_layer_6_loss 791.9194 797.7111 \n",
      "Epoch 295/1000 loss 797.2253 801.6725 scaling_xz_1_loss -17.0300 -17.0719 index_layer_6_loss 797.2424 801.6896 \n",
      "Epoch 296/1000 loss 800.4106 797.7406 scaling_xz_1_loss -17.0711 -17.1217 index_layer_6_loss 800.4277 797.7578 \n",
      "Epoch 297/1000 loss 788.7505 791.4596 scaling_xz_1_loss -17.1220 -17.1642 index_layer_6_loss 788.7676 791.4767 \n",
      "Epoch 298/1000 loss 796.7070 794.9769 scaling_xz_1_loss -17.1639 -17.2138 index_layer_6_loss 796.7241 794.9941 \n",
      "Epoch 299/1000 loss 801.5472 791.1617 scaling_xz_1_loss -17.2141 -17.2537 index_layer_6_loss 801.5645 791.1790 \n",
      "Epoch 300/1000 loss 793.3603 792.3442 scaling_xz_1_loss -17.2542 -17.2973 index_layer_6_loss 793.3776 792.3615 \n",
      "Epoch 301/1000 loss 787.9825 793.8817 scaling_xz_1_loss -17.2972 -17.3481 index_layer_6_loss 787.9998 793.8990 \n",
      "Epoch 302/1000 loss inf 784.0628 scaling_xz_1_loss -17.3482 -17.3920 index_layer_6_loss inf 784.0802 \n",
      "Epoch 303/1000 loss 798.9509 785.1538 scaling_xz_1_loss -17.3926 -17.4411 index_layer_6_loss 798.9683 785.1713 \n",
      "Epoch 304/1000 loss 787.1910 789.4695 scaling_xz_1_loss -17.4409 -17.4815 index_layer_6_loss 787.2085 789.4869 \n",
      "Epoch 305/1000 loss 785.5393 790.2115 scaling_xz_1_loss -17.4810 -17.5297 index_layer_6_loss 785.5568 790.2290 \n",
      "Epoch 306/1000 loss 788.8733 795.8364 scaling_xz_1_loss -17.5294 -17.5734 index_layer_6_loss 788.8908 795.8540 \n",
      "Epoch 307/1000 loss 789.5630 792.1934 scaling_xz_1_loss -17.5733 -17.6204 index_layer_6_loss 789.5806 792.2110 \n",
      "Epoch 308/1000 loss 792.2846 789.7303 scaling_xz_1_loss -17.6205 -17.6672 index_layer_6_loss 792.3022 789.7480 \n",
      "Epoch 309/1000 loss 791.3177 795.3419 scaling_xz_1_loss -17.6670 -17.7098 index_layer_6_loss 791.3353 795.3596 \n",
      "Epoch 310/1000 loss 790.2166 790.5917 scaling_xz_1_loss -17.7095 -17.7565 index_layer_6_loss 790.2343 790.6094 \n",
      "Epoch 311/1000 loss 787.0754 791.2029 scaling_xz_1_loss -17.7566 -17.8020 index_layer_6_loss 787.0931 791.2207 \n",
      "Epoch 312/1000 loss 798.5393 783.1326 scaling_xz_1_loss -17.8020 -17.8461 index_layer_6_loss 798.5571 783.1505 \n",
      "Epoch 313/1000 loss 789.4197 790.5218 scaling_xz_1_loss -17.8465 -17.8939 index_layer_6_loss 789.4376 790.5397 \n",
      "Epoch 314/1000 loss 791.5739 784.4298 scaling_xz_1_loss -17.8940 -17.9374 index_layer_6_loss 791.5917 784.4478 \n",
      "Epoch 315/1000 loss 794.7576 782.9299 scaling_xz_1_loss -17.9372 -17.9831 index_layer_6_loss 794.7755 782.9479 \n",
      "Epoch 316/1000 loss 779.5908 796.5211 scaling_xz_1_loss -17.9834 -18.0289 index_layer_6_loss 779.6088 796.5391 \n",
      "Epoch 317/1000 loss 786.7418 792.2242 scaling_xz_1_loss -18.0288 -18.0732 index_layer_6_loss 786.7598 792.2423 \n",
      "Epoch 318/1000 loss 793.4058 780.3959 scaling_xz_1_loss -18.0735 -18.1188 index_layer_6_loss 793.4239 780.4140 \n",
      "Epoch 319/1000 loss 779.5698 776.7714 scaling_xz_1_loss -18.1187 -18.1630 index_layer_6_loss 779.5880 776.7896 \n",
      "Epoch 320/1000 loss 790.1479 778.8359 scaling_xz_1_loss -18.1632 -18.2076 index_layer_6_loss 790.1661 778.8541 \n",
      "Epoch 321/1000 loss 790.8515 786.0599 scaling_xz_1_loss -18.2077 -18.2535 index_layer_6_loss 790.8697 786.0782 \n",
      "Epoch 322/1000 loss 784.7546 789.5779 scaling_xz_1_loss -18.2535 -18.2977 index_layer_6_loss 784.7729 789.5963 \n",
      "Epoch 323/1000 loss 784.7623 781.1537 scaling_xz_1_loss -18.2977 -18.3429 index_layer_6_loss 784.7806 781.1721 \n",
      "Epoch 324/1000 loss 780.7571 776.0775 scaling_xz_1_loss -18.3427 -18.3868 index_layer_6_loss 780.7755 776.0959 \n",
      "Epoch 325/1000 loss 786.4342 787.9268 scaling_xz_1_loss -18.3865 -18.4308 index_layer_6_loss 786.4526 787.9452 \n",
      "Epoch 326/1000 loss 778.9451 792.3404 scaling_xz_1_loss -18.4308 -18.4741 index_layer_6_loss 778.9636 792.3589 \n",
      "Epoch 327/1000 loss 787.6247 786.7864 scaling_xz_1_loss -18.4736 -18.5157 index_layer_6_loss 787.6432 786.8049 \n",
      "Epoch 328/1000 loss 785.4711 780.6460 scaling_xz_1_loss -18.5154 -18.5561 index_layer_6_loss 785.4896 780.6646 \n",
      "Epoch 329/1000 loss 784.5383 790.3823 scaling_xz_1_loss -18.5559 -18.6021 index_layer_6_loss 784.5568 790.4009 \n",
      "Epoch 330/1000 loss 796.0229 782.1135 scaling_xz_1_loss -18.6022 -18.6502 index_layer_6_loss 796.0415 782.1322 \n",
      "Epoch 331/1000 loss 777.4897 791.4651 scaling_xz_1_loss -18.6505 -18.6935 index_layer_6_loss 777.5084 791.4838 \n",
      "Epoch 332/1000 loss 773.1064 790.1868 scaling_xz_1_loss -18.6937 -18.7316 index_layer_6_loss 773.1251 790.2056 \n",
      "Epoch 333/1000 loss 778.5021 790.4446 scaling_xz_1_loss -18.7310 -18.7791 index_layer_6_loss 778.5208 790.4634 \n",
      "Epoch 334/1000 loss 781.5802 784.3822 scaling_xz_1_loss -18.7796 -18.8216 index_layer_6_loss 781.5990 784.4010 \n",
      "Epoch 335/1000 loss 777.1838 779.4785 scaling_xz_1_loss -18.8216 -18.8663 index_layer_6_loss 777.2026 779.4974 \n",
      "Epoch 336/1000 loss 773.7755 781.5098 scaling_xz_1_loss -18.8665 -18.9155 index_layer_6_loss 773.7943 781.5287 \n",
      "Epoch 337/1000 loss 779.7931 784.1739 scaling_xz_1_loss -18.9153 -18.9576 index_layer_6_loss 779.8120 784.1929 \n",
      "Epoch 338/1000 loss 778.4523 776.0461 scaling_xz_1_loss -18.9580 -19.0042 index_layer_6_loss 778.4713 776.0651 \n",
      "Epoch 339/1000 loss 781.3226 781.6627 scaling_xz_1_loss -19.0044 -19.0468 index_layer_6_loss 781.3416 781.6817 \n",
      "Epoch 340/1000 loss 783.3815 784.1299 scaling_xz_1_loss -19.0468 -19.0892 index_layer_6_loss 783.4005 784.1490 \n",
      "Epoch 341/1000 loss 780.6553 792.0439 scaling_xz_1_loss -19.0890 -19.1306 index_layer_6_loss 780.6744 792.0630 \n",
      "Epoch 342/1000 loss 781.0983 784.8110 scaling_xz_1_loss -19.1306 -19.1778 index_layer_6_loss 781.1174 784.8301 \n",
      "Epoch 343/1000 loss 781.7772 787.5204 scaling_xz_1_loss -19.1775 -19.2236 index_layer_6_loss 781.7964 787.5397 \n",
      "Epoch 344/1000 loss 785.2932 778.7775 scaling_xz_1_loss -19.2236 -19.2658 index_layer_6_loss 785.3124 778.7968 \n",
      "Epoch 345/1000 loss 778.9176 770.9338 scaling_xz_1_loss -19.2663 -19.3119 index_layer_6_loss 778.9369 770.9531 \n",
      "Epoch 346/1000 loss 782.3344 785.0120 scaling_xz_1_loss -19.3114 -19.3540 index_layer_6_loss 782.3537 785.0313 \n",
      "Epoch 347/1000 loss 781.8581 781.0976 scaling_xz_1_loss -19.3539 -19.4006 index_layer_6_loss 781.8774 781.1170 \n",
      "Epoch 348/1000 loss 784.2170 777.8815 scaling_xz_1_loss -19.4006 -19.4440 index_layer_6_loss 784.2364 777.9010 \n",
      "Epoch 349/1000 loss 788.9258 771.6289 scaling_xz_1_loss -19.4439 -19.4885 index_layer_6_loss 788.9453 771.6484 \n",
      "Epoch 350/1000 loss 788.2460 782.6830 scaling_xz_1_loss -19.4883 -19.5317 index_layer_6_loss 788.2654 782.7026 \n",
      "Epoch 351/1000 loss 779.2305 784.4205 scaling_xz_1_loss -19.5314 -19.5779 index_layer_6_loss 779.2501 784.4401 \n",
      "Epoch 352/1000 loss 775.7618 776.8712 scaling_xz_1_loss -19.5783 -19.6213 index_layer_6_loss 775.7814 776.8907 \n",
      "Epoch 353/1000 loss 788.5762 784.8688 scaling_xz_1_loss -19.6214 -19.6660 index_layer_6_loss 788.5958 784.8885 \n",
      "Epoch 354/1000 loss 776.0923 787.6450 scaling_xz_1_loss -19.6660 -19.7104 index_layer_6_loss 776.1120 787.6647 \n",
      "Epoch 355/1000 loss 788.7064 785.1579 scaling_xz_1_loss -19.7106 -19.7561 index_layer_6_loss 788.7261 785.1777 \n",
      "Epoch 356/1000 loss 778.1183 777.1651 scaling_xz_1_loss -19.7559 -19.7994 index_layer_6_loss 778.1381 777.1849 \n",
      "Epoch 357/1000 loss 782.7609 775.1835 scaling_xz_1_loss -19.7995 -19.8443 index_layer_6_loss 782.7807 775.2033 \n",
      "Epoch 358/1000 loss 782.8167 777.1916 scaling_xz_1_loss -19.8447 -19.8888 index_layer_6_loss 782.8365 777.2115 \n",
      "Epoch 359/1000 loss 788.9326 777.3864 scaling_xz_1_loss -19.8887 -19.9342 index_layer_6_loss 788.9525 777.4063 \n",
      "Epoch 360/1000 loss 773.9958 780.7455 scaling_xz_1_loss -19.9341 -19.9786 index_layer_6_loss 774.0158 780.7654 \n",
      "Epoch 361/1000 loss 782.3727 787.8467 scaling_xz_1_loss -19.9786 -20.0229 index_layer_6_loss 782.3926 787.8667 \n",
      "Epoch 362/1000 loss 789.1599 783.9512 scaling_xz_1_loss -20.0230 -20.0671 index_layer_6_loss 789.1799 783.9713 \n",
      "Epoch 363/1000 loss 786.0522 778.0508 scaling_xz_1_loss -20.0669 -20.1128 index_layer_6_loss 786.0723 778.0710 \n",
      "Epoch 364/1000 loss 767.8997 777.6183 scaling_xz_1_loss -20.1128 -20.1566 index_layer_6_loss 767.9199 777.6385 \n",
      "Epoch 365/1000 loss 790.4351 780.6932 scaling_xz_1_loss -20.1569 -20.2002 index_layer_6_loss 790.4552 780.7134 \n",
      "Epoch 366/1000 loss 781.3105 777.5209 scaling_xz_1_loss -20.2002 -20.2436 index_layer_6_loss 781.3307 777.5412 \n",
      "Epoch 367/1000 loss 779.6490 781.7924 scaling_xz_1_loss -20.2437 -20.2860 index_layer_6_loss 779.6693 781.8127 \n",
      "Epoch 368/1000 loss 779.6600 777.2537 scaling_xz_1_loss -20.2861 -20.3328 index_layer_6_loss 779.6802 777.2740 \n",
      "Epoch 369/1000 loss 769.1647 781.5317 scaling_xz_1_loss -20.3327 -20.3785 index_layer_6_loss 769.1850 781.5521 \n",
      "Epoch 370/1000 loss 780.7478 775.8238 scaling_xz_1_loss -20.3783 -20.4252 index_layer_6_loss 780.7682 775.8442 \n",
      "Epoch 371/1000 loss 777.2322 782.0787 scaling_xz_1_loss -20.4255 -20.4685 index_layer_6_loss 777.2526 782.0991 \n",
      "Epoch 372/1000 loss 775.3160 783.5596 scaling_xz_1_loss -20.4683 -20.5122 index_layer_6_loss 775.3364 783.5801 \n",
      "Epoch 373/1000 loss 771.5867 776.1436 scaling_xz_1_loss -20.5125 -20.5558 index_layer_6_loss 771.6072 776.1641 \n",
      "Epoch 374/1000 loss 781.0972 777.8676 scaling_xz_1_loss -20.5557 -20.5984 index_layer_6_loss 781.1178 777.8882 \n",
      "Epoch 375/1000 loss 777.3312 766.9272 scaling_xz_1_loss -20.5983 -20.6316 index_layer_6_loss 777.3517 766.9478 \n",
      "Epoch 376/1000 loss 771.7191 777.3386 scaling_xz_1_loss -20.6317 -20.6741 index_layer_6_loss 771.7397 777.3593 \n",
      "Epoch 377/1000 loss 769.9722 783.6044 scaling_xz_1_loss -20.6742 -20.7102 index_layer_6_loss 769.9929 783.6251 \n",
      "Epoch 378/1000 loss 766.6200 771.4013 scaling_xz_1_loss -20.7106 -20.7732 index_layer_6_loss 766.6407 771.4221 \n",
      "Epoch 379/1000 loss 767.3627 772.9551 scaling_xz_1_loss -20.7736 -20.7984 index_layer_6_loss 767.3834 772.9760 \n",
      "Epoch 380/1000 loss 788.2442 780.2735 scaling_xz_1_loss -20.7985 -20.8495 index_layer_6_loss 788.2650 780.2944 \n",
      "Epoch 381/1000 loss 780.1431 785.3126 scaling_xz_1_loss -20.8495 -20.8881 index_layer_6_loss 780.1640 785.3335 \n",
      "Epoch 382/1000 loss 783.8644 777.1815 scaling_xz_1_loss -20.8877 -20.9443 index_layer_6_loss 783.8853 777.2025 \n",
      "Epoch 383/1000 loss 786.2545 784.6748 scaling_xz_1_loss -20.9439 -20.9787 index_layer_6_loss 786.2755 784.6958 \n",
      "Epoch 384/1000 loss 782.6410 784.8281 scaling_xz_1_loss -20.9789 -21.0393 index_layer_6_loss 782.6620 784.8491 \n",
      "Epoch 385/1000 loss 779.2737 779.9264 scaling_xz_1_loss -21.0393 -21.0721 index_layer_6_loss 779.2947 779.9474 \n",
      "Epoch 386/1000 loss 776.5959 773.1345 scaling_xz_1_loss -21.0726 -21.1291 index_layer_6_loss 776.6170 773.1556 \n",
      "Epoch 387/1000 loss 772.8780 783.0281 scaling_xz_1_loss -21.1284 -21.1704 index_layer_6_loss 772.8991 783.0493 \n",
      "Epoch 388/1000 loss 769.9658 771.4868 scaling_xz_1_loss -21.1705 -21.2131 index_layer_6_loss 769.9870 771.5080 \n",
      "Epoch 389/1000 loss 772.9946 772.1407 scaling_xz_1_loss -21.2130 -21.2636 index_layer_6_loss 773.0158 772.1619 \n",
      "Epoch 390/1000 loss 776.4794 773.4559 scaling_xz_1_loss -21.2640 -21.3057 index_layer_6_loss 776.5006 773.4772 \n",
      "Epoch 391/1000 loss 767.3745 771.0620 scaling_xz_1_loss -21.3053 -21.3516 index_layer_6_loss 767.3958 771.0833 \n",
      "Epoch 392/1000 loss 775.7969 775.4056 scaling_xz_1_loss -21.3513 -21.3980 index_layer_6_loss 775.8183 775.4271 \n",
      "Epoch 393/1000 loss 770.3932 786.0410 scaling_xz_1_loss -21.3978 -21.4401 index_layer_6_loss 770.4146 786.0624 \n",
      "Epoch 394/1000 loss 777.1685 769.8635 scaling_xz_1_loss -21.4398 -21.4876 index_layer_6_loss 777.1899 769.8850 \n",
      "Epoch 395/1000 loss 777.1133 772.9555 scaling_xz_1_loss -21.4872 -21.5330 index_layer_6_loss 777.1348 772.9771 \n",
      "Epoch 396/1000 loss 775.2755 775.1112 scaling_xz_1_loss -21.5321 -21.5735 index_layer_6_loss 775.2971 775.1328 \n",
      "Epoch 397/1000 loss 780.5872 770.7127 scaling_xz_1_loss -21.5736 -21.6207 index_layer_6_loss 780.6088 770.7343 \n",
      "Epoch 398/1000 loss 771.4630 777.1758 scaling_xz_1_loss -21.6208 -21.6646 index_layer_6_loss 771.4846 777.1974 \n",
      "Epoch 399/1000 loss 768.4758 772.4158 scaling_xz_1_loss -21.6649 -21.7099 index_layer_6_loss 768.4975 772.4376 \n",
      "Epoch 400/1000 loss 777.9445 780.5667 scaling_xz_1_loss -21.7102 -21.7537 index_layer_6_loss 777.9662 780.5884 \n",
      "Epoch 401/1000 loss 767.0121 773.4840 scaling_xz_1_loss -21.7539 -21.8001 index_layer_6_loss 767.0339 773.5058 \n",
      "Epoch 402/1000 loss 776.8447 781.1584 scaling_xz_1_loss -21.8005 -21.8437 index_layer_6_loss 776.8665 781.1802 \n",
      "Epoch 403/1000 loss 779.4398 773.7274 scaling_xz_1_loss -21.8437 -21.8890 index_layer_6_loss 779.4616 773.7493 \n",
      "Epoch 404/1000 loss 772.7620 774.1708 scaling_xz_1_loss -21.8889 -21.9344 index_layer_6_loss 772.7839 774.1927 \n",
      "Epoch 405/1000 loss 775.5115 772.0035 scaling_xz_1_loss -21.9346 -21.9778 index_layer_6_loss 775.5334 772.0255 \n",
      "Epoch 406/1000 loss 769.9079 779.2196 scaling_xz_1_loss -21.9785 -22.0228 index_layer_6_loss 769.9299 779.2416 \n",
      "Epoch 407/1000 loss 778.3367 765.2050 scaling_xz_1_loss -22.0228 -22.0688 index_layer_6_loss 778.3587 765.2271 \n",
      "Epoch 408/1000 loss 762.7585 774.5195 scaling_xz_1_loss -22.0689 -22.1132 index_layer_6_loss 762.7806 774.5416 \n",
      "Epoch 409/1000 loss 774.9051 770.3445 scaling_xz_1_loss -22.1132 -22.1565 index_layer_6_loss 774.9272 770.3666 \n",
      "Epoch 410/1000 loss 760.5013 760.3193 scaling_xz_1_loss -22.1565 -22.2023 index_layer_6_loss 760.5234 760.3416 \n",
      "Epoch 411/1000 loss 770.9706 772.8292 scaling_xz_1_loss -22.2020 -22.2455 index_layer_6_loss 770.9928 772.8514 \n",
      "Epoch 412/1000 loss 771.5377 767.4131 scaling_xz_1_loss -22.2457 -22.2899 index_layer_6_loss 771.5599 767.4354 \n",
      "Epoch 413/1000 loss 764.0271 774.4411 scaling_xz_1_loss -22.2900 -22.3315 index_layer_6_loss 764.0494 774.4634 \n",
      "Epoch 414/1000 loss 773.9156 769.9066 scaling_xz_1_loss -22.3317 -22.3730 index_layer_6_loss 773.9380 769.9290 \n",
      "Epoch 415/1000 loss 764.4598 784.9125 scaling_xz_1_loss -22.3735 -22.4144 index_layer_6_loss 764.4822 784.9349 \n",
      "Epoch 416/1000 loss 771.9407 769.7661 scaling_xz_1_loss -22.4141 -22.4534 index_layer_6_loss 771.9631 769.7886 \n",
      "Epoch 417/1000 loss 779.6832 776.8605 scaling_xz_1_loss -22.4531 -22.5047 index_layer_6_loss 779.7057 776.8830 \n",
      "Epoch 418/1000 loss 763.8504 763.5164 scaling_xz_1_loss -22.5045 -22.5526 index_layer_6_loss 763.8729 763.5390 \n",
      "Epoch 419/1000 loss 769.6624 780.1800 scaling_xz_1_loss -22.5528 -22.5970 index_layer_6_loss 769.6850 780.2026 \n",
      "Epoch 420/1000 loss 774.7534 776.3107 scaling_xz_1_loss -22.5970 -22.6413 index_layer_6_loss 774.7759 776.3333 \n",
      "Epoch 421/1000 loss 772.8347 771.6076 scaling_xz_1_loss -22.6411 -22.6860 index_layer_6_loss 772.8574 771.6303 \n",
      "Epoch 422/1000 loss 759.0556 763.2923 scaling_xz_1_loss -22.6858 -22.7311 index_layer_6_loss 759.0783 763.3150 \n",
      "Epoch 423/1000 loss 776.7408 772.6180 scaling_xz_1_loss -22.7313 -22.7746 index_layer_6_loss 776.7635 772.6408 \n",
      "Epoch 424/1000 loss 766.0766 769.9127 scaling_xz_1_loss -22.7750 -22.8204 index_layer_6_loss 766.0994 769.9355 \n",
      "Epoch 425/1000 loss 771.3074 767.8110 scaling_xz_1_loss -22.8204 -22.8634 index_layer_6_loss 771.3303 767.8339 \n",
      "Epoch 426/1000 loss 772.3521 767.0480 scaling_xz_1_loss -22.8635 -22.9080 index_layer_6_loss 772.3749 767.0709 \n",
      "Epoch 427/1000 loss 767.1406 777.1667 scaling_xz_1_loss -22.9083 -22.9539 index_layer_6_loss 767.1635 777.1896 \n",
      "Epoch 428/1000 loss 777.7817 775.5317 scaling_xz_1_loss -22.9535 -22.9975 index_layer_6_loss 777.8046 775.5547 \n",
      "Epoch 429/1000 loss 764.0630 765.5010 scaling_xz_1_loss -22.9974 -23.0453 index_layer_6_loss 764.0860 765.5241 \n",
      "Epoch 430/1000 loss 767.8981 770.5310 scaling_xz_1_loss -23.0453 -23.0871 index_layer_6_loss 767.9212 770.5541 \n",
      "Epoch 431/1000 loss 771.0551 764.7993 scaling_xz_1_loss -23.0873 -23.1333 index_layer_6_loss 771.0781 764.8224 \n",
      "Epoch 432/1000 loss 764.1416 766.1882 scaling_xz_1_loss -23.1336 -23.1779 index_layer_6_loss 764.1647 766.2114 \n",
      "Epoch 433/1000 loss 772.4306 765.7581 scaling_xz_1_loss -23.1778 -23.2247 index_layer_6_loss 772.4538 765.7813 \n",
      "Epoch 434/1000 loss 768.1727 769.8669 scaling_xz_1_loss -23.2247 -23.2682 index_layer_6_loss 768.1960 769.8901 \n",
      "Epoch 435/1000 loss 762.8361 770.6590 scaling_xz_1_loss -23.2679 -23.3137 index_layer_6_loss 762.8593 770.6823 \n",
      "Epoch 436/1000 loss 764.3804 760.2210 scaling_xz_1_loss -23.3136 -23.3581 index_layer_6_loss 764.4037 760.2444 \n",
      "Epoch 437/1000 loss 766.6413 766.3932 scaling_xz_1_loss -23.3582 -23.4024 index_layer_6_loss 766.6647 766.4166 \n",
      "Epoch 438/1000 loss 761.6693 767.9088 scaling_xz_1_loss -23.4026 -23.4470 index_layer_6_loss 761.6926 767.9322 \n",
      "Epoch 439/1000 loss 763.5624 765.7649 scaling_xz_1_loss -23.4468 -23.4909 index_layer_6_loss 763.5859 765.7884 \n",
      "Epoch 440/1000 loss 761.0552 768.4427 scaling_xz_1_loss -23.4906 -23.5352 index_layer_6_loss 761.0787 768.4662 \n",
      "Epoch 441/1000 loss 764.4738 765.1716 scaling_xz_1_loss -23.5353 -23.5786 index_layer_6_loss 764.4974 765.1951 \n",
      "Epoch 442/1000 loss 765.7101 inf scaling_xz_1_loss -23.5781 -23.6214 index_layer_6_loss 765.7337 inf \n",
      "Epoch 443/1000 loss 760.8514 772.1382 scaling_xz_1_loss -23.6213 -23.6566 index_layer_6_loss 760.8751 772.1619 \n",
      "Epoch 444/1000 loss 763.1382 769.0467 scaling_xz_1_loss -23.6567 -23.7000 index_layer_6_loss 763.1619 769.0704 \n",
      "Epoch 445/1000 loss 764.9789 761.4268 scaling_xz_1_loss -23.7006 -23.7503 index_layer_6_loss 765.0026 761.4506 \n",
      "Epoch 446/1000 loss 766.2366 766.2420 scaling_xz_1_loss -23.7500 -23.7952 index_layer_6_loss 766.2604 766.2658 \n",
      "Epoch 447/1000 loss 768.1768 767.3796 scaling_xz_1_loss -23.7957 -23.8441 index_layer_6_loss 768.2006 767.4035 \n",
      "Epoch 448/1000 loss 765.3486 755.5073 scaling_xz_1_loss -23.8441 -23.8856 index_layer_6_loss 765.3725 755.5312 \n",
      "Epoch 449/1000 loss 757.5067 765.8986 scaling_xz_1_loss -23.8855 -23.9292 index_layer_6_loss 757.5306 765.9225 \n",
      "Epoch 450/1000 loss 761.7105 762.5566 scaling_xz_1_loss -23.9291 -23.9761 index_layer_6_loss 761.7344 762.5806 \n",
      "Epoch 451/1000 loss 762.4733 760.1266 scaling_xz_1_loss -23.9760 -24.0169 index_layer_6_loss 762.4973 760.1506 \n",
      "Epoch 452/1000 loss 766.1769 769.1536 scaling_xz_1_loss -24.0169 -24.0611 index_layer_6_loss 766.2009 769.1776 \n",
      "Epoch 453/1000 loss 768.9609 768.0098 scaling_xz_1_loss -24.0614 -24.1087 index_layer_6_loss 768.9849 768.0339 \n",
      "Epoch 454/1000 loss 761.0905 760.4681 scaling_xz_1_loss -24.1086 -24.1505 index_layer_6_loss 761.1146 760.4922 \n",
      "Epoch 455/1000 loss 761.2720 765.1140 scaling_xz_1_loss -24.1505 -24.1974 index_layer_6_loss 761.2962 765.1381 \n",
      "Epoch 456/1000 loss 765.1082 759.9524 scaling_xz_1_loss -24.1976 -24.2405 index_layer_6_loss 765.1323 759.9766 \n",
      "Epoch 457/1000 loss 766.3117 755.8976 scaling_xz_1_loss -24.2407 -24.2859 index_layer_6_loss 766.3359 755.9219 \n",
      "Epoch 458/1000 loss 764.7783 768.1190 scaling_xz_1_loss -24.2859 -24.3310 index_layer_6_loss 764.8026 768.1434 \n",
      "Epoch 459/1000 loss 766.2360 766.4679 scaling_xz_1_loss -24.3309 -24.3747 index_layer_6_loss 766.2603 766.4922 \n",
      "Epoch 460/1000 loss 763.5223 768.2979 scaling_xz_1_loss -24.3743 -24.4188 index_layer_6_loss 763.5467 768.3223 \n",
      "Epoch 461/1000 loss 761.7254 771.3895 scaling_xz_1_loss -24.4188 -24.4617 index_layer_6_loss 761.7498 771.4140 \n",
      "Epoch 462/1000 loss 761.1870 760.8796 scaling_xz_1_loss -24.4620 -24.5078 index_layer_6_loss 761.2115 760.9042 \n",
      "Epoch 463/1000 loss 767.6557 759.5828 scaling_xz_1_loss -24.5076 -24.5516 index_layer_6_loss 767.6802 759.6073 \n",
      "Epoch 464/1000 loss 760.2795 767.7957 scaling_xz_1_loss -24.5517 -24.5947 index_layer_6_loss 760.3041 767.8203 \n",
      "Epoch 465/1000 loss 756.6759 757.2099 scaling_xz_1_loss -24.5946 -24.6375 index_layer_6_loss 756.7005 757.2346 \n",
      "Epoch 466/1000 loss 761.5776 758.6857 scaling_xz_1_loss -24.6372 -24.6835 index_layer_6_loss 761.6022 758.7104 \n",
      "Epoch 467/1000 loss 754.1498 758.9466 scaling_xz_1_loss -24.6837 -24.7284 index_layer_6_loss 754.1745 758.9713 \n",
      "Epoch 468/1000 loss 766.4778 764.6058 scaling_xz_1_loss -24.7283 -24.7757 index_layer_6_loss 766.5025 764.6306 \n",
      "Epoch 469/1000 loss 761.1315 760.2101 scaling_xz_1_loss -24.7756 -24.8171 index_layer_6_loss 761.1563 760.2349 \n",
      "Epoch 470/1000 loss 762.4672 764.8665 scaling_xz_1_loss -24.8173 -24.8602 index_layer_6_loss 762.4921 764.8913 \n",
      "Epoch 471/1000 loss 766.7169 764.8522 scaling_xz_1_loss -24.8596 -24.9073 index_layer_6_loss 766.7417 764.8771 \n",
      "Epoch 472/1000 loss 765.1135 762.0114 scaling_xz_1_loss -24.9069 -24.9488 index_layer_6_loss 765.1384 762.0364 \n",
      "Epoch 473/1000 loss 760.7406 758.1255 scaling_xz_1_loss -24.9490 -24.9911 index_layer_6_loss 760.7656 758.1505 \n",
      "Epoch 474/1000 loss 770.8839 763.5446 scaling_xz_1_loss -24.9909 -25.0410 index_layer_6_loss 770.9089 763.5696 \n",
      "Epoch 475/1000 loss 756.5714 760.3505 scaling_xz_1_loss -25.0410 -25.0802 index_layer_6_loss 756.5964 760.3755 \n",
      "Epoch 476/1000 loss 768.0055 763.3945 scaling_xz_1_loss -25.0804 -25.1296 index_layer_6_loss 768.0306 763.4197 \n",
      "Epoch 477/1000 loss 761.0587 752.4493 scaling_xz_1_loss -25.1301 -25.1740 index_layer_6_loss 761.0839 752.4745 \n",
      "Epoch 478/1000 loss 765.6232 759.7847 scaling_xz_1_loss -25.1740 -25.2191 index_layer_6_loss 765.6484 759.8099 \n",
      "Epoch 479/1000 loss 768.1644 763.4832 scaling_xz_1_loss -25.2188 -25.2672 index_layer_6_loss 768.1896 763.5084 \n",
      "Epoch 480/1000 loss 750.1929 759.3889 scaling_xz_1_loss -25.2669 -25.3093 index_layer_6_loss 750.2181 759.4142 \n",
      "Epoch 481/1000 loss 762.2952 760.7014 scaling_xz_1_loss -25.3098 -25.3566 index_layer_6_loss 762.3205 760.7267 \n",
      "Epoch 482/1000 loss 759.8085 746.9510 scaling_xz_1_loss -25.3568 -25.3995 index_layer_6_loss 759.8338 746.9764 \n",
      "Epoch 483/1000 loss 755.2611 758.2346 scaling_xz_1_loss -25.3995 -25.4456 index_layer_6_loss 755.2865 758.2600 \n",
      "Epoch 484/1000 loss 756.2609 755.5423 scaling_xz_1_loss -25.4456 -25.4907 index_layer_6_loss 756.2864 755.5678 \n",
      "Epoch 485/1000 loss 750.4274 745.0739 scaling_xz_1_loss -25.4906 -25.5343 index_layer_6_loss 750.4529 745.0994 \n",
      "Epoch 486/1000 loss 762.4016 767.2317 scaling_xz_1_loss -25.5342 -25.5791 index_layer_6_loss 762.4271 767.2573 \n",
      "Epoch 487/1000 loss 751.6906 755.2347 scaling_xz_1_loss -25.5787 -25.6235 index_layer_6_loss 751.7162 755.2604 \n",
      "Epoch 488/1000 loss 757.5207 756.7498 scaling_xz_1_loss -25.6234 -25.6682 index_layer_6_loss 757.5463 756.7755 \n",
      "Epoch 489/1000 loss 753.0839 758.1853 scaling_xz_1_loss -25.6683 -25.7120 index_layer_6_loss 753.1096 758.2110 \n",
      "Epoch 490/1000 loss 753.8025 753.0991 scaling_xz_1_loss -25.7119 -25.7575 index_layer_6_loss 753.8282 753.1248 \n",
      "Epoch 491/1000 loss 762.6075 757.2626 scaling_xz_1_loss -25.7576 -25.8007 index_layer_6_loss 762.6333 757.2885 \n",
      "Epoch 492/1000 loss 752.4560 756.3517 scaling_xz_1_loss -25.8007 -25.8421 index_layer_6_loss 752.4818 756.3776 \n",
      "Epoch 493/1000 loss 758.4091 760.3028 scaling_xz_1_loss -25.8420 -25.8766 index_layer_6_loss 758.4349 760.3287 \n",
      "Epoch 494/1000 loss 765.6904 755.7469 scaling_xz_1_loss -25.8764 -25.9125 index_layer_6_loss 765.7162 755.7729 \n",
      "Epoch 495/1000 loss 762.2183 751.3876 scaling_xz_1_loss -25.9122 -25.9580 index_layer_6_loss 762.2443 751.4135 \n",
      "Epoch 496/1000 loss 754.0110 755.6901 scaling_xz_1_loss -25.9578 -26.0080 index_layer_6_loss 754.0369 755.7161 \n",
      "Epoch 497/1000 loss 758.4563 752.0152 scaling_xz_1_loss -26.0082 -26.0488 index_layer_6_loss 758.4823 752.0413 \n",
      "Epoch 498/1000 loss 748.1198 755.7551 scaling_xz_1_loss -26.0490 -26.0912 index_layer_6_loss 748.1459 755.7812 \n",
      "Epoch 499/1000 loss 751.6074 751.4713 scaling_xz_1_loss -26.0913 -26.1432 index_layer_6_loss 751.6335 751.4974 \n",
      "Epoch 500/1000 loss 748.5806 749.8958 scaling_xz_1_loss -26.1428 -26.1857 index_layer_6_loss 748.6067 749.9220 \n",
      "Epoch 501/1000 loss 749.5696 754.4836 scaling_xz_1_loss -26.1858 -26.2278 index_layer_6_loss 749.5958 754.5099 \n",
      "Epoch 502/1000 loss 752.1996 748.7368 scaling_xz_1_loss -26.2280 -26.2755 index_layer_6_loss 752.2259 748.7631 \n",
      "Epoch 503/1000 loss 759.4843 749.6091 scaling_xz_1_loss -26.2755 -26.3208 index_layer_6_loss 759.5105 749.6354 \n",
      "Epoch 504/1000 loss 753.1170 761.7576 scaling_xz_1_loss -26.3199 -26.3675 index_layer_6_loss 753.1433 761.7839 \n",
      "Epoch 505/1000 loss 755.2263 753.4449 scaling_xz_1_loss -26.3671 -26.4112 index_layer_6_loss 755.2527 753.4713 \n",
      "Epoch 506/1000 loss 757.6011 757.8506 scaling_xz_1_loss -26.4116 -26.4568 index_layer_6_loss 757.6275 757.8771 \n",
      "Epoch 507/1000 loss 752.1480 753.0749 scaling_xz_1_loss -26.4567 -26.5026 index_layer_6_loss 752.1744 753.1014 \n",
      "Epoch 508/1000 loss 761.2725 756.2333 scaling_xz_1_loss -26.5026 -26.5475 index_layer_6_loss 761.2990 756.2599 \n",
      "Epoch 509/1000 loss 758.8882 754.2702 scaling_xz_1_loss -26.5477 -26.5923 index_layer_6_loss 758.9147 754.2968 \n",
      "Epoch 510/1000 loss 755.5729 755.7604 scaling_xz_1_loss -26.5925 -26.6381 index_layer_6_loss 755.5995 755.7870 \n",
      "Epoch 511/1000 loss 766.8868 750.9837 scaling_xz_1_loss -26.6383 -26.6839 index_layer_6_loss 766.9134 751.0104 \n",
      "Epoch 512/1000 loss 759.5071 749.9348 scaling_xz_1_loss -26.6841 -26.7278 index_layer_6_loss 759.5338 749.9615 \n",
      "Epoch 513/1000 loss 753.6290 755.5044 scaling_xz_1_loss -26.7274 -26.7761 index_layer_6_loss 753.6557 755.5312 \n",
      "Epoch 514/1000 loss 753.0976 751.4191 scaling_xz_1_loss -26.7762 -26.8193 index_layer_6_loss 753.1244 751.4459 \n",
      "Epoch 515/1000 loss 749.1742 756.3800 scaling_xz_1_loss -26.8191 -26.8657 index_layer_6_loss 749.2010 756.4069 \n",
      "Epoch 516/1000 loss 752.8665 747.5538 scaling_xz_1_loss -26.8659 -26.9107 index_layer_6_loss 752.8933 747.5807 \n",
      "Epoch 517/1000 loss 747.5960 754.8533 scaling_xz_1_loss -26.9108 -26.9550 index_layer_6_loss 747.6229 754.8802 \n",
      "Epoch 518/1000 loss 749.3006 763.5179 scaling_xz_1_loss -26.9549 -27.0011 index_layer_6_loss 749.3276 763.5449 \n",
      "Epoch 519/1000 loss 747.9757 753.2101 scaling_xz_1_loss -27.0011 -27.0452 index_layer_6_loss 748.0027 753.2371 \n",
      "Epoch 520/1000 loss 747.0433 749.5333 scaling_xz_1_loss -27.0452 -27.0902 index_layer_6_loss 747.0703 749.5604 \n",
      "Epoch 521/1000 loss 743.7958 751.9911 scaling_xz_1_loss -27.0899 -27.1347 index_layer_6_loss 743.8229 752.0183 \n",
      "Epoch 522/1000 loss 745.2618 742.5190 scaling_xz_1_loss -27.1350 -27.1791 index_layer_6_loss 745.2890 742.5462 \n",
      "Epoch 523/1000 loss 756.5431 744.4571 scaling_xz_1_loss -27.1792 -27.2233 index_layer_6_loss 756.5703 744.4843 \n",
      "Epoch 524/1000 loss 744.5800 749.6283 scaling_xz_1_loss -27.2235 -27.2679 index_layer_6_loss 744.6072 749.6556 \n",
      "Epoch 525/1000 loss 747.9108 746.7254 scaling_xz_1_loss -27.2679 -27.3119 index_layer_6_loss 747.9380 746.7527 \n",
      "Epoch 526/1000 loss 755.4154 746.9206 scaling_xz_1_loss -27.3120 -27.3562 index_layer_6_loss 755.4427 746.9479 \n",
      "Epoch 527/1000 loss 744.6291 744.4542 scaling_xz_1_loss -27.3563 -27.3994 index_layer_6_loss 744.6564 744.4816 \n",
      "Epoch 528/1000 loss 749.7043 756.3087 scaling_xz_1_loss -27.3994 -27.4415 index_layer_6_loss 749.7317 756.3361 \n",
      "Epoch 529/1000 loss 748.2091 746.9591 scaling_xz_1_loss -27.4411 -27.4816 index_layer_6_loss 748.2366 746.9866 \n",
      "Epoch 530/1000 loss 746.5997 742.1202 scaling_xz_1_loss -27.4814 -27.5156 index_layer_6_loss 746.6272 742.1478 \n",
      "Epoch 531/1000 loss 743.3702 741.9419 scaling_xz_1_loss -27.5158 -27.5542 index_layer_6_loss 743.3978 741.9694 \n",
      "Epoch 532/1000 loss 753.0292 751.3168 scaling_xz_1_loss -27.5540 -27.6094 index_layer_6_loss 753.0568 751.3444 \n",
      "Epoch 533/1000 loss 744.8423 746.6620 scaling_xz_1_loss -27.6098 -27.6605 index_layer_6_loss 744.8699 746.6896 \n",
      "Epoch 534/1000 loss 744.4467 749.8159 scaling_xz_1_loss -27.6605 -27.6909 index_layer_6_loss 744.4743 749.8436 \n",
      "Epoch 535/1000 loss 751.3838 743.0759 scaling_xz_1_loss -27.6911 -27.7469 index_layer_6_loss 751.4115 743.1037 \n",
      "Epoch 536/1000 loss 746.5264 744.9253 scaling_xz_1_loss -27.7471 -27.7853 index_layer_6_loss 746.5541 744.9531 \n",
      "Epoch 537/1000 loss 748.5247 744.7932 scaling_xz_1_loss -27.7856 -27.8305 index_layer_6_loss 748.5525 744.8210 \n",
      "Epoch 538/1000 loss 754.1384 752.2950 scaling_xz_1_loss -27.8302 -27.8763 index_layer_6_loss 754.1662 752.3229 \n",
      "Epoch 539/1000 loss 751.4616 744.1810 scaling_xz_1_loss -27.8764 -27.9207 index_layer_6_loss 751.4895 744.2089 \n",
      "Epoch 540/1000 loss 744.1102 743.1360 scaling_xz_1_loss -27.9206 -27.9641 index_layer_6_loss 744.1381 743.1640 \n",
      "Epoch 541/1000 loss 743.3939 743.2227 scaling_xz_1_loss -27.9636 -28.0124 index_layer_6_loss 743.4218 743.2507 \n",
      "Epoch 542/1000 loss 742.8860 744.7975 scaling_xz_1_loss -28.0121 -28.0532 index_layer_6_loss 742.9140 744.8256 \n",
      "Epoch 543/1000 loss 743.7980 747.7134 scaling_xz_1_loss -28.0532 -28.1015 index_layer_6_loss 743.8260 747.7415 \n",
      "Epoch 544/1000 loss 750.9037 747.1494 scaling_xz_1_loss -28.1014 -28.1373 index_layer_6_loss 750.9318 747.1775 \n",
      "Epoch 545/1000 loss 749.2505 750.0243 scaling_xz_1_loss -28.1374 -28.1910 index_layer_6_loss 749.2787 750.0525 \n",
      "Epoch 546/1000 loss 750.1517 750.7693 scaling_xz_1_loss -28.1909 -28.2315 index_layer_6_loss 750.1799 750.7975 \n",
      "Epoch 547/1000 loss 738.8207 745.0130 scaling_xz_1_loss -28.2310 -28.2753 index_layer_6_loss 738.8489 745.0413 \n",
      "Epoch 548/1000 loss 748.8571 748.1799 scaling_xz_1_loss -28.2755 -28.3204 index_layer_6_loss 748.8854 748.2083 \n",
      "Epoch 549/1000 loss 745.9617 747.2920 scaling_xz_1_loss -28.3202 -28.3680 index_layer_6_loss 745.9900 747.3204 \n",
      "Epoch 550/1000 loss 744.6741 749.2060 scaling_xz_1_loss -28.3675 -28.4107 index_layer_6_loss 744.7025 749.2344 \n",
      "Epoch 551/1000 loss 746.3850 742.0757 scaling_xz_1_loss -28.4109 -28.4545 index_layer_6_loss 746.4134 742.1041 \n",
      "Epoch 552/1000 loss 747.7053 740.8912 scaling_xz_1_loss -28.4542 -28.4971 index_layer_6_loss 747.7337 740.9197 \n",
      "Epoch 553/1000 loss 744.2444 745.1772 scaling_xz_1_loss -28.4971 -28.5432 index_layer_6_loss 744.2729 745.2057 \n",
      "Epoch 554/1000 loss 744.3989 742.2678 scaling_xz_1_loss -28.5433 -28.5910 index_layer_6_loss 744.4275 742.2963 \n",
      "Epoch 555/1000 loss 736.4297 748.2214 scaling_xz_1_loss -28.5909 -28.6316 index_layer_6_loss 736.4583 748.2501 \n",
      "Epoch 556/1000 loss 737.3726 738.3171 scaling_xz_1_loss -28.6315 -28.6742 index_layer_6_loss 737.4012 738.3458 \n",
      "Epoch 557/1000 loss 744.9557 745.8931 scaling_xz_1_loss -28.6743 -28.7203 index_layer_6_loss 744.9844 745.9218 \n",
      "Epoch 558/1000 loss 745.4577 747.1956 scaling_xz_1_loss -28.7204 -28.7679 index_layer_6_loss 745.4865 747.2244 \n",
      "Epoch 559/1000 loss 731.8539 742.8311 scaling_xz_1_loss -28.7676 -28.8087 index_layer_6_loss 731.8826 742.8599 \n",
      "Epoch 560/1000 loss 743.7604 738.7316 scaling_xz_1_loss -28.8087 -28.8558 index_layer_6_loss 743.7892 738.7605 \n",
      "Epoch 561/1000 loss 744.3857 740.9709 scaling_xz_1_loss -28.8560 -28.8988 index_layer_6_loss 744.4146 740.9998 \n",
      "Epoch 562/1000 loss 738.8199 742.3461 scaling_xz_1_loss -28.8986 -28.9436 index_layer_6_loss 738.8488 742.3751 \n",
      "Epoch 563/1000 loss 744.3326 741.0173 scaling_xz_1_loss -28.9437 -28.9882 index_layer_6_loss 744.3616 741.0463 \n",
      "Epoch 564/1000 loss 739.4418 745.1954 scaling_xz_1_loss -28.9882 -29.0316 index_layer_6_loss 739.4708 745.2245 \n",
      "Epoch 565/1000 loss 743.5256 738.7574 scaling_xz_1_loss -29.0314 -29.0767 index_layer_6_loss 743.5546 738.7865 \n",
      "Epoch 566/1000 loss 741.8609 736.9708 scaling_xz_1_loss -29.0767 -29.1215 index_layer_6_loss 741.8900 736.9999 \n",
      "Epoch 567/1000 loss 743.5803 741.3151 scaling_xz_1_loss -29.1214 -29.1639 index_layer_6_loss 743.6094 741.3443 \n",
      "Epoch 568/1000 loss 738.8954 735.6733 scaling_xz_1_loss -29.1642 -29.2101 index_layer_6_loss 738.9246 735.7026 \n",
      "Epoch 569/1000 loss 748.9062 734.8046 scaling_xz_1_loss -29.2100 -29.2538 index_layer_6_loss 748.9354 734.8338 \n",
      "Epoch 570/1000 loss 738.0183 732.9787 scaling_xz_1_loss -29.2535 -29.2978 index_layer_6_loss 738.0475 733.0080 \n",
      "Epoch 571/1000 loss 737.8196 742.3015 scaling_xz_1_loss -29.2976 -29.3412 index_layer_6_loss 737.8489 742.3308 \n",
      "Epoch 572/1000 loss 741.9295 734.5177 scaling_xz_1_loss -29.3412 -29.3845 index_layer_6_loss 741.9589 734.5471 \n",
      "Epoch 573/1000 loss 738.6711 741.8770 scaling_xz_1_loss -29.3845 -29.4269 index_layer_6_loss 738.7005 741.9064 \n",
      "Epoch 574/1000 loss 738.8380 733.1368 scaling_xz_1_loss -29.4268 -29.4698 index_layer_6_loss 738.8674 733.1663 \n",
      "Epoch 575/1000 loss 743.4082 740.9312 scaling_xz_1_loss -29.4699 -29.5151 index_layer_6_loss 743.4377 740.9608 \n",
      "Epoch 576/1000 loss 737.1054 740.9887 scaling_xz_1_loss -29.5150 -29.5614 index_layer_6_loss 737.1349 741.0182 \n",
      "Epoch 577/1000 loss 744.1507 740.7523 scaling_xz_1_loss -29.5615 -29.6060 index_layer_6_loss 744.1802 740.7819 \n",
      "Epoch 578/1000 loss 738.1735 743.8061 scaling_xz_1_loss -29.6058 -29.6482 index_layer_6_loss 738.2031 743.8358 \n",
      "Epoch 579/1000 loss 739.5876 738.2649 scaling_xz_1_loss -29.6483 -29.6940 index_layer_6_loss 739.6172 738.2946 \n",
      "Epoch 580/1000 loss 736.4729 736.1052 scaling_xz_1_loss -29.6939 -29.7389 index_layer_6_loss 736.5026 736.1349 \n",
      "Epoch 581/1000 loss 738.0305 734.8140 scaling_xz_1_loss -29.7390 -29.7809 index_layer_6_loss 738.0602 734.8438 \n",
      "Epoch 582/1000 loss 739.3583 734.7747 scaling_xz_1_loss -29.7810 -29.8258 index_layer_6_loss 739.3881 734.8045 \n",
      "Epoch 583/1000 loss 733.9445 739.2516 scaling_xz_1_loss -29.8259 -29.8705 index_layer_6_loss 733.9743 739.2814 \n",
      "Epoch 584/1000 loss 741.9988 732.8005 scaling_xz_1_loss -29.8707 -29.9139 index_layer_6_loss 742.0287 732.8304 \n",
      "Epoch 585/1000 loss 735.6492 740.6184 scaling_xz_1_loss -29.9142 -29.9584 index_layer_6_loss 735.6791 740.6484 \n",
      "Epoch 586/1000 loss 738.2720 735.1882 scaling_xz_1_loss -29.9583 -30.0026 index_layer_6_loss 738.3020 735.2182 \n",
      "Epoch 587/1000 loss 739.9415 739.4440 scaling_xz_1_loss -30.0027 -30.0471 index_layer_6_loss 739.9715 739.4740 \n",
      "Epoch 588/1000 loss 741.2272 742.4991 scaling_xz_1_loss -30.0472 -30.0903 index_layer_6_loss 741.2573 742.5292 \n",
      "Epoch 589/1000 loss 733.3031 734.3207 scaling_xz_1_loss -30.0905 -30.1352 index_layer_6_loss 733.3332 734.3509 \n",
      "Epoch 590/1000 loss 730.0018 740.0140 scaling_xz_1_loss -30.1353 -30.1758 index_layer_6_loss 730.0319 740.0441 \n",
      "Epoch 591/1000 loss 738.8056 735.1125 scaling_xz_1_loss -30.1758 -30.2180 index_layer_6_loss 738.8358 735.1428 \n",
      "Epoch 592/1000 loss 735.8500 739.7531 scaling_xz_1_loss -30.2179 -30.2530 index_layer_6_loss 735.8802 739.7833 \n",
      "Epoch 593/1000 loss 738.7668 743.0168 scaling_xz_1_loss -30.2527 -30.3024 index_layer_6_loss 738.7971 743.0471 \n",
      "Epoch 594/1000 loss 735.1707 736.9200 scaling_xz_1_loss -30.3027 -30.3462 index_layer_6_loss 735.2010 736.9504 \n",
      "Epoch 595/1000 loss 735.3524 733.1722 scaling_xz_1_loss -30.3464 -30.3848 index_layer_6_loss 735.3828 733.2026 \n",
      "Epoch 596/1000 loss 731.0582 734.9489 scaling_xz_1_loss -30.3853 -30.4307 index_layer_6_loss 731.0886 734.9793 \n",
      "Epoch 597/1000 loss 734.5710 738.1358 scaling_xz_1_loss -30.4306 -30.4788 index_layer_6_loss 734.6015 738.1663 \n",
      "Epoch 598/1000 loss 735.5269 735.6337 scaling_xz_1_loss -30.4786 -30.5223 index_layer_6_loss 735.5573 735.6642 \n",
      "Epoch 599/1000 loss 741.4252 736.4985 scaling_xz_1_loss -30.5223 -30.5653 index_layer_6_loss 741.4557 736.5291 \n",
      "Epoch 600/1000 loss 732.6049 737.5449 scaling_xz_1_loss -30.5656 -30.6135 index_layer_6_loss 732.6354 737.5756 \n",
      "Epoch 601/1000 loss 737.4062 735.9850 scaling_xz_1_loss -30.6132 -30.6522 index_layer_6_loss 737.4368 736.0157 \n",
      "Epoch 602/1000 loss 729.0605 733.8755 scaling_xz_1_loss -30.6526 -30.6996 index_layer_6_loss 729.0911 733.9062 \n",
      "Epoch 603/1000 loss 732.5164 733.4620 scaling_xz_1_loss -30.7002 -30.7447 index_layer_6_loss 732.5471 733.4927 \n",
      "Epoch 604/1000 loss 735.2432 735.3449 scaling_xz_1_loss -30.7451 -30.7891 index_layer_6_loss 735.2740 735.3757 \n",
      "Epoch 605/1000 loss 734.6126 728.1647 scaling_xz_1_loss -30.7888 -30.8331 index_layer_6_loss 734.6434 728.1955 \n",
      "Epoch 606/1000 loss 733.7008 731.7424 scaling_xz_1_loss -30.8330 -30.8754 index_layer_6_loss 733.7316 731.7733 \n",
      "Epoch 607/1000 loss 728.2369 737.3604 scaling_xz_1_loss -30.8753 -30.9187 index_layer_6_loss 728.2678 737.3913 \n",
      "Epoch 608/1000 loss 736.2736 731.2477 scaling_xz_1_loss -30.9187 -30.9668 index_layer_6_loss 736.3045 731.2786 \n",
      "Epoch 609/1000 loss 725.5913 723.3986 scaling_xz_1_loss -30.9667 -31.0079 index_layer_6_loss 725.6223 723.4296 \n",
      "Epoch 610/1000 loss 737.3286 738.1722 scaling_xz_1_loss -31.0077 -31.0505 index_layer_6_loss 737.3596 738.2033 \n",
      "Epoch 611/1000 loss 729.7139 739.4149 scaling_xz_1_loss -31.0505 -31.0907 index_layer_6_loss 729.7449 739.4460 \n",
      "Epoch 612/1000 loss 732.2167 729.1458 scaling_xz_1_loss -31.0911 -31.1352 index_layer_6_loss 732.2477 729.1769 \n",
      "Epoch 613/1000 loss 736.4559 730.4324 scaling_xz_1_loss -31.1349 -31.1763 index_layer_6_loss 736.4870 730.4636 \n",
      "Epoch 614/1000 loss 732.8182 735.3416 scaling_xz_1_loss -31.1769 -31.2276 index_layer_6_loss 732.8494 735.3729 \n",
      "Epoch 615/1000 loss 727.5497 741.1614 scaling_xz_1_loss -31.2272 -31.2700 index_layer_6_loss 727.5809 741.1926 \n",
      "Epoch 616/1000 loss 724.4688 722.4453 scaling_xz_1_loss -31.2698 -31.3088 index_layer_6_loss 724.5001 722.4766 \n",
      "Epoch 617/1000 loss 725.1740 724.2889 scaling_xz_1_loss -31.3083 -31.3567 index_layer_6_loss 725.2053 724.3203 \n",
      "Epoch 618/1000 loss 735.2790 736.2990 scaling_xz_1_loss -31.3568 -31.3990 index_layer_6_loss 735.3104 736.3304 \n",
      "Epoch 619/1000 loss 734.6013 730.5004 scaling_xz_1_loss -31.3982 -31.4373 index_layer_6_loss 734.6326 730.5318 \n",
      "Epoch 620/1000 loss 726.5234 741.2027 scaling_xz_1_loss -31.4369 -31.4851 index_layer_6_loss 726.5549 741.2342 \n",
      "Epoch 621/1000 loss 736.3222 737.7290 scaling_xz_1_loss -31.4852 -31.5300 index_layer_6_loss 736.3537 737.7606 \n",
      "Epoch 622/1000 loss 731.1587 724.1089 scaling_xz_1_loss -31.5299 -31.5787 index_layer_6_loss 731.1902 724.1404 \n",
      "Epoch 623/1000 loss 724.5360 727.4377 scaling_xz_1_loss -31.5786 -31.6183 index_layer_6_loss 724.5676 727.4693 \n",
      "Epoch 624/1000 loss 727.3830 732.4001 scaling_xz_1_loss -31.6185 -31.6679 index_layer_6_loss 727.4146 732.4318 \n",
      "Epoch 625/1000 loss 731.1715 720.9598 scaling_xz_1_loss -31.6677 -31.7077 index_layer_6_loss 731.2032 720.9915 \n",
      "Epoch 626/1000 loss 726.2496 725.6765 scaling_xz_1_loss -31.7077 -31.7570 index_layer_6_loss 726.2812 725.7082 \n",
      "Epoch 627/1000 loss 731.4627 726.4343 scaling_xz_1_loss -31.7566 -31.7974 index_layer_6_loss 731.4944 726.4661 \n",
      "Epoch 628/1000 loss 731.6321 729.7701 scaling_xz_1_loss -31.7977 -31.8455 index_layer_6_loss 731.6639 729.8019 \n",
      "Epoch 629/1000 loss 733.4079 721.6740 scaling_xz_1_loss -31.8458 -31.8866 index_layer_6_loss 733.4398 721.7058 \n",
      "Epoch 630/1000 loss 725.3347 729.2593 scaling_xz_1_loss -31.8868 -31.9296 index_layer_6_loss 725.3665 729.2912 \n",
      "Epoch 631/1000 loss 732.3951 729.8189 scaling_xz_1_loss -31.9295 -31.9704 index_layer_6_loss 732.4271 729.8509 \n",
      "Epoch 632/1000 loss 724.8615 727.6243 scaling_xz_1_loss -31.9700 -32.0172 index_layer_6_loss 724.8935 727.6563 \n",
      "Epoch 633/1000 loss 725.6079 733.4390 scaling_xz_1_loss -32.0172 -32.0660 index_layer_6_loss 725.6400 733.4710 \n",
      "Epoch 634/1000 loss 729.8193 728.6141 scaling_xz_1_loss -32.0657 -32.1077 index_layer_6_loss 729.8514 728.6462 \n",
      "Epoch 635/1000 loss 717.6240 724.1403 scaling_xz_1_loss -32.1078 -32.1510 index_layer_6_loss 717.6561 724.1724 \n",
      "Epoch 636/1000 loss 728.7748 736.7233 scaling_xz_1_loss -32.1513 -32.1969 index_layer_6_loss 728.8069 736.7556 \n",
      "Epoch 637/1000 loss 725.9371 729.5536 scaling_xz_1_loss -32.1967 -32.2393 index_layer_6_loss 725.9693 729.5859 \n",
      "Epoch 638/1000 loss 728.0386 732.1949 scaling_xz_1_loss -32.2392 -32.2839 index_layer_6_loss 728.0709 732.2272 \n",
      "Epoch 639/1000 loss 721.9939 730.6784 scaling_xz_1_loss -32.2834 -32.3283 index_layer_6_loss 722.0262 730.7108 \n",
      "Epoch 640/1000 loss 723.1785 725.8170 scaling_xz_1_loss -32.3282 -32.3729 index_layer_6_loss 723.2109 725.8494 \n",
      "Epoch 641/1000 loss 726.7283 729.2667 scaling_xz_1_loss -32.3732 -32.4181 index_layer_6_loss 726.7606 729.2991 \n",
      "Epoch 642/1000 loss 730.8014 727.0456 scaling_xz_1_loss -32.4180 -32.4590 index_layer_6_loss 730.8338 727.0781 \n",
      "Epoch 643/1000 loss 737.7092 722.5770 scaling_xz_1_loss -32.4586 -32.5044 index_layer_6_loss 737.7416 722.6096 \n",
      "Epoch 644/1000 loss 726.1343 728.2175 scaling_xz_1_loss -32.5047 -32.5493 index_layer_6_loss 726.1669 728.2501 \n",
      "Epoch 645/1000 loss 722.4286 730.5453 scaling_xz_1_loss -32.5494 -32.5941 index_layer_6_loss 722.4611 730.5779 \n",
      "Epoch 646/1000 loss 727.9305 726.4285 scaling_xz_1_loss -32.5946 -32.6394 index_layer_6_loss 727.9631 726.4611 \n",
      "Epoch 647/1000 loss 724.4127 729.0248 scaling_xz_1_loss -32.6394 -32.6822 index_layer_6_loss 724.4454 729.0574 \n",
      "Epoch 648/1000 loss 723.6543 729.2697 scaling_xz_1_loss -32.6822 -32.7227 index_layer_6_loss 723.6870 729.3024 \n",
      "Epoch 649/1000 loss 726.2273 723.4053 scaling_xz_1_loss -32.7228 -32.7681 index_layer_6_loss 726.2600 723.4380 \n",
      "Epoch 650/1000 loss 731.8806 718.6100 scaling_xz_1_loss -32.7680 -32.8136 index_layer_6_loss 731.9134 718.6428 \n",
      "Epoch 651/1000 loss 729.7725 721.2399 scaling_xz_1_loss -32.8136 -32.8579 index_layer_6_loss 729.8054 721.2728 \n",
      "Epoch 652/1000 loss 725.6832 726.5694 scaling_xz_1_loss -32.8579 -32.8986 index_layer_6_loss 725.7161 726.6023 \n",
      "Epoch 653/1000 loss 719.1830 725.8682 scaling_xz_1_loss -32.8987 -32.9429 index_layer_6_loss 719.2159 725.9011 \n",
      "Epoch 654/1000 loss 721.5551 731.5844 scaling_xz_1_loss -32.9430 -32.9875 index_layer_6_loss 721.5881 731.6174 \n",
      "Epoch 655/1000 loss 730.6285 721.9877 scaling_xz_1_loss -32.9875 -33.0357 index_layer_6_loss 730.6614 722.0208 \n",
      "Epoch 656/1000 loss 728.5992 720.9909 scaling_xz_1_loss -33.0356 -33.0781 index_layer_6_loss 728.6323 721.0240 \n",
      "Epoch 657/1000 loss 730.2723 722.0657 scaling_xz_1_loss -33.0783 -33.1187 index_layer_6_loss 730.3054 722.0989 \n",
      "Epoch 658/1000 loss 725.0216 720.3865 scaling_xz_1_loss -33.1193 -33.1662 index_layer_6_loss 725.0547 720.4197 \n",
      "Epoch 659/1000 loss 724.3836 727.2720 scaling_xz_1_loss -33.1658 -33.2100 index_layer_6_loss 724.4167 727.3052 \n",
      "Epoch 660/1000 loss 725.6308 726.3183 scaling_xz_1_loss -33.2098 -33.2525 index_layer_6_loss 725.6640 726.3516 \n",
      "Epoch 661/1000 loss 721.6052 720.0894 scaling_xz_1_loss -33.2540 -33.2976 index_layer_6_loss 721.6385 720.1227 \n",
      "Epoch 662/1000 loss 716.4326 720.5911 scaling_xz_1_loss -33.2974 -33.3431 index_layer_6_loss 716.4659 720.6245 \n",
      "Epoch 663/1000 loss 720.4818 720.5134 scaling_xz_1_loss -33.3433 -33.3883 index_layer_6_loss 720.5151 720.5468 \n",
      "Epoch 664/1000 loss 721.5397 717.5033 scaling_xz_1_loss -33.3884 -33.4336 index_layer_6_loss 721.5731 717.5367 \n",
      "Epoch 665/1000 loss 722.1859 720.1407 scaling_xz_1_loss -33.4336 -33.4767 index_layer_6_loss 722.2193 720.1742 \n",
      "Epoch 666/1000 loss 723.0551 721.3650 scaling_xz_1_loss -33.4769 -33.5190 index_layer_6_loss 723.0886 721.3985 \n",
      "Epoch 667/1000 loss 726.7008 723.8806 scaling_xz_1_loss -33.5193 -33.5630 index_layer_6_loss 726.7343 723.9141 \n",
      "Epoch 668/1000 loss 726.2767 715.9842 scaling_xz_1_loss -33.5624 -33.6045 index_layer_6_loss 726.3102 716.0178 \n",
      "Epoch 669/1000 loss 726.0751 720.3577 scaling_xz_1_loss -33.6047 -33.6532 index_layer_6_loss 726.1087 720.3913 \n",
      "Epoch 670/1000 loss 722.2946 716.6171 scaling_xz_1_loss -33.6535 -33.6984 index_layer_6_loss 722.3282 716.6508 \n",
      "Epoch 671/1000 loss 714.1487 720.5984 scaling_xz_1_loss -33.6983 -33.7442 index_layer_6_loss 714.1824 720.6321 \n",
      "Epoch 672/1000 loss 717.7946 720.8336 scaling_xz_1_loss -33.7440 -33.7876 index_layer_6_loss 717.8283 720.8674 \n",
      "Epoch 673/1000 loss 713.8575 723.6771 scaling_xz_1_loss -33.7881 -33.8326 index_layer_6_loss 713.8913 723.7109 \n",
      "Epoch 674/1000 loss 716.2843 722.4747 scaling_xz_1_loss -33.8328 -33.8757 index_layer_6_loss 716.3181 722.5085 \n",
      "Epoch 675/1000 loss 724.4740 724.8041 scaling_xz_1_loss -33.8759 -33.9208 index_layer_6_loss 724.5079 724.8381 \n",
      "Epoch 676/1000 loss 720.6685 721.1591 scaling_xz_1_loss -33.9212 -33.9678 index_layer_6_loss 720.7025 721.1931 \n",
      "Epoch 677/1000 loss 718.5908 720.6691 scaling_xz_1_loss -33.9675 -34.0097 index_layer_6_loss 718.6248 720.7031 \n",
      "Epoch 678/1000 loss 714.4900 712.2861 scaling_xz_1_loss -34.0103 -34.0568 index_layer_6_loss 714.5240 712.3201 \n",
      "Epoch 679/1000 loss 719.0547 718.7599 scaling_xz_1_loss -34.0572 -34.0997 index_layer_6_loss 719.0887 718.7941 \n",
      "Epoch 680/1000 loss 723.4841 720.7230 scaling_xz_1_loss -34.0994 -34.1458 index_layer_6_loss 723.5182 720.7571 \n",
      "Epoch 681/1000 loss 723.6533 717.2855 scaling_xz_1_loss -34.1457 -34.1886 index_layer_6_loss 723.6874 717.3196 \n",
      "Epoch 682/1000 loss 719.0880 721.3019 scaling_xz_1_loss -34.1888 -34.2335 index_layer_6_loss 719.1222 721.3361 \n",
      "Epoch 683/1000 loss 709.4787 716.7086 scaling_xz_1_loss -34.2337 -34.2782 index_layer_6_loss 709.5129 716.7429 \n",
      "Epoch 684/1000 loss 718.9786 716.9523 scaling_xz_1_loss -34.2785 -34.3217 index_layer_6_loss 719.0129 716.9866 \n",
      "Epoch 685/1000 loss 716.5649 717.3742 scaling_xz_1_loss -34.3219 -34.3665 index_layer_6_loss 716.5992 717.4086 \n",
      "Epoch 686/1000 loss 715.0201 717.0665 scaling_xz_1_loss -34.3664 -34.4097 index_layer_6_loss 715.0545 717.1009 \n",
      "Epoch 687/1000 loss 718.7992 717.8170 scaling_xz_1_loss -34.4094 -34.4509 index_layer_6_loss 718.8336 717.8514 \n",
      "Epoch 688/1000 loss 721.4164 718.8251 scaling_xz_1_loss -34.4509 -34.4916 index_layer_6_loss 721.4508 718.8596 \n",
      "Epoch 689/1000 loss 718.1977 720.7914 scaling_xz_1_loss -34.4916 -34.5303 index_layer_6_loss 718.2322 720.8259 \n",
      "Epoch 690/1000 loss 722.2879 720.4888 scaling_xz_1_loss -34.5298 -34.5745 index_layer_6_loss 722.3224 720.5234 \n",
      "Epoch 691/1000 loss 718.3225 719.1379 scaling_xz_1_loss -34.5748 -34.6240 index_layer_6_loss 718.3571 719.1725 \n",
      "Epoch 692/1000 loss 721.9837 719.1052 scaling_xz_1_loss -34.6239 -34.6685 index_layer_6_loss 722.0183 719.1399 \n",
      "Epoch 693/1000 loss 713.5358 716.3849 scaling_xz_1_loss -34.6686 -34.7114 index_layer_6_loss 713.5705 716.4197 \n",
      "Epoch 694/1000 loss 714.7472 712.9425 scaling_xz_1_loss -34.7113 -34.7546 index_layer_6_loss 714.7819 712.9772 \n",
      "Epoch 695/1000 loss 714.1970 722.0929 scaling_xz_1_loss -34.7545 -34.8014 index_layer_6_loss 714.2317 722.1277 \n",
      "Epoch 696/1000 loss 717.3430 711.7408 scaling_xz_1_loss -34.8010 -34.8443 index_layer_6_loss 717.3778 711.7756 \n",
      "Epoch 697/1000 loss 716.3998 720.5536 scaling_xz_1_loss -34.8441 -34.8879 index_layer_6_loss 716.4347 720.5886 \n",
      "Epoch 698/1000 loss 710.8815 716.3218 scaling_xz_1_loss -34.8880 -34.9349 index_layer_6_loss 710.9164 716.3567 \n",
      "Epoch 699/1000 loss 709.9237 709.0327 scaling_xz_1_loss -34.9345 -34.9743 index_layer_6_loss 709.9586 709.0676 \n",
      "Epoch 700/1000 loss 713.2753 714.1922 scaling_xz_1_loss -34.9744 -35.0155 index_layer_6_loss 713.3103 714.2272 \n",
      "Epoch 701/1000 loss 718.0638 720.9366 scaling_xz_1_loss -35.0152 -35.0642 index_layer_6_loss 718.0989 720.9716 \n",
      "Epoch 702/1000 loss 714.6346 713.8688 scaling_xz_1_loss -35.0645 -35.1040 index_layer_6_loss 714.6697 713.9039 \n",
      "Epoch 703/1000 loss 713.7902 712.1445 scaling_xz_1_loss -35.1044 -35.1512 index_layer_6_loss 713.8253 712.1796 \n",
      "Epoch 704/1000 loss 715.9250 711.8633 scaling_xz_1_loss -35.1513 -35.1950 index_layer_6_loss 715.9602 711.8985 \n",
      "Epoch 705/1000 loss 714.7224 714.5116 scaling_xz_1_loss -35.1958 -35.2415 index_layer_6_loss 714.7576 714.5468 \n",
      "Epoch 706/1000 loss 711.2673 710.1622 scaling_xz_1_loss -35.2411 -35.2829 index_layer_6_loss 711.3025 710.1975 \n",
      "Epoch 707/1000 loss 709.0970 713.3686 scaling_xz_1_loss -35.2829 -35.3272 index_layer_6_loss 709.1323 713.4039 \n",
      "Epoch 708/1000 loss 715.3787 717.3032 scaling_xz_1_loss -35.3273 -35.3723 index_layer_6_loss 715.4140 717.3386 \n",
      "Epoch 709/1000 loss 713.3004 713.5713 scaling_xz_1_loss -35.3722 -35.4122 index_layer_6_loss 713.3358 713.6067 \n",
      "Epoch 710/1000 loss 715.0294 715.2827 scaling_xz_1_loss -35.4120 -35.4558 index_layer_6_loss 715.0648 715.3181 \n",
      "Epoch 711/1000 loss 714.9907 713.3394 scaling_xz_1_loss -35.4557 -35.4999 index_layer_6_loss 715.0261 713.3749 \n",
      "Epoch 712/1000 loss 710.1703 709.6626 scaling_xz_1_loss -35.5002 -35.5380 index_layer_6_loss 710.2059 709.6981 \n",
      "Epoch 713/1000 loss 711.7665 710.1308 scaling_xz_1_loss -35.5382 -35.5816 index_layer_6_loss 711.8020 710.1664 \n",
      "Epoch 714/1000 loss 710.6619 706.1284 scaling_xz_1_loss -35.5821 -35.6230 index_layer_6_loss 710.6975 706.1640 \n",
      "Epoch 715/1000 loss 713.4587 715.4872 scaling_xz_1_loss -35.6229 -35.6695 index_layer_6_loss 713.4944 715.5229 \n",
      "Epoch 716/1000 loss 713.7612 717.4176 scaling_xz_1_loss -35.6687 -35.7185 index_layer_6_loss 713.7969 717.4533 \n",
      "Epoch 717/1000 loss 709.9492 712.4324 scaling_xz_1_loss -35.7178 -35.7598 index_layer_6_loss 709.9849 712.4682 \n",
      "Epoch 718/1000 loss 712.0212 713.6198 scaling_xz_1_loss -35.7604 -35.8040 index_layer_6_loss 712.0570 713.6556 \n",
      "Epoch 719/1000 loss 709.4175 704.6128 scaling_xz_1_loss -35.8030 -35.8519 index_layer_6_loss 709.4533 704.6486 \n",
      "Epoch 720/1000 loss 712.8102 708.6587 scaling_xz_1_loss -35.8519 -35.8967 index_layer_6_loss 712.8461 708.6946 \n",
      "Epoch 721/1000 loss 711.4089 712.1096 scaling_xz_1_loss -35.8967 -35.9428 index_layer_6_loss 711.4448 712.1456 \n",
      "Epoch 722/1000 loss 709.4931 708.8022 scaling_xz_1_loss -35.9429 -35.9871 index_layer_6_loss 709.5291 708.8383 \n",
      "Epoch 723/1000 loss 711.7010 709.2794 scaling_xz_1_loss -35.9873 -36.0304 index_layer_6_loss 711.7371 709.3154 \n",
      "Epoch 724/1000 loss 712.3083 704.6257 scaling_xz_1_loss -36.0305 -36.0776 index_layer_6_loss 712.3444 704.6618 \n",
      "Epoch 725/1000 loss 714.5342 709.4823 scaling_xz_1_loss -36.0776 -36.1217 index_layer_6_loss 714.5703 709.5184 \n",
      "Epoch 726/1000 loss 714.0583 708.4849 scaling_xz_1_loss -36.1219 -36.1674 index_layer_6_loss 714.0945 708.5211 \n",
      "Epoch 727/1000 loss 707.6852 712.7997 scaling_xz_1_loss -36.1673 -36.2123 index_layer_6_loss 707.7214 712.8359 \n",
      "Epoch 728/1000 loss 707.4069 710.3677 scaling_xz_1_loss -36.2122 -36.2562 index_layer_6_loss 707.4431 710.4039 \n",
      "Epoch 729/1000 loss 712.4821 703.0494 scaling_xz_1_loss -36.2561 -36.3006 index_layer_6_loss 712.5183 703.0858 \n",
      "Epoch 730/1000 loss 715.7320 704.4766 scaling_xz_1_loss -36.3001 -36.3460 index_layer_6_loss 715.7683 704.5129 \n",
      "Epoch 731/1000 loss 710.1255 705.9629 scaling_xz_1_loss -36.3462 -36.3903 index_layer_6_loss 710.1619 705.9993 \n",
      "Epoch 732/1000 loss 702.5103 705.9877 scaling_xz_1_loss -36.3907 -36.4353 index_layer_6_loss 702.5467 706.0242 \n",
      "Epoch 733/1000 loss 709.9558 713.5154 scaling_xz_1_loss -36.4355 -36.4792 index_layer_6_loss 709.9922 713.5519 \n",
      "Epoch 734/1000 loss 709.5601 702.5992 scaling_xz_1_loss -36.4794 -36.5239 index_layer_6_loss 709.5966 702.6357 \n",
      "Epoch 735/1000 loss 698.4455 705.3875 scaling_xz_1_loss -36.5237 -36.5679 index_layer_6_loss 698.4820 705.4241 \n",
      "Epoch 736/1000 loss 715.9138 709.1329 scaling_xz_1_loss -36.5677 -36.6121 index_layer_6_loss 715.9503 709.1696 \n",
      "Epoch 737/1000 loss 697.3071 705.7729 scaling_xz_1_loss -36.6119 -36.6557 index_layer_6_loss 697.3437 705.8096 \n",
      "Epoch 738/1000 loss 705.0338 709.2368 scaling_xz_1_loss -36.6558 -36.6985 index_layer_6_loss 705.0705 709.2735 \n",
      "Epoch 739/1000 loss 704.0984 709.8717 scaling_xz_1_loss -36.6984 -36.7411 index_layer_6_loss 704.1351 709.9084 \n",
      "Epoch 740/1000 loss 704.3377 706.6196 scaling_xz_1_loss -36.7413 -36.7820 index_layer_6_loss 704.3745 706.6564 \n",
      "Epoch 741/1000 loss 704.3694 703.5931 scaling_xz_1_loss -36.7823 -36.8235 index_layer_6_loss 704.4062 703.6299 \n",
      "Epoch 742/1000 loss 706.1812 707.5931 scaling_xz_1_loss -36.8237 -36.8628 index_layer_6_loss 706.2180 707.6300 \n",
      "Epoch 743/1000 loss 704.7138 704.7258 scaling_xz_1_loss -36.8625 -36.9068 index_layer_6_loss 704.7507 704.7628 \n",
      "Epoch 744/1000 loss 701.7372 706.1980 scaling_xz_1_loss -36.9064 -36.9355 index_layer_6_loss 701.7742 706.2349 \n",
      "Epoch 745/1000 loss 703.4919 707.9289 scaling_xz_1_loss -36.9354 -36.9825 index_layer_6_loss 703.5289 707.9659 \n",
      "Epoch 746/1000 loss 706.2968 706.0256 scaling_xz_1_loss -36.9824 -37.0217 index_layer_6_loss 706.3337 706.0627 \n",
      "Epoch 747/1000 loss 705.5931 700.6873 scaling_xz_1_loss -37.0214 -37.0514 index_layer_6_loss 705.6301 700.7244 \n",
      "Epoch 748/1000 loss 704.3826 709.0126 scaling_xz_1_loss -37.0510 -37.1089 index_layer_6_loss 704.4197 709.0497 \n",
      "Epoch 749/1000 loss 702.1762 702.2283 scaling_xz_1_loss -37.1086 -37.1474 index_layer_6_loss 702.2133 702.2654 \n",
      "Epoch 750/1000 loss 704.8774 705.1949 scaling_xz_1_loss -37.1468 -37.1854 index_layer_6_loss 704.9146 705.2321 \n",
      "Epoch 751/1000 loss 702.5693 704.8322 scaling_xz_1_loss -37.1850 -37.2271 index_layer_6_loss 702.6065 704.8694 \n",
      "Epoch 752/1000 loss 698.8535 701.7859 scaling_xz_1_loss -37.2272 -37.2752 index_layer_6_loss 698.8907 701.8232 \n",
      "Epoch 753/1000 loss 702.0020 710.2828 scaling_xz_1_loss -37.2752 -37.3276 index_layer_6_loss 702.0392 710.3201 \n",
      "Epoch 754/1000 loss 702.3869 705.5718 scaling_xz_1_loss -37.3272 -37.3715 index_layer_6_loss 702.4243 705.6092 \n",
      "Epoch 755/1000 loss 708.6417 702.6992 scaling_xz_1_loss -37.3719 -37.4137 index_layer_6_loss 708.6791 702.7366 \n",
      "Epoch 756/1000 loss 703.1628 698.1577 scaling_xz_1_loss -37.4137 -37.4589 index_layer_6_loss 703.2003 698.1951 \n",
      "Epoch 757/1000 loss 698.0926 699.6344 scaling_xz_1_loss -37.4594 -37.5070 index_layer_6_loss 698.1301 699.6719 \n",
      "Epoch 758/1000 loss 698.7488 699.2179 scaling_xz_1_loss -37.5074 -37.5509 index_layer_6_loss 698.7863 699.2554 \n",
      "Epoch 759/1000 loss 701.2117 702.4788 scaling_xz_1_loss -37.5504 -37.5950 index_layer_6_loss 701.2493 702.5164 \n",
      "Epoch 760/1000 loss 706.2977 704.6348 scaling_xz_1_loss -37.5950 -37.6458 index_layer_6_loss 706.3353 704.6724 \n",
      "Epoch 761/1000 loss 699.7827 701.5381 scaling_xz_1_loss -37.6455 -37.6837 index_layer_6_loss 699.8204 701.5758 \n",
      "Epoch 762/1000 loss 693.6106 694.3771 scaling_xz_1_loss -37.6833 -37.7321 index_layer_6_loss 693.6483 694.4148 \n",
      "Epoch 763/1000 loss 700.0225 688.7385 scaling_xz_1_loss -37.7319 -37.7738 index_layer_6_loss 700.0602 688.7762 \n",
      "Epoch 764/1000 loss 696.6582 700.6212 scaling_xz_1_loss -37.7737 -37.8186 index_layer_6_loss 696.6960 700.6590 \n",
      "Epoch 765/1000 loss 699.2407 694.5354 scaling_xz_1_loss -37.8181 -37.8653 index_layer_6_loss 699.2785 694.5732 \n",
      "Epoch 766/1000 loss 697.6725 700.7126 scaling_xz_1_loss -37.8656 -37.9058 index_layer_6_loss 697.7104 700.7505 \n",
      "Epoch 767/1000 loss 695.9515 697.6021 scaling_xz_1_loss -37.9063 -37.9510 index_layer_6_loss 695.9894 697.6401 \n",
      "Epoch 768/1000 loss 699.2987 699.9961 scaling_xz_1_loss -37.9506 -37.9972 index_layer_6_loss 699.3367 700.0341 \n",
      "Epoch 769/1000 loss 700.2487 702.4072 scaling_xz_1_loss -37.9965 -38.0405 index_layer_6_loss 700.2867 702.4453 \n",
      "Epoch 770/1000 loss 697.5741 701.1487 scaling_xz_1_loss -38.0405 -38.0814 index_layer_6_loss 697.6121 701.1868 \n",
      "Epoch 771/1000 loss 702.0941 698.0345 scaling_xz_1_loss -38.0815 -38.1278 index_layer_6_loss 702.1321 698.0726 \n",
      "Epoch 772/1000 loss 694.3057 695.0791 scaling_xz_1_loss -38.1278 -38.1714 index_layer_6_loss 694.3438 695.1172 \n",
      "Epoch 773/1000 loss 698.1570 692.2125 scaling_xz_1_loss -38.1714 -38.2140 index_layer_6_loss 698.1951 692.2507 \n",
      "Epoch 774/1000 loss 695.5397 700.3518 scaling_xz_1_loss -38.2147 -38.2583 index_layer_6_loss 695.5779 700.3901 \n",
      "Epoch 775/1000 loss 693.2501 697.1329 scaling_xz_1_loss -38.2582 -38.3011 index_layer_6_loss 693.2884 697.1713 \n",
      "Epoch 776/1000 loss 699.6102 694.6697 scaling_xz_1_loss -38.3014 -38.3447 index_layer_6_loss 699.6485 694.7080 \n",
      "Epoch 777/1000 loss 695.7974 700.9489 scaling_xz_1_loss -38.3453 -38.3870 index_layer_6_loss 695.8358 700.9872 \n",
      "Epoch 778/1000 loss 694.4171 697.7556 scaling_xz_1_loss -38.3872 -38.4298 index_layer_6_loss 694.4555 697.7940 \n",
      "Epoch 779/1000 loss 695.4872 697.0421 scaling_xz_1_loss -38.4297 -38.4665 index_layer_6_loss 695.5257 697.0805 \n",
      "Epoch 780/1000 loss 699.0233 694.0867 scaling_xz_1_loss -38.4665 -38.5045 index_layer_6_loss 699.0618 694.1252 \n",
      "Epoch 781/1000 loss 697.3841 703.3152 scaling_xz_1_loss -38.5037 -38.5354 index_layer_6_loss 697.4226 703.3538 \n",
      "Epoch 782/1000 loss 696.4144 697.4999 scaling_xz_1_loss -38.5351 -38.5749 index_layer_6_loss 696.4529 697.5385 \n",
      "Epoch 783/1000 loss 691.1328 692.0524 scaling_xz_1_loss -38.5748 -38.6075 index_layer_6_loss 691.1713 692.0910 \n",
      "Epoch 784/1000 loss 696.5944 689.0992 scaling_xz_1_loss -38.6070 -38.6490 index_layer_6_loss 696.6330 689.1378 \n",
      "Epoch 785/1000 loss 695.2191 696.5289 scaling_xz_1_loss -38.6495 -38.7093 index_layer_6_loss 695.2578 696.5676 \n",
      "Epoch 786/1000 loss 694.2419 696.0137 scaling_xz_1_loss -38.7095 -38.7345 index_layer_6_loss 694.2806 696.0524 \n",
      "Epoch 787/1000 loss 699.1409 696.2681 scaling_xz_1_loss -38.7354 -38.7937 index_layer_6_loss 699.1796 696.3069 \n",
      "Epoch 788/1000 loss 695.2979 694.4166 scaling_xz_1_loss -38.7933 -38.8368 index_layer_6_loss 695.3367 694.4554 \n",
      "Epoch 789/1000 loss 693.3596 691.5031 scaling_xz_1_loss -38.8361 -38.8806 index_layer_6_loss 693.3984 691.5420 \n",
      "Epoch 790/1000 loss 690.9479 698.0883 scaling_xz_1_loss -38.8812 -38.9227 index_layer_6_loss 690.9868 698.1273 \n",
      "Epoch 791/1000 loss 692.8127 695.1014 scaling_xz_1_loss -38.9229 -38.9728 index_layer_6_loss 692.8516 695.1404 \n",
      "Epoch 792/1000 loss 697.3745 694.0653 scaling_xz_1_loss -38.9736 -39.0149 index_layer_6_loss 697.4135 694.1043 \n",
      "Epoch 793/1000 loss 694.0364 692.2654 scaling_xz_1_loss -39.0150 -39.0623 index_layer_6_loss 694.0754 692.3045 \n",
      "Epoch 794/1000 loss 693.7139 695.4692 scaling_xz_1_loss -39.0621 -39.1057 index_layer_6_loss 693.7529 695.5084 \n",
      "Epoch 795/1000 loss 699.9447 697.9402 scaling_xz_1_loss -39.1057 -39.1517 index_layer_6_loss 699.9838 697.9793 \n",
      "Epoch 796/1000 loss 703.1122 696.2526 scaling_xz_1_loss -39.1521 -39.1970 index_layer_6_loss 703.1513 696.2918 \n",
      "Epoch 797/1000 loss 693.6534 695.4459 scaling_xz_1_loss -39.1972 -39.2401 index_layer_6_loss 693.6926 695.4851 \n",
      "Epoch 798/1000 loss 691.6432 691.0074 scaling_xz_1_loss -39.2402 -39.2862 index_layer_6_loss 691.6825 691.0467 \n",
      "Epoch 799/1000 loss 689.9209 692.8831 scaling_xz_1_loss -39.2865 -39.3312 index_layer_6_loss 689.9602 692.9224 \n",
      "Epoch 800/1000 loss 692.5617 690.5566 scaling_xz_1_loss -39.3311 -39.3742 index_layer_6_loss 692.6010 690.5960 \n",
      "Epoch 801/1000 loss 686.7676 699.2858 scaling_xz_1_loss -39.3744 -39.4204 index_layer_6_loss 686.8069 699.3253 \n",
      "Epoch 802/1000 loss 692.2339 694.9762 scaling_xz_1_loss -39.4204 -39.4632 index_layer_6_loss 692.2734 695.0157 \n",
      "Epoch 803/1000 loss 694.2753 689.8150 scaling_xz_1_loss -39.4630 -39.5070 index_layer_6_loss 694.3148 689.8545 \n",
      "Epoch 804/1000 loss 696.2628 690.2596 scaling_xz_1_loss -39.5066 -39.5531 index_layer_6_loss 696.3023 690.2991 \n",
      "Epoch 805/1000 loss 693.8925 693.6763 scaling_xz_1_loss -39.5528 -39.5958 index_layer_6_loss 693.9321 693.7159 \n",
      "Epoch 806/1000 loss 693.8589 697.3636 scaling_xz_1_loss -39.5955 -39.6392 index_layer_6_loss 693.8985 697.4033 \n",
      "Epoch 807/1000 loss 692.0959 691.9341 scaling_xz_1_loss -39.6394 -39.6839 index_layer_6_loss 692.1356 691.9738 \n",
      "Epoch 808/1000 loss 695.2883 691.9758 scaling_xz_1_loss -39.6836 -39.7259 index_layer_6_loss 695.3279 692.0156 \n",
      "Epoch 809/1000 loss 688.2438 694.6812 scaling_xz_1_loss -39.7260 -39.7708 index_layer_6_loss 688.2836 694.7210 \n",
      "Epoch 810/1000 loss 694.4609 689.6376 scaling_xz_1_loss -39.7711 -39.8162 index_layer_6_loss 694.5007 689.6774 \n",
      "Epoch 811/1000 loss 695.7620 691.4395 scaling_xz_1_loss -39.8163 -39.8600 index_layer_6_loss 695.8018 691.4793 \n",
      "Epoch 812/1000 loss 695.7542 697.2358 scaling_xz_1_loss -39.8604 -39.9051 index_layer_6_loss 695.7940 697.2757 \n",
      "Epoch 813/1000 loss 692.2094 692.2649 scaling_xz_1_loss -39.9050 -39.9498 index_layer_6_loss 692.2493 692.3049 \n",
      "Epoch 814/1000 loss 691.3279 697.1608 scaling_xz_1_loss -39.9498 -39.9930 index_layer_6_loss 691.3679 697.2008 \n",
      "Epoch 815/1000 loss 692.1473 692.0639 scaling_xz_1_loss -39.9934 -40.0365 index_layer_6_loss 692.1873 692.1039 \n",
      "Epoch 816/1000 loss 692.4763 691.2419 scaling_xz_1_loss -40.0366 -40.0787 index_layer_6_loss 692.5164 691.2820 \n",
      "Epoch 817/1000 loss 691.7488 693.8529 scaling_xz_1_loss -40.0788 -40.1157 index_layer_6_loss 691.7889 693.8930 \n",
      "Epoch 818/1000 loss inf 688.2487 scaling_xz_1_loss -40.1154 -40.1504 index_layer_6_loss inf 688.2889 \n",
      "Epoch 819/1000 loss 689.8347 687.6339 scaling_xz_1_loss -40.1506 -40.2028 index_layer_6_loss 689.8748 687.6741 \n",
      "Epoch 820/1000 loss 690.3716 693.8661 scaling_xz_1_loss -40.2028 -40.2545 index_layer_6_loss 690.4118 693.9064 \n",
      "Epoch 821/1000 loss 690.5820 685.5073 scaling_xz_1_loss -40.2544 -40.2878 index_layer_6_loss 690.6223 685.5476 \n",
      "Epoch 822/1000 loss 692.1082 692.4724 scaling_xz_1_loss -40.2870 -40.3387 index_layer_6_loss 692.1485 692.5127 \n",
      "Epoch 823/1000 loss 693.8110 691.4979 scaling_xz_1_loss -40.3387 -40.3844 index_layer_6_loss 693.8514 691.5383 \n",
      "Epoch 824/1000 loss 691.0953 693.5766 scaling_xz_1_loss -40.3840 -40.4280 index_layer_6_loss 691.1357 693.6170 \n",
      "Epoch 825/1000 loss 692.9908 690.8915 scaling_xz_1_loss -40.4275 -40.4760 index_layer_6_loss 693.0312 690.9319 \n",
      "Epoch 826/1000 loss 690.5114 689.8267 scaling_xz_1_loss -40.4763 -40.5175 index_layer_6_loss 690.5518 689.8672 \n",
      "Epoch 827/1000 loss 688.2563 687.6440 scaling_xz_1_loss -40.5170 -40.5638 index_layer_6_loss 688.2969 687.6846 \n",
      "Epoch 828/1000 loss 693.5846 690.4727 scaling_xz_1_loss -40.5637 -40.6062 index_layer_6_loss 693.6252 690.5132 \n",
      "Epoch 829/1000 loss 687.1101 682.8891 scaling_xz_1_loss -40.6065 -40.6535 index_layer_6_loss 687.1507 682.9297 \n",
      "Epoch 830/1000 loss 692.4805 692.3029 scaling_xz_1_loss -40.6537 -40.6957 index_layer_6_loss 692.5212 692.3436 \n",
      "Epoch 831/1000 loss 689.1625 688.3600 scaling_xz_1_loss -40.6956 -40.7419 index_layer_6_loss 689.2032 688.4008 \n",
      "Epoch 832/1000 loss 687.0741 688.7382 scaling_xz_1_loss -40.7423 -40.7869 index_layer_6_loss 687.1149 688.7790 \n",
      "Epoch 833/1000 loss 682.9877 689.9719 scaling_xz_1_loss -40.7868 -40.8338 index_layer_6_loss 683.0284 690.0127 \n",
      "Epoch 834/1000 loss 689.4434 684.0452 scaling_xz_1_loss -40.8341 -40.8755 index_layer_6_loss 689.4842 684.0861 \n",
      "Epoch 835/1000 loss 693.9725 689.1051 scaling_xz_1_loss -40.8753 -40.9212 index_layer_6_loss 694.0134 689.1460 \n",
      "Epoch 836/1000 loss 685.2589 689.0762 scaling_xz_1_loss -40.9215 -40.9631 index_layer_6_loss 685.2998 689.1171 \n",
      "Epoch 837/1000 loss 688.9644 685.1177 scaling_xz_1_loss -40.9634 -41.0089 index_layer_6_loss 689.0054 685.1587 \n",
      "Epoch 838/1000 loss 682.8411 680.1544 scaling_xz_1_loss -41.0086 -41.0518 index_layer_6_loss 682.8821 680.1955 \n",
      "Epoch 839/1000 loss 686.9070 690.5811 scaling_xz_1_loss -41.0516 -41.0988 index_layer_6_loss 686.9481 690.6222 \n",
      "Epoch 840/1000 loss 688.5215 686.2509 scaling_xz_1_loss -41.0986 -41.1451 index_layer_6_loss 688.5626 686.2920 \n",
      "Epoch 841/1000 loss 683.8862 685.8837 scaling_xz_1_loss -41.1447 -41.1894 index_layer_6_loss 683.9274 685.9249 \n",
      "Epoch 842/1000 loss 683.6566 688.2171 scaling_xz_1_loss -41.1891 -41.2322 index_layer_6_loss 683.6978 688.2584 \n",
      "Epoch 843/1000 loss 681.2736 685.5445 scaling_xz_1_loss -41.2325 -41.2767 index_layer_6_loss 681.3148 685.5858 \n",
      "Epoch 844/1000 loss 688.5135 684.8835 scaling_xz_1_loss -41.2771 -41.3201 index_layer_6_loss 688.5547 684.9248 \n",
      "Epoch 845/1000 loss 683.1016 687.9921 scaling_xz_1_loss -41.3199 -41.3669 index_layer_6_loss 683.1429 688.0335 \n",
      "Epoch 846/1000 loss 682.5314 684.8031 scaling_xz_1_loss -41.3665 -41.4042 index_layer_6_loss 682.5728 684.8445 \n",
      "Epoch 847/1000 loss 686.8422 682.0626 scaling_xz_1_loss -41.4036 -41.4488 index_layer_6_loss 686.8835 682.1040 \n",
      "Epoch 848/1000 loss 684.5607 681.5443 scaling_xz_1_loss -41.4491 -41.4960 index_layer_6_loss 684.6021 681.5858 \n",
      "Epoch 849/1000 loss 682.6041 685.4300 scaling_xz_1_loss -41.4959 -41.5349 index_layer_6_loss 682.6456 685.4716 \n",
      "Epoch 850/1000 loss 685.8937 686.3875 scaling_xz_1_loss -41.5348 -41.5778 index_layer_6_loss 685.9352 686.4290 \n",
      "Epoch 851/1000 loss 686.8306 681.5262 scaling_xz_1_loss -41.5778 -41.6228 index_layer_6_loss 686.8722 681.5679 \n",
      "Epoch 852/1000 loss 683.2160 677.4555 scaling_xz_1_loss -41.6224 -41.6664 index_layer_6_loss 683.2576 677.4972 \n",
      "Epoch 853/1000 loss 682.9029 684.4169 scaling_xz_1_loss -41.6662 -41.7148 index_layer_6_loss 682.9446 684.4586 \n",
      "Epoch 854/1000 loss 683.7310 679.2029 scaling_xz_1_loss -41.7151 -41.7580 index_layer_6_loss 683.7727 679.2446 \n",
      "Epoch 855/1000 loss 683.6770 682.7549 scaling_xz_1_loss -41.7578 -41.8039 index_layer_6_loss 683.7188 682.7967 \n",
      "Epoch 856/1000 loss 682.1299 681.9401 scaling_xz_1_loss -41.8038 -41.8457 index_layer_6_loss 682.1717 681.9820 \n",
      "Epoch 857/1000 loss 682.4497 681.5052 scaling_xz_1_loss -41.8451 -41.8910 index_layer_6_loss 682.4916 681.5471 \n",
      "Epoch 858/1000 loss 684.9318 683.4348 scaling_xz_1_loss -41.8909 -41.9333 index_layer_6_loss 684.9736 683.4767 \n",
      "Epoch 859/1000 loss 687.0989 679.5595 scaling_xz_1_loss -41.9330 -41.9789 index_layer_6_loss 687.1408 679.6015 \n",
      "Epoch 860/1000 loss 678.7051 683.2266 scaling_xz_1_loss -41.9788 -42.0221 index_layer_6_loss 678.7471 683.2686 \n",
      "Epoch 861/1000 loss 681.5667 675.9708 scaling_xz_1_loss -42.0219 -42.0681 index_layer_6_loss 681.6086 676.0128 \n",
      "Epoch 862/1000 loss 675.3806 681.2654 scaling_xz_1_loss -42.0683 -42.1108 index_layer_6_loss 675.4226 681.3075 \n",
      "Epoch 863/1000 loss 678.0409 683.2492 scaling_xz_1_loss -42.1107 -42.1535 index_layer_6_loss 678.0830 683.2914 \n",
      "Epoch 864/1000 loss 678.4180 679.0539 scaling_xz_1_loss -42.1534 -42.1987 index_layer_6_loss 678.4602 679.0961 \n",
      "Epoch 865/1000 loss 676.7414 677.3242 scaling_xz_1_loss -42.1990 -42.2408 index_layer_6_loss 676.7836 677.3665 \n",
      "Epoch 866/1000 loss 678.7048 682.4787 scaling_xz_1_loss -42.2404 -42.2849 index_layer_6_loss 678.7470 682.5210 \n",
      "Epoch 867/1000 loss 680.3881 677.7262 scaling_xz_1_loss -42.2849 -42.3298 index_layer_6_loss 680.4304 677.7686 \n",
      "Epoch 868/1000 loss 684.5129 680.8351 scaling_xz_1_loss -42.3298 -42.3725 index_layer_6_loss 684.5552 680.8774 \n",
      "Epoch 869/1000 loss 677.0279 679.2130 scaling_xz_1_loss -42.3726 -42.4150 index_layer_6_loss 677.0703 679.2554 \n",
      "Epoch 870/1000 loss 679.1635 677.2458 scaling_xz_1_loss -42.4152 -42.4583 index_layer_6_loss 679.2059 677.2883 \n",
      "Epoch 871/1000 loss 675.6066 683.0983 scaling_xz_1_loss -42.4586 -42.4940 index_layer_6_loss 675.6490 683.1408 \n",
      "Epoch 872/1000 loss 677.3091 676.2097 scaling_xz_1_loss -42.4946 -42.5453 index_layer_6_loss 677.3516 676.2523 \n",
      "Epoch 873/1000 loss 680.0120 676.0043 scaling_xz_1_loss -42.5452 -42.5925 index_layer_6_loss 680.0545 676.0469 \n",
      "Epoch 874/1000 loss 681.1086 682.4233 scaling_xz_1_loss -42.5924 -42.6304 index_layer_6_loss 681.1512 682.4659 \n",
      "Epoch 875/1000 loss 682.7046 678.0461 scaling_xz_1_loss -42.6307 -42.6756 index_layer_6_loss 682.7472 678.0887 \n",
      "Epoch 876/1000 loss 674.2463 678.4878 scaling_xz_1_loss -42.6760 -42.7194 index_layer_6_loss 674.2890 678.5305 \n",
      "Epoch 877/1000 loss 676.9830 682.9626 scaling_xz_1_loss -42.7195 -42.7562 index_layer_6_loss 677.0257 683.0054 \n",
      "Epoch 878/1000 loss 683.0070 675.4757 scaling_xz_1_loss -42.7561 -42.7935 index_layer_6_loss 683.0498 675.5185 \n",
      "Epoch 879/1000 loss 677.4861 676.7902 scaling_xz_1_loss -42.7942 -42.8276 index_layer_6_loss 677.5289 676.8331 \n",
      "Epoch 880/1000 loss 673.7725 673.9385 scaling_xz_1_loss -42.8269 -42.8611 index_layer_6_loss 673.8154 673.9814 \n",
      "Epoch 881/1000 loss 679.8502 673.8605 scaling_xz_1_loss -42.8604 -42.9132 index_layer_6_loss 679.8930 673.9034 \n",
      "Epoch 882/1000 loss 681.8484 666.0845 scaling_xz_1_loss -42.9134 -42.9522 index_layer_6_loss 681.8914 666.1274 \n",
      "Epoch 883/1000 loss 678.7667 680.1603 scaling_xz_1_loss -42.9511 -43.0066 index_layer_6_loss 678.8097 680.2033 \n",
      "Epoch 884/1000 loss 681.0250 679.4756 scaling_xz_1_loss -43.0069 -43.0292 index_layer_6_loss 681.0681 679.5186 \n",
      "Epoch 885/1000 loss 681.2646 674.6673 scaling_xz_1_loss -43.0277 -43.0626 index_layer_6_loss 681.3076 674.7104 \n",
      "Epoch 886/1000 loss 673.7490 670.0356 scaling_xz_1_loss -43.0595 -43.1090 index_layer_6_loss 673.7921 670.0787 \n",
      "Epoch 887/1000 loss 675.1551 682.4935 scaling_xz_1_loss -43.1078 -43.1770 index_layer_6_loss 675.1982 682.5366 \n",
      "Epoch 888/1000 loss 673.4022 672.2274 scaling_xz_1_loss -43.1754 -43.1998 index_layer_6_loss 673.4453 672.2706 \n",
      "Epoch 889/1000 loss 681.0193 669.1526 scaling_xz_1_loss -43.1987 -43.2591 index_layer_6_loss 681.0625 669.1959 \n",
      "Epoch 890/1000 loss 673.5217 671.5121 scaling_xz_1_loss -43.2594 -43.2992 index_layer_6_loss 673.5649 671.5554 \n",
      "Epoch 891/1000 loss 674.7921 674.3472 scaling_xz_1_loss -43.3000 -43.3491 index_layer_6_loss 674.8353 674.3906 \n",
      "Epoch 892/1000 loss 672.2528 671.0888 scaling_xz_1_loss -43.3501 -43.3994 index_layer_6_loss 672.2961 671.1322 \n",
      "Epoch 893/1000 loss 670.8480 676.4047 scaling_xz_1_loss -43.4008 -43.4437 index_layer_6_loss 670.8914 676.4481 \n",
      "Epoch 894/1000 loss 680.4089 676.3681 scaling_xz_1_loss -43.4437 -43.4929 index_layer_6_loss 680.4524 676.4116 \n",
      "Epoch 895/1000 loss 673.0004 673.2227 scaling_xz_1_loss -43.4935 -43.5341 index_layer_6_loss 673.0439 673.2662 \n",
      "Epoch 896/1000 loss 675.2852 674.0394 scaling_xz_1_loss -43.5341 -43.5807 index_layer_6_loss 675.3287 674.0829 \n",
      "Epoch 897/1000 loss 668.9979 666.0585 scaling_xz_1_loss -43.5807 -43.6255 index_layer_6_loss 669.0415 666.1022 \n",
      "Epoch 898/1000 loss 668.1120 675.0080 scaling_xz_1_loss -43.6253 -43.6736 index_layer_6_loss 668.1556 675.0517 \n",
      "Epoch 899/1000 loss 675.0728 676.9357 scaling_xz_1_loss -43.6736 -43.7151 index_layer_6_loss 675.1165 676.9794 \n",
      "Epoch 900/1000 loss 671.4070 669.1540 scaling_xz_1_loss -43.7146 -43.7604 index_layer_6_loss 671.4507 669.1978 \n",
      "Epoch 901/1000 loss 669.5107 673.7837 scaling_xz_1_loss -43.7605 -43.8065 index_layer_6_loss 669.5545 673.8275 \n",
      "Epoch 902/1000 loss 675.3679 671.0215 scaling_xz_1_loss -43.8059 -43.8484 index_layer_6_loss 675.4117 671.0654 \n",
      "Epoch 903/1000 loss 679.5662 673.6357 scaling_xz_1_loss -43.8485 -43.8943 index_layer_6_loss 679.6100 673.6796 \n",
      "Epoch 904/1000 loss 676.0789 671.2192 scaling_xz_1_loss -43.8941 -43.9393 index_layer_6_loss 676.1227 671.2631 \n",
      "Epoch 905/1000 loss 672.6328 671.3381 scaling_xz_1_loss -43.9392 -43.9841 index_layer_6_loss 672.6767 671.3821 \n",
      "Epoch 906/1000 loss 673.8519 672.9558 scaling_xz_1_loss -43.9839 -44.0274 index_layer_6_loss 673.8959 672.9998 \n",
      "Epoch 907/1000 loss 667.7578 669.5029 scaling_xz_1_loss -44.0275 -44.0724 index_layer_6_loss 667.8018 669.5469 \n",
      "Epoch 908/1000 loss 676.2556 668.4097 scaling_xz_1_loss -44.0722 -44.1171 index_layer_6_loss 676.2997 668.4539 \n",
      "Epoch 909/1000 loss 672.1151 670.5256 scaling_xz_1_loss -44.1172 -44.1619 index_layer_6_loss 672.1592 670.5698 \n",
      "Epoch 910/1000 loss 668.2629 665.5728 scaling_xz_1_loss -44.1619 -44.2044 index_layer_6_loss 668.3071 665.6170 \n",
      "Epoch 911/1000 loss 669.6349 670.4174 scaling_xz_1_loss -44.2048 -44.2483 index_layer_6_loss 669.6791 670.4617 \n",
      "Epoch 912/1000 loss 664.1169 671.1425 scaling_xz_1_loss -44.2488 -44.2910 index_layer_6_loss 664.1612 671.1868 \n",
      "Epoch 913/1000 loss 673.5418 668.8879 scaling_xz_1_loss -44.2908 -44.3355 index_layer_6_loss 673.5861 668.9322 \n",
      "Epoch 914/1000 loss 669.4844 675.6751 scaling_xz_1_loss -44.3352 -44.3798 index_layer_6_loss 669.5287 675.7195 \n",
      "Epoch 915/1000 loss 668.7965 665.4526 scaling_xz_1_loss -44.3795 -44.4248 index_layer_6_loss 668.8409 665.4970 \n",
      "Epoch 916/1000 loss 668.5307 671.2861 scaling_xz_1_loss -44.4251 -44.4690 index_layer_6_loss 668.5751 671.3306 \n",
      "Epoch 917/1000 loss 675.6971 668.4705 scaling_xz_1_loss -44.4684 -44.5125 index_layer_6_loss 675.7416 668.5150 \n",
      "Epoch 918/1000 loss 665.5961 667.6166 scaling_xz_1_loss -44.5124 -44.5554 index_layer_6_loss 665.6406 667.6611 \n",
      "Epoch 919/1000 loss 670.1556 667.3515 scaling_xz_1_loss -44.5551 -44.5979 index_layer_6_loss 670.2001 667.3961 \n",
      "Epoch 920/1000 loss 669.3256 668.6249 scaling_xz_1_loss -44.5980 -44.6415 index_layer_6_loss 669.3702 668.6696 \n",
      "Epoch 921/1000 loss 665.8826 668.9843 scaling_xz_1_loss -44.6419 -44.6826 index_layer_6_loss 665.9272 669.0289 \n",
      "Epoch 922/1000 loss 667.1219 666.9793 scaling_xz_1_loss -44.6829 -44.7237 index_layer_6_loss 667.1666 667.0240 \n",
      "Epoch 923/1000 loss 669.4030 663.0802 scaling_xz_1_loss -44.7239 -44.7628 index_layer_6_loss 669.4478 663.1249 \n",
      "Epoch 924/1000 loss 668.1998 665.8145 scaling_xz_1_loss -44.7631 -44.8068 index_layer_6_loss 668.2445 665.8593 \n",
      "Epoch 925/1000 loss 670.7753 666.5731 scaling_xz_1_loss -44.8070 -44.8554 index_layer_6_loss 670.8201 666.6179 \n",
      "Epoch 926/1000 loss 670.2101 664.1865 scaling_xz_1_loss -44.8554 -44.8956 index_layer_6_loss 670.2549 664.2314 \n",
      "Epoch 927/1000 loss 667.3763 671.0496 scaling_xz_1_loss -44.8961 -44.9297 index_layer_6_loss 667.4213 671.0945 \n",
      "Epoch 928/1000 loss 668.9137 662.0229 scaling_xz_1_loss -44.9297 -44.9847 index_layer_6_loss 668.9586 662.0679 \n",
      "Epoch 929/1000 loss 666.4699 667.1370 scaling_xz_1_loss -44.9848 -45.0180 index_layer_6_loss 666.5149 667.1820 \n",
      "Epoch 930/1000 loss 662.3896 666.4892 scaling_xz_1_loss -45.0180 -45.0577 index_layer_6_loss 662.4346 666.5342 \n",
      "Epoch 931/1000 loss 662.0645 663.8604 scaling_xz_1_loss -45.0581 -45.0993 index_layer_6_loss 662.1096 663.9055 \n",
      "Epoch 932/1000 loss 670.6182 663.1868 scaling_xz_1_loss -45.1000 -45.1522 index_layer_6_loss 670.6633 663.2320 \n",
      "Epoch 933/1000 loss 665.0641 660.3636 scaling_xz_1_loss -45.1516 -45.1765 index_layer_6_loss 665.1093 660.4088 \n",
      "Epoch 934/1000 loss 665.5244 663.8946 scaling_xz_1_loss -45.1764 -45.2280 index_layer_6_loss 665.5696 663.9398 \n",
      "Epoch 935/1000 loss 667.3461 665.9523 scaling_xz_1_loss -45.2281 -45.2696 index_layer_6_loss 667.3914 665.9976 \n",
      "Epoch 936/1000 loss 665.9311 666.7509 scaling_xz_1_loss -45.2703 -45.3165 index_layer_6_loss 665.9764 666.7961 \n",
      "Epoch 937/1000 loss 664.0069 661.4232 scaling_xz_1_loss -45.3170 -45.3572 index_layer_6_loss 664.0522 661.4686 \n",
      "Epoch 938/1000 loss 658.1367 664.0436 scaling_xz_1_loss -45.3575 -45.4130 index_layer_6_loss 658.1821 664.0890 \n",
      "Epoch 939/1000 loss 662.6179 661.9966 scaling_xz_1_loss -45.4130 -45.4458 index_layer_6_loss 662.6633 662.0421 \n",
      "Epoch 940/1000 loss 666.5380 663.8030 scaling_xz_1_loss -45.4460 -45.5020 index_layer_6_loss 666.5834 663.8485 \n",
      "Epoch 941/1000 loss 664.7464 666.1734 scaling_xz_1_loss -45.5018 -45.5382 index_layer_6_loss 664.7919 666.2189 \n",
      "Epoch 942/1000 loss 664.2881 664.5397 scaling_xz_1_loss -45.5381 -45.5886 index_layer_6_loss 664.3336 664.5853 \n",
      "Epoch 943/1000 loss 667.2385 662.7068 scaling_xz_1_loss -45.5885 -45.6279 index_layer_6_loss 667.2841 662.7525 \n",
      "Epoch 944/1000 loss 661.4206 663.1394 scaling_xz_1_loss -45.6277 -45.6743 index_layer_6_loss 661.4662 663.1851 \n",
      "Epoch 945/1000 loss 665.9778 661.6567 scaling_xz_1_loss -45.6734 -45.7200 index_layer_6_loss 666.0235 661.7024 \n",
      "Epoch 946/1000 loss 663.6645 660.6033 scaling_xz_1_loss -45.7196 -45.7589 index_layer_6_loss 663.7102 660.6490 \n",
      "Epoch 947/1000 loss 660.6646 663.9074 scaling_xz_1_loss -45.7591 -45.8057 index_layer_6_loss 660.7103 663.9532 \n",
      "Epoch 948/1000 loss 662.7978 665.6962 scaling_xz_1_loss -45.8056 -45.8493 index_layer_6_loss 662.8436 665.7420 \n",
      "Epoch 949/1000 loss 662.6935 661.8243 scaling_xz_1_loss -45.8490 -45.8897 index_layer_6_loss 662.7393 661.8702 \n",
      "Epoch 950/1000 loss 664.2095 661.1495 scaling_xz_1_loss -45.8895 -45.9326 index_layer_6_loss 664.2554 661.1955 \n",
      "Epoch 951/1000 loss 662.0010 661.2719 scaling_xz_1_loss -45.9328 -45.9783 index_layer_6_loss 662.0469 661.3178 \n",
      "Epoch 952/1000 loss 664.7532 662.5297 scaling_xz_1_loss -45.9778 -46.0207 index_layer_6_loss 664.7992 662.5757 \n",
      "Epoch 953/1000 loss 656.2461 660.9385 scaling_xz_1_loss -46.0204 -46.0607 index_layer_6_loss 656.2921 660.9846 \n",
      "Epoch 954/1000 loss 661.8125 662.6674 scaling_xz_1_loss -46.0604 -46.0900 index_layer_6_loss 661.8586 662.7134 \n",
      "Epoch 955/1000 loss 658.4156 661.7766 scaling_xz_1_loss -46.0902 -46.1365 index_layer_6_loss 658.4617 661.8227 \n",
      "Epoch 956/1000 loss 661.8710 661.0915 scaling_xz_1_loss -46.1367 -46.1776 index_layer_6_loss 661.9171 661.1377 \n",
      "Epoch 957/1000 loss 660.0864 657.1617 scaling_xz_1_loss -46.1772 -46.2220 index_layer_6_loss 660.1326 657.2079 \n",
      "Epoch 958/1000 loss 663.1571 661.1568 scaling_xz_1_loss -46.2216 -46.2667 index_layer_6_loss 663.2033 661.2031 \n",
      "Epoch 959/1000 loss 667.5873 658.2242 scaling_xz_1_loss -46.2669 -46.3046 index_layer_6_loss 667.6335 658.2705 \n",
      "Epoch 960/1000 loss 658.6597 664.0679 scaling_xz_1_loss -46.3051 -46.3512 index_layer_6_loss 658.7061 664.1142 \n",
      "Epoch 961/1000 loss 659.6881 658.3831 scaling_xz_1_loss -46.3515 -46.3963 index_layer_6_loss 659.7344 658.4295 \n",
      "Epoch 962/1000 loss 657.4848 656.9409 scaling_xz_1_loss -46.3960 -46.4334 index_layer_6_loss 657.5312 656.9873 \n",
      "Epoch 963/1000 loss 656.9933 659.3783 scaling_xz_1_loss -46.4339 -46.4804 index_layer_6_loss 657.0398 659.4248 \n",
      "Epoch 964/1000 loss 657.8489 663.5240 scaling_xz_1_loss -46.4805 -46.5212 index_layer_6_loss 657.8954 663.5705 \n",
      "Epoch 965/1000 loss 661.4377 653.4113 scaling_xz_1_loss -46.5217 -46.5663 index_layer_6_loss 661.4842 653.4579 \n",
      "Epoch 966/1000 loss 660.4348 653.1088 scaling_xz_1_loss -46.5662 -46.6140 index_layer_6_loss 660.4813 653.1555 \n",
      "Epoch 967/1000 loss 656.2215 656.8049 scaling_xz_1_loss -46.6139 -46.6574 index_layer_6_loss 656.2681 656.8515 \n",
      "Epoch 968/1000 loss 651.2712 653.8777 scaling_xz_1_loss -46.6576 -46.7007 index_layer_6_loss 651.3178 653.9244 \n",
      "Epoch 969/1000 loss 650.0992 655.7587 scaling_xz_1_loss -46.7000 -46.7458 index_layer_6_loss 650.1459 655.8054 \n",
      "Epoch 970/1000 loss 658.3908 656.2867 scaling_xz_1_loss -46.7455 -46.7895 index_layer_6_loss 658.4376 656.3336 \n",
      "Epoch 971/1000 loss 659.7237 654.5463 scaling_xz_1_loss -46.7902 -46.8323 index_layer_6_loss 659.7705 654.5931 \n",
      "Epoch 972/1000 loss 658.8514 656.7056 scaling_xz_1_loss -46.8327 -46.8791 index_layer_6_loss 658.8983 656.7525 \n",
      "Epoch 973/1000 loss 657.9322 655.3384 scaling_xz_1_loss -46.8788 -46.9214 index_layer_6_loss 657.9791 655.3853 \n",
      "Epoch 974/1000 loss 660.1611 655.7423 scaling_xz_1_loss -46.9215 -46.9654 index_layer_6_loss 660.2080 655.7892 \n",
      "Epoch 975/1000 loss 659.0695 659.2258 scaling_xz_1_loss -46.9653 -47.0095 index_layer_6_loss 659.1165 659.2728 \n",
      "Epoch 976/1000 loss 654.7809 661.1982 scaling_xz_1_loss -47.0100 -47.0538 index_layer_6_loss 654.8279 661.2452 \n",
      "Epoch 977/1000 loss 657.3543 648.4654 scaling_xz_1_loss -47.0539 -47.0974 index_layer_6_loss 657.4014 648.5125 \n",
      "Epoch 978/1000 loss 653.4683 653.5185 scaling_xz_1_loss -47.0972 -47.1406 index_layer_6_loss 653.5154 653.5656 \n",
      "Epoch 979/1000 loss 657.8741 654.3506 scaling_xz_1_loss -47.1402 -47.1828 index_layer_6_loss 657.9213 654.3978 \n",
      "Epoch 980/1000 loss 650.7184 655.0104 scaling_xz_1_loss -47.1829 -47.2279 index_layer_6_loss 650.7656 655.0577 \n",
      "Epoch 981/1000 loss 653.9222 655.8074 scaling_xz_1_loss -47.2283 -47.2697 index_layer_6_loss 653.9695 655.8546 \n",
      "Epoch 982/1000 loss 655.3043 658.2939 scaling_xz_1_loss -47.2698 -47.3115 index_layer_6_loss 655.3515 658.3412 \n",
      "Epoch 983/1000 loss 656.9113 652.2856 scaling_xz_1_loss -47.3120 -47.3583 index_layer_6_loss 656.9586 652.3329 \n",
      "Epoch 984/1000 loss 651.9214 648.0768 scaling_xz_1_loss -47.3584 -47.4006 index_layer_6_loss 651.9688 648.1243 \n",
      "Epoch 985/1000 loss 649.0103 652.4813 scaling_xz_1_loss -47.4012 -47.4447 index_layer_6_loss 649.0577 652.5287 \n",
      "Epoch 986/1000 loss 656.6766 649.0236 scaling_xz_1_loss -47.4443 -47.4882 index_layer_6_loss 656.7241 649.0711 \n",
      "Epoch 987/1000 loss 650.7261 654.7265 scaling_xz_1_loss -47.4883 -47.5302 index_layer_6_loss 650.7736 654.7740 \n",
      "Epoch 988/1000 loss 654.7134 657.0588 scaling_xz_1_loss -47.5301 -47.5734 index_layer_6_loss 654.7609 657.1063 \n",
      "Epoch 989/1000 loss 658.3378 650.1553 scaling_xz_1_loss -47.5735 -47.6140 index_layer_6_loss 658.3853 650.2029 \n",
      "Epoch 990/1000 loss 654.4572 649.6993 scaling_xz_1_loss -47.6126 -47.6541 index_layer_6_loss 654.5048 649.7469 \n",
      "Epoch 991/1000 loss 657.8896 653.1627 scaling_xz_1_loss -47.6546 -47.6943 index_layer_6_loss 657.9373 653.2103 \n",
      "Epoch 992/1000 loss 650.5648 652.9368 scaling_xz_1_loss -47.6940 -47.7398 index_layer_6_loss 650.6124 652.9846 \n",
      "Epoch 993/1000 loss 648.7617 655.4233 scaling_xz_1_loss -47.7393 -47.7845 index_layer_6_loss 648.8094 655.4711 \n",
      "Epoch 994/1000 loss 649.8012 650.0223 scaling_xz_1_loss -47.7849 -47.8312 index_layer_6_loss 649.8490 650.0701 \n",
      "Epoch 995/1000 loss 652.1583 655.8976 scaling_xz_1_loss -47.8310 -47.8716 index_layer_6_loss 652.2061 655.9455 \n",
      "Epoch 996/1000 loss 653.1551 648.8505 scaling_xz_1_loss -47.8712 -47.9133 index_layer_6_loss 653.2029 648.8984 \n",
      "Epoch 997/1000 loss 650.5668 652.3373 scaling_xz_1_loss -47.9132 -47.9593 index_layer_6_loss 650.6147 652.3853 \n",
      "Epoch 998/1000 loss 650.3395 651.6526 scaling_xz_1_loss -47.9600 -48.0011 index_layer_6_loss 650.3875 651.7006 \n",
      "Epoch 999/1000 loss 652.3427 650.7873 scaling_xz_1_loss -48.0013 -48.0436 index_layer_6_loss 652.3906 650.8353 \n"
     ]
    }
   ],
   "source": [
    "network_RNVP_KLML2 = network_RNVP_KLML.train_flexible(x, xval=xval, lr=0.001, epochs=epochsE, batch_size=batchsize_KL, \n",
    "                                                     std=1.0,\n",
    "                                                     weight_ML=0.001, weight_KL=1.0, weight_MC=0.0, weight_W2=0.0,\n",
    "                                                     weight_RCEnt=0.0,\n",
    "                                                     temperature=temperature, explore=explore, verbose=1,\n",
    "                                                     return_test_energies=True, is_discrete=True)"
   ]
  },
  {
   "cell_type": "code",
   "execution_count": 27,
   "metadata": {},
   "outputs": [
    {
     "data": {
      "text/plain": [
       "(<Figure size 360x720 with 2 Axes>,\n",
       " array([<matplotlib.axes._subplots.AxesSubplot object at 0x1a3989b940>,\n",
       "        <matplotlib.axes._subplots.AxesSubplot object at 0x1a399d19e8>],\n",
       "       dtype=object))"
      ]
     },
     "execution_count": 27,
     "metadata": {},
     "output_type": "execute_result"
    },
    {
     "data": {
      "image/png": "[encoded data removed]",
      "text/plain": [
       "<Figure size 360x720 with 2 Axes>"
      ]
     },
     "metadata": {
      "needs_background": "light"
     },
     "output_type": "display_data"
    }
   ],
   "source": [
    "plot_convergence(network_RNVP_KLML1, network_RNVP_KLML2, 0, 2)"
   ]
  },
  {
   "cell_type": "code",
   "execution_count": 141,
   "metadata": {},
   "outputs": [
    {
     "data": {
      "text/plain": [
       "(1000, 42)"
      ]
     },
     "execution_count": 141,
     "metadata": {},
     "output_type": "execute_result"
    }
   ],
   "source": [
    "# want the trajectories to be in the high probability regions. \n",
    "\n",
    "# transition energy barrier which is approx across point 15.\n",
    "ts_n=1000\n",
    "I = np.eye(AA_num)\n",
    "# want the barrier to be at x_0 = 15\n",
    "x_z = np.repeat( np.expand_dims(I[15,:], 0), ts_n, axis=0)\n",
    "\n",
    "# random x_1 values\n",
    "rand_x_1 = I[np.random.randint(0,AA_num, ts_n),:]\n",
    "\n",
    "x_ts = np.hstack([x_z, rand_x_1])\n",
    "x_ts.shape"
   ]
  },
  {
   "cell_type": "code",
   "execution_count": 147,
   "metadata": {},
   "outputs": [
    {
     "name": "stdout",
     "output_type": "stream",
     "text": [
      "(21, 21)\n",
      "[-26.85984466 -24.788021   -29.06691081 ... -11.67347444 -30.47280155\n",
      " -16.98530217]\n",
      "Estimator Standard Error:  nan\n",
      "(21, 21)\n"
     ]
    },
    {
     "data": {
      "image/png": "[encoded data removed]",
      "text/plain": [
       "<Figure size 1152x252 with 4 Axes>"
      ]
     },
     "metadata": {
      "needs_background": "light"
     },
     "output_type": "display_data"
    },
    {
     "data": {
      "text/plain": [
       "<Figure size 288x288 with 0 Axes>"
      ]
     },
     "metadata": {},
     "output_type": "display_data"
    },
    {
     "data": {
      "text/plain": [
       "<Figure size 288x288 with 0 Axes>"
      ]
     },
     "metadata": {},
     "output_type": "display_data"
    }
   ],
   "source": [
    "fig, axes = plot_network(network_RNVP_KLML, traj_left, traj_right, x_ts, AA_num, model, weight_cutoff=1e-2);\n",
    "\n",
    "# both of the plots on the right should have orange on them. "
   ]
  },
  {
   "cell_type": "code",
   "execution_count": 148,
   "metadata": {},
   "outputs": [],
   "source": [
    "sample_z, sample_x, energy_z, energy_x, log_w = network_RNVP_KLML.sample(temperature=1.0, nsample=100000)"
   ]
  },
  {
   "cell_type": "code",
   "execution_count": 149,
   "metadata": {},
   "outputs": [],
   "source": [
    "x0 = vect_to_aa_ind(sample_x, AA_num=AA_num,pos=0)\n",
    "x1 = vect_to_aa_ind(sample_x, AA_num=AA_num,pos=1)"
   ]
  },
  {
   "cell_type": "code",
   "execution_count": 150,
   "metadata": {},
   "outputs": [
    {
     "data": {
      "text/plain": [
       "(0, 20)"
      ]
     },
     "execution_count": 150,
     "metadata": {},
     "output_type": "execute_result"
    },
    {
     "data": {
      "image/png": "[encoded data removed]",
      "text/plain": [
       "<Figure size 432x288 with 1 Axes>"
      ]
     },
     "metadata": {
      "needs_background": "light"
     },
     "output_type": "display_data"
    }
   ],
   "source": [
    "plt.scatter(x0,x1, alpha=0.2)\n",
    "plt.xlim([0,20])\n",
    "plt.ylim([0,20])"
   ]
  },
  {
   "cell_type": "code",
   "execution_count": 151,
   "metadata": {},
   "outputs": [
    {
     "data": {
      "image/png": "[encoded data removed]",
      "text/plain": [
       "<Figure size 432x288 with 1 Axes>"
      ]
     },
     "metadata": {
      "needs_background": "light"
     },
     "output_type": "display_data"
    },
    {
     "data": {
      "text/plain": [
       "(array([     0.,      0.,      0.,      0.,      0., 100000.,      0.,\n",
       "             0.,      0.,      0.]),\n",
       " array([10.5, 10.6, 10.7, 10.8, 10.9, 11. , 11.1, 11.2, 11.3, 11.4, 11.5]),\n",
       " <a list of 10 Patch objects>)"
      ]
     },
     "execution_count": 151,
     "metadata": {},
     "output_type": "execute_result"
    },
    {
     "data": {
      "image/png": "[encoded data removed]",
      "text/plain": [
       "<Figure size 432x288 with 1 Axes>"
      ]
     },
     "metadata": {
      "needs_background": "light"
     },
     "output_type": "display_data"
    }
   ],
   "source": [
    "plt.hist(x0)\n",
    "plt.show()\n",
    "plt.hist(x1)"
   ]
  },
  {
   "cell_type": "code",
   "execution_count": null,
   "metadata": {},
   "outputs": [],
   "source": []
  },
  {
   "cell_type": "markdown",
   "metadata": {},
   "source": [
    "## Nicer Network"
   ]
  },
  {
   "cell_type": "code",
   "execution_count": 35,
   "metadata": {},
   "outputs": [],
   "source": [
    "epochsZ = 200\n",
    "epochsE = 500\n",
    "batchsize_ML = 128\n",
    "batchsize_KL = 1000\n",
    "temperature = 1.0\n",
    "explore = 1.0"
   ]
  },
  {
   "cell_type": "code",
   "execution_count": 36,
   "metadata": {},
   "outputs": [
    {
     "name": "stdout",
     "output_type": "stream",
     "text": [
      "<NNNN>S\n",
      "< 42 0 0\n",
      "N 21 21 0\n",
      "N 21 21 0\n",
      "N 21 21 0\n",
      "N 21 21 0\n",
      "> 21 21 0\n",
      "S 42 0 0\n",
      "WARNING:tensorflow:From /Users/trentonbricken/anaconda3/lib/python3.7/site-packages/tensorflow/python/ops/resource_variable_ops.py:435: colocate_with (from tensorflow.python.framework.ops) is deprecated and will be removed in a future version.\n",
      "Instructions for updating:\n",
      "Colocations handled automatically by placer.\n",
      "tracking <tf.Variable 'log_scale:0' shape=(1, 42) dtype=float32> log_scaling_factors\n",
      "tracking <tf.Variable 'log_scale:0' shape=(1, 42) dtype=float32> log_scaling_factors\n"
     ]
    }
   ],
   "source": [
    "network_NICER_KLML = invnet(model.dim, 'NNNNS', model, nl_layers=3, nl_hidden=100, \n",
    "                            nl_activation='relu', nl_activation_scale='tanh')"
   ]
  },
  {
   "cell_type": "code",
   "execution_count": 37,
   "metadata": {},
   "outputs": [
    {
     "name": "stdout",
     "output_type": "stream",
     "text": [
      "WARNING:tensorflow:From /Users/trentonbricken/anaconda3/lib/python3.7/site-packages/tensorflow/python/ops/math_ops.py:3066: to_int32 (from tensorflow.python.ops.math_ops) is deprecated and will be removed in a future version.\n",
      "Instructions for updating:\n",
      "Use tf.cast instead.\n",
      "energy tf giong in  Tensor(\"index_layer_6/GatherV2:0\", shape=(?, 42), dtype=float32)\n",
      "energy calc done, 1xbatch size?  Tensor(\"loss_1/index_layer_6_loss/loss_KL/Sum:0\", shape=(?,), dtype=float32)\n"
     ]
    }
   ],
   "source": [
    "hist_NICER_KLML1 = network_NICER_KLML.train_ML(x, xval=xval, epochs=epochsZ, batch_size=batchsize_ML, std=1.0, \n",
    "                                               verbose=0, return_test_energies=True)\n",
    "\n",
    "hist_NICER_KLML2 = network_NICER_KLML.train_flexible(x, xval=xval, lr=0.001, epochs=epochsE, batch_size=batchsize_KL, \n",
    "                                                     std=1.0,\n",
    "                                                     weight_ML=1.0, weight_KL=1.0, weight_MC=0.0, weight_W2=0.0,\n",
    "                                                     weight_RCEnt=0.0,\n",
    "                                                     temperature=temperature, explore=explore, verbose=0,\n",
    "                                                     return_test_energies=True)"
   ]
  },
  {
   "cell_type": "code",
   "execution_count": 38,
   "metadata": {},
   "outputs": [
    {
     "data": {
      "text/plain": [
       "(<Figure size 360x720 with 2 Axes>,\n",
       " array([<matplotlib.axes._subplots.AxesSubplot object at 0x1196c1908>,\n",
       "        <matplotlib.axes._subplots.AxesSubplot object at 0x1a3314b128>],\n",
       "       dtype=object))"
      ]
     },
     "execution_count": 38,
     "metadata": {},
     "output_type": "execute_result"
    },
    {
     "data": {
      "image/png": "[encoded data removed]",
      "text/plain": [
       "<Figure size 360x720 with 2 Axes>"
      ]
     },
     "metadata": {
      "needs_background": "light"
     },
     "output_type": "display_data"
    }
   ],
   "source": [
    "plot_convergence(hist_NICER_KLML1, hist_NICER_KLML2, 0, 2)"
   ]
  },
  {
   "cell_type": "code",
   "execution_count": 39,
   "metadata": {},
   "outputs": [
    {
     "data": {
      "text/plain": [
       "(1000, 42)"
      ]
     },
     "execution_count": 39,
     "metadata": {},
     "output_type": "execute_result"
    }
   ],
   "source": [
    "# want the trajectories to be in the high probability regions. \n",
    "\n",
    "# transition energy barrier \n",
    "ts_n=1000\n",
    "I = np.eye(AA_num)\n",
    "x_z = np.repeat( np.expand_dims(I[15,:], 0), ts_n, axis=0)\n",
    "\n",
    "rand_x_o = I[np.random.randint(0,AA_num, ts_n),:]\n",
    "\n",
    "x_ts = np.hstack([x_z, rand_x_o])\n",
    "x_ts.shape"
   ]
  },
  {
   "cell_type": "code",
   "execution_count": 41,
   "metadata": {},
   "outputs": [
    {
     "name": "stderr",
     "output_type": "stream",
     "text": [
      "/Users/trentonbricken/protein-generators/notebooks/PlottingFunctions.py:108: RuntimeWarning: divide by zero encountered in log\n",
      "  Eh = -np.log(h) / temperature\n"
     ]
    },
    {
     "name": "stdout",
     "output_type": "stream",
     "text": [
      "(21, 21)\n",
      "[-27.32675736 -26.66489972 -30.20641129 ... -25.3841614  -35.4018804\n",
      " -21.26360066]\n"
     ]
    },
    {
     "name": "stderr",
     "output_type": "stream",
     "text": [
      "/Users/trentonbricken/anaconda3/lib/python3.7/site-packages/Deep_Boltzmann_Package-0.1-py3.7.egg/deep_boltzmann/sampling/analysis.py:116: RuntimeWarning: divide by zero encountered in log\n"
     ]
    },
    {
     "name": "stdout",
     "output_type": "stream",
     "text": [
      "Estimator Standard Error:  1.1547669703791767\n",
      "(21, 21)\n"
     ]
    },
    {
     "data": {
      "image/png": "[encoded data removed]",
      "text/plain": [
       "<Figure size 1152x252 with 4 Axes>"
      ]
     },
     "metadata": {
      "needs_background": "light"
     },
     "output_type": "display_data"
    },
    {
     "data": {
      "text/plain": [
       "<Figure size 288x288 with 0 Axes>"
      ]
     },
     "metadata": {},
     "output_type": "display_data"
    },
    {
     "data": {
      "text/plain": [
       "<Figure size 288x288 with 0 Axes>"
      ]
     },
     "metadata": {},
     "output_type": "display_data"
    }
   ],
   "source": [
    "fig, axes = plot_network(network_NICER_KLML, traj_left, traj_right, x_ts, AA_num, model, weight_cutoff=1e-2);"
   ]
  },
  {
   "cell_type": "code",
   "execution_count": null,
   "metadata": {},
   "outputs": [],
   "source": [
    "plot_all_zs()"
   ]
  },
  {
   "cell_type": "code",
   "execution_count": 42,
   "metadata": {},
   "outputs": [],
   "source": [
    "sample_z, sample_x, energy_z, energy_x, log_w = network_NICER_KLML.sample(temperature=1.0, nsample=100000)"
   ]
  },
  {
   "cell_type": "code",
   "execution_count": 43,
   "metadata": {},
   "outputs": [],
   "source": [
    "x0 = vect_to_aa_ind(sample_x, AA_num=AA_num,pos=0)\n",
    "x1 = vect_to_aa_ind(sample_x, AA_num=AA_num,pos=1)"
   ]
  },
  {
   "cell_type": "code",
   "execution_count": 44,
   "metadata": {},
   "outputs": [
    {
     "data": {
      "text/plain": [
       "<matplotlib.collections.PathCollection at 0x1a33b95518>"
      ]
     },
     "execution_count": 44,
     "metadata": {},
     "output_type": "execute_result"
    },
    {
     "data": {
      "image/png": "[encoded data removed]",
      "text/plain": [
       "<Figure size 432x288 with 1 Axes>"
      ]
     },
     "metadata": {
      "needs_background": "light"
     },
     "output_type": "display_data"
    }
   ],
   "source": [
    "plt.scatter(x0,x1, alpha=0.2)"
   ]
  },
  {
   "cell_type": "code",
   "execution_count": null,
   "metadata": {},
   "outputs": [],
   "source": []
  }
 ],
 "metadata": {
  "kernelspec": {
   "display_name": "Python 3",
   "language": "python",
   "name": "python3"
  },
  "language_info": {
   "codemirror_mode": {
    "name": "ipython",
    "version": 3
   },
   "file_extension": ".py",
   "mimetype": "text/x-python",
   "name": "python",
   "nbconvert_exporter": "python",
   "pygments_lexer": "ipython3",
   "version": "3.7.5"
  }
 },
 "nbformat": 4,
 "nbformat_minor": 4
}
